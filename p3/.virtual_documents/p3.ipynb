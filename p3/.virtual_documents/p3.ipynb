








# MY NAME: Angel Huang
# PARTNER: None








# it is considered a good coding practice to place all import statements at the top of the notebook
import os
import student_grader
student_grader.initialize(os.getcwd(), "p3")











import importlib
import project
importlib.reload(project)
project.init("lab_budget.csv")











dir(project)











#不是 Python 內建的關鍵字，而是一個常見的方法名，通常用於將資料匯出（dump）到某種格式，例如 JSON 或文件
help(project.dump)





project.dump()

















# we have done this one for you
# DO NOT EDIT THIS CELL

streets_id = project.get_id("Streets")
streets_id


student_grader.check("lab-q1", should_get_llm_feedback=False)











# you will have to do this yourself; replace the ... with your code

info_tech_id = project.get_id("Information Technology")
info_tech_id


student_grader.check("lab-q2", should_get_llm_feedback=False)











# replace the ... with your code

building_inspection_id = project.get_id("Building Inspection")
building_inspection_id


student_grader.check("lab-q3", should_get_llm_feedback=False)











help(project.get_id)
help(project.get_budget)





# We have done this example for you, DO NOT EDIT this cell
mayor_id = project.get_id('Mayor')
mayor_budget_2024 = project.get_budget(mayor_id, 2024)
mayor_budget_2024


student_grader.check("lab-q4", should_get_llm_feedback=False)














# Replace the ... with your code. Remember that you have already defined the
# variable `mayor_id` in the question above. You should use that here.

mayor_budget_2023 = project.get_budget(project.get_id('Mayor'), 2023)
mayor_budget_2023


student_grader.check("lab-q5", should_get_llm_feedback=False)











# replace the ... with your code
# Remember that you defined `info_tech_id` in lab question 2, you should use that here.

info_tech_id_budget_2023 = project.get_budget(info_tech_id, 2023)
info_tech_id_budget_2023


student_grader.check("lab-q6", should_get_llm_feedback=False)











# Replace the ... with your code
# Remember that you defined `streets_id` in lab question 1, you should use that here.

streets_budget_2022 = project.get_budget(streets_id, 2022)
streets_budget_2022


student_grader.check("lab-q7", should_get_llm_feedback=False)














# we have done this one for you, please DO NOT edit this cell

min_three_numbers = min(220, 319, 320)
min_three_numbers


student_grader.check("lab-q8", should_get_llm_feedback=False)











# Replace the ... below with you code

min_two_numbers = min(220,200)
min_two_numbers


student_grader.check("lab-q9", should_get_llm_feedback=False)











# Replace the ... below with you code

max_three_numbers = max(200,300,400)
max_three_numbers


student_grader.check("lab-q10", should_get_llm_feedback=False)











# replace the ... with your code

def get_avg_drop_lowest(score1, score2, score3):
    smallest = min(score1, score2, score3)
    sum_of_larger_two = score1 + score2 + score3 - smallest
    avg = sum_of_larger_two/2
    return avg


student_grader.check("lab-get_avg_drop_lowest", should_get_llm_feedback=False)











# Replace the 0's below with the correct values

avg_drop_lowest_18_20_17 = get_avg_drop_lowest(18, 20, 17)
avg_drop_lowest_18_20_17


student_grader.check("lab-q11", should_get_llm_feedback=False)











# Replace the ... below with your code

avg_drop_lowest_40_45_35 = get_avg_drop_lowest(40, 45, 35)
avg_drop_lowest_40_45_35


student_grader.check("lab-q12", should_get_llm_feedback=False)








# replace each ... with your code

def get_range(num1, num2, num3, num4):
    maximum = max(num1, num2, num3, num4)
    minimum = min(num1, num2, num3, num4)
    range = maximum-minimum
    return range


student_grader.check("lab-get_range", should_get_llm_feedback=False)











# replace the ... below with your code

range_10_20_40_60 = get_range(10,20,40,60)
range_10_20_40_60


student_grader.check("lab-q13", should_get_llm_feedback=False)











# replace the ... below with your code

range_40_20_10_30 = get_range(40,20,10,30)
range_40_20_10_30


student_grader.check("lab-q14", should_get_llm_feedback=False)











# Replace the pass with your code

def change_in_value_per_year(year1, value1, year2=2024, value2=6): # DO NOT EDIT THIS LINE
    return (value2 - value1)/ (year2 - year1)


student_grader.check("lab-change_in_value_per_year", should_get_llm_feedback=False)











# compute and store the answer in the variable 'change_per_year_2019_12_2020_4'
change_per_year_2019_12_2020_4 = change_in_value_per_year(2019, 12, 2020, 4)

# display the variable 'change_per_year_2019_12_2020_4' here
change_per_year_2019_12_2020_4


student_grader.check("lab-q15", should_get_llm_feedback=False)











# compute and store the answer in the variable 'change_per_year_2015_8_2018_11'
change_per_year_2015_8_2018_11 = change_in_value_per_year(2015, 8, 2018, 11)

# display the variable 'change_per_year_2015_8_2018_11' here
change_per_year_2015_8_2018_11


student_grader.check("lab-q16", should_get_llm_feedback=False)














# we have done this one for you
# note that the default argument for `value2` is used

change_per_year_2020_4_2013_6 = change_in_value_per_year(2020, 4, 2013)
change_per_year_2020_4_2013_6


student_grader.check("lab-q17", should_get_llm_feedback=False)











# replace the ... below with your code

change_per_year_2018_11_2024_6 = change_in_value_per_year(2018, 11)
change_per_year_2018_11_2024_6


student_grader.check("lab-q18", should_get_llm_feedback=False)











# replace the ... with your code

change_per_year_2013_3_2024_2 =  change_in_value_per_year(2013, 3, value2=2)
change_per_year_2013_3_2024_2


student_grader.check("lab-q19", should_get_llm_feedback=False)











# replace the ... with your code

change_per_year_2016_4_2024_0 = change_in_value_per_year(2016, 4, 2024, 0)
change_per_year_2016_4_2024_0


student_grader.check("lab-q20", should_get_llm_feedback=False)

















project.init("madison_budget.csv")



































# replace the ... with your code
# INCORRECT METHOD public_health_id = 23 => this is considered hardcoding
public_health_id = ...

public_health_id


student_grader.check("q1", should_get_llm_feedback=False)











finance_id = project.get_id('Finance') # we have done this for you
library_id = project.get_id('Library') # we have done this for you

# replace each ... below to get the id for that agency
fire_id = ...
police_id = ...
parks_id = ...
metro_transit_id = ...
public_health_id = ...


student_grader.check("q2", should_get_llm_feedback=False)











def year_max(year):
    finance_budget = project.get_budget(finance_id, year)
    library_budget = project.get_budget(library_id, year)
    fire_budget = project.get_budget(fire_id, year)
    police_budget = project.get_budget(police_id, year)
    public_health_budget = project.get_budget(public_health_id, year)
    parks_budget = project.get_budget(parks_id, year)
    metro_transit_budget = project.get_budget(metro_transit_id, year)

    return max(finance_budget, library_budget, fire_budget, police_budget, public_health_budget, parks_budget, metro_transit_budget)


student_grader.check("year_max", should_get_llm_feedback=False)











# replace the ... with your code

max_budget_2024 = ...
max_budget_2024


student_grader.check("q3", should_get_llm_feedback=False)











# replace the ... with your code
max_budget_2021 = ...
max_budget_2022 = ...
max_budget_2023 = ...

max_budget_2021_to_2023 = ...

max_budget_2021_to_2023


student_grader.check("q4", should_get_llm_feedback=False)











def agency_min(agency):

    agency_id = project.get_id(agency)    
    budget_2020 = project.get_budget(agency_id, 2020)
    budget_2021 = project.get_budget(agency_id, 2021)
    
    # get the budgets from other years below

    
    # use the min function to get the minimum across the five years
    min_budget_2020_to_2024 = ...
    
    return min_budget_2020_to_2024


student_grader.check("agency_min", should_get_llm_feedback=False)











# replace the ... with your code

min_budget_library = ...
min_budget_library


student_grader.check("q5", should_get_llm_feedback=False)











# replace the ... with your code

min_budget_fire_police = ...
min_budget_fire_police


student_grader.check("q6", should_get_llm_feedback=False)








# replace the pass with your code
def agency_avg(agency): # DO NOT EDIT this line
    pass


student_grader.check("agency_avg", should_get_llm_feedback=False)











# relace the .. with your code

parks_avg_budget = ...
parks_avg_budget


student_grader.check("q7", should_get_llm_feedback=False)











# replace the ... with your code

public_health_avg_budget = ...
public_health_avg_budget


student_grader.check("q8", should_get_llm_feedback=False)











# replace each ... with your code

public_health_2024_budget = ...
diff_public_health_2024_to_average = ...
diff_public_health_2024_to_average


student_grader.check("q9", should_get_llm_feedback=False)








# Replace the pass with your code

def year_budget(year=2024): # DO NOT EDIT THIS LINE
    pass


student_grader.check("year_budget", should_get_llm_feedback=False)











# replace the ... with your code

total_budget_2024 = ...
total_budget_2024


student_grader.check("q10", should_get_llm_feedback=False)











# replace the ... with your code

total_budget_2020_to_2022 = ...
total_budget_2020_to_2022


student_grader.check("q11", should_get_llm_feedback=False)








# replace the pass with your code

def change_budget_per_year(agency, start_year=2020, end_year=2024): # DO NOT EDIT THIS LINE
    pass


student_grader.check("change_budget_per_year", should_get_llm_feedback=False)











# replace the ... with your code

police_average_change = ...
police_average_change


student_grader.check("q12", should_get_llm_feedback=False)











# replace the ... with your code

fire_average_change = ...
fire_average_change


student_grader.check("q13", should_get_llm_feedback=False)











# replace the ... with your code

finance_average_change = ...
finance_average_change


student_grader.check("q14", should_get_llm_feedback=False)











metro_transit_average_change = ...
metro_transit_average_change


student_grader.check("q15", should_get_llm_feedback=False)











# replace the pass with your code

def extrapolate(agency, target_year, start_year=2020, end_year=2024): # DO NOT EDIT this line
    pass


student_grader.check("extrapolate", should_get_llm_feedback=False)











# replace the ... with your code

library_budget_2026 = ...
library_budget_2026


student_grader.check("q16", should_get_llm_feedback=False)











# replace the ... with your code

parks_budget_2030 = ...
parks_budget_2030


student_grader.check("q17", should_get_llm_feedback=False)











# replace each ... with your code

police_budget_2024_actual = ...
police_budget_2024_estimated = ...
police_diff_estimate_budget = ...
police_diff_estimate_budget


student_grader.check("q18", should_get_llm_feedback=False)











# replace the ... with your code

metro_transit_diff_estimate_budget = ...
metro_transit_diff_estimate_budget


student_grader.check("q19", should_get_llm_feedback=False)











# Add variables here as needed, then replace the ... with your code

metro_transit_budget_std_dev = ...
metro_transit_budget_std_dev


student_grader.check("q20", should_get_llm_feedback=False)






