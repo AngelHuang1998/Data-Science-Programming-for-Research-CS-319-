








# MY NAME: Angel Huang
# MY PARTNER's NAME: None








# it is considered a good coding practice to place all import statements at the top of the notebook

import os
import csv
import student_grader
student_grader.initialize(os.getcwd(), "p6")
































# modified from https://automatetheboringstuff.com/chapter14/

def process_csv(filename):
    example_file = open(filename, encoding="utf-8")
    example_reader = csv.reader(example_file)
    example_data = list(example_reader)
    example_file.close()
    return example_data


# this call to process_csv reads the data in "power_generators.csv"
csv_data = process_csv("power_generators.csv")

# this will display the first three items in the list `csv_data`
csv_data[:3]

















# replace the ... with your code
csv_header = csv_data[0]

csv_header


student_grader.check("lab-q1", should_get_llm_feedback=False)











# We have done this one for you as an example, do not modify
csv_rows = csv_data[1:] 
num_rows = len(csv_rows)

num_rows


student_grader.check("lab-q2", should_get_llm_feedback=False)











# We have done this one for you as an example, do not modify
first_ten_rows = csv_rows[:10]

first_ten_rows


student_grader.check("lab-q3", should_get_llm_feedback=False)











# replace the ... with your code

last_ten_rows = csv_data[-10:]

last_ten_rows


student_grader.check("lab-q4", should_get_llm_feedback=False)

















# replace the ... with your code using the 'csv_rows' variable defined before
first_row = csv_rows[0]

first_row


student_grader.check("lab-q5", should_get_llm_feedback=False)











# replace the ... with your code
first_entity_name = csv_rows[0][1]

first_entity_name


student_grader.check("lab-q6", should_get_llm_feedback=False)











# We have done this one for you as an example, do not modify
technology_index = csv_header.index('technology')
technology_index


student_grader.check("lab-q7", should_get_llm_feedback=False)











# replace the ... with your code
technology_first_row = csv_rows[0][technology_index]

technology_first_row


student_grader.check("lab-q8", should_get_llm_feedback=False)














# Replace each ... with your code

def get_temporary_cell(row_idx, col_name):
    ## NOTE: We defined csv_header back in Lab Question 1!
    col_idx = csv_header.index(col_name)
    val = csv_rows[row_idx][col_idx]
    
    # DO NOT EDIT the lines below
    if val == " ":
        return None
    return val

# test your function yourself by uncommenting the function below and experimenting with different parameters 
# get_temporary_cell(0, 'entity_name')


student_grader.check("lab-cell_temp", should_get_llm_feedback=False)











# replace the ... with your code
technology_first_row_l9 = get_temporary_cell(0,'technology')

technology_first_row_l9


student_grader.check("lab-q9", should_get_llm_feedback=False)











# replace the ... with your code

plant_name_second_row = get_temporary_cell(1,'plant_name')

plant_name_second_row


student_grader.check("lab-q10", should_get_llm_feedback=False)











# replace the ... with your code
latitude_third_row = get_temporary_cell(2,'latitude')

latitude_third_row


student_grader.check("lab-q11", should_get_llm_feedback=False)











# replace the ... with your code

generator_id_tenth_row = get_temporary_cell(9,'generator_id')

generator_id_tenth_row


student_grader.check("lab-q12", should_get_llm_feedback=False)











# replace the ... with your code
# use `cell_temp` to determine if the power generator
# at `i` is from the correct county

iron_generators = 0
for i in range(num_rows):
    if get_temporary_cell(i,'county') == 'Iron':
        iron_generators += 1

iron_generators


student_grader.check("lab-q13", should_get_llm_feedback=False)











# replace each ... with your code
# loop through all the indices and
# use `cell_temp` to determine if the generator at `i`
# is operated by the correct entity

butter_solar_plants = []

for i in range(num_rows): 
    if get_temporary_cell(i,'entity_name') == 'Butter Solar, LLC': 
         butter_solar_plants.append(get_temporary_cell(i,'plant_name'))

butter_solar_plants


student_grader.check("lab-q14", should_get_llm_feedback=False)











# We've got this started for you!
# Replace each ... with additional column names based on the instructions above

def get_cell(row_idx, col_name):
    col_idx = csv_header.index(col_name)
    val = csv_rows[row_idx][col_idx]
    if val == " ":
        return None
    elif col_name in ['entity_id', 'plant_id']:
        val = int(val)
    elif col_name in ['net_summer_capacity','net_winter_capacity','latitude','longitude']:
        val = float(val)
    return val

# test your function yourself by uncommenting the function below and experimenting with different parameters 
# get_cell(0, 'latitude')


student_grader.check("lab-cell", should_get_llm_feedback=False)











# we have done this for you
entity_id_last_row = get_cell(-1, 'entity_id')

entity_id_last_row


student_grader.check("lab-q15", should_get_llm_feedback=False)











# replace the ... with your code
plant_id_last_row = get_cell(-1,'plant_id')

plant_id_last_row


student_grader.check("lab-q16", should_get_llm_feedback=False)











# we have done this one for you
net_summer_capacity_fifth_row = get_cell(4, 'net_summer_capacity')

net_summer_capacity_fifth_row


student_grader.check("lab-q17", should_get_llm_feedback=False)











# we have done this one for you
latitude_hundredth_row = get_cell(99, 'latitude')

latitude_hundredth_row


student_grader.check("lab-q18", should_get_llm_feedback=False)











# use the function `get_cell` to determine if the `county` 
# of the generator at `i` is 'Sheboygan'
# use the function `get_cell` to append the `net_winter_capacity`
# of that generator to the list
# replace each ... with your code

sheboygan_winter_capacities = []

for i in range(num_rows):
    if get_cell(i, 'county') == 'Sheboygan': 
        sheboygan_winter_capacities.append(get_cell(i, 'net_winter_capacity'))

sheboygan_winter_capacities


student_grader.check("lab-q19", should_get_llm_feedback=False)

















# Observe the output here

sorted_sheboygan_winter_capacities = sorted(sheboygan_winter_capacities)

print("Returned value:", sorted_sheboygan_winter_capacities)
print("Original list after sorting:", sheboygan_winter_capacities)


student_grader.check("lab-q20", should_get_llm_feedback=False)














# Observe the output here
result = sheboygan_winter_capacities.sort()

print("Returned value:", result)
print("Original list after sorting:", sheboygan_winter_capacities)


student_grader.check("lab-q21", should_get_llm_feedback=False)








# sort in descending order
reverse_sorted_sheboygan_winter_capacities = sorted(sheboygan_winter_capacities, reverse=True) 
reverse_sorted_sheboygan_winter_capacities 


# sort in descending order
sheboygan_winter_capacities.sort(reverse=True)

sheboygan_winter_capacities














def get_median(items):
    # sort the list using `sorted`
    sorted_list = sorted(items)
    
    # determine the length of the list
    list_len = len(sorted_list)
    
    # use the modulo operator to determine whether length of the list is odd
    if list_len % 2 == 1: 
        return sorted_list[list_len//2]
    
    else:
        first_middle = sorted_list[list_len//2 - 1]
        second_middle = sorted_list[list_len//2]
        
        # return the average of first_middle and second_middle
        return (first_middle + second_middle) / 2

# test your function yourself by uncommenting the function below and experimenting with different parameters
# get_median([1, 2, 3, 4])


student_grader.check("lab-median", should_get_llm_feedback=False)











# replace the ... with your code

list1 = [5, 3, 1, 2, 4]
median1 = get_median(list1)

median1


student_grader.check("lab-q22", should_get_llm_feedback=False)











# replace the ... with your code

list2 = [5, 3, 1, 2, 4, 6]
median2 =  get_median(list2)

median2


student_grader.check("lab-q23", should_get_llm_feedback=False)











# Replace each ... with your code

all_latitudes = []

for i in range(num_rows):
    all_latitudes.append(get_cell(i, 'latitude'))

median_latitude = get_median(all_latitudes)
median_latitude


student_grader.check("lab-q24", should_get_llm_feedback=False)











# Replace each ... with your code

nuclear_summer_capacities = []

for i in range(num_rows):
    if get_cell(i, 'technology') == 'Nuclear':
        nuclear_summer_capacities.append(get_cell(i, 'net_summer_capacity'))


median_nuclear_summer_capacities = get_median(nuclear_summer_capacities)
median_nuclear_summer_capacities


student_grader.check("lab-q25", should_get_llm_feedback=False)














# replace the ... with your code

columbia_summer_capacities = []

for i in range(num_rows):
    if get_cell(i, 'county') == 'Columbia':
        columbia_summer_capacities.append(get_cell(i, 'net_summer_capacity'))

columbia_summer_capacities


student_grader.check("lab-q26", should_get_llm_feedback=False)














# replace each ... with your code

columbia_summer_capacities_valid = []

for i in range(num_rows):
    if get_cell(i, 'net_summer_capacity') == None:
        continue
    
    # use `get_cell` to determine if the generator at `i` is from the correct county
    if get_cell(i, 'county') == 'Columbia': 
        # use `get_cell` to append the `net_summer_capacity` to the list
        columbia_summer_capacities_valid.append(get_cell(i, 'net_summer_capacity')) 

median_columbia_summer_capacities = get_median(columbia_summer_capacities_valid)
median_columbia_summer_capacities


student_grader.check("lab-q27", should_get_llm_feedback=False)























example_list = ["Saxon Falls", "Brule", "Biron"]
print(example_list)

# replace each ... with your code
example_set = {"Saxon Falls", "Brule", "Biron"}

example_set


student_grader.check("lab-q28", should_get_llm_feedback=False)








"Biron" in example_list











# replace the ... with your code

saxon_falls_check = "Saxon Falls" in example_set
saxon_falls_check


student_grader.check("lab-q29", should_get_llm_feedback=False)











["Saxon Falls", "Brule", "Biron"] == ["Biron", "Brule", "Saxon Falls"]





{"Saxon Falls", "Brule", "Biron"} == {"Biron", "Brule", "Saxon Falls"}

















# replace the ... with your code
plant_names_13781 = []

for i in range(num_rows):
    if get_cell(i,'entity_id') == 13781:
        plant_names_13781.append(get_cell(i,'plant_name'))

plant_names_13781


student_grader.check("lab-q30", should_get_llm_feedback=False)











# replace each ... with your code
plant_names_13781_set = set(plant_names_13781)

print('Length of list:',  len(plant_names_13781))
print('Length of set:', len(plant_names_13781_set))

plant_names_13781_set


student_grader.check("lab-q31", should_get_llm_feedback=False)


























# Replace each ... with your code

plant_names_4247 = []

# first define a list of every plant name in the dataset operated by the entity with the given id

# then use typecasting to convert this list into a set, and then typecast this set into a list
plant_names_4247 = ... # use this starter code here: list(set(...))

plant_names_4247


student_grader.check("lab-q32", should_get_llm_feedback=False)



































# replace the ... with your code
technologies = []

...

technologies


student_grader.check("q1", should_get_llm_feedback=False)











# Replace the ... with your code
count_dane = 0

...

count_dane


student_grader.check("q2", should_get_llm_feedback=False)











# replace the ... with your code
total_summer_capacity = 0

...

total_summer_capacity


student_grader.check("q3", should_get_llm_feedback=False)











# replace the ... with your code

def find_entities_with_phrase(phrase):
    entity_names = []

    ...

    return list(set(entity_names))

# test your function yourself by uncommenting the function below and replacing "Madison" with other phrases 
# find_entities_with_phrase("Water")


student_grader.check("find_entities_with_phrase", should_get_llm_feedback=False)











# replace the ... with your code
madison_entities = ...

madison_entities


student_grader.check("q4", should_get_llm_feedback=False)











# Compute and store the answer in the variable 'entities_contain_wisconsin_power', then display it

# Find entities with "Wisconsin" by calling the find_entities_with_phrase() function
entities_contain_wisconsin_power = ...

# Extend the list to include entity names that include "Power" by calling find_entities_with_phrase() again
# (UNCOMMENT THE LINE BELOW AND REPLACE ... WITH YOUR CODE)
# entities_contain_wisconsin_power.extend(...)

entities_contain_wisconsin_power = ... # remove duplicates (see Lab Task 5.5)
entities_contain_wisconsin_power


student_grader.check("q5", should_get_llm_feedback=False)











# replace the ... with your code
entities_contain_solar_llc = []
entities_contain_solar = find_entities_with_phrase("Solar")

...
        
entities_contain_solar_llc


student_grader.check("q6", should_get_llm_feedback=False)











# Replace the ... with your code
plant_50614_generators = []

...

plant_50614_generators


student_grader.check("q7", should_get_llm_feedback=False)











# replace the ... with your code
powerful_hydro_electric_plants = []

...

powerful_hydro_electric_plants


student_grader.check("q8", should_get_llm_feedback=False)











# replace the pass with your code

def get_num_generators_by(entity_name):
    pass

# test your function yourself by uncommenting the function below and replacing "City of New Lisbon" with other entity names 
# num_generators_by("City of New Lisbon")


student_grader.check("num_generators_by", should_get_llm_feedback=False)











# replace the ... with your code
num_generators_by_mge = ...

num_generators_by_mge


student_grader.check("q9", should_get_llm_feedback=False)











# replace the .. with your code
num_generators_by_river = 0
river_entities = ...

...

num_generators_by_river


student_grader.check("q10", should_get_llm_feedback=False)











# replace the ... with your code
most_generators_entity = None
all_unique_entities = find_entities_with_phrase("")  # This line may be helpful, but you can choose to modify it. 

...

most_generators_entity


student_grader.check("q11", should_get_llm_feedback=False)











# replace the pass with your code

def find_indices_within(lat_min, lat_max, long_min, long_max):
    pass

# test your function yourself by uncommenting the function below and experimenting with different parameters
# find_indices_within(43, 43.5, -90.5, -90)


student_grader.check("find_indices_within", should_get_llm_feedback=False)











# replace the ... with your code
num_generators_in_milwaukee = ...

num_generators_in_milwaukee


student_grader.check("q12", should_get_llm_feedback=False)











# replace the ... with your code
uw_madison_technologies = []
plant_indices_near_uwm = ...

...

uw_madison_technologies = ...  # remove duplicates (see Lab Task 5.5)
uw_madison_technologies


student_grader.check("q13", should_get_llm_feedback=False)











# replace the ... with your code
plant_indices_north_wisconsin = find_indices_within(44.9657, 46.6989, -92.1908, -87.6449)

...

# Get the plant name for the most powerful plant from its index
north_wisconsin_most_powerful = ...
north_wisconsin_most_powerful


student_grader.check("q14", should_get_llm_feedback=False)











# replace the ... with your code
winnebago_hydro_winter_capacities = []

...

# get the median of the list you've filled
winnebago_hydro_winter_capacity = ...
winnebago_hydro_winter_capacity


student_grader.check("q15", should_get_llm_feedback=False)











# replace the pass with your code

def get_total_summer_capacity_of(plant_name):
    pass

# test your function yourself by uncommenting the function below and replacing "Kilbourn" with different plant names
# get_total_summer_capacity_of("Kilbourn")


student_grader.check("total_summer_capacity_of", should_get_llm_feedback=False)











# replace the ... with your code
point_beach_summer_capacity = ...

point_beach_summer_capacity


student_grader.check("q16", should_get_llm_feedback=False)











# replace each ... with your code

power_plants = []

...

power_plants = list(set(power_plants))

summer_capacities = []

...

median_summer_capacity = ...
median_summer_capacity


student_grader.check("q17", should_get_llm_feedback=False)











# replace the pass with your code

def get_avg_winter_capacity_of(technology):
    pass

# test your function yourself by uncommenting the function below and replacing "Nuclear" with different technology types
# get_avg_winter_capacity_of("Nuclear")


student_grader.check("avg_winter_capacity_of", should_get_llm_feedback=False)











# replace the ... with your code
hydro_avg_winter_capacity = ...

hydro_avg_winter_capacity


student_grader.check("q18", should_get_llm_feedback=False)











# replace the ... with your code

max_winter_capacity_tech = None

...
        
max_winter_capacity_tech


student_grader.check("q19", should_get_llm_feedback=False)











# replace each ... with your code

avg_winter_capacities = []

...

diff_avg_winter_capacity = ...
diff_avg_winter_capacity


student_grader.check("q20", should_get_llm_feedback=False)






