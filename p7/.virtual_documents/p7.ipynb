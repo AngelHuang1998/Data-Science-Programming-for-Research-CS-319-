








# MY NAME: Angel Huang
# PARTNER: None














import math
import csv
import os
import student_grader
student_grader.initialize(os.getcwd(), "p7")























def process_csv(filename):
    example_file = open(filename, encoding="utf-8")
    example_reader = csv.reader(example_file)
    example_data = list(example_reader)
    example_file.close()
    return example_data


csv_data = process_csv("small_soccer_stars.csv")

# splits the header and other rows into appropriate variables
csv_header = csv_data[0]
csv_rows = csv_data[1:]





# What is the first player's `Name`?
name_col_idx = csv_header.index('Name')
first_player_name = csv_rows[0][name_col_idx]
print("The first player's name is: ", first_player_name)

# What `Team` does the second player in the dataset play for?
team_col_idx = csv_header.index('Team')
second_player_team = csv_rows[1][team_col_idx]
print("The second player plays for: ", second_player_team)

# What is the `Age` of the third player in the dataset?
age_col_idx = csv_header.index('Age')
third_player_age = csv_rows[2][age_col_idx]
print("The third player is ", third_player_age, " years old.")

# What is the `Height` of the fourth player in the dataset?
height_col_idx = csv_header.index('Height')
fourth_player_height = csv_rows[3][height_col_idx]
print("The fourth player is ", fourth_player_height, " tall.")





fourth_player_height_without_units = fourth_player_height[:-2]
fourth_player_height_int = int(fourth_player_height_without_units)
fourth_player_height_int





# What is the `Wage` of the fifth player?
wage_col_idx = csv_header.index('Wage')
fifth_player_wage = csv_rows[4][wage_col_idx]
print("The wage of the fifth player is: ", fifth_player_wage)

# What is the `Value of the tenth player?
value_col_idx = csv_header.index('Value')
tenth_player_value = csv_rows[9][value_col_idx]
print("The value of the tenth player is: ", tenth_player_value)





def format_euros(euros):
    euros = euros[1:]
    if euros[-1] == 'K':
        euros = float(euros[:-1])*1e3
    elif euros[-1] == 'M':
        euros = float(euros[:-1])*1e6
    else:
        euros = float(euros)
    return round(euros)

fifth_player_wage_int = format_euros(fifth_player_wage)
print("Unformatted: ", fifth_player_wage, " -> formatted: ", fifth_player_wage_int)

tenth_player_value_int = format_euros(tenth_player_value)
print("Unformatted: ", tenth_player_value, " -> formatted: ", tenth_player_value_int)





def cell(row_idx, col_name):
    col_idx = csv_header.index(col_name)
    val = csv_rows[row_idx][col_idx]
    if col_name in ['ID', 'Age', 'Overall rating']:
        return int(val)
    elif col_name in ['Attacking', 'Movement', 'Defending', 'Goalkeeping']:
        return float(val)
    elif col_name in ['Height']:
        return int(val[:-2])
    elif col_name in ['Wage', 'Value']:
        return format_euros(val)
    else:
        return val

# What is the `Value` of the last player?
last_player_value = cell(-1, 'Value')
print("The last player's value is: ", last_player_value)

# What is the `Overall rating` of the third to last player?
third_last_player_overall = cell(-3, 'Overall rating')
print("The third to last player's Overall rating is: ", third_last_player_overall)

# What is the `Attacking` stat of the thirteenth player in the dataset?
thirteenth_player_attacking = cell(12, 'Attacking')
print("The thirteenth player's Attacking stat is: ", thirteenth_player_attacking)

# What is the `Height` of the fourteenth player in the dataset? Notice how this is formatted!
fourteenth_player_height = cell(13, 'Height')
print("The fourteenth player's Height is: ", fourteenth_player_height)

# What is the `Preferred foot` of the fifteenth player in the dataset?
fifteenth_player_foot = cell(14, 'Preferred foot')
print("The fifteenth player's Preferred foot is: ", fifteenth_player_foot)

















im_ready_to_start_project = True
im_ready_to_start_project


student_grader.check("lab-q1", should_get_llm_feedback=False)




















# replace the ... with your code

second_player = {}
for column in csv_header:
    second_player[column] = cell(1, column)

second_player


student_grader.check("q1", should_get_llm_feedback=False)











# replace the ... with appropriate values

second_player_position = cell(1, 'Position')

second_player_position


student_grader.check("q2", should_get_llm_feedback=False)











# replace the ... with appropriate values
second_player_height = cell(1, 'Height')

second_player_height


student_grader.check("q3", should_get_llm_feedback=False)

















# replace each ... with appropriate values

player_movement_by_id = {}

# loop through all the rows of the dataset
for row_idx in range(len(csv_rows)):
    player_id = cell(row_idx, 'ID')
    player_movement = cell(row_idx, 'Movement')
    player_movement_by_id[player_id] = player_movement # add the `player_id`-`player_movement` key-value pair to the dict

player_movement_by_id


student_grader.check("q4", should_get_llm_feedback=False)











# we have done this one for you

player_239818_movement = player_movement_by_id[239818]
player_239818_movement


student_grader.check("q5", should_get_llm_feedback=False)











# replace the ... with appropriate values
player_209331_movement = player_movement_by_id[209331]

player_209331_movement


student_grader.check("q6", should_get_llm_feedback=False)











# replace each ... with appropriate values

player_dict_by_id = {}

for row_idx in range(len(csv_rows)):
    player_dict = {}
    for column in csv_header:
        player_dict[column] = cell(row_idx, column)

    player_id = cell(row_idx, 'ID')
    player_dict_by_id[player_id] = player_dict

player_dict_by_id


student_grader.check("q7", should_get_llm_feedback=False)

















# replace the ... with your code

player_256630 = player_dict_by_id[256630]

player_256630


student_grader.check("q8", should_get_llm_feedback=False)











# replace each ... with your code

player_200104 = player_dict_by_id[200104]
player_200104_name = player_200104['Name']

player_200104_name


student_grader.check("q9", should_get_llm_feedback=False)











# replace the ... with your code
player_252371_rating = player_dict_by_id[252371]['Overall rating']
player_252371_rating


student_grader.check("q10", should_get_llm_feedback=False)











# replace each ... with your code

attacking_stat_by_id = {}

for player_id in player_dict_by_id:
    player_attacking = player_dict_by_id[player_id]['Attacking']
    attacking_stat_by_id[player_id] = player_attacking

attacking_stat_by_id


student_grader.check("q11", should_get_llm_feedback=False)











# replace each ... with your code

player_id_by_name = {}

for player_id in player_dict_by_id:    
    player_name = player_dict_by_id[player_id]['Name']
    player_id_by_name[player_name] =  player_id

player_id_by_name


student_grader.check("q12", should_get_llm_feedback=False)











# replace the ... with your code

nationality_by_name = {}
for player_id in player_dict_by_id:
    player_Nationality = player_dict_by_id[player_id]['Nationality']
    nationality_by_name[player_dict_by_id[player_id]['Name']] =  player_Nationality

nationality_by_name


student_grader.check("q13", should_get_llm_feedback=False)











# replace each ... with your code

count_by_foot = {}

for player_id in player_dict_by_id:
    preferred_foot = player_dict_by_id[player_id]['Preferred foot']
    if preferred_foot not in count_by_foot:
        count_by_foot[preferred_foot] = 0
    count_by_foot[preferred_foot] += 1

count_by_foot


student_grader.check("q14", should_get_llm_feedback=False)











# replace each ... with your code

count_by_nationality = {}

for player_id in player_dict_by_id:
    nationality = player_dict_by_id[player_id]['Nationality']
    if nationality not in count_by_nationality:
        count_by_nationality[nationality] = 0
    count_by_nationality[nationality] += 1
        
count_by_nationality


student_grader.check("q15", should_get_llm_feedback=False)











# replace each ... with your code

attacking_total_by_nationality = {}

for player_id in player_dict_by_id:
    nationality = player_dict_by_id[player_id]['Nationality']
    attacking = player_dict_by_id[player_id]['Attacking']
    if nationality not in attacking_total_by_nationality:
        attacking_total_by_nationality[nationality] = attacking
    else:
        attacking_total_by_nationality[nationality]+= attacking
        
attacking_total_by_nationality


student_grader.check("q16", should_get_llm_feedback=False)











# replace each ... with your code

movement_stat_by_name = {}

for player_name in player_id_by_name:
    player_id = player_id_by_name[player_name]
    player_movement = player_movement_by_id[player_id]
    movement_stat_by_name[player_name] = player_movement

movement_stat_by_name


student_grader.check("q17", should_get_llm_feedback=False)











# replace the ... with your code

attacking_stat_by_name = {}

for player_name in player_id_by_name:
    ...
    
attacking_stat_by_name


student_grader.check("q18", should_get_llm_feedback=False)











# replace the ... with your code

sum_stats_by_name = {}

...

sum_stats_by_name


student_grader.check("q19", should_get_llm_feedback=False)











# replace the ... with your code

avg_attacking_by_nationality = {}

...
    
avg_attacking_by_nationality


student_grader.check("q20", should_get_llm_feedback=False)











# replace the ... with your code

highest_avg_nation = None
highest_avg_attacking = None

...

highest_avg_nation


student_grader.check("q21", should_get_llm_feedback=False)











# replace the ... with your code

best_attacker = None
highest_attacking = None

...
        
best_attacker


student_grader.check("q22", should_get_llm_feedback=False)











# Replace the ... with your code

worst_attacker = None
lowest_sum_movement_attacking = None

...
                
worst_attacker


student_grader.check("q23", should_get_llm_feedback=False)






