








# MY NAME: Angel Huang
# PARTNER: None








# it is considered a good coding practice to place all import statements at the top of the notebook

import os
import project
import student_grader
student_grader.initialize(os.getcwd(), "p5")


























# use the 'dir' function to learn more about the project API
dir(project)





help(project.count) 





print(project.count.__doc__)





help(project.get_name)


# now try getting help for the other functions in the `project` module
help(project.get_avg_playtime)

















# we have done this for you!
name_idx0 = project.get_name(0)

name_idx0


student_grader.check("lab-q1", should_get_llm_feedback=False)











# replace the ... below with your code
name_idx3 = project.get_name(3)
name_idx3


student_grader.check("lab-q2", should_get_llm_feedback=False)











# replace the ... below with your code
publisher_idx9 = project.get_publisher(9)
publisher_idx9


student_grader.check("lab-q3", should_get_llm_feedback=False)











# we have done this for you!
name_idx_last = project.get_name(project.count() - 1)
name_idx_last


student_grader.check("lab-q4", should_get_llm_feedback=False)











# replace the ... below with your code
positive_reviews_idx7 =  project.get_positive_reviews(7)
positive_reviews_idx7


student_grader.check("lab-q5", should_get_llm_feedback=False)











my_str = 'hello_world!'
print("my_str[0] returns", my_str[0])
print("my_str[8] returns", my_str[8])
print("my_str[1:5] returns", my_str[1:5])
print("my_str[:8] returns", my_str[:8])
print("my_str[5:] returns", my_str[5:])
print("my_str[:] returns", my_str[:])





print("my_str[-1] returns", my_str[-1])
print("my_str[-4:-1] returns", my_str[-4:-1])














# replace the ... with your code
phone_number = "608-867-5309"
last_digit = phone_number[-1]
last_digit


student_grader.check("lab-q6", should_get_llm_feedback=False)











# replace the ... with your code
phone_number = "608-867-5309"
area_code = phone_number[:3]

area_code


student_grader.check("lab-q7", should_get_llm_feedback=False)











# replace the ... with your code
phone_number = "608-867-5309"
line_number = phone_number[-4:]

line_number


student_grader.check("lab-q8", should_get_llm_feedback=False)











# replace the ... with your code
phone_number = "608-867-5309"
exchange_code = phone_number[4:7]

exchange_code


student_grader.check("lab-q9", should_get_llm_feedback=False)











course = 'CS220'
dept_code = course[0:2]

dept_code


student_grader.check("lab-q10", should_get_llm_feedback=False)











course = 'CS220'
course_code = course[2:]

course_code


student_grader.check("lab-q11", should_get_llm_feedback=False)




















# replace the ... with your code
cost = "3.19M"
suffix = cost[-1]

suffix


student_grader.check("lab-q12", should_get_llm_feedback=False)











# replace the ... with your code
cost = "3.19M"
millions = float(cost[:-1])

millions


student_grader.check("lab-q13", should_get_llm_feedback=False)








round(millions * (10**6))








print(project.get_release_date(0))





project.get_release_date(0)[:2]














# replace the ... with your code
month_idx0 = int(project.get_release_date(0)[:2])

month_idx0


student_grader.check("lab-q14", should_get_llm_feedback=False)








def get_month(date):
    """the month when the date is the in the 'mm/dd/yyyy' format"""
    return int(date[:2])





month = get_month("02/21/2024")
month











# replace the pass with your code

def get_year(date):
    """The year when the date is the in the 'mm/dd/yyyy' format"""
    
    return int(date[6:])


student_grader.check("lab-q15", should_get_llm_feedback=False)














# replace the pass with your code

def get_day(date):
    """get_day(date) returns the day when the date is the in the 'mm/dd/yyyy' format"""
    
    return int(date[3:5])


student_grader.check("lab-q16", should_get_llm_feedback=False)

















# replace the ... with your code
day_released_idx200 = get_day(project.get_release_date(200))

day_released_idx200


student_grader.check("lab-q17", should_get_llm_feedback=False)











# replace with your code
year_released_idx300 =  get_year(project.get_release_date(300))

year_released_idx300


student_grader.check("lab-q18", should_get_llm_feedback=False)











# replace the ... with your code
month_released_idx400 =  get_month(project.get_release_date(400))

month_released_idx400


student_grader.check("lab-q19", should_get_llm_feedback=False)











idx = 0
while idx < 5:
    print(idx)
    idx += 1





for idx in range(5):
    print(idx)














# Uncomment and complete the while loop, replace each ... with your code

i = 0
sum_while = 0

while i<26:
    sum_while += i 
    i += 1

sum_while


student_grader.check("lab-q20", should_get_llm_feedback=False)











# Uncomment and complete the for loop, replace each ... with your code

sum_for = 0

for i in range(26):
    sum_for += i

sum_for


student_grader.check("lab-q21", should_get_llm_feedback=False)








for idx in range(10):
    print(project.get_name(idx))














# replace each ... with your code
total_avg_playtime_first10 = 0
for idx in range(10):
    total_avg_playtime_first10 += project.get_avg_playtime(idx)

total_avg_playtime_first10


student_grader.check("lab-q22", should_get_llm_feedback=False)

















# replace each ... with your code
num_game_200_hours = 0
for idx in range(project.count()): # loop through ALL games in the dataset; do NOT hardcode the number here
    if project.get_avg_playtime(idx)>=200: # replace ... with a Boolean expression to check if the average playtime of the game in the current iteration is at least 200
        num_game_200_hours += 1

num_game_200_hours


student_grader.check("lab-q23", should_get_llm_feedback=False)











num_game_g = 0

# TODO: loop through all games in the dataset
#     TODO: inside the loop, update the value of 'num_game_g' only if
#           the name of the game at the current idx starts with 'G'
for i in range(project.count()):
    if project.get_name(i)[0] == 'G':
        num_game_g += 1
        
num_game_g


student_grader.check("lab-q24", should_get_llm_feedback=False)











num_game_ubisoft = 0

# TODO: loop through all games in the dataset
#     TODO: inside the loop, update the value of 'num_game_ubisoft' only if
#           the publisher of the game at the current idx is 'Ubisoft'
for i in range(project.count()):
    if project.get_publisher(i) == 'Ubisoft':
        num_game_ubisoft += 1
        
num_game_ubisoft


student_grader.check("lab-q25", should_get_llm_feedback=False)












































# Replace the None with your code

num_games = project.count()
num_games


student_grader.check("q1", should_get_llm_feedback=False)











# Replace the None with your code

publisher_220 = project.get_publisher(220)
publisher_220


student_grader.check("q2", should_get_llm_feedback=False)











# Replace each None with your code

last_index = project.count() - 1
name_last_index = project.get_name(last_index)
name_last_index


student_grader.check("q3", should_get_llm_feedback=False)











# replace the pass with your code

def format_price(price):
    return float(price[1:])


student_grader.check("format_price", should_get_llm_feedback=False)











# Replace the ... with your code

cheap_games = 0

for i in range(num_games):
    if format_price(project.get_price(i)) < 10:
        cheap_games += 1

cheap_games


student_grader.check("q4", should_get_llm_feedback=False)











# Replace the ... below with your code

price_call_of_duty = None

for i in range(num_games):
    if project.get_name(i) == "Call of Duty: Modern Warfare":
        price_call_of_duty = format_price(project.get_price(i))
        break

price_call_of_duty


student_grader.check("q5", should_get_llm_feedback=False)











# Replace each ... with your code

total_price_warner_bros = 0
count_warner_bros = 0

for i in range(project.count()):
    if project.get_publisher(i) == "Warner Bros. Games":
        count_warner_bros += 1
        total_price_warner_bros += format_price(project.get_price(i))

average_price_warner_bros = total_price_warner_bros/count_warner_bros
average_price_warner_bros


student_grader.check("q6", should_get_llm_feedback=False)











# Replace the ... below with your code

highest_avg_playtime = 0

for idx in range(num_games):
    if project.get_avg_playtime(idx) > highest_avg_playtime:
        highest_avg_playtime = project.get_avg_playtime(idx)

highest_avg_playtime


student_grader.check("q7", should_get_llm_feedback=False)











# Replace each ... with your code

def format_num_reviews(num_reviews):
    last_char = num_reviews[-1]

    # Handle reviews ending with "M", like "13.5M"
    if last_char == 'M':
        review_num = float(num_reviews[:-1])*1000000

    # Handle reviews ending with "K", like "6.9K"
    elif last_char == 'K':
        review_num = float(num_reviews[:-1])*1000

    # Handle reviews with no suffix, like "332"
    else:
        review_num = float(num_reviews)

    # Round review_num to an int and return
    return round(review_num)


student_grader.check("format_num_reviews", should_get_llm_feedback=False)











# Replace each ... with your code

num_positive_reviews_southpark = 0

for i in range(project.count()):
    if project.get_name(i) == "South Park: The Stick of Truth":
        num_positive_reviews_southpark = format_num_reviews(project.get_positive_reviews(i))
        break

num_positive_reviews_southpark


student_grader.check("q8", should_get_llm_feedback=False)











# Replace each ... with your code

most_negative_reviews = 0
for idx in range(num_games):
    this_game_negative_reviews = format_num_reviews(project.get_negative_reviews(idx))
    if this_game_negative_reviews > most_negative_reviews:
        most_negative_reviews = this_game_negative_reviews
most_negative_reviews


student_grader.check("q9", should_get_llm_feedback=False)











# Replace the ... with your code

most_negative_reviews_name = None

for i in range(project.count()):
    if format_num_reviews(project.get_negative_reviews(i)) == most_negative_reviews:
        most_negative_reviews_name = project.get_name(i)
        break

most_negative_reviews_name


student_grader.check("q10", should_get_llm_feedback=False)











# Replace the ... with your code

num_released_feb_19 = 0
for i in range(project.count()):
    if get_month(project.get_release_date(i)) == 2  and  get_day(project.get_release_date(i)) == 19:
        num_released_feb_19 += 1

num_released_feb_19


student_grader.check("q11", should_get_llm_feedback=False)











# Replace each ... with your code

earliest_over_25_release_year = None

for idx in range(num_games):
    
    # Skip games with a price less than 25
    if format_price(project.get_price(idx))<25:
        continue

    # Update earliest_over_25_release_year if this game was released before it 
    this_game_release_year = get_year(project.get_release_date(idx))
    if earliest_over_25_release_year == None or  this_game_release_year < earliest_over_25_release_year:
        earliest_over_25_release_year = this_game_release_year

earliest_over_25_release_year


student_grader.check("q12", should_get_llm_feedback=False)

















# Replace each ... with your code

cheapest_chubby_pixel_idx = None
cheapest_chubby_pixel_price = None

# Loop through the dataset to find the right value for cheapest_chubby_pixel_idx
for idx in range(project.count()):
    if project.get_publisher(idx) == "Chubby Pixel":
        if (cheapest_chubby_pixel_price == None) or (format_price(project.get_price(idx)) < cheapest_chubby_pixel_price):
            cheapest_chubby_pixel_price = format_price(project.get_price(idx)) 
            cheapest_chubby_pixel_idx = idx

# Use your idx variable to get the name of the game with `project.get_name(cheapest_chubby_pixel_idx)`
cheapest_chubby_pixel = project.get_name(cheapest_chubby_pixel_idx)
cheapest_chubby_pixel


student_grader.check("q13", should_get_llm_feedback=False)











# Replace each ... with your code

priciest_bethesda_idx = None
highest_bethesda_price = None

for idx in range(project.count()):
    if project.get_publisher(idx) == "Bethesda Softworks":
        if (highest_bethesda_price == None) or (format_price(project.get_price(idx)) >= highest_bethesda_price):
            highest_bethesda_price = format_price(project.get_price(idx)) 
            priciest_bethesda_idx = idx

priciest_bethesda = project.get_name(priciest_bethesda_idx)
priciest_bethesda


student_grader.check("q14", should_get_llm_feedback=False)














# Replace the ... with your code

def best_in_range(year1, year2):
    best_idx = None
    best_num_reviews = None

    for idx in range(project.count()):
        if year1 <= get_year(project.get_release_date(idx)) <= year2:
            if best_num_reviews == None or (project.get_positive_reviews(idx)>best_num_reviews):
                best_num_reviews = project.get_positive_reviews(idx)
                best_idx = idx
      
    
    return best_idx


student_grader.check("best_in_range", should_get_llm_feedback=False)











# Replace each ... with your code

best_game_2016_2020_idx = ...
best_game_2016_2020 = ...
best_game_2016_2020


student_grader.check("q15", should_get_llm_feedback=False)











# Replace each ... with your code

best_game_2022_idx = ...
best_game_2022_price = ...
best_game_2022_price


student_grader.check("q16", should_get_llm_feedback=False)











# Replace the ... with your code

best_game_publisher = ...
best_game_publisher


student_grader.check("q17", should_get_llm_feedback=False)











# Replace the ... with your code

def get_year_total(year):
    ...


student_grader.check("get_year_total", should_get_llm_feedback=False)











# Replace the ... with your code

total_games_2023 = ...
total_games_2023


student_grader.check("q18", should_get_llm_feedback=False)











# Replace the ... with your code

total_games_in_century = 0

...

total_games_in_century


student_grader.check("q19", should_get_llm_feedback=False)











# Replace each ... with your code

total_num_reviews = 0
num_years = 0

...

average_num_reviews_best = ...
average_num_reviews_best


student_grader.check("q20", should_get_llm_feedback=False)






