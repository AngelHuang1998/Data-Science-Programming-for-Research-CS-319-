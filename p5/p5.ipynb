{
 "cells": [
  {
   "cell_type": "markdown",
   "id": "0c018208",
   "metadata": {
    "deletable": false,
    "editable": false
   },
   "source": [
    "# Assignment 5: Investigating Steam Game Data"
   ]
  },
  {
   "cell_type": "markdown",
   "id": "552c1c22",
   "metadata": {
    "deletable": false,
    "editable": false
   },
   "source": [
    "## Your Information"
   ]
  },
  {
   "cell_type": "markdown",
   "id": "182f9470",
   "metadata": {
    "deletable": false,
    "editable": false
   },
   "source": [
    "At the start of each assignment, you will need to provide us your name and the name of the partner you worked with for this assignment (if you had one). In the cell below, replace \"First Last\" with your first name and last name. Replace \"None\" with the first and last name of your partner if you had one for this assignment. We ask for this information so we don't accuse you of cheating when your code looks like your partner's.\n",
    "\n",
    "Please keep these lines commented so they don't cause an error."
   ]
  },
  {
   "cell_type": "code",
   "execution_count": 549,
   "id": "bf91057f-b14c-41e0-a653-373c81e2f6db",
   "metadata": {
    "deletable": false
   },
   "outputs": [],
   "source": [
    "# MY NAME: Angel Huang\n",
    "# PARTNER: None"
   ]
  },
  {
   "cell_type": "markdown",
   "id": "0242a609",
   "metadata": {
    "deletable": false,
    "editable": false
   },
   "source": [
    "## Imports"
   ]
  },
  {
   "cell_type": "markdown",
   "id": "e92ccb0b",
   "metadata": {
    "deletable": false,
    "editable": false
   },
   "source": [
    "Every project will begin with some import statements. It's crucial that you run the cell below, otherwise we will not be able to grade your code and provide feedback to you."
   ]
  },
  {
   "cell_type": "code",
   "execution_count": 550,
   "id": "8abfd9f3",
   "metadata": {
    "deletable": false
   },
   "outputs": [],
   "source": [
    "# it is considered a good coding practice to place all import statements at the top of the notebook\n",
    "\n",
    "import os\n",
    "import project\n",
    "import student_grader\n",
    "student_grader.initialize(os.getcwd(), \"p5\")"
   ]
  },
  {
   "cell_type": "markdown",
   "id": "eb9d6c94",
   "metadata": {
    "deletable": false,
    "editable": false
   },
   "source": [
    "## Learning Objectives:"
   ]
  },
  {
   "cell_type": "markdown",
   "id": "eaad12e2",
   "metadata": {
    "deletable": false,
    "editable": false
   },
   "source": [
    "In this assignment you will:\n",
    "- learn the project API\n",
    "- write loops\n",
    "- perform string manipulations"
   ]
  },
  {
   "cell_type": "markdown",
   "id": "dd29666c",
   "metadata": {
    "deletable": false,
    "editable": false
   },
   "source": [
    "# Lab portion"
   ]
  },
  {
   "cell_type": "markdown",
   "id": "f2292ee9-2ce9-46be-a3b4-b86128ab289a",
   "metadata": {
    "deletable": false,
    "editable": false
   },
   "source": [
    "## Segment 1: Learning the API"
   ]
  },
  {
   "cell_type": "markdown",
   "id": "bc1b8c07-a76b-4d4a-b8c5-209b860bfefa",
   "metadata": {
    "deletable": false,
    "editable": false
   },
   "source": [
    "\n",
    "### Task 2.1: Examine the `steam.csv` file"
   ]
  },
  {
   "cell_type": "markdown",
   "id": "885bc56f-95c2-479c-96fb-9943b55c1921",
   "metadata": {
    "deletable": false,
    "editable": false
   },
   "source": [
    "The `project.py` file will allow you to access the dataset you'll use this week, `steam.csv`. We generated this data file by writing a Python program to extract data for the **most popular** games (i.e., games that have sold at least half a million copies) on [Steam](https://store.steampowered.com/), a game distribution platform.\n",
    "\n",
    "Open `steam.csv` by double-clicking on the file from the left-hand file view in Jupyter lab. Feel free to use Microsoft Excel or some other Spreadsheet viewer as well. The data shows:\n",
    "\n",
    "* `name` (the **name** of the game),\n",
    "* `publisher` (the **name** of the **publisher** of this game),\n",
    "* `release_date` (the **date** this game was **released**),\n",
    "* `avg_playtime` (the **average** amount of **time** in minutes, that each purchaser **played** this game),\n",
    "* `price` (the **price** in `$` of this game),\n",
    "* `positive_reviews` (the **number** of **positive reviews** of this game),\n",
    "* `negative_reviews` (the **number** of **negative reviews** of this game).\n",
    "\n",
    "Often, we'll organize data by assigning numbers (called **indexes**) to different parts of the data (e.g., rows or columns in a table). In Computer Science, indexing typically starts with the number `0`; i.e., when you have a sequence of things, you'll start counting them from `0` instead of `1`. Thus, you should **ignore the numbers shown by your Spreadsheet Viewer to the left of the rows**. From the perspective of `project.py`, the indexes of `POSTAL`, `Half-Life`, and `Team Fortress Classic` are `0`, `1`, and `2` respectively (and so on).\n",
    "\n",
    "For example, consider this example from `steam.csv` as viewed from Microsoft Excel:\n",
    "\n",
    "![table.PNG](images/table.PNG)\n",
    "\n",
    "The **index** for the `Team Fortress Classic` is `2`, but it is the third entry in the dataset, and it is on **row** `4` of the table. "
   ]
  },
  {
   "cell_type": "markdown",
   "id": "6070d0e5-7962-46dd-943a-8e3518926d96",
   "metadata": {
    "deletable": false,
    "editable": false
   },
   "source": [
    "### Task 2.2: Explore the API"
   ]
  },
  {
   "cell_type": "markdown",
   "id": "fbc80b34-9329-4f71-aecf-188a94453af5",
   "metadata": {
    "deletable": false,
    "editable": false
   },
   "source": [
    "Use the inspection process we learned in Lab-P3 and Lab-P4 to know more details of the 'project' API. In Lab-P3, we saw how to use `dir` and `help` to learn the API. Run the following cells to explore the API:"
   ]
  },
  {
   "cell_type": "code",
   "execution_count": 551,
   "id": "b1998ace-9aaa-4c7c-a6fe-fd41b3ab303e",
   "metadata": {
    "deletable": false
   },
   "outputs": [
    {
     "data": {
      "text/plain": [
       "['Dict',\n",
       " 'List',\n",
       " '__annotations__',\n",
       " '__builtins__',\n",
       " '__cached__',\n",
       " '__doc__',\n",
       " '__file__',\n",
       " '__loader__',\n",
       " '__name__',\n",
       " '__package__',\n",
       " '__spec__',\n",
       " '_games',\n",
       " 'count',\n",
       " 'csv',\n",
       " 'csv_file',\n",
       " 'csv_reader',\n",
       " 'get_avg_playtime',\n",
       " 'get_name',\n",
       " 'get_negative_reviews',\n",
       " 'get_positive_reviews',\n",
       " 'get_price',\n",
       " 'get_publisher',\n",
       " 'get_release_date',\n",
       " 'row']"
      ]
     },
     "execution_count": 551,
     "metadata": {},
     "output_type": "execute_result"
    }
   ],
   "source": [
    "# use the 'dir' function to learn more about the project API\n",
    "dir(project)"
   ]
  },
  {
   "cell_type": "markdown",
   "id": "b93e4faf-9748-4d93-9df7-fdffca9ebe7a",
   "metadata": {
    "deletable": false,
    "editable": false
   },
   "source": [
    "Spend some time reading about each of the seven functions that don't begin with two underscores. For example, run this to learn about `count`:"
   ]
  },
  {
   "cell_type": "code",
   "execution_count": 552,
   "id": "d56125b7-7882-43d2-be07-ceb815736e35",
   "metadata": {
    "deletable": false
   },
   "outputs": [
    {
     "name": "stdout",
     "output_type": "stream",
     "text": [
      "Help on function count in module project:\n",
      "\n",
      "count() -> int\n",
      "    The number of games in the dataset\n",
      "\n"
     ]
    }
   ],
   "source": [
    "help(project.count) "
   ]
  },
  {
   "cell_type": "markdown",
   "id": "7385ffb7-4c0a-4c5f-9ac3-07d42bb1f058",
   "metadata": {
    "deletable": false,
    "editable": false
   },
   "source": [
    "Alternatively, you could run the following to just see the function's documentation:"
   ]
  },
  {
   "cell_type": "code",
   "execution_count": 553,
   "id": "f5debbfa-fbbe-448d-bca8-9665156ae358",
   "metadata": {
    "deletable": false
   },
   "outputs": [
    {
     "name": "stdout",
     "output_type": "stream",
     "text": [
      "The number of games in the dataset\n"
     ]
    }
   ],
   "source": [
    "print(project.count.__doc__)"
   ]
  },
  {
   "cell_type": "markdown",
   "id": "d952a95e-78aa-4ad5-8b81-45b74423b17a",
   "metadata": {
    "deletable": false,
    "editable": false
   },
   "source": [
    "You may also open up the `project.py` file directly to learn about the functions provided. E.g., you might see this:\n",
    "\n",
    "```python\n",
    "def count() -> int:\n",
    "    \"\"\"The number of games in the dataset\"\"\"\n",
    "\n",
    "    return len(_games)\n",
    "```\n",
    "\n",
    "You don't need to understand the code in the functions, but the strings in triple quotes (called *docstrings*) explain what each function does. All `project.count.__doc__` is providing you is the docstring of the `count` function. Most docstrings will include an explanation about what the function returns when called, here it is 'the number of games'. The `-> int` is a type hint that means the expected return type of this function is an integer.\n",
    "\n",
    "Try to learn other functions in `project.py` by using `help` function. For example, you may try: "
   ]
  },
  {
   "cell_type": "code",
   "execution_count": 554,
   "id": "c0bf321d-7d4b-4a6c-b112-e92dc79dcf61",
   "metadata": {
    "deletable": false
   },
   "outputs": [
    {
     "name": "stdout",
     "output_type": "stream",
     "text": [
      "Help on function get_name in module project:\n",
      "\n",
      "get_name(idx: int) -> str\n",
      "    The name of the game at row idx\n",
      "\n"
     ]
    }
   ],
   "source": [
    "help(project.get_name)"
   ]
  },
  {
   "cell_type": "code",
   "execution_count": 555,
   "id": "99b05148-1fc6-448c-a603-f5ced3b33d98",
   "metadata": {
    "deletable": false
   },
   "outputs": [
    {
     "name": "stdout",
     "output_type": "stream",
     "text": [
      "Help on function get_avg_playtime in module project:\n",
      "\n",
      "get_avg_playtime(idx: int) -> int\n",
      "    The average playtime (in hours) of the game at row idx\n",
      "\n"
     ]
    }
   ],
   "source": [
    "# now try getting help for the other functions in the `project` module\n",
    "help(project.get_avg_playtime)"
   ]
  },
  {
   "cell_type": "markdown",
   "id": "e6e979d8-01f9-49df-9f2d-13c3221a22a7",
   "metadata": {
    "deletable": false,
    "editable": false
   },
   "source": [
    "### Task 2.2.1: Getting familiar with `project.py`"
   ]
  },
  {
   "cell_type": "markdown",
   "id": "cc183d18-d1bc-4308-a50d-cdb7218a9969",
   "metadata": {
    "deletable": false,
    "editable": false
   },
   "source": [
    "You will now demonstrate your familiarity with the functions inside the `project` module by answering a few simple questions. You must have already imported the `project` module to this notebook. Make sure you placed the `import` statememnt at the **top** of the notebook in the designated cell.\n",
    "\n",
    "**Remember:** In Computer Science, we start indexing at `0`."
   ]
  },
  {
   "cell_type": "markdown",
   "id": "9311f931-190c-472e-ae3f-dff6d0fb43bf",
   "metadata": {
    "deletable": false,
    "editable": false
   },
   "source": [
    "#### Lab question 1"
   ]
  },
  {
   "cell_type": "markdown",
   "id": "b107acc5-d028-4e4e-bce8-03508e15d771",
   "metadata": {
    "deletable": false,
    "editable": false
   },
   "source": [
    "What is the `name` of the game at **index** `0`?"
   ]
  },
  {
   "cell_type": "markdown",
   "id": "dfab967c-fd27-4ee2-a53a-c55be38ea8ec",
   "metadata": {
    "deletable": false,
    "editable": false
   },
   "source": [
    "Points possible: 4.0"
   ]
  },
  {
   "cell_type": "code",
   "execution_count": 556,
   "id": "d7515b3e-da38-4b59-807a-a912c1956e8e",
   "metadata": {
    "deletable": false,
    "editable": true,
    "tags": [
     "lab-q1-code"
    ]
   },
   "outputs": [
    {
     "data": {
      "text/plain": [
       "'POSTAL'"
      ]
     },
     "execution_count": 556,
     "metadata": {},
     "output_type": "execute_result"
    }
   ],
   "source": [
    "# we have done this for you!\n",
    "name_idx0 = project.get_name(0)\n",
    "\n",
    "name_idx0"
   ]
  },
  {
   "cell_type": "code",
   "execution_count": 557,
   "id": "d9f2d777-25b3-4832-97dd-a6a718275776",
   "metadata": {
    "deletable": false,
    "editable": true
   },
   "outputs": [
    {
     "name": "stdout",
     "output_type": "stream",
     "text": [
      "Make sure you saved the notebook before running this cell. Running check for lab-q1...\n",
      "Great job! You passed all test cases for this question.\n"
     ]
    },
    {
     "data": {
      "text/plain": [
       "True"
      ]
     },
     "execution_count": 557,
     "metadata": {},
     "output_type": "execute_result"
    }
   ],
   "source": [
    "student_grader.check(\"lab-q1\", should_get_llm_feedback=False)"
   ]
  },
  {
   "cell_type": "markdown",
   "id": "afc4a027-9dd5-4c00-b4e9-397c2088637c",
   "metadata": {
    "deletable": false,
    "editable": false
   },
   "source": [
    "#### Lab question 2\n"
   ]
  },
  {
   "cell_type": "markdown",
   "id": "f7496f22-cbbe-4cb2-aedd-0e00fb3179c7",
   "metadata": {
    "deletable": false,
    "editable": false
   },
   "source": [
    "What is the `name` of the game at **index** `3`?"
   ]
  },
  {
   "cell_type": "markdown",
   "id": "4a07c058-63dd-4f30-b7aa-540f4330e1d9",
   "metadata": {
    "deletable": false,
    "editable": false
   },
   "source": [
    "Points possible: 4.0"
   ]
  },
  {
   "cell_type": "code",
   "execution_count": 558,
   "id": "cf35be16-a568-4d67-bdef-a08ee591197c",
   "metadata": {
    "deletable": false,
    "editable": true,
    "tags": [
     "lab-q2-code"
    ]
   },
   "outputs": [
    {
     "data": {
      "text/plain": [
       "'Legacy of Kain: Soul Reaver'"
      ]
     },
     "execution_count": 558,
     "metadata": {},
     "output_type": "execute_result"
    }
   ],
   "source": [
    "# replace the ... below with your code\n",
    "name_idx3 = project.get_name(3)\n",
    "name_idx3"
   ]
  },
  {
   "cell_type": "code",
   "execution_count": 559,
   "id": "3bf81932-2926-4e18-b205-f508875920af",
   "metadata": {
    "deletable": false,
    "editable": true
   },
   "outputs": [
    {
     "name": "stdout",
     "output_type": "stream",
     "text": [
      "Make sure you saved the notebook before running this cell. Running check for lab-q2...\n",
      "Great job! You passed all test cases for this question.\n"
     ]
    },
    {
     "data": {
      "text/plain": [
       "True"
      ]
     },
     "execution_count": 559,
     "metadata": {},
     "output_type": "execute_result"
    }
   ],
   "source": [
    "student_grader.check(\"lab-q2\", should_get_llm_feedback=False)"
   ]
  },
  {
   "cell_type": "markdown",
   "id": "bab12be7-54a4-4e54-8f95-e653a5ae9637",
   "metadata": {
    "deletable": false,
    "editable": false
   },
   "source": [
    "#### Lab question 3\n"
   ]
  },
  {
   "cell_type": "markdown",
   "id": "8ee3ed7d-bb9a-4170-a6ad-a7d5922436bd",
   "metadata": {
    "deletable": false,
    "editable": false
   },
   "source": [
    "What is the `publisher` of the game at **index** `9`? "
   ]
  },
  {
   "cell_type": "markdown",
   "id": "61d9a891-d8c4-429b-b193-3b7946f78958",
   "metadata": {
    "deletable": false,
    "editable": false
   },
   "source": [
    "Points possible: 4.0"
   ]
  },
  {
   "cell_type": "code",
   "execution_count": 560,
   "id": "3d8c97d2-9eb8-44eb-b1fd-c4949e8055f7",
   "metadata": {
    "deletable": false,
    "editable": true,
    "tags": [
     "lab-q3-code"
    ]
   },
   "outputs": [
    {
     "data": {
      "text/plain": [
       "'Valve'"
      ]
     },
     "execution_count": 560,
     "metadata": {},
     "output_type": "execute_result"
    }
   ],
   "source": [
    "# replace the ... below with your code\n",
    "publisher_idx9 = project.get_publisher(9)\n",
    "publisher_idx9"
   ]
  },
  {
   "cell_type": "code",
   "execution_count": 561,
   "id": "ae29e834-8b1b-4199-adec-94d1f94cef4b",
   "metadata": {
    "deletable": false,
    "editable": true
   },
   "outputs": [
    {
     "name": "stdout",
     "output_type": "stream",
     "text": [
      "Make sure you saved the notebook before running this cell. Running check for lab-q3...\n",
      "Great job! You passed all test cases for this question.\n"
     ]
    },
    {
     "data": {
      "text/plain": [
       "True"
      ]
     },
     "execution_count": 561,
     "metadata": {},
     "output_type": "execute_result"
    }
   ],
   "source": [
    "student_grader.check(\"lab-q3\", should_get_llm_feedback=False)"
   ]
  },
  {
   "cell_type": "markdown",
   "id": "bf499609-07c2-4d1b-932d-329c0a5ff5f9",
   "metadata": {
    "deletable": false,
    "editable": false
   },
   "source": [
    "#### Lab question 4"
   ]
  },
  {
   "cell_type": "markdown",
   "id": "f508c989-ac34-437f-aa4e-18b0ba8d9beb",
   "metadata": {
    "deletable": false,
    "editable": false
   },
   "source": [
    "What is the `name` of the **last** game in the dataset? We have done this question for you, please don't edit it.\n",
    "\n",
    "Remember that indices in python start at 0. For example, if you have a list containing 10 items, the first item will be at index 0 and the last item will be at index 9. That's why we subtract 1 here from the total number of games in the dataset."
   ]
  },
  {
   "cell_type": "markdown",
   "id": "9cf7d79d-308d-4b1a-869c-1aa86266f7ed",
   "metadata": {
    "deletable": false,
    "editable": false
   },
   "source": [
    "Points possible: 4.0"
   ]
  },
  {
   "cell_type": "code",
   "execution_count": 562,
   "id": "01537563-acda-4505-8b92-44c99c960e6a",
   "metadata": {
    "deletable": false,
    "editable": true,
    "tags": [
     "lab-q4-code"
    ]
   },
   "outputs": [
    {
     "data": {
      "text/plain": [
       "'Against the Storm'"
      ]
     },
     "execution_count": 562,
     "metadata": {},
     "output_type": "execute_result"
    }
   ],
   "source": [
    "# we have done this for you!\n",
    "name_idx_last = project.get_name(project.count() - 1)\n",
    "name_idx_last"
   ]
  },
  {
   "cell_type": "code",
   "execution_count": 563,
   "id": "162a4f6e-1250-4b45-bf16-cc0cbd1dbe55",
   "metadata": {
    "deletable": false,
    "editable": true
   },
   "outputs": [
    {
     "name": "stdout",
     "output_type": "stream",
     "text": [
      "Make sure you saved the notebook before running this cell. Running check for lab-q4...\n",
      "Great job! You passed all test cases for this question.\n"
     ]
    },
    {
     "data": {
      "text/plain": [
       "True"
      ]
     },
     "execution_count": 563,
     "metadata": {},
     "output_type": "execute_result"
    }
   ],
   "source": [
    "student_grader.check(\"lab-q4\", should_get_llm_feedback=False)"
   ]
  },
  {
   "cell_type": "markdown",
   "id": "d7e9fb82-472b-4b3f-9474-e5cd5bbe3060",
   "metadata": {
    "deletable": false,
    "editable": false
   },
   "source": [
    "#### Lab question 5"
   ]
  },
  {
   "cell_type": "markdown",
   "id": "1f0a61fa-7b7f-48f7-98ac-0dcacfa8ced7",
   "metadata": {
    "deletable": false,
    "editable": false
   },
   "source": [
    "How many `positive_reviews` does the game at **index** `7` have? \n",
    "\n",
    "Your positive review number will end with a `\"K\"`. In this dataset, `\"K\"` represents one thousand, and `\"M\"` represents one million. This is fine for now, but in the project portion, you'll need to convert these **strings** to **integers** (e.g., `\"11.77K\"` should become `11770`, `\"2.55M\"` should become `2550000`). After this question, we will review some string operations as we build up to how to perform this conversion."
   ]
  },
  {
   "cell_type": "markdown",
   "id": "7b5289a9-8fff-4db9-885c-1e33fdb8bd90",
   "metadata": {
    "deletable": false,
    "editable": false
   },
   "source": [
    "Points possible: 4.0"
   ]
  },
  {
   "cell_type": "code",
   "execution_count": 564,
   "id": "6a56fc42-86bd-4eab-bb6b-3aca02bab32f",
   "metadata": {
    "deletable": false,
    "editable": true,
    "tags": [
     "lab-q5-code"
    ]
   },
   "outputs": [
    {
     "data": {
      "text/plain": [
       "'11.77K'"
      ]
     },
     "execution_count": 564,
     "metadata": {},
     "output_type": "execute_result"
    }
   ],
   "source": [
    "# replace the ... below with your code\n",
    "positive_reviews_idx7 =  project.get_positive_reviews(7)\n",
    "positive_reviews_idx7"
   ]
  },
  {
   "cell_type": "code",
   "execution_count": 565,
   "id": "9dbde322-41fc-4005-a630-0d615dad8942",
   "metadata": {
    "deletable": false,
    "editable": true
   },
   "outputs": [
    {
     "name": "stdout",
     "output_type": "stream",
     "text": [
      "Make sure you saved the notebook before running this cell. Running check for lab-q5...\n",
      "Great job! You passed all test cases for this question.\n"
     ]
    },
    {
     "data": {
      "text/plain": [
       "True"
      ]
     },
     "execution_count": 565,
     "metadata": {},
     "output_type": "execute_result"
    }
   ],
   "source": [
    "student_grader.check(\"lab-q5\", should_get_llm_feedback=False)"
   ]
  },
  {
   "cell_type": "markdown",
   "id": "d408af9d-17eb-4054-92ce-f62aab1f6ba7",
   "metadata": {
    "deletable": false,
    "editable": false
   },
   "source": [
    "## Segment 2: Working with strings"
   ]
  },
  {
   "cell_type": "markdown",
   "id": "1ae2f86f-e59a-4dba-9dd8-8a7dee5c424f",
   "metadata": {
    "deletable": false,
    "editable": false
   },
   "source": [
    "### Task 3.1: Indexing / slicing Strings"
   ]
  },
  {
   "cell_type": "markdown",
   "id": "e97f6a63-bba9-4eb1-bd53-131dd0b8c36a",
   "metadata": {
    "deletable": false,
    "editable": false
   },
   "source": [
    "Stepping back from the Steam data, Tasks 3.1 and 3.2 introduce us to performing operations with strings. While this will be covered in more detail during Friday's lecture, we will cover the essentials now.\n",
    "\n",
    "We can think of a string as a sequence of characters. For example, the string `my_str = 'hello_world!'` can be written as...\n",
    "\n",
    "| index  | 0    | 1    | 2    | 3    | 4    | 5    | 6    | 7    | 8    | 9    | 10   | 11   |\n",
    "| ------ | ---- | ---- | ---- | ---- | ---- | ---- | ---- | ---- | ---- | ---- | ---- | ---- |\n",
    "| string | h    | e    | l    | l    | o    | _    | w    | o    | r    | l    | d    | !    |\n",
    "\n",
    "... where we can then access specific characters of the string by an **index**, e.g. `my_str[0]` returns `'h'`, `my_str[1]` returns `'e'`, and `my_str[8]` returns `'r'`.\n",
    "\n",
    "Furthermore, we can **slice** strings -- that is, get a particular section of characters. For example,\n",
    "\n",
    "- `my_str[1:5]` returns `'ello'`\n",
    "- `my_str[:8]` returns `'hello_wo'`\n",
    "- `my_str[5:]` returns `'_world!'`\n",
    "- `my_str[:]` returns `'hello_world!'`\n",
    "\n",
    "Try running this in the cell below."
   ]
  },
  {
   "cell_type": "code",
   "execution_count": 566,
   "id": "9015081d-e469-4f10-92b2-32491881575c",
   "metadata": {
    "deletable": false
   },
   "outputs": [
    {
     "name": "stdout",
     "output_type": "stream",
     "text": [
      "my_str[0] returns h\n",
      "my_str[8] returns r\n",
      "my_str[1:5] returns ello\n",
      "my_str[:8] returns hello_wo\n",
      "my_str[5:] returns _world!\n",
      "my_str[:] returns hello_world!\n"
     ]
    }
   ],
   "source": [
    "my_str = 'hello_world!'\n",
    "print(\"my_str[0] returns\", my_str[0])\n",
    "print(\"my_str[8] returns\", my_str[8])\n",
    "print(\"my_str[1:5] returns\", my_str[1:5])\n",
    "print(\"my_str[:8] returns\", my_str[:8])\n",
    "print(\"my_str[5:] returns\", my_str[5:])\n",
    "print(\"my_str[:] returns\", my_str[:])"
   ]
  },
  {
   "cell_type": "markdown",
   "id": "d5f1290d-6d06-47f7-bc58-31cfd18a1df2",
   "metadata": {
    "deletable": false,
    "editable": false
   },
   "source": [
    "Notice that slicing is **inclusive** on the lower bound and **exclusive** on the upper bound. We can also leave out a bound to start from the beginning (e.g. `my_str[:6]`) or to keep going until the end (e.g. `my_str[8:]`). Lastly, a negative index will count **backwards** from the **end** of the string.\n",
    "\n",
    "Try running the cell below."
   ]
  },
  {
   "cell_type": "code",
   "execution_count": 567,
   "id": "72991c7e-e19d-4485-adad-c0cc9244be55",
   "metadata": {
    "deletable": false
   },
   "outputs": [
    {
     "name": "stdout",
     "output_type": "stream",
     "text": [
      "my_str[-1] returns !\n",
      "my_str[-4:-1] returns rld\n"
     ]
    }
   ],
   "source": [
    "print(\"my_str[-1] returns\", my_str[-1])\n",
    "print(\"my_str[-4:-1] returns\", my_str[-4:-1])"
   ]
  },
  {
   "cell_type": "markdown",
   "id": "8b81c21c-a367-4a57-a506-b47473efa240",
   "metadata": {
    "deletable": false,
    "editable": false
   },
   "source": [
    "**Your Turn!** Try slicing the below phone number! Can you extract the area code (first 3 digits), exchange code (middle 3 digits), and line number (last 4 digits) of the given phone number?"
   ]
  },
  {
   "cell_type": "markdown",
   "id": "44d5c27e-6bd1-4a4b-82ca-128f39b33d1b",
   "metadata": {
    "deletable": false,
    "editable": false
   },
   "source": [
    "#### Lab question 6"
   ]
  },
  {
   "cell_type": "markdown",
   "id": "7c59c525-fc57-483c-8fd9-932f801aeb17",
   "metadata": {
    "deletable": false,
    "editable": false
   },
   "source": [
    "What is the **last digit** of the phone number: `608-867-5309`?"
   ]
  },
  {
   "cell_type": "markdown",
   "id": "78ad96e6-c362-4404-b6ca-3439845a1c4c",
   "metadata": {
    "deletable": false,
    "editable": false
   },
   "source": [
    "Points possible: 4.0"
   ]
  },
  {
   "cell_type": "code",
   "execution_count": 568,
   "id": "52fa8a1e-c216-4257-8bbf-5324b0327c7f",
   "metadata": {
    "deletable": false,
    "editable": true,
    "tags": [
     "lab-q6-code"
    ]
   },
   "outputs": [
    {
     "data": {
      "text/plain": [
       "'9'"
      ]
     },
     "execution_count": 568,
     "metadata": {},
     "output_type": "execute_result"
    }
   ],
   "source": [
    "# replace the ... with your code\n",
    "phone_number = \"608-867-5309\"\n",
    "last_digit = phone_number[-1]\n",
    "last_digit"
   ]
  },
  {
   "cell_type": "code",
   "execution_count": 569,
   "id": "4d22bf0a-5c06-47d2-af13-94f6db411a0b",
   "metadata": {
    "deletable": false,
    "editable": true
   },
   "outputs": [
    {
     "name": "stdout",
     "output_type": "stream",
     "text": [
      "Make sure you saved the notebook before running this cell. Running check for lab-q6...\n",
      "Great job! You passed all test cases for this question.\n"
     ]
    },
    {
     "data": {
      "text/plain": [
       "True"
      ]
     },
     "execution_count": 569,
     "metadata": {},
     "output_type": "execute_result"
    }
   ],
   "source": [
    "student_grader.check(\"lab-q6\", should_get_llm_feedback=False)"
   ]
  },
  {
   "cell_type": "markdown",
   "id": "bfa6aaa2-974d-4f6e-a980-acd32d056a9b",
   "metadata": {
    "deletable": false,
    "editable": false
   },
   "source": [
    "#### Lab question 7"
   ]
  },
  {
   "cell_type": "markdown",
   "id": "6c28ae0f-bb44-4290-8fcd-9323721861d7",
   "metadata": {
    "deletable": false,
    "editable": false
   },
   "source": [
    "What is the **area code** (i.e., the first three characters) of the phone number: `608-867-5309`?"
   ]
  },
  {
   "cell_type": "markdown",
   "id": "e46d1d05-422b-427a-8ad1-648a2330ac53",
   "metadata": {
    "deletable": false,
    "editable": false
   },
   "source": [
    "Points possible: 4.0"
   ]
  },
  {
   "cell_type": "code",
   "execution_count": 570,
   "id": "36fc5e0f-e356-49ea-bb40-e8db76968b81",
   "metadata": {
    "deletable": false,
    "editable": true,
    "tags": [
     "lab-q7-code"
    ]
   },
   "outputs": [
    {
     "data": {
      "text/plain": [
       "'608'"
      ]
     },
     "execution_count": 570,
     "metadata": {},
     "output_type": "execute_result"
    }
   ],
   "source": [
    "# replace the ... with your code\n",
    "phone_number = \"608-867-5309\"\n",
    "area_code = phone_number[:3]\n",
    "\n",
    "area_code"
   ]
  },
  {
   "cell_type": "code",
   "execution_count": 571,
   "id": "5cd8b8b5-b50e-4338-ba1b-53e35ecc0574",
   "metadata": {
    "deletable": false,
    "editable": true
   },
   "outputs": [
    {
     "name": "stdout",
     "output_type": "stream",
     "text": [
      "Make sure you saved the notebook before running this cell. Running check for lab-q7...\n",
      "Great job! You passed all test cases for this question.\n"
     ]
    },
    {
     "data": {
      "text/plain": [
       "True"
      ]
     },
     "execution_count": 571,
     "metadata": {},
     "output_type": "execute_result"
    }
   ],
   "source": [
    "student_grader.check(\"lab-q7\", should_get_llm_feedback=False)"
   ]
  },
  {
   "cell_type": "markdown",
   "id": "cf05db29-150a-48bb-89da-c09131314e09",
   "metadata": {
    "deletable": false,
    "editable": false
   },
   "source": [
    "#### Lab question 8"
   ]
  },
  {
   "cell_type": "markdown",
   "id": "5d9f1573-abee-4091-97f8-40392fa1a1ca",
   "metadata": {
    "deletable": false,
    "editable": false
   },
   "source": [
    "What is the **line number** (i.e., the last four characters) of the phone number: `608-867-5309`?"
   ]
  },
  {
   "cell_type": "markdown",
   "id": "fa32a0ac-e898-4635-94bb-f304a3f1bee0",
   "metadata": {
    "deletable": false,
    "editable": false
   },
   "source": [
    "Points possible: 4.0"
   ]
  },
  {
   "cell_type": "code",
   "execution_count": 572,
   "id": "62793971-7324-494c-893f-0f007bf68e47",
   "metadata": {
    "deletable": false,
    "editable": true,
    "tags": [
     "lab-q8-code"
    ]
   },
   "outputs": [
    {
     "data": {
      "text/plain": [
       "'5309'"
      ]
     },
     "execution_count": 572,
     "metadata": {},
     "output_type": "execute_result"
    }
   ],
   "source": [
    "# replace the ... with your code\n",
    "phone_number = \"608-867-5309\"\n",
    "line_number = phone_number[-4:]\n",
    "\n",
    "line_number"
   ]
  },
  {
   "cell_type": "code",
   "execution_count": 573,
   "id": "7f7e88d0-e112-4dff-8930-ee3d20af7376",
   "metadata": {
    "deletable": false,
    "editable": true
   },
   "outputs": [
    {
     "name": "stdout",
     "output_type": "stream",
     "text": [
      "Make sure you saved the notebook before running this cell. Running check for lab-q8...\n",
      "Great job! You passed all test cases for this question.\n"
     ]
    },
    {
     "data": {
      "text/plain": [
       "True"
      ]
     },
     "execution_count": 573,
     "metadata": {},
     "output_type": "execute_result"
    }
   ],
   "source": [
    "student_grader.check(\"lab-q8\", should_get_llm_feedback=False)"
   ]
  },
  {
   "cell_type": "markdown",
   "id": "9efbe755-078b-4f83-a616-f6eda53a7727",
   "metadata": {
    "deletable": false,
    "editable": false
   },
   "source": [
    "#### Lab question 9"
   ]
  },
  {
   "cell_type": "markdown",
   "id": "b5e2e829-eb2b-4d14-aadc-ca52dea0fdca",
   "metadata": {
    "deletable": false,
    "editable": false
   },
   "source": [
    "What is the **exchange code** (i.e., middle three characters) of the phone number: `608-867-5309`?"
   ]
  },
  {
   "cell_type": "markdown",
   "id": "320bfbe1-1b5d-4ad4-a1f8-8707de319680",
   "metadata": {
    "deletable": false,
    "editable": false
   },
   "source": [
    "Points possible: 4.0"
   ]
  },
  {
   "cell_type": "code",
   "execution_count": 574,
   "id": "35458eff-9a11-47ca-81ff-18d71d003a48",
   "metadata": {
    "deletable": false,
    "editable": true,
    "tags": [
     "lab-q9-code"
    ]
   },
   "outputs": [
    {
     "data": {
      "text/plain": [
       "'867'"
      ]
     },
     "execution_count": 574,
     "metadata": {},
     "output_type": "execute_result"
    }
   ],
   "source": [
    "# replace the ... with your code\n",
    "phone_number = \"608-867-5309\"\n",
    "exchange_code = phone_number[4:7]\n",
    "\n",
    "exchange_code"
   ]
  },
  {
   "cell_type": "code",
   "execution_count": 575,
   "id": "e7a61085-eeab-4f3e-80df-ffc22cd61eb1",
   "metadata": {
    "deletable": false,
    "editable": true
   },
   "outputs": [
    {
     "name": "stdout",
     "output_type": "stream",
     "text": [
      "Make sure you saved the notebook before running this cell. Running check for lab-q9...\n",
      "Great job! You passed all test cases for this question.\n"
     ]
    },
    {
     "data": {
      "text/plain": [
       "True"
      ]
     },
     "execution_count": 575,
     "metadata": {},
     "output_type": "execute_result"
    }
   ],
   "source": [
    "student_grader.check(\"lab-q9\", should_get_llm_feedback=False)"
   ]
  },
  {
   "cell_type": "markdown",
   "id": "7d7ec53b-fc38-4bb0-86f9-2bcc84da8929",
   "metadata": {
    "deletable": false,
    "editable": false
   },
   "source": [
    "#### Lab question 10"
   ]
  },
  {
   "cell_type": "markdown",
   "id": "fa15ce18-077e-423c-a600-296eeb39aae2",
   "metadata": {
    "deletable": false,
    "editable": false
   },
   "source": [
    "What is the **department code** (i.e., the letters at the start) of the course: `CS220`?"
   ]
  },
  {
   "cell_type": "markdown",
   "id": "ef9051d2-2bc8-4091-bdf2-a5ca3c07abad",
   "metadata": {
    "deletable": false,
    "editable": false
   },
   "source": [
    "Points possible: 4.0"
   ]
  },
  {
   "cell_type": "code",
   "execution_count": 576,
   "id": "acce883d-bdfa-4b56-adb6-2cdea47119c2",
   "metadata": {
    "deletable": false,
    "editable": true,
    "tags": [
     "lab-q10-code"
    ]
   },
   "outputs": [
    {
     "data": {
      "text/plain": [
       "'CS'"
      ]
     },
     "execution_count": 576,
     "metadata": {},
     "output_type": "execute_result"
    }
   ],
   "source": [
    "course = 'CS220'\n",
    "dept_code = course[0:2]\n",
    "\n",
    "dept_code"
   ]
  },
  {
   "cell_type": "code",
   "execution_count": 577,
   "id": "8625a821-62fc-4077-818b-552d45d95452",
   "metadata": {
    "deletable": false,
    "editable": true
   },
   "outputs": [
    {
     "name": "stdout",
     "output_type": "stream",
     "text": [
      "Make sure you saved the notebook before running this cell. Running check for lab-q10...\n",
      "Great job! You passed all test cases for this question.\n"
     ]
    },
    {
     "data": {
      "text/plain": [
       "True"
      ]
     },
     "execution_count": 577,
     "metadata": {},
     "output_type": "execute_result"
    }
   ],
   "source": [
    "student_grader.check(\"lab-q10\", should_get_llm_feedback=False)"
   ]
  },
  {
   "cell_type": "markdown",
   "id": "39db1b5b-8dc4-4a69-8afa-ae5294cd3d19",
   "metadata": {
    "deletable": false,
    "editable": false
   },
   "source": [
    "#### Lab question 11"
   ]
  },
  {
   "cell_type": "markdown",
   "id": "0da04d1a-958d-46f6-ba82-2b91b98a518b",
   "metadata": {
    "deletable": false,
    "editable": false
   },
   "source": [
    "What is the **course code** (i.e., the numbers at the end) of the course: `CS220`?"
   ]
  },
  {
   "cell_type": "markdown",
   "id": "92677a99-fcd5-4c21-a7c2-05df27e0d3da",
   "metadata": {
    "deletable": false,
    "editable": false
   },
   "source": [
    "Points possible: 4.0"
   ]
  },
  {
   "cell_type": "code",
   "execution_count": 578,
   "id": "37ae5f49-cadc-4dbf-b7ae-e86c08e04779",
   "metadata": {
    "deletable": false,
    "editable": true,
    "tags": [
     "lab-q11-code"
    ]
   },
   "outputs": [
    {
     "data": {
      "text/plain": [
       "'220'"
      ]
     },
     "execution_count": 578,
     "metadata": {},
     "output_type": "execute_result"
    }
   ],
   "source": [
    "course = 'CS220'\n",
    "course_code = course[2:]\n",
    "\n",
    "course_code"
   ]
  },
  {
   "cell_type": "code",
   "execution_count": 579,
   "id": "f2fafc05-9da4-479a-9fe9-297791ea60c3",
   "metadata": {
    "deletable": false,
    "editable": true
   },
   "outputs": [
    {
     "name": "stdout",
     "output_type": "stream",
     "text": [
      "Make sure you saved the notebook before running this cell. Running check for lab-q11...\n",
      "Great job! You passed all test cases for this question.\n"
     ]
    },
    {
     "data": {
      "text/plain": [
       "True"
      ]
     },
     "execution_count": 579,
     "metadata": {},
     "output_type": "execute_result"
    }
   ],
   "source": [
    "student_grader.check(\"lab-q11\", should_get_llm_feedback=False)"
   ]
  },
  {
   "cell_type": "markdown",
   "id": "bc6c3f35-015c-4ec9-8c91-41fab8b6238a",
   "metadata": {
    "deletable": false,
    "editable": false
   },
   "source": [
    "After that short detour, we will now go back to working on the Steam game dataset."
   ]
  },
  {
   "cell_type": "markdown",
   "id": "cef7fcd4-fda7-4701-9782-bd27f18138f4",
   "metadata": {
    "deletable": false,
    "editable": false
   },
   "source": [
    "### Task 3.2: Calculating Number of Reviews"
   ]
  },
  {
   "cell_type": "markdown",
   "id": "19366d21-9890-4d4a-aed1-d60cd64f0a6a",
   "metadata": {
    "deletable": false,
    "editable": false
   },
   "source": [
    "Question 4 showed us that the number of positive or negative reviews is represented a string with the suffix `'K'` for thousands and `'M'` for millions.\n",
    "\n",
    "We can **index** the last character of these numbers to find the suffix, then use it to determine whether the suffix represents a thousand or a million."
   ]
  },
  {
   "cell_type": "markdown",
   "id": "2ca59ff4-7a70-4b8d-a243-7d9e51c91dff",
   "metadata": {
    "deletable": false,
    "editable": false
   },
   "source": [
    "#### Lab question 12"
   ]
  },
  {
   "cell_type": "markdown",
   "id": "9c91e7ac-3f04-4de4-b4a3-a41939fb14e7",
   "metadata": {
    "deletable": false,
    "editable": false
   },
   "source": [
    "What is the **suffix** (i.e., the last character) of the number `\"3.19M\"`? Try to use negative indexing (indexing using a negative value; e.g., `-1` to represent the last character)."
   ]
  },
  {
   "cell_type": "markdown",
   "id": "91b042c8-65e2-45d6-beff-fad016c0e0da",
   "metadata": {
    "deletable": false,
    "editable": false
   },
   "source": [
    "Points possible: 4.0"
   ]
  },
  {
   "cell_type": "code",
   "execution_count": 580,
   "id": "7e242334-5a79-4404-a661-f2438ae34428",
   "metadata": {
    "deletable": false,
    "editable": true,
    "tags": [
     "lab-q12-code"
    ]
   },
   "outputs": [
    {
     "data": {
      "text/plain": [
       "'M'"
      ]
     },
     "execution_count": 580,
     "metadata": {},
     "output_type": "execute_result"
    }
   ],
   "source": [
    "# replace the ... with your code\n",
    "cost = \"3.19M\"\n",
    "suffix = cost[-1]\n",
    "\n",
    "suffix"
   ]
  },
  {
   "cell_type": "code",
   "execution_count": 581,
   "id": "5d7a8012-36dc-4a4e-bfcb-9874c22f4b1f",
   "metadata": {
    "deletable": false,
    "editable": true
   },
   "outputs": [
    {
     "name": "stdout",
     "output_type": "stream",
     "text": [
      "Make sure you saved the notebook before running this cell. Running check for lab-q12...\n",
      "Great job! You passed all test cases for this question.\n"
     ]
    },
    {
     "data": {
      "text/plain": [
       "True"
      ]
     },
     "execution_count": 581,
     "metadata": {},
     "output_type": "execute_result"
    }
   ],
   "source": [
    "student_grader.check(\"lab-q12\", should_get_llm_feedback=False)"
   ]
  },
  {
   "cell_type": "markdown",
   "id": "e3c43e42-0866-405e-96a3-c23a39db87eb",
   "metadata": {
    "deletable": false,
    "editable": false
   },
   "source": [
    "#### Lab question 13"
   ]
  },
  {
   "cell_type": "markdown",
   "id": "f5caf19e-f472-4e19-8336-e00873e9272e",
   "metadata": {
    "deletable": false,
    "editable": false
   },
   "source": [
    "How many millions are there in the number `\"3.19M\"`?\n",
    "\n",
    "Just as we found the suffix by **indexing**, we can also find the number by **slicing**. Answer the question by slicing the string to obtain the number of millions, then typecasting the **string** into a **float**. Try to use negative indexing."
   ]
  },
  {
   "cell_type": "markdown",
   "id": "ca7c1019-b1b3-4046-a794-e2f9939b30d3",
   "metadata": {
    "deletable": false,
    "editable": false
   },
   "source": [
    "Points possible: 4.0"
   ]
  },
  {
   "cell_type": "code",
   "execution_count": 582,
   "id": "b3deebdb-a333-41e5-a43d-01fdb7950c66",
   "metadata": {
    "deletable": false,
    "editable": true,
    "tags": [
     "lab-q13-code"
    ]
   },
   "outputs": [
    {
     "data": {
      "text/plain": [
       "3.19"
      ]
     },
     "execution_count": 582,
     "metadata": {},
     "output_type": "execute_result"
    }
   ],
   "source": [
    "# replace the ... with your code\n",
    "cost = \"3.19M\"\n",
    "millions = float(cost[:-1])\n",
    "\n",
    "millions"
   ]
  },
  {
   "cell_type": "code",
   "execution_count": 583,
   "id": "87472c6a-8ff0-4436-b680-dffa237aa311",
   "metadata": {
    "deletable": false,
    "editable": true
   },
   "outputs": [
    {
     "name": "stdout",
     "output_type": "stream",
     "text": [
      "Make sure you saved the notebook before running this cell. Running check for lab-q13...\n",
      "Great job! You passed all test cases for this question.\n"
     ]
    },
    {
     "data": {
      "text/plain": [
       "True"
      ]
     },
     "execution_count": 583,
     "metadata": {},
     "output_type": "execute_result"
    }
   ],
   "source": [
    "student_grader.check(\"lab-q13\", should_get_llm_feedback=False)"
   ]
  },
  {
   "cell_type": "markdown",
   "id": "502503ed-3785-47e3-bdd9-73572cdd55b6",
   "metadata": {
    "deletable": false,
    "editable": false
   },
   "source": [
    "#### Rounding `millions`"
   ]
  },
  {
   "cell_type": "markdown",
   "id": "ef90b873-4d46-443c-9d00-206e32c8aa58",
   "metadata": {
    "deletable": false,
    "editable": false
   },
   "source": [
    "The idea now is that after using the suffix `'M'` to identify that the string is referring to **millions**, and by using the string **slicing** to identify the number of millions, you can convert the **string** to an **integer** by multiplying by one million (`10**6`) and rounding to the nearest int."
   ]
  },
  {
   "cell_type": "code",
   "execution_count": 584,
   "id": "8a7682af-7c41-4265-bcab-f7b1e9ae3df7",
   "metadata": {
    "deletable": false
   },
   "outputs": [
    {
     "data": {
      "text/plain": [
       "3190000"
      ]
     },
     "execution_count": 584,
     "metadata": {},
     "output_type": "execute_result"
    }
   ],
   "source": [
    "round(millions * (10**6))"
   ]
  },
  {
   "cell_type": "markdown",
   "id": "7193a15b-6208-4ac7-ae75-eb7b92371b95",
   "metadata": {
    "deletable": false,
    "editable": false
   },
   "source": [
    "### Task 3.3: Slicing dates"
   ]
  },
  {
   "cell_type": "markdown",
   "id": "1f280642-cc57-4048-8149-9c7242c50edf",
   "metadata": {
    "deletable": false,
    "editable": false
   },
   "source": [
    "Run the below cell which prints the release date of the first game in the dataset."
   ]
  },
  {
   "cell_type": "code",
   "execution_count": 585,
   "id": "24f96de0-15fa-4476-afa9-a17e275ee9ac",
   "metadata": {
    "deletable": false
   },
   "outputs": [
    {
     "name": "stdout",
     "output_type": "stream",
     "text": [
      "11/14/1997\n"
     ]
    }
   ],
   "source": [
    "print(project.get_release_date(0))"
   ]
  },
  {
   "cell_type": "markdown",
   "id": "304fba8e-e0ce-467b-ac1e-16c77a5d1bd2",
   "metadata": {
    "deletable": false,
    "editable": false
   },
   "source": [
    "The dates are represented as a string in `mm/dd/yyyy` notation. **Two digits** are used to represent the month and day even when they can be represented with a single digit, that is, `'9/4/1804'` is represented as `'09/04/1804'`.\n",
    "\n",
    "To extract the month, we could run the following code..."
   ]
  },
  {
   "cell_type": "code",
   "execution_count": 586,
   "id": "c6248655-493a-44cb-9aaa-3917c0985eb5",
   "metadata": {
    "deletable": false
   },
   "outputs": [
    {
     "data": {
      "text/plain": [
       "'11'"
      ]
     },
     "execution_count": 586,
     "metadata": {},
     "output_type": "execute_result"
    }
   ],
   "source": [
    "project.get_release_date(0)[:2]"
   ]
  },
  {
   "cell_type": "markdown",
   "id": "a214dac9-d0cd-43e1-a094-4e91a0316f93",
   "metadata": {
    "deletable": false,
    "editable": false
   },
   "source": [
    "Notice, however, that this is the *string* `'11'`.\n",
    "\n",
    "In the next question, you'll write the code to get this as the *int* (e.g. `11`)."
   ]
  },
  {
   "cell_type": "markdown",
   "id": "5bab5b62-0ea3-42ec-99e3-a88c127755d4",
   "metadata": {
    "deletable": false,
    "editable": false
   },
   "source": [
    "#### Lab question 14"
   ]
  },
  {
   "cell_type": "markdown",
   "id": "369f6526-55f2-4576-925c-91190abf1e9f",
   "metadata": {
    "deletable": false,
    "editable": false
   },
   "source": [
    "In which `month` is the game at **index** `0` released?\n",
    "\n",
    "Your answer **must** be an `int` between `1` and `12`. You **must not** hardcode the answer, but use the appropriate function from the `project` module to find the release date of the game.\n",
    "\n",
    "**Hint:** Try writing the code for this question step-by-step. For example, you could first access the entire date, check the output, then slice the month, check the output, then convert to an int."
   ]
  },
  {
   "cell_type": "markdown",
   "id": "f127a461-eae0-4f2d-bf13-7e5f6577bb4a",
   "metadata": {
    "deletable": false,
    "editable": false
   },
   "source": [
    "Points possible: 4.0"
   ]
  },
  {
   "cell_type": "code",
   "execution_count": 587,
   "id": "8cdb227b-9a6b-4771-8f64-2a5efd9e2e24",
   "metadata": {
    "deletable": false,
    "editable": true,
    "tags": [
     "lab-q14-code"
    ]
   },
   "outputs": [
    {
     "data": {
      "text/plain": [
       "11"
      ]
     },
     "execution_count": 587,
     "metadata": {},
     "output_type": "execute_result"
    }
   ],
   "source": [
    "# replace the ... with your code\n",
    "month_idx0 = int(project.get_release_date(0)[:2])\n",
    "\n",
    "month_idx0"
   ]
  },
  {
   "cell_type": "code",
   "execution_count": 588,
   "id": "6994203e-f2ab-4e9c-ba10-d8de4a87f63b",
   "metadata": {
    "deletable": false,
    "editable": true
   },
   "outputs": [
    {
     "name": "stdout",
     "output_type": "stream",
     "text": [
      "Make sure you saved the notebook before running this cell. Running check for lab-q14...\n",
      "Great job! You passed all test cases for this question.\n"
     ]
    },
    {
     "data": {
      "text/plain": [
       "True"
      ]
     },
     "execution_count": 588,
     "metadata": {},
     "output_type": "execute_result"
    }
   ],
   "source": [
    "student_grader.check(\"lab-q14\", should_get_llm_feedback=False)"
   ]
  },
  {
   "cell_type": "markdown",
   "id": "87fcfa5b-de69-4998-8a62-8641b4f09d52",
   "metadata": {
    "deletable": false,
    "editable": false
   },
   "source": [
    "### Task 3.4: Helper Functions for Month, Day, and Year"
   ]
  },
  {
   "cell_type": "markdown",
   "id": "53fb4de1-48a3-4ea0-8c8a-53ca4513fa82",
   "metadata": {
    "deletable": false,
    "editable": false
   },
   "source": [
    "The below functions will be useful in P5. Solve the below questions for getting the day and year as an int. The function to get the month has already been done for you.\n",
    "\n",
    "Be aware that for the three functions below, we take a `date` as input (e.g., `\"02/21/2024\"`), **not** the index of a game."
   ]
  },
  {
   "cell_type": "code",
   "execution_count": 589,
   "id": "a5bd9fa3-324a-4f94-bd99-153cbc802210",
   "metadata": {
    "deletable": false
   },
   "outputs": [],
   "source": [
    "def get_month(date):\n",
    "    \"\"\"the month when the date is the in the 'mm/dd/yyyy' format\"\"\"\n",
    "    return int(date[:2])"
   ]
  },
  {
   "cell_type": "markdown",
   "id": "3f6e39e3-a8ae-400d-8abe-19e6c15620ad",
   "metadata": {
    "deletable": false,
    "editable": false
   },
   "source": [
    "You can confirm that `get_month` works by running the cell below."
   ]
  },
  {
   "cell_type": "code",
   "execution_count": 590,
   "id": "4e3fcc76-b72b-41cd-b34e-25588ea71d15",
   "metadata": {
    "deletable": false
   },
   "outputs": [
    {
     "data": {
      "text/plain": [
       "2"
      ]
     },
     "execution_count": 590,
     "metadata": {},
     "output_type": "execute_result"
    }
   ],
   "source": [
    "month = get_month(\"02/21/2024\")\n",
    "month"
   ]
  },
  {
   "cell_type": "markdown",
   "id": "43b6989b-4bdc-4953-aa46-e326707ede64",
   "metadata": {
    "deletable": false,
    "editable": false
   },
   "source": [
    "#### Lab question 15"
   ]
  },
  {
   "cell_type": "markdown",
   "id": "64b24116-4d5d-4c95-a8b6-356d0eae6690",
   "metadata": {
    "deletable": false,
    "editable": false
   },
   "source": [
    "You must now define the `get_year` function, which will take in the `date` as a `str` and return the `year` as an `int`."
   ]
  },
  {
   "cell_type": "markdown",
   "id": "6b5d7853-947a-4a72-b640-3f42d4c9f050",
   "metadata": {
    "deletable": false,
    "editable": false
   },
   "source": [
    "Points possible: 4.0"
   ]
  },
  {
   "cell_type": "code",
   "execution_count": 591,
   "id": "19362180-a7ce-45db-842b-1e0d8f828320",
   "metadata": {
    "deletable": false,
    "editable": true,
    "tags": [
     "lab-q15-code"
    ]
   },
   "outputs": [],
   "source": [
    "# replace the pass with your code\n",
    "\n",
    "def get_year(date):\n",
    "    \"\"\"The year when the date is the in the 'mm/dd/yyyy' format\"\"\"\n",
    "    \n",
    "    return int(date[6:])"
   ]
  },
  {
   "cell_type": "code",
   "execution_count": 592,
   "id": "6349d4fc-fa4e-4480-af3e-6866f7599ff4",
   "metadata": {
    "deletable": false,
    "editable": true
   },
   "outputs": [
    {
     "name": "stdout",
     "output_type": "stream",
     "text": [
      "Make sure you saved the notebook before running this cell. Running check for lab-q15...\n",
      "Great job! You passed all test cases for this question.\n"
     ]
    },
    {
     "data": {
      "text/plain": [
       "True"
      ]
     },
     "execution_count": 592,
     "metadata": {},
     "output_type": "execute_result"
    }
   ],
   "source": [
    "student_grader.check(\"lab-q15\", should_get_llm_feedback=False)"
   ]
  },
  {
   "cell_type": "markdown",
   "id": "94c12b19-7b20-4e08-944d-e07c6bb90db8",
   "metadata": {
    "deletable": false,
    "editable": false
   },
   "source": [
    "You must now define this function, which will take in the `date` as a `str` and return the `day` as an `int`."
   ]
  },
  {
   "cell_type": "markdown",
   "id": "bb69bce7-a48c-42c0-8c23-a93e5a7b52ec",
   "metadata": {
    "deletable": false,
    "editable": false
   },
   "source": [
    "#### Lab question 16"
   ]
  },
  {
   "cell_type": "markdown",
   "id": "f7b51ffd-ca4a-474a-87b8-233a4e2569fb",
   "metadata": {
    "deletable": false,
    "editable": false
   },
   "source": [
    "You must now define the `get_day` function, which will take in the `date` as a `str` and return the `day` as an `int`."
   ]
  },
  {
   "cell_type": "markdown",
   "id": "e04d47d5-eafc-4d22-bbb6-1e098145a5b4",
   "metadata": {
    "deletable": false,
    "editable": false
   },
   "source": [
    "Points possible: 4.0"
   ]
  },
  {
   "cell_type": "code",
   "execution_count": 593,
   "id": "a4c03b5e-ad8d-4571-b6a8-008c95ac69f3",
   "metadata": {
    "deletable": false,
    "editable": true,
    "tags": [
     "lab-q16-code"
    ]
   },
   "outputs": [],
   "source": [
    "# replace the pass with your code\n",
    "\n",
    "def get_day(date):\n",
    "    \"\"\"get_day(date) returns the day when the date is the in the 'mm/dd/yyyy' format\"\"\"\n",
    "    \n",
    "    return int(date[3:5])"
   ]
  },
  {
   "cell_type": "code",
   "execution_count": 594,
   "id": "37719be9-d4e1-406b-945a-2f02e27c837c",
   "metadata": {
    "deletable": false,
    "editable": true
   },
   "outputs": [
    {
     "name": "stdout",
     "output_type": "stream",
     "text": [
      "Make sure you saved the notebook before running this cell. Running check for lab-q16...\n",
      "Great job! You passed all test cases for this question.\n"
     ]
    },
    {
     "data": {
      "text/plain": [
       "True"
      ]
     },
     "execution_count": 594,
     "metadata": {},
     "output_type": "execute_result"
    }
   ],
   "source": [
    "student_grader.check(\"lab-q16\", should_get_llm_feedback=False)"
   ]
  },
  {
   "cell_type": "markdown",
   "id": "233ee132-32d0-4214-a67a-47b5df1848a0",
   "metadata": {
    "deletable": false,
    "editable": false
   },
   "source": [
    "### Task 3.5: Using Helper Functions"
   ]
  },
  {
   "cell_type": "markdown",
   "id": "a91da7cb-711c-43c6-bbee-cda9abcdf977",
   "metadata": {
    "deletable": false,
    "editable": false
   },
   "source": [
    "Using the helper functions you made above, complete the following questions.\n",
    "\n",
    "**Hint:** You'll use these helper functions in combination with functions from the project module."
   ]
  },
  {
   "cell_type": "markdown",
   "id": "ca94d1a8-db60-42dc-ba9a-4942e81c9d25",
   "metadata": {
    "deletable": false,
    "editable": false
   },
   "source": [
    "#### Lab question 17"
   ]
  },
  {
   "cell_type": "markdown",
   "id": "659ff915-9c59-4adf-a005-cdb04546ae16",
   "metadata": {
    "deletable": false,
    "editable": false
   },
   "source": [
    "On what `day` was the game at **index** `200` released?\n",
    "\n",
    "You **must** answer this question by calling the `get_day` function. Find the release date of the game using the appropriate function in the `project` module."
   ]
  },
  {
   "cell_type": "markdown",
   "id": "cacb4213-a602-42bc-8f4c-a042b1241b1b",
   "metadata": {
    "deletable": false,
    "editable": false
   },
   "source": [
    "Points possible: 4.0"
   ]
  },
  {
   "cell_type": "code",
   "execution_count": 595,
   "id": "ddb72427-562d-4459-87d2-9cc67cfeb89a",
   "metadata": {
    "deletable": false,
    "editable": true,
    "tags": [
     "lab-q17-code"
    ]
   },
   "outputs": [
    {
     "data": {
      "text/plain": [
       "25"
      ]
     },
     "execution_count": 595,
     "metadata": {},
     "output_type": "execute_result"
    }
   ],
   "source": [
    "# replace the ... with your code\n",
    "day_released_idx200 = get_day(project.get_release_date(200))\n",
    "\n",
    "day_released_idx200"
   ]
  },
  {
   "cell_type": "code",
   "execution_count": 596,
   "id": "2e0ffa24-eb48-4caa-b0c5-641597eeaad4",
   "metadata": {
    "deletable": false,
    "editable": true
   },
   "outputs": [
    {
     "name": "stdout",
     "output_type": "stream",
     "text": [
      "Make sure you saved the notebook before running this cell. Running check for lab-q17...\n",
      "Great job! You passed all test cases for this question.\n"
     ]
    },
    {
     "data": {
      "text/plain": [
       "True"
      ]
     },
     "execution_count": 596,
     "metadata": {},
     "output_type": "execute_result"
    }
   ],
   "source": [
    "student_grader.check(\"lab-q17\", should_get_llm_feedback=False)"
   ]
  },
  {
   "cell_type": "markdown",
   "id": "d8355e83-262c-47c1-9590-5045ab901e23",
   "metadata": {
    "deletable": false,
    "editable": false
   },
   "source": [
    "#### Lab question 18"
   ]
  },
  {
   "cell_type": "markdown",
   "id": "75bf1e1f-910f-40d3-adfb-9fbcf829544a",
   "metadata": {
    "deletable": false,
    "editable": false
   },
   "source": [
    "In which `year` was the game at **index** `300` released?\n",
    "\n",
    "You **must** answer this question by calling the `get_year` function."
   ]
  },
  {
   "cell_type": "markdown",
   "id": "31c7125b-bd28-48d6-a6ec-879463c1c317",
   "metadata": {
    "deletable": false,
    "editable": false
   },
   "source": [
    "Points possible: 4.0"
   ]
  },
  {
   "cell_type": "code",
   "execution_count": 597,
   "id": "d9eab0bc-b32d-4540-a611-04b9e2ade28b",
   "metadata": {
    "deletable": false,
    "editable": true,
    "tags": [
     "lab-q18-code"
    ]
   },
   "outputs": [
    {
     "data": {
      "text/plain": [
       "2011"
      ]
     },
     "execution_count": 597,
     "metadata": {},
     "output_type": "execute_result"
    }
   ],
   "source": [
    "# replace with your code\n",
    "year_released_idx300 =  get_year(project.get_release_date(300))\n",
    "\n",
    "year_released_idx300"
   ]
  },
  {
   "cell_type": "code",
   "execution_count": 598,
   "id": "4679e9b2-0b51-443c-8018-723310f816bf",
   "metadata": {
    "deletable": false,
    "editable": true
   },
   "outputs": [
    {
     "name": "stdout",
     "output_type": "stream",
     "text": [
      "Make sure you saved the notebook before running this cell. Running check for lab-q18...\n",
      "Great job! You passed all test cases for this question.\n"
     ]
    },
    {
     "data": {
      "text/plain": [
       "True"
      ]
     },
     "execution_count": 598,
     "metadata": {},
     "output_type": "execute_result"
    }
   ],
   "source": [
    "student_grader.check(\"lab-q18\", should_get_llm_feedback=False)"
   ]
  },
  {
   "cell_type": "markdown",
   "id": "b8aea49d-4212-4b5d-8a0d-4967d1d0bc51",
   "metadata": {
    "deletable": false,
    "editable": false
   },
   "source": [
    "#### Lab question 19"
   ]
  },
  {
   "cell_type": "markdown",
   "id": "3b909fd8-7cf2-4241-afbd-6409f9b629ed",
   "metadata": {
    "deletable": false,
    "editable": false
   },
   "source": [
    "In which `month` was the game at **index** `400` released?\n",
    "\n",
    "You **must** answer this question by calling the `get_month` function."
   ]
  },
  {
   "cell_type": "markdown",
   "id": "7cd47f6d-bfa8-4fa8-84ec-546ffc63d646",
   "metadata": {
    "deletable": false,
    "editable": false
   },
   "source": [
    "Points possible: 4.0"
   ]
  },
  {
   "cell_type": "code",
   "execution_count": 599,
   "id": "ac69aed8-0356-43d5-b71e-94f16738765a",
   "metadata": {
    "deletable": false,
    "editable": true,
    "tags": [
     "lab-q19-code"
    ]
   },
   "outputs": [
    {
     "data": {
      "text/plain": [
       "1"
      ]
     },
     "execution_count": 599,
     "metadata": {},
     "output_type": "execute_result"
    }
   ],
   "source": [
    "# replace the ... with your code\n",
    "month_released_idx400 =  get_month(project.get_release_date(400))\n",
    "\n",
    "month_released_idx400"
   ]
  },
  {
   "cell_type": "code",
   "execution_count": 600,
   "id": "378c4cc1-426c-4ec2-87fb-0a513d47243e",
   "metadata": {
    "deletable": false,
    "editable": true
   },
   "outputs": [
    {
     "name": "stdout",
     "output_type": "stream",
     "text": [
      "Make sure you saved the notebook before running this cell. Running check for lab-q19...\n",
      "Great job! You passed all test cases for this question.\n"
     ]
    },
    {
     "data": {
      "text/plain": [
       "True"
      ]
     },
     "execution_count": 600,
     "metadata": {},
     "output_type": "execute_result"
    }
   ],
   "source": [
    "student_grader.check(\"lab-q19\", should_get_llm_feedback=False)"
   ]
  },
  {
   "cell_type": "markdown",
   "id": "68b68860-104e-4ac2-9bba-ea912f96ea2a",
   "metadata": {
    "deletable": false,
    "editable": false
   },
   "source": [
    "## Segment 3: Looping"
   ]
  },
  {
   "cell_type": "markdown",
   "id": "454a790d-b18e-4fed-85cb-925ec611b3df",
   "metadata": {
    "deletable": false,
    "editable": false
   },
   "source": [
    "### Task 4.1: `while` and `for` loops"
   ]
  },
  {
   "cell_type": "markdown",
   "id": "7dfdf615-27e6-4f9e-9cbb-7b17441341b1",
   "metadata": {
    "deletable": false,
    "editable": false
   },
   "source": [
    "Run the below code and observe the output."
   ]
  },
  {
   "cell_type": "code",
   "execution_count": 601,
   "id": "43816fd6-d5bd-421d-babf-2eeb656d2e2f",
   "metadata": {
    "deletable": false
   },
   "outputs": [
    {
     "name": "stdout",
     "output_type": "stream",
     "text": [
      "0\n",
      "1\n",
      "2\n",
      "3\n",
      "4\n"
     ]
    }
   ],
   "source": [
    "idx = 0\n",
    "while idx < 5:\n",
    "    print(idx)\n",
    "    idx += 1"
   ]
  },
  {
   "cell_type": "markdown",
   "id": "2531cb2d-a899-4d23-8b4e-d04ba69f8713",
   "metadata": {
    "deletable": false,
    "editable": false
   },
   "source": [
    "Equivalently, we can use `for` and `range(n)`. The `range(n)` function returns a sequence of numbers, from `0` to `n` but not including `n`."
   ]
  },
  {
   "cell_type": "code",
   "execution_count": 602,
   "id": "e9c9a7ae-eaf3-409c-a96c-5632a2c4d86a",
   "metadata": {
    "deletable": false
   },
   "outputs": [
    {
     "name": "stdout",
     "output_type": "stream",
     "text": [
      "0\n",
      "1\n",
      "2\n",
      "3\n",
      "4\n"
     ]
    }
   ],
   "source": [
    "for idx in range(5):\n",
    "    print(idx)"
   ]
  },
  {
   "cell_type": "markdown",
   "id": "a52e01bb-6928-44ae-b71f-d0a045a848d9",
   "metadata": {
    "deletable": false,
    "editable": false
   },
   "source": [
    "Now, we will try to use `while` and `for` loops to answer a few simple questions."
   ]
  },
  {
   "cell_type": "markdown",
   "id": "a5e5d3b0-c3cd-4e63-a105-ca91a0d48848",
   "metadata": {
    "deletable": false,
    "editable": false
   },
   "source": [
    "#### Lab question 20"
   ]
  },
  {
   "cell_type": "markdown",
   "id": "8c1a6ef4-1529-4cff-bd5f-d482de39dfe7",
   "metadata": {
    "deletable": false,
    "editable": false
   },
   "source": [
    "What is the sum of the numbers *0 to 25*, both *inclusive*? \n",
    "\n",
    "You **must** answer this with a `while` loop.\n",
    "\n",
    "Note that you can uncomment/comment mulitple lines at a time in jupyter lab by highlighting the lines you wish to uncomment/comment and by holding `control` and hitting `/` on Windows or by holding `command` and hitting `/` on Mac."
   ]
  },
  {
   "cell_type": "markdown",
   "id": "9a0a9472-a470-465a-9dd7-af315295ab5a",
   "metadata": {
    "deletable": false,
    "editable": false
   },
   "source": [
    "Points possible: 4.0"
   ]
  },
  {
   "cell_type": "code",
   "execution_count": 603,
   "id": "8e9ce06e-5e8b-450f-a369-53c34652c810",
   "metadata": {
    "deletable": false,
    "editable": true,
    "tags": [
     "lab-q20-code"
    ]
   },
   "outputs": [
    {
     "data": {
      "text/plain": [
       "325"
      ]
     },
     "execution_count": 603,
     "metadata": {},
     "output_type": "execute_result"
    }
   ],
   "source": [
    "# Uncomment and complete the while loop, replace each ... with your code\n",
    "\n",
    "i = 0\n",
    "sum_while = 0\n",
    "\n",
    "while i<26:\n",
    "    sum_while += i \n",
    "    i += 1\n",
    "\n",
    "sum_while"
   ]
  },
  {
   "cell_type": "code",
   "execution_count": 604,
   "id": "801721aa-cda9-41f7-a9e6-cf8ff9f8de8e",
   "metadata": {
    "deletable": false,
    "editable": true
   },
   "outputs": [
    {
     "name": "stdout",
     "output_type": "stream",
     "text": [
      "Make sure you saved the notebook before running this cell. Running check for lab-q20...\n",
      "Great job! You passed all test cases for this question.\n"
     ]
    },
    {
     "data": {
      "text/plain": [
       "True"
      ]
     },
     "execution_count": 604,
     "metadata": {},
     "output_type": "execute_result"
    }
   ],
   "source": [
    "student_grader.check(\"lab-q20\", should_get_llm_feedback=False)"
   ]
  },
  {
   "cell_type": "markdown",
   "id": "36632590-7dd9-4526-9abc-79104da2a558",
   "metadata": {
    "deletable": false,
    "editable": false
   },
   "source": [
    "#### Lab question 21"
   ]
  },
  {
   "cell_type": "markdown",
   "id": "89df5000-9c3a-4b8d-8f29-970b794c9763",
   "metadata": {
    "deletable": false,
    "editable": false
   },
   "source": [
    "What is the sum of the numbers *0 to 25*, both inclusive?\n",
    "\n",
    "You **must** answer this with a `for` loop."
   ]
  },
  {
   "cell_type": "markdown",
   "id": "56790f6e-0948-40ee-9a5c-af135e37d2a0",
   "metadata": {
    "deletable": false,
    "editable": false
   },
   "source": [
    "Points possible: 4.0"
   ]
  },
  {
   "cell_type": "code",
   "execution_count": 605,
   "id": "a253539d-309e-43a5-8708-6322e325f72e",
   "metadata": {
    "deletable": false,
    "editable": true,
    "tags": [
     "lab-q21-code"
    ]
   },
   "outputs": [
    {
     "data": {
      "text/plain": [
       "325"
      ]
     },
     "execution_count": 605,
     "metadata": {},
     "output_type": "execute_result"
    }
   ],
   "source": [
    "# Uncomment and complete the for loop, replace each ... with your code\n",
    "\n",
    "sum_for = 0\n",
    "\n",
    "for i in range(26):\n",
    "    sum_for += i\n",
    "\n",
    "sum_for"
   ]
  },
  {
   "cell_type": "code",
   "execution_count": 606,
   "id": "ed6f7451-9173-4769-bf65-1a67ddd1baec",
   "metadata": {
    "deletable": false,
    "editable": true
   },
   "outputs": [
    {
     "name": "stdout",
     "output_type": "stream",
     "text": [
      "Make sure you saved the notebook before running this cell. Running check for lab-q21...\n",
      "Great job! You passed all test cases for this question.\n"
     ]
    },
    {
     "data": {
      "text/plain": [
       "True"
      ]
     },
     "execution_count": 606,
     "metadata": {},
     "output_type": "execute_result"
    }
   ],
   "source": [
    "student_grader.check(\"lab-q21\", should_get_llm_feedback=False)"
   ]
  },
  {
   "cell_type": "markdown",
   "id": "9c31ab2d-0dd6-4396-b9fc-220efd4fe83b",
   "metadata": {
    "deletable": false,
    "editable": false
   },
   "source": [
    "### Task 4.2: Looping through games\n"
   ]
  },
  {
   "cell_type": "markdown",
   "id": "20910e5f-f202-4518-ab20-e0e019c8bb40",
   "metadata": {
    "deletable": false,
    "editable": false
   },
   "source": [
    "You have had some practice with simple looping structures. You will now loop through the Steam game dataset.\n",
    "\n",
    "Run the below code and observe the output."
   ]
  },
  {
   "cell_type": "code",
   "execution_count": 607,
   "id": "13cd61ce-c099-463b-873d-cb2b0b3816bf",
   "metadata": {
    "deletable": false
   },
   "outputs": [
    {
     "name": "stdout",
     "output_type": "stream",
     "text": [
      "POSTAL\n",
      "Half-Life\n",
      "Team Fortress Classic\n",
      "Legacy of Kain: Soul Reaver\n",
      "Half-Life: Opposing Force\n",
      "Counter-Strike\n",
      "Ricochet\n",
      "Gothic 1\n",
      "Deathmatch Classic\n",
      "Half-Life: Blue Shift\n"
     ]
    }
   ],
   "source": [
    "for idx in range(10):\n",
    "    print(project.get_name(idx))"
   ]
  },
  {
   "cell_type": "markdown",
   "id": "7d8c4323-d083-4eb0-bb84-152a60857c07",
   "metadata": {
    "deletable": false,
    "editable": false
   },
   "source": [
    "Can you make the code above display the **year of release** of the first 10 games? How about the **first 15** games? Please feel free to reach out to your TA/PM and ask them for help, if you face any issues.\n",
    "\n",
    "You are now ready to answer some interesting questions with loops."
   ]
  },
  {
   "cell_type": "markdown",
   "id": "04dd8b6a-3883-4a06-a29f-8fe20c1a5483",
   "metadata": {
    "deletable": false,
    "editable": false
   },
   "source": [
    "#### Lab question 22"
   ]
  },
  {
   "cell_type": "markdown",
   "id": "d505a304-2146-4fee-97ae-eec135cc9d24",
   "metadata": {
    "deletable": false,
    "editable": false
   },
   "source": [
    "What is the **total** `avg_playtime` (in minutes) of the **first** `10` games in the dataset?"
   ]
  },
  {
   "cell_type": "markdown",
   "id": "627b895d-9b48-46e3-9b9f-caa469838af5",
   "metadata": {
    "deletable": false,
    "editable": false
   },
   "source": [
    "Points possible: 4.0"
   ]
  },
  {
   "cell_type": "code",
   "execution_count": 608,
   "id": "84e3496f-177d-4791-bc89-7568afacf369",
   "metadata": {
    "deletable": false,
    "editable": true,
    "tags": [
     "lab-q22-code"
    ]
   },
   "outputs": [
    {
     "data": {
      "text/plain": [
       "997"
      ]
     },
     "execution_count": 608,
     "metadata": {},
     "output_type": "execute_result"
    }
   ],
   "source": [
    "# replace each ... with your code\n",
    "total_avg_playtime_first10 = 0\n",
    "for idx in range(10):\n",
    "    total_avg_playtime_first10 += project.get_avg_playtime(idx)\n",
    "\n",
    "total_avg_playtime_first10"
   ]
  },
  {
   "cell_type": "code",
   "execution_count": 609,
   "id": "2b1c371d-0100-424e-9628-6b5b5cf66ab2",
   "metadata": {
    "deletable": false,
    "editable": true
   },
   "outputs": [
    {
     "name": "stdout",
     "output_type": "stream",
     "text": [
      "Make sure you saved the notebook before running this cell. Running check for lab-q22...\n",
      "Great job! You passed all test cases for this question.\n"
     ]
    },
    {
     "data": {
      "text/plain": [
       "True"
      ]
     },
     "execution_count": 609,
     "metadata": {},
     "output_type": "execute_result"
    }
   ],
   "source": [
    "student_grader.check(\"lab-q22\", should_get_llm_feedback=False)"
   ]
  },
  {
   "cell_type": "markdown",
   "id": "e85cf039-5485-489d-9ebb-aee788967f2a",
   "metadata": {
    "deletable": false,
    "editable": false
   },
   "source": [
    "### Task 4.3: Filtering\n"
   ]
  },
  {
   "cell_type": "markdown",
   "id": "8479c6d4-237b-4fa2-9dd0-66e92f4783da",
   "metadata": {
    "deletable": false,
    "editable": false
   },
   "source": [
    "You will now *filter* the data using an `if` condition as you loop through the dataset."
   ]
  },
  {
   "cell_type": "markdown",
   "id": "294bd4e9-26bb-4565-9a13-165eb9c4b4a4",
   "metadata": {
    "deletable": false,
    "editable": false
   },
   "source": [
    "#### Lab question 23"
   ]
  },
  {
   "cell_type": "markdown",
   "id": "4e6db3e4-188e-4e90-b12f-98d8e4dfa45e",
   "metadata": {
    "deletable": false,
    "editable": false
   },
   "source": [
    "How many games were played in average for **at least** 200 hours in the dataset?\n",
    "\n",
    "**Hint:** Recall that the `project.count()` function returns the total number of games in the dataset."
   ]
  },
  {
   "cell_type": "markdown",
   "id": "8059d578-06cf-4948-b4f0-41e8034f4930",
   "metadata": {
    "deletable": false,
    "editable": false
   },
   "source": [
    "Points possible: 4.0"
   ]
  },
  {
   "cell_type": "code",
   "execution_count": 610,
   "id": "d7aa5bdc-076d-4f49-a0ab-1accfd8cce40",
   "metadata": {
    "deletable": false,
    "editable": true,
    "tags": [
     "lab-q23-code"
    ]
   },
   "outputs": [
    {
     "data": {
      "text/plain": [
       "1444"
      ]
     },
     "execution_count": 610,
     "metadata": {},
     "output_type": "execute_result"
    }
   ],
   "source": [
    "# replace each ... with your code\n",
    "num_game_200_hours = 0\n",
    "for idx in range(project.count()): # loop through ALL games in the dataset; do NOT hardcode the number here\n",
    "    if project.get_avg_playtime(idx)>=200: # replace ... with a Boolean expression to check if the average playtime of the game in the current iteration is at least 200\n",
    "        num_game_200_hours += 1\n",
    "\n",
    "num_game_200_hours"
   ]
  },
  {
   "cell_type": "code",
   "execution_count": 611,
   "id": "695171f6-4246-409b-811c-853c33a0baba",
   "metadata": {
    "deletable": false,
    "editable": true
   },
   "outputs": [
    {
     "name": "stdout",
     "output_type": "stream",
     "text": [
      "Make sure you saved the notebook before running this cell. Running check for lab-q23...\n",
      "Great job! You passed all test cases for this question.\n"
     ]
    },
    {
     "data": {
      "text/plain": [
       "True"
      ]
     },
     "execution_count": 611,
     "metadata": {},
     "output_type": "execute_result"
    }
   ],
   "source": [
    "student_grader.check(\"lab-q23\", should_get_llm_feedback=False)"
   ]
  },
  {
   "cell_type": "markdown",
   "id": "748ff2ef-d0e7-4ba5-a9ee-ad5b47491138",
   "metadata": {
    "deletable": false,
    "editable": false
   },
   "source": [
    "#### Lab question 24"
   ]
  },
  {
   "cell_type": "markdown",
   "id": "a1c25750-a043-42c6-be81-0fecd50d500e",
   "metadata": {
    "deletable": false,
    "editable": false
   },
   "source": [
    "How many games have a `name` that **starts** with the letter `'G'` in the dataset?"
   ]
  },
  {
   "cell_type": "markdown",
   "id": "a5ef36bc-a04d-45dc-9786-841297f7296b",
   "metadata": {
    "deletable": false,
    "editable": false
   },
   "source": [
    "Points possible: 4.0"
   ]
  },
  {
   "cell_type": "code",
   "execution_count": 612,
   "id": "975c2528-599e-4bab-9dd5-6f6dcbf666f9",
   "metadata": {
    "deletable": false,
    "editable": true,
    "tags": [
     "lab-q24-code"
    ]
   },
   "outputs": [
    {
     "data": {
      "text/plain": [
       "77"
      ]
     },
     "execution_count": 612,
     "metadata": {},
     "output_type": "execute_result"
    }
   ],
   "source": [
    "num_game_g = 0\n",
    "\n",
    "# TODO: loop through all games in the dataset\n",
    "#     TODO: inside the loop, update the value of 'num_game_g' only if\n",
    "#           the name of the game at the current idx starts with 'G'\n",
    "for i in range(project.count()):\n",
    "    if project.get_name(i)[0] == 'G':\n",
    "        num_game_g += 1\n",
    "        \n",
    "num_game_g"
   ]
  },
  {
   "cell_type": "code",
   "execution_count": 613,
   "id": "c350dece-a275-4b7f-8352-559bc0feb35b",
   "metadata": {
    "deletable": false,
    "editable": true
   },
   "outputs": [
    {
     "name": "stdout",
     "output_type": "stream",
     "text": [
      "Make sure you saved the notebook before running this cell. Running check for lab-q24...\n",
      "Great job! You passed all test cases for this question.\n"
     ]
    },
    {
     "data": {
      "text/plain": [
       "True"
      ]
     },
     "execution_count": 613,
     "metadata": {},
     "output_type": "execute_result"
    }
   ],
   "source": [
    "student_grader.check(\"lab-q24\", should_get_llm_feedback=False)"
   ]
  },
  {
   "cell_type": "markdown",
   "id": "e857daab-8bc7-445f-a953-f8ab76a5d3b8",
   "metadata": {
    "deletable": false,
    "editable": false
   },
   "source": [
    "#### Lab question 25"
   ]
  },
  {
   "cell_type": "markdown",
   "id": "4135bca4-769e-4fbb-a2bc-3ff5e2661824",
   "metadata": {
    "deletable": false,
    "editable": false
   },
   "source": [
    "How many games in the dataset are published by *Ubisoft* (i.e. games whose value of `publisher` equal to `\"Ubisoft\"`)?"
   ]
  },
  {
   "cell_type": "markdown",
   "id": "7261655b-d4bf-4c0b-9bf7-3c81fc3bb98a",
   "metadata": {
    "deletable": false,
    "editable": false
   },
   "source": [
    "Points possible: 4.0"
   ]
  },
  {
   "cell_type": "code",
   "execution_count": 614,
   "id": "a7038f72-efaf-402e-bae9-f9ddc0f1640f",
   "metadata": {
    "deletable": false,
    "editable": true,
    "tags": [
     "lab-q25-code"
    ]
   },
   "outputs": [
    {
     "data": {
      "text/plain": [
       "48"
      ]
     },
     "execution_count": 614,
     "metadata": {},
     "output_type": "execute_result"
    }
   ],
   "source": [
    "num_game_ubisoft = 0\n",
    "\n",
    "# TODO: loop through all games in the dataset\n",
    "#     TODO: inside the loop, update the value of 'num_game_ubisoft' only if\n",
    "#           the publisher of the game at the current idx is 'Ubisoft'\n",
    "for i in range(project.count()):\n",
    "    if project.get_publisher(i) == 'Ubisoft':\n",
    "        num_game_ubisoft += 1\n",
    "        \n",
    "num_game_ubisoft"
   ]
  },
  {
   "cell_type": "code",
   "execution_count": 615,
   "id": "95f3c255-01a7-4940-937e-f3f9e5d33b23",
   "metadata": {
    "deletable": false,
    "editable": true
   },
   "outputs": [
    {
     "name": "stdout",
     "output_type": "stream",
     "text": [
      "Make sure you saved the notebook before running this cell. Running check for lab-q25...\n",
      "Great job! You passed all test cases for this question.\n"
     ]
    },
    {
     "data": {
      "text/plain": [
       "True"
      ]
     },
     "execution_count": 615,
     "metadata": {},
     "output_type": "execute_result"
    }
   ],
   "source": [
    "student_grader.check(\"lab-q25\", should_get_llm_feedback=False)"
   ]
  },
  {
   "cell_type": "markdown",
   "id": "0a1bdb01-196d-401f-80c4-03ccdf19a411",
   "metadata": {
    "deletable": false,
    "editable": false
   },
   "source": [
    "### Submission"
   ]
  },
  {
   "cell_type": "markdown",
   "id": "307dbf80-b26e-487b-aa61-cda4486c5806",
   "metadata": {
    "deletable": false,
    "editable": false
   },
   "source": [
    "Save this p5.ipynb notebook and submit it to the lab-p5 assignment on Gradescope."
   ]
  },
  {
   "cell_type": "markdown",
   "id": "e9754830",
   "metadata": {
    "deletable": false,
    "editable": false
   },
   "source": [
    "## Project Portion (20 questions, 7 functions)"
   ]
  },
  {
   "cell_type": "markdown",
   "id": "5583de6c",
   "metadata": {
    "deletable": false,
    "editable": false
   },
   "source": [
    "We won't explain how to use the `project` module to access this data here (the code in the `project.py` file). Refer to lab-p5 to understand how the module works. If necessary, use the `help` function to learn about the various functions inside `project.py`. Feel free to take a look at the `project.py` code, if you are curious about how it works.\n",
    "\n",
    "This project consists of writing code to answer 20 questions."
   ]
  },
  {
   "cell_type": "markdown",
   "id": "d0388404",
   "metadata": {
    "deletable": false,
    "editable": false
   },
   "source": [
    "### Dataset"
   ]
  },
  {
   "cell_type": "markdown",
   "id": "ae73485e",
   "metadata": {
    "deletable": false,
    "editable": false
   },
   "source": [
    "The dataset you will be working with in this project is linked [here](./steam.csv). Be sure to look at this csv to see what it contains, and specifically what the names of the columns are.\n",
    "\n",
    "If needed, you can open the `steam.csv` file, to verify answers to simple questions, but you must still have the correct code in your submission!"
   ]
  },
  {
   "cell_type": "markdown",
   "id": "06f81a57",
   "metadata": {
    "deletable": false,
    "editable": false
   },
   "source": [
    "### Project Requirements:"
   ]
  },
  {
   "cell_type": "markdown",
   "id": "9adf22b1",
   "metadata": {
    "deletable": false,
    "editable": false
   },
   "source": [
    "You **must not** hardcode indices in your code unless specified in the question. If you are not sure what hardcoding is, here is a simple test you can use to determine whether you have hardcoded:\n",
    "\n",
    "*If we were to change the data (e.g. add more games, remove some games, or swap some columns or rows), would your code still find the correct answer to the question as it is asked?*"
   ]
  },
  {
   "cell_type": "markdown",
   "id": "50aee950",
   "metadata": {
    "deletable": false,
    "editable": false
   },
   "source": [
    "### Required Functions:"
   ]
  },
  {
   "cell_type": "markdown",
   "id": "ee6c6df4",
   "metadata": {
    "deletable": false,
    "editable": false
   },
   "source": [
    "- `format_price`\n",
    "- `format_num_reviews`\n",
    "- `get_month`\n",
    "- `get_day`\n",
    "- `get_year`\n",
    "- `best_in_range`\n",
    "- `get_year_total`\n",
    "    \n",
    "Students are only allowed to use Python commands and concepts that have been taught in the course prior to the release of P5. Therefore, **you should not use concepts/modules such as lists, dictionaries, or the pandas module, to name a few examples**. Otherwise, the grader may not award points, even if your answer is correct."
   ]
  },
  {
   "cell_type": "markdown",
   "id": "63006afc",
   "metadata": {
    "deletable": false,
    "editable": false
   },
   "source": [
    "### Incremental Coding and Testing:\n",
    "\n",
    "You should always strive to do incremental coding. Incremental coding enables you to avoid challenging bugs. Always write a few lines of code and then test those lines of code, before proceeding to write further code. You can call the `print` function to test intermediate step outputs. You can also use the debugger that we covered in p2."
   ]
  },
  {
   "cell_type": "markdown",
   "id": "56da8b79",
   "metadata": {
    "deletable": false,
    "editable": false
   },
   "source": [
    "#### Project Question 1"
   ]
  },
  {
   "cell_type": "markdown",
   "id": "cbe91976",
   "metadata": {
    "deletable": false,
    "editable": false
   },
   "source": [
    "How **many** games does the dataset have?"
   ]
  },
  {
   "cell_type": "markdown",
   "id": "919cc5c8",
   "metadata": {
    "deletable": false,
    "editable": false
   },
   "source": [
    "Points possible: 2.0"
   ]
  },
  {
   "cell_type": "code",
   "execution_count": 616,
   "id": "2a6560f8",
   "metadata": {
    "deletable": false,
    "editable": true,
    "tags": [
     "q1-code"
    ]
   },
   "outputs": [
    {
     "data": {
      "text/plain": [
       "2254"
      ]
     },
     "execution_count": 616,
     "metadata": {},
     "output_type": "execute_result"
    }
   ],
   "source": [
    "# Replace the None with your code\n",
    "\n",
    "num_games = project.count()\n",
    "num_games"
   ]
  },
  {
   "cell_type": "code",
   "execution_count": 617,
   "id": "8ae26b5a",
   "metadata": {
    "deletable": false,
    "editable": true
   },
   "outputs": [
    {
     "name": "stdout",
     "output_type": "stream",
     "text": [
      "Make sure you saved the notebook before running this cell. Running check for q1...\n",
      "Great job! You passed all test cases for this question.\n"
     ]
    },
    {
     "data": {
      "text/plain": [
       "True"
      ]
     },
     "execution_count": 617,
     "metadata": {},
     "output_type": "execute_result"
    }
   ],
   "source": [
    "student_grader.check(\"q1\", should_get_llm_feedback=False)"
   ]
  },
  {
   "cell_type": "markdown",
   "id": "9a4bf2a5",
   "metadata": {
    "deletable": false,
    "editable": false
   },
   "source": [
    "#### Project Question 2"
   ]
  },
  {
   "cell_type": "markdown",
   "id": "233ce7d6",
   "metadata": {
    "deletable": false,
    "editable": false
   },
   "source": [
    "What is the `publisher` of the game at index *220*?"
   ]
  },
  {
   "cell_type": "markdown",
   "id": "7151d735",
   "metadata": {
    "deletable": false,
    "editable": false
   },
   "source": [
    "Points possible: 2.0"
   ]
  },
  {
   "cell_type": "code",
   "execution_count": 618,
   "id": "a6903082",
   "metadata": {
    "deletable": false,
    "editable": true,
    "tags": [
     "q2-code"
    ]
   },
   "outputs": [
    {
     "data": {
      "text/plain": [
       "'Bethesda Softworks'"
      ]
     },
     "execution_count": 618,
     "metadata": {},
     "output_type": "execute_result"
    }
   ],
   "source": [
    "# Replace the None with your code\n",
    "\n",
    "publisher_220 = project.get_publisher(220)\n",
    "publisher_220"
   ]
  },
  {
   "cell_type": "code",
   "execution_count": 619,
   "id": "8f161e77",
   "metadata": {
    "deletable": false,
    "editable": true
   },
   "outputs": [
    {
     "name": "stdout",
     "output_type": "stream",
     "text": [
      "Make sure you saved the notebook before running this cell. Running check for q2...\n",
      "Great job! You passed all test cases for this question.\n"
     ]
    },
    {
     "data": {
      "text/plain": [
       "True"
      ]
     },
     "execution_count": 619,
     "metadata": {},
     "output_type": "execute_result"
    }
   ],
   "source": [
    "student_grader.check(\"q2\", should_get_llm_feedback=False)"
   ]
  },
  {
   "cell_type": "markdown",
   "id": "5cc2dce4",
   "metadata": {
    "deletable": false,
    "editable": false
   },
   "source": [
    "#### Project Question 3"
   ]
  },
  {
   "cell_type": "markdown",
   "id": "b778738c",
   "metadata": {
    "deletable": false,
    "editable": false
   },
   "source": [
    "What is the `name` of the game at the **end** of the dataset?\n",
    "\n",
    "**Hint**: Your code should work even if the number of games in the dataset were to change. You should use the `num_games` variable from q1 to determine the last index, then get the name of the game at that index."
   ]
  },
  {
   "cell_type": "markdown",
   "id": "d4399468",
   "metadata": {
    "deletable": false,
    "editable": false
   },
   "source": [
    "Points possible: 4.0"
   ]
  },
  {
   "cell_type": "code",
   "execution_count": 620,
   "id": "9fde3983",
   "metadata": {
    "deletable": false,
    "editable": true,
    "tags": [
     "q3-code"
    ]
   },
   "outputs": [
    {
     "data": {
      "text/plain": [
       "'Against the Storm'"
      ]
     },
     "execution_count": 620,
     "metadata": {},
     "output_type": "execute_result"
    }
   ],
   "source": [
    "# Replace each None with your code\n",
    "\n",
    "last_index = project.count() - 1\n",
    "name_last_index = project.get_name(last_index)\n",
    "name_last_index"
   ]
  },
  {
   "cell_type": "code",
   "execution_count": 621,
   "id": "1901bb44",
   "metadata": {
    "deletable": false,
    "editable": true
   },
   "outputs": [
    {
     "name": "stdout",
     "output_type": "stream",
     "text": [
      "Make sure you saved the notebook before running this cell. Running check for q3...\n",
      "Great job! You passed all test cases for this question.\n"
     ]
    },
    {
     "data": {
      "text/plain": [
       "True"
      ]
     },
     "execution_count": 621,
     "metadata": {},
     "output_type": "execute_result"
    }
   ],
   "source": [
    "student_grader.check(\"q3\", should_get_llm_feedback=False)"
   ]
  },
  {
   "cell_type": "markdown",
   "id": "293a7c66-b5ff-4267-bc81-d0400741defa",
   "metadata": {
    "deletable": false,
    "editable": false
   },
   "source": [
    "#### Project Function 1: `format_price(price)`"
   ]
  },
  {
   "cell_type": "markdown",
   "id": "3fd0768c",
   "metadata": {
    "deletable": false,
    "editable": false
   },
   "source": [
    "If you look at the dataset, you will notice that the price of each game is not a number. It is a string with a dollar sign (`'$'`) as prefix. For example, `project.get_price(10)` returns `'$14.99'`. You will have to convert these 'numbers' into **floats** before you can perform any mathematical operations on them.\n",
    "\n",
    "Since you will need to format the price of any game before you can apply mathematical operations, you **must** create a general helper function that handles the `'$'` prefix. This function should take in the strings from the `price` column as input, and return a **float**. Refer back to Lab-P5 to understand how to slice a string when calculating the number of reviews, as that will help you here.\n",
    "\n",
    "**Warning:** Your function `format_price(price)` must take in the price as a **string** and return a float."
   ]
  },
  {
   "cell_type": "markdown",
   "id": "a26f8a0f",
   "metadata": {
    "deletable": false,
    "editable": false
   },
   "source": [
    "Points possible: 2.0"
   ]
  },
  {
   "cell_type": "code",
   "execution_count": 622,
   "id": "1a2daee6-6d6e-42e6-9e7d-09fb2986681a",
   "metadata": {
    "deletable": false,
    "editable": true,
    "tags": [
     "format_price-code"
    ]
   },
   "outputs": [],
   "source": [
    "# replace the pass with your code\n",
    "\n",
    "def format_price(price):\n",
    "    return float(price[1:])"
   ]
  },
  {
   "cell_type": "code",
   "execution_count": 623,
   "id": "2ef40a5e",
   "metadata": {
    "deletable": false,
    "editable": true
   },
   "outputs": [
    {
     "name": "stdout",
     "output_type": "stream",
     "text": [
      "Make sure you saved the notebook before running this cell. Running check for format_price...\n",
      "Great job! You passed all test cases for this question.\n"
     ]
    },
    {
     "data": {
      "text/plain": [
       "True"
      ]
     },
     "execution_count": 623,
     "metadata": {},
     "output_type": "execute_result"
    }
   ],
   "source": [
    "student_grader.check(\"format_price\", should_get_llm_feedback=False)"
   ]
  },
  {
   "cell_type": "markdown",
   "id": "dd916157-3b7d-42e4-935e-79cd78a28da9",
   "metadata": {
    "deletable": false,
    "editable": false
   },
   "source": [
    "#### Project Question 4"
   ]
  },
  {
   "cell_type": "markdown",
   "id": "a18edebf",
   "metadata": {
    "deletable": false,
    "editable": false
   },
   "source": [
    "How many games in the dataset have `price` **under** 10 dollars?\n",
    "\n",
    "You should loop through all of the indices using `range(num_games)`, use `project.get_price` to get the price, and the `format_price` function to convert the price to a float."
   ]
  },
  {
   "cell_type": "markdown",
   "id": "2c12d1a6",
   "metadata": {
    "deletable": false,
    "editable": false
   },
   "source": [
    "Points possible: 4.0"
   ]
  },
  {
   "cell_type": "code",
   "execution_count": 624,
   "id": "63ee9587",
   "metadata": {
    "deletable": false,
    "editable": true,
    "tags": [
     "q4-code"
    ]
   },
   "outputs": [
    {
     "data": {
      "text/plain": [
       "1011"
      ]
     },
     "execution_count": 624,
     "metadata": {},
     "output_type": "execute_result"
    }
   ],
   "source": [
    "# Replace the ... with your code\n",
    "\n",
    "cheap_games = 0\n",
    "\n",
    "for i in range(num_games):\n",
    "    if format_price(project.get_price(i)) < 10:\n",
    "        cheap_games += 1\n",
    "\n",
    "cheap_games"
   ]
  },
  {
   "cell_type": "code",
   "execution_count": 625,
   "id": "3585529d",
   "metadata": {
    "deletable": false,
    "editable": true
   },
   "outputs": [
    {
     "name": "stdout",
     "output_type": "stream",
     "text": [
      "Make sure you saved the notebook before running this cell. Running check for q4...\n",
      "Great job! You passed all test cases for this question.\n"
     ]
    },
    {
     "data": {
      "text/plain": [
       "True"
      ]
     },
     "execution_count": 625,
     "metadata": {},
     "output_type": "execute_result"
    }
   ],
   "source": [
    "student_grader.check(\"q4\", should_get_llm_feedback=False)"
   ]
  },
  {
   "cell_type": "markdown",
   "id": "0c3a4374",
   "metadata": {
    "deletable": false,
    "editable": false
   },
   "source": [
    "#### Project Question 5"
   ]
  },
  {
   "cell_type": "markdown",
   "id": "3a7842fc",
   "metadata": {
    "deletable": false,
    "editable": false
   },
   "source": [
    "What is the (formatted) `price` of the game *Call of Duty: Modern Warfare*?\n",
    "\n",
    "There is **exactly one** game in this dataset named *Call of Duty: Modern Warfare*. You should exit the loop, and **stop** iterating as soon as you find the game named *Call of Duty: Modern Warfare* by using `break`."
   ]
  },
  {
   "cell_type": "markdown",
   "id": "8bc23ba6",
   "metadata": {
    "deletable": false,
    "editable": false
   },
   "source": [
    "Points possible: 4.0"
   ]
  },
  {
   "cell_type": "code",
   "execution_count": 626,
   "id": "33c3601a",
   "metadata": {
    "deletable": false,
    "editable": true,
    "tags": [
     "q5-code"
    ]
   },
   "outputs": [
    {
     "data": {
      "text/plain": [
       "59.99"
      ]
     },
     "execution_count": 626,
     "metadata": {},
     "output_type": "execute_result"
    }
   ],
   "source": [
    "# Replace the ... below with your code\n",
    "\n",
    "price_call_of_duty = None\n",
    "\n",
    "for i in range(num_games):\n",
    "    if project.get_name(i) == \"Call of Duty: Modern Warfare\":\n",
    "        price_call_of_duty = format_price(project.get_price(i))\n",
    "        break\n",
    "\n",
    "price_call_of_duty"
   ]
  },
  {
   "cell_type": "code",
   "execution_count": 627,
   "id": "d2cb95d1",
   "metadata": {
    "deletable": false,
    "editable": true
   },
   "outputs": [
    {
     "name": "stdout",
     "output_type": "stream",
     "text": [
      "Make sure you saved the notebook before running this cell. Running check for q5...\n",
      "Great job! You passed all test cases for this question.\n"
     ]
    },
    {
     "data": {
      "text/plain": [
       "True"
      ]
     },
     "execution_count": 627,
     "metadata": {},
     "output_type": "execute_result"
    }
   ],
   "source": [
    "student_grader.check(\"q5\", should_get_llm_feedback=False)"
   ]
  },
  {
   "cell_type": "markdown",
   "id": "9ebcf7df-2be4-4a50-ad1e-5f0485045605",
   "metadata": {
    "deletable": false,
    "editable": false
   },
   "source": [
    "#### Project Question 6"
   ]
  },
  {
   "cell_type": "markdown",
   "id": "5a119006",
   "metadata": {
    "deletable": false,
    "editable": false
   },
   "source": [
    "What is the **average** `price` of all games published by *Warner Bros. Games*?\n",
    "\n",
    "**Hint:** Loop through all the games in the dataset, and use `project.get_publisher` to find all games published by *Warner Bros. Games*. Then, use `project.get_price` and `format_price` to compute the prices of these games.\n",
    "\n",
    "You should find the **total** `price` of the games published by *Warner Bros. Games*, as well as the **number** of games published by them, and **divide** them to find the **average**."
   ]
  },
  {
   "cell_type": "markdown",
   "id": "bf776399",
   "metadata": {
    "deletable": false,
    "editable": false
   },
   "source": [
    "Points possible: 4.0"
   ]
  },
  {
   "cell_type": "code",
   "execution_count": 628,
   "id": "cfa85730-725b-43e8-8b60-ecf3ae31cb6b",
   "metadata": {
    "deletable": false,
    "editable": true,
    "tags": [
     "q6-code"
    ]
   },
   "outputs": [
    {
     "data": {
      "text/plain": [
       "41.35454545454546"
      ]
     },
     "execution_count": 628,
     "metadata": {},
     "output_type": "execute_result"
    }
   ],
   "source": [
    "# Replace each ... with your code\n",
    "\n",
    "total_price_warner_bros = 0\n",
    "count_warner_bros = 0\n",
    "\n",
    "for i in range(project.count()):\n",
    "    if project.get_publisher(i) == \"Warner Bros. Games\":\n",
    "        count_warner_bros += 1\n",
    "        total_price_warner_bros += format_price(project.get_price(i))\n",
    "\n",
    "average_price_warner_bros = total_price_warner_bros/count_warner_bros\n",
    "average_price_warner_bros"
   ]
  },
  {
   "cell_type": "code",
   "execution_count": 629,
   "id": "0a4525b6",
   "metadata": {
    "deletable": false,
    "editable": true
   },
   "outputs": [
    {
     "name": "stdout",
     "output_type": "stream",
     "text": [
      "Make sure you saved the notebook before running this cell. Running check for q6...\n",
      "Great job! You passed all test cases for this question.\n"
     ]
    },
    {
     "data": {
      "text/plain": [
       "True"
      ]
     },
     "execution_count": 629,
     "metadata": {},
     "output_type": "execute_result"
    }
   ],
   "source": [
    "student_grader.check(\"q6\", should_get_llm_feedback=False)"
   ]
  },
  {
   "cell_type": "markdown",
   "id": "80d0777c-e36f-459b-a8ed-97041413678b",
   "metadata": {
    "deletable": false,
    "editable": false
   },
   "source": [
    "#### Project Question 7"
   ]
  },
  {
   "cell_type": "markdown",
   "id": "2ff30ae5",
   "metadata": {
    "deletable": false,
    "editable": false
   },
   "source": [
    "What is the **highest** average playtime (`avg_playtime`) of any game in the dataset?\n",
    "\n",
    "Your answer **must** be an **integer** which is the **highest** value of average playtime for any game in the dataset. \n",
    "\n",
    "**Hint:** Loop through the dataset, and calculate the average playtime for each game using `project.get_avg_playtime`. Update the value of the `highest_avg_playtime` variable whenever you find an average playtime **greater than** its current value."
   ]
  },
  {
   "cell_type": "markdown",
   "id": "77375f0e",
   "metadata": {
    "deletable": false,
    "editable": false
   },
   "source": [
    "Points possible: 4.0"
   ]
  },
  {
   "cell_type": "code",
   "execution_count": 630,
   "id": "51d0de97",
   "metadata": {
    "deletable": false,
    "editable": true,
    "tags": [
     "q7-code"
    ]
   },
   "outputs": [
    {
     "data": {
      "text/plain": [
       "114219"
      ]
     },
     "execution_count": 630,
     "metadata": {},
     "output_type": "execute_result"
    }
   ],
   "source": [
    "# Replace the ... below with your code\n",
    "\n",
    "highest_avg_playtime = 0\n",
    "\n",
    "for idx in range(num_games):\n",
    "    if project.get_avg_playtime(idx) > highest_avg_playtime:\n",
    "        highest_avg_playtime = project.get_avg_playtime(idx)\n",
    "\n",
    "highest_avg_playtime"
   ]
  },
  {
   "cell_type": "code",
   "execution_count": 631,
   "id": "309ba455",
   "metadata": {
    "deletable": false,
    "editable": true
   },
   "outputs": [
    {
     "name": "stdout",
     "output_type": "stream",
     "text": [
      "Make sure you saved the notebook before running this cell. Running check for q7...\n",
      "Great job! You passed all test cases for this question.\n"
     ]
    },
    {
     "data": {
      "text/plain": [
       "True"
      ]
     },
     "execution_count": 631,
     "metadata": {},
     "output_type": "execute_result"
    }
   ],
   "source": [
    "student_grader.check(\"q7\", should_get_llm_feedback=False)"
   ]
  },
  {
   "cell_type": "markdown",
   "id": "ae0a2c35",
   "metadata": {
    "deletable": false,
    "editable": false
   },
   "source": [
    "#### Project Function 2: `format_num_reviews(num_reviews)`"
   ]
  },
  {
   "cell_type": "markdown",
   "id": "cc206fd6",
   "metadata": {
    "deletable": false,
    "editable": false
   },
   "source": [
    "You will notice if you look at the dataset that the number of positive and negative reviews are not stored directly as numbers. Instead they are strings which have a suffix (`\"K\"`, or `\"M\"`) attached at the very end. You will have to convert these 'numbers' into integers before you can perform any mathematical operations on them. \n",
    "\n",
    "Since you will need to format the number of positive and negative reviews for multiple games, you **must** create a general helper function that handles the `\"K\"`, and `\"M\"` suffixes. Remember that `\"K\"` stands for thousand, and `\"M\"` stands for million. For example, your function should convert the string `\"13.5M\"` to `13500000`, `\"6.9K\"` to `6900`, and so on. This will require you to first change the `\"6.9\"` into the float `6.9` and multiply by the value of K, which is `1000`, to get `6900.0`. Note that for **some** games, the `numer of reviews` does **not** have **any** suffixes. For instance, the game `Grand Theft Auto` at index `80` has `'332'` positive reviews. Your function **must** also deal with such inputs.\n",
    "\n",
    "This function should take in a string from either the `positive_reviews` and `negative_reviews` columns as input, and return an **int** (use the `round` function to convert **floats** into **ints**). Refer to Task 3.2 in Lab-P5 to understand how to slice and calculate the number of reviews.\n",
    "\n",
    "**Warning:** Your function `format_num_reviews(num_reviews)` must take in the number of reviews as a **string**, and it should return an **integer**."
   ]
  },
  {
   "cell_type": "markdown",
   "id": "899ebcb0",
   "metadata": {
    "deletable": false,
    "editable": false
   },
   "source": [
    "Points possible: 3.0"
   ]
  },
  {
   "cell_type": "code",
   "execution_count": 632,
   "id": "20856f22",
   "metadata": {
    "deletable": false,
    "editable": true,
    "tags": [
     "format_num_reviews-code"
    ]
   },
   "outputs": [],
   "source": [
    "# Replace each ... with your code\n",
    "\n",
    "def format_num_reviews(num_reviews):\n",
    "    last_char = num_reviews[-1]\n",
    "\n",
    "    # Handle reviews ending with \"M\", like \"13.5M\"\n",
    "    if last_char == 'M':\n",
    "        review_num = float(num_reviews[:-1])*1000000\n",
    "\n",
    "    # Handle reviews ending with \"K\", like \"6.9K\"\n",
    "    elif last_char == 'K':\n",
    "        review_num = float(num_reviews[:-1])*1000\n",
    "\n",
    "    # Handle reviews with no suffix, like \"332\"\n",
    "    else:\n",
    "        review_num = float(num_reviews)\n",
    "\n",
    "    # Round review_num to an int and return\n",
    "    return round(review_num)"
   ]
  },
  {
   "cell_type": "code",
   "execution_count": 633,
   "id": "98154fde",
   "metadata": {
    "deletable": false,
    "editable": true
   },
   "outputs": [
    {
     "name": "stdout",
     "output_type": "stream",
     "text": [
      "Make sure you saved the notebook before running this cell. Running check for format_num_reviews...\n",
      "Great job! You passed all test cases for this question.\n"
     ]
    },
    {
     "data": {
      "text/plain": [
       "True"
      ]
     },
     "execution_count": 633,
     "metadata": {},
     "output_type": "execute_result"
    }
   ],
   "source": [
    "student_grader.check(\"format_num_reviews\", should_get_llm_feedback=False)"
   ]
  },
  {
   "cell_type": "markdown",
   "id": "47b77011",
   "metadata": {
    "deletable": false,
    "editable": false
   },
   "source": [
    "#### Project Question 8"
   ]
  },
  {
   "cell_type": "markdown",
   "id": "f5e7c92a",
   "metadata": {
    "deletable": false,
    "editable": false
   },
   "source": [
    "How many `positive reviews` does the game named *South Park: The Stick of Truth* have?\n",
    "\n",
    "There is **exactly one** game in this dataset named *South Park: The Stick of Truth*. You **must** exit the loop, and **stop** iterating as soon as you find the game named *South Park: The Stick of Truth*.\n",
    "\n",
    "You **must** use the `format_num_reviews` function to answer this question. Your answer **must** be an `int`. "
   ]
  },
  {
   "cell_type": "markdown",
   "id": "822b9d94",
   "metadata": {
    "deletable": false,
    "editable": false
   },
   "source": [
    "Points possible: 4.0"
   ]
  },
  {
   "cell_type": "code",
   "execution_count": 634,
   "id": "dfecaff8",
   "metadata": {
    "deletable": false,
    "editable": true,
    "tags": [
     "q8-code"
    ]
   },
   "outputs": [
    {
     "data": {
      "text/plain": [
       "57460"
      ]
     },
     "execution_count": 634,
     "metadata": {},
     "output_type": "execute_result"
    }
   ],
   "source": [
    "# Replace each ... with your code\n",
    "\n",
    "num_positive_reviews_southpark = 0\n",
    "\n",
    "for i in range(project.count()):\n",
    "    if project.get_name(i) == \"South Park: The Stick of Truth\":\n",
    "        num_positive_reviews_southpark = format_num_reviews(project.get_positive_reviews(i))\n",
    "        break\n",
    "\n",
    "num_positive_reviews_southpark"
   ]
  },
  {
   "cell_type": "code",
   "execution_count": 635,
   "id": "bea933d4",
   "metadata": {
    "deletable": false,
    "editable": true
   },
   "outputs": [
    {
     "name": "stdout",
     "output_type": "stream",
     "text": [
      "Make sure you saved the notebook before running this cell. Running check for q8...\n",
      "Great job! You passed all test cases for this question.\n"
     ]
    },
    {
     "data": {
      "text/plain": [
       "True"
      ]
     },
     "execution_count": 635,
     "metadata": {},
     "output_type": "execute_result"
    }
   ],
   "source": [
    "student_grader.check(\"q8\", should_get_llm_feedback=False)"
   ]
  },
  {
   "cell_type": "markdown",
   "id": "a44ffa98",
   "metadata": {
    "deletable": false,
    "editable": false
   },
   "source": [
    "#### Project Question 9"
   ]
  },
  {
   "cell_type": "markdown",
   "id": "52061dfb",
   "metadata": {
    "deletable": false,
    "editable": false
   },
   "source": [
    "What is the the **highest** number of **negative reviews** received by any game?\n",
    "\n",
    "You **must** use the `project.get_negative_reviews` and `format_num_reviews` functions to answer this question."
   ]
  },
  {
   "cell_type": "markdown",
   "id": "d18a792f",
   "metadata": {
    "deletable": false,
    "editable": false
   },
   "source": [
    "Points possible: 4.0"
   ]
  },
  {
   "cell_type": "code",
   "execution_count": 636,
   "id": "69cb01e1",
   "metadata": {
    "deletable": false,
    "editable": true,
    "tags": [
     "q9-code"
    ]
   },
   "outputs": [
    {
     "data": {
      "text/plain": [
       "961680"
      ]
     },
     "execution_count": 636,
     "metadata": {},
     "output_type": "execute_result"
    }
   ],
   "source": [
    "# Replace each ... with your code\n",
    "\n",
    "most_negative_reviews = 0\n",
    "for idx in range(num_games):\n",
    "    this_game_negative_reviews = format_num_reviews(project.get_negative_reviews(idx))\n",
    "    if this_game_negative_reviews > most_negative_reviews:\n",
    "        most_negative_reviews = this_game_negative_reviews\n",
    "most_negative_reviews"
   ]
  },
  {
   "cell_type": "code",
   "execution_count": 637,
   "id": "c4d403f8",
   "metadata": {
    "deletable": false,
    "editable": true
   },
   "outputs": [
    {
     "name": "stdout",
     "output_type": "stream",
     "text": [
      "Make sure you saved the notebook before running this cell. Running check for q9...\n",
      "Great job! You passed all test cases for this question.\n"
     ]
    },
    {
     "data": {
      "text/plain": [
       "True"
      ]
     },
     "execution_count": 637,
     "metadata": {},
     "output_type": "execute_result"
    }
   ],
   "source": [
    "student_grader.check(\"q9\", should_get_llm_feedback=False)"
   ]
  },
  {
   "cell_type": "markdown",
   "id": "d53d2e02-0f6c-4c8b-9a64-3366ec10d8b2",
   "metadata": {
    "deletable": false,
    "editable": false
   },
   "source": [
    "#### Project Question 10"
   ]
  },
  {
   "cell_type": "markdown",
   "id": "b7efbf86",
   "metadata": {
    "deletable": false,
    "editable": false
   },
   "source": [
    "What is the `name` of the game with the **highest** number of **negative reviews**?\n",
    "\n",
    "You **must** find the `name` of the game you found in the previous question. There is a **unique** game in the dataset with the highest number of negative reviews, so you do **not** have to worry about **breaking ties**. Specifically, you can just loop through the games to find the index of the game that has the same (`==`) number of negative reviews as the `most_negative_reviews` variable you computed in the question above."
   ]
  },
  {
   "cell_type": "markdown",
   "id": "889c521e",
   "metadata": {
    "deletable": false,
    "editable": false
   },
   "source": [
    "Points possible: 3.0"
   ]
  },
  {
   "cell_type": "code",
   "execution_count": 638,
   "id": "cee13ee3",
   "metadata": {
    "deletable": false,
    "editable": true,
    "tags": [
     "q10-code"
    ]
   },
   "outputs": [
    {
     "data": {
      "text/plain": [
       "'Counter-Strike: Global Offensive'"
      ]
     },
     "execution_count": 638,
     "metadata": {},
     "output_type": "execute_result"
    }
   ],
   "source": [
    "# Replace the ... with your code\n",
    "\n",
    "most_negative_reviews_name = None\n",
    "\n",
    "for i in range(project.count()):\n",
    "    if format_num_reviews(project.get_negative_reviews(i)) == most_negative_reviews:\n",
    "        most_negative_reviews_name = project.get_name(i)\n",
    "        break\n",
    "\n",
    "most_negative_reviews_name"
   ]
  },
  {
   "cell_type": "code",
   "execution_count": 639,
   "id": "336450e5",
   "metadata": {
    "deletable": false,
    "editable": true
   },
   "outputs": [
    {
     "name": "stdout",
     "output_type": "stream",
     "text": [
      "Make sure you saved the notebook before running this cell. Running check for q10...\n",
      "Great job! You passed all test cases for this question.\n"
     ]
    },
    {
     "data": {
      "text/plain": [
       "True"
      ]
     },
     "execution_count": 639,
     "metadata": {},
     "output_type": "execute_result"
    }
   ],
   "source": [
    "student_grader.check(\"q10\", should_get_llm_feedback=False)"
   ]
  },
  {
   "cell_type": "markdown",
   "id": "b939917b",
   "metadata": {
    "deletable": false,
    "editable": false
   },
   "source": [
    "#### Project Question 11"
   ]
  },
  {
   "cell_type": "markdown",
   "id": "d652e8e0",
   "metadata": {
    "deletable": false,
    "editable": false
   },
   "source": [
    "How **many** games in the dataset were released on *February 19*?\n",
    "\n",
    "You **must** find the number of games whose month of release was *February* (i.e., `month` *2*), and day of release was *19*. The `year` does not matter.\n",
    "\n",
    "**Hint:** You can find the release date of each game using the `project.get_release_date` function. You can extract the `month` and `day` using the `get_month` and `get_day` functions that you wrote in the lab portion of this assignment."
   ]
  },
  {
   "cell_type": "markdown",
   "id": "3b291029",
   "metadata": {
    "deletable": false,
    "editable": false
   },
   "source": [
    "Points possible: 5.0"
   ]
  },
  {
   "cell_type": "code",
   "execution_count": 640,
   "id": "b6d49c68",
   "metadata": {
    "deletable": false,
    "editable": true,
    "tags": [
     "q11-code"
    ]
   },
   "outputs": [
    {
     "data": {
      "text/plain": [
       "7"
      ]
     },
     "execution_count": 640,
     "metadata": {},
     "output_type": "execute_result"
    }
   ],
   "source": [
    "# Replace the ... with your code\n",
    "\n",
    "num_released_feb_19 = 0\n",
    "for i in range(project.count()):\n",
    "    if get_month(project.get_release_date(i)) == 2  and  get_day(project.get_release_date(i)) == 19:\n",
    "        num_released_feb_19 += 1\n",
    "\n",
    "num_released_feb_19"
   ]
  },
  {
   "cell_type": "code",
   "execution_count": 641,
   "id": "711f3bd9",
   "metadata": {
    "deletable": false,
    "editable": true
   },
   "outputs": [
    {
     "name": "stdout",
     "output_type": "stream",
     "text": [
      "Make sure you saved the notebook before running this cell. Running check for q11...\n",
      "Great job! You passed all test cases for this question.\n"
     ]
    },
    {
     "data": {
      "text/plain": [
       "True"
      ]
     },
     "execution_count": 641,
     "metadata": {},
     "output_type": "execute_result"
    }
   ],
   "source": [
    "student_grader.check(\"q11\", should_get_llm_feedback=False)"
   ]
  },
  {
   "cell_type": "markdown",
   "id": "5e1a22b7-721e-4a9e-ae35-ee3c7d309bbe",
   "metadata": {
    "deletable": false,
    "editable": false
   },
   "source": [
    "#### Project Question 12:"
   ]
  },
  {
   "cell_type": "markdown",
   "id": "6ae2027b",
   "metadata": {
    "deletable": false,
    "editable": false
   },
   "source": [
    "What is **earliest** `year` in which a game was released that has a `price` of **at least** `25`?\n",
    "\n",
    "**Warning:** You need to find the **earliest** release year among those games with `price` **at least** `25`. \n",
    "\n",
    "Here, the `earliest_over_25_release_year` is initialized as `None` instead of `0` because we don't want `0` to be mistaken as a valid year value. We wouldn't want to make the mistake of checking if the current release year is less than `earliest_over_25_release_year` when `earliest_over_25_release_year = 0` because we will never find a year value less than zero. Instead, we check if `earliest_over_25_year == None` **or** if the current release year is less than `earliest_over_25_release_year`."
   ]
  },
  {
   "cell_type": "markdown",
   "id": "3cd3b2fd",
   "metadata": {
    "deletable": false,
    "editable": false
   },
   "source": [
    "Points possible: 7.0"
   ]
  },
  {
   "cell_type": "code",
   "execution_count": 642,
   "id": "305b3173-fbd6-4052-a38b-8c2227fbde65",
   "metadata": {
    "deletable": false,
    "editable": true,
    "tags": [
     "q12-code"
    ]
   },
   "outputs": [
    {
     "data": {
      "text/plain": [
       "2007"
      ]
     },
     "execution_count": 642,
     "metadata": {},
     "output_type": "execute_result"
    }
   ],
   "source": [
    "# Replace each ... with your code\n",
    "\n",
    "earliest_over_25_release_year = None\n",
    "\n",
    "for idx in range(num_games):\n",
    "    \n",
    "    # Skip games with a price less than 25\n",
    "    if format_price(project.get_price(idx))<25:\n",
    "        continue\n",
    "\n",
    "    # Update earliest_over_25_release_year if this game was released before it \n",
    "    this_game_release_year = get_year(project.get_release_date(idx))\n",
    "    if earliest_over_25_release_year == None or  this_game_release_year < earliest_over_25_release_year:\n",
    "        earliest_over_25_release_year = this_game_release_year\n",
    "\n",
    "earliest_over_25_release_year"
   ]
  },
  {
   "cell_type": "code",
   "execution_count": 643,
   "id": "d2e2b3df",
   "metadata": {
    "deletable": false,
    "editable": true
   },
   "outputs": [
    {
     "name": "stdout",
     "output_type": "stream",
     "text": [
      "Make sure you saved the notebook before running this cell. Running check for q12...\n",
      "Great job! You passed all test cases for this question.\n"
     ]
    },
    {
     "data": {
      "text/plain": [
       "True"
      ]
     },
     "execution_count": 643,
     "metadata": {},
     "output_type": "execute_result"
    }
   ],
   "source": [
    "student_grader.check(\"q12\", should_get_llm_feedback=False)"
   ]
  },
  {
   "cell_type": "markdown",
   "id": "5c925a6a-d8dd-4fa8-9146-61113b43fff2",
   "metadata": {
    "deletable": false,
    "editable": false
   },
   "source": [
    "#### Background for q13"
   ]
  },
  {
   "cell_type": "markdown",
   "id": "42744d47-c39a-4ecf-8f1f-ff909199b4f8",
   "metadata": {
    "deletable": false,
    "editable": false
   },
   "source": [
    "In the next question code, the goal is to find the first game from a specific publisher that has the lowest price from our dataset. To ensure that we're picking the first game with the lowest price (and not a later one), we must use the `<` operator when comparing prices.\n",
    "\n",
    "**Why use `<` instead of `<=`?**\n",
    "\n",
    "The code will loop through a list of games, checking each game published by Chubby Pixel.\n",
    "\n",
    "At each step, we will compare the price of the current game with the current lowest price (cheapest_chubby_pixel_price).\n",
    "\n",
    "If we used `<=` (less than or equal to): Every time the loop finds another Chubby Pixel game with the same lowest price, it would replace the previous game, even if it comes later in the list. This means the game with the last occurrence of the lowest price would be chosen.\n",
    "\n",
    "By using `<` (less than): We only update the cheapest_chubby_pixel_idx and cheapest_chubby_pixel_price if we find a game with a price lower than the current one. This way, once we've found a game with the lowest price, we won't replace it with any game that has the same price later on. This ensures the first game with the lowest price gets selected.\n",
    "\n",
    "**Example to clarify:**\n",
    "\n",
    "Suppose the games list has the following Chubby Pixel prices at different indices:\n",
    "\n",
    "* Index 2: $5\n",
    "\n",
    "* Index 5: $3 (lowest price)\n",
    "\n",
    "* Index 8: $3 (same lowest price)\n",
    "\n",
    "If we use <=, the second occurrence of the price ($3 at index 8) would overwrite the one found earlier (at index 5), and you'd end up returning the last game with the lowest price.\n",
    "\n",
    "If we use <, the game at index 5 (the first one with the lowest price) will be chosen and won't be replaced when the loop encounters another game with the same price later.\n",
    "\n",
    "**Key takeaway**\n",
    "\n",
    "For this question, use `<` to ensure that once you find the first game with the lowest price, you won't accidentally replace it with a game that has the same price but comes later in the list."
   ]
  },
  {
   "cell_type": "markdown",
   "id": "1915c32a-48e6-4371-bc39-353cebccc4f7",
   "metadata": {
    "deletable": false,
    "editable": false
   },
   "source": [
    "#### Project Question 13"
   ]
  },
  {
   "cell_type": "markdown",
   "id": "981a497e",
   "metadata": {
    "deletable": false,
    "editable": false
   },
   "source": [
    "What is the `name` of the game with the **lowest** `price` that was published by *Chubby Pixel*?\n",
    "\n",
    "You **must** find the `name` of the game published by *Chubby Pixel* that has the **lowest** value of `price`. There are **multiple** *Chubby Pixel* games tied with the **lowest** `price`. \n",
    "\n",
    "You need to find the **first** such game (i.e., with the least index) that appears in the dataset. **Hint**: make sure you read the above section for background on this question. The code you end up writing will look similar to the code for question 12."
   ]
  },
  {
   "cell_type": "markdown",
   "id": "d445b622",
   "metadata": {
    "deletable": false,
    "editable": false
   },
   "source": [
    "Points possible: 7.0"
   ]
  },
  {
   "cell_type": "code",
   "execution_count": 644,
   "id": "5ff137d1-e5c9-44d2-8ccb-3ab0a8616b0d",
   "metadata": {
    "deletable": false,
    "editable": true,
    "tags": [
     "q13-code"
    ]
   },
   "outputs": [
    {
     "data": {
      "text/plain": [
       "'Heaven Island - VR MMO'"
      ]
     },
     "execution_count": 644,
     "metadata": {},
     "output_type": "execute_result"
    }
   ],
   "source": [
    "# Replace each ... with your code\n",
    "\n",
    "cheapest_chubby_pixel_idx = None\n",
    "cheapest_chubby_pixel_price = None\n",
    "\n",
    "# Loop through the dataset to find the right value for cheapest_chubby_pixel_idx\n",
    "for idx in range(project.count()):\n",
    "    if project.get_publisher(idx) == \"Chubby Pixel\":\n",
    "        if (cheapest_chubby_pixel_price == None) or (format_price(project.get_price(idx)) < cheapest_chubby_pixel_price):\n",
    "            cheapest_chubby_pixel_price = format_price(project.get_price(idx)) \n",
    "            cheapest_chubby_pixel_idx = idx\n",
    "\n",
    "# Use your idx variable to get the name of the game with `project.get_name(cheapest_chubby_pixel_idx)`\n",
    "cheapest_chubby_pixel = project.get_name(cheapest_chubby_pixel_idx)\n",
    "cheapest_chubby_pixel"
   ]
  },
  {
   "cell_type": "code",
   "execution_count": 645,
   "id": "e8cc68b1",
   "metadata": {
    "deletable": false,
    "editable": true
   },
   "outputs": [
    {
     "name": "stdout",
     "output_type": "stream",
     "text": [
      "Make sure you saved the notebook before running this cell. Running check for q13...\n",
      "Great job! You passed all test cases for this question.\n"
     ]
    },
    {
     "data": {
      "text/plain": [
       "True"
      ]
     },
     "execution_count": 645,
     "metadata": {},
     "output_type": "execute_result"
    }
   ],
   "source": [
    "student_grader.check(\"q13\", should_get_llm_feedback=False)"
   ]
  },
  {
   "cell_type": "markdown",
   "id": "1e90ab7c-4ac3-4c99-87ce-6418b05f0ca6",
   "metadata": {
    "deletable": false,
    "editable": false
   },
   "source": [
    "#### Project Question 14"
   ]
  },
  {
   "cell_type": "markdown",
   "id": "cef2ddc3",
   "metadata": {
    "deletable": false,
    "editable": false
   },
   "source": [
    "What is the `name` of the game with the **highest** `price` that was published by *Bethesda Softworks*?\n",
    "\n",
    "You **must** find the `name` of the game published by *Bethesda Softworks* that has the **highest** value of `price`. There are **multiple** games tied with the **highest** `price`. You need to find the **last** such game (i.e., with the highest index) that appears in the dataset. To accomplish this, you should use the `>=` here when comparing prices."
   ]
  },
  {
   "cell_type": "markdown",
   "id": "513bfdbd",
   "metadata": {
    "deletable": false,
    "editable": false
   },
   "source": [
    "Points possible: 7.0"
   ]
  },
  {
   "cell_type": "code",
   "execution_count": 646,
   "id": "60f15cf4-124c-4993-9859-7380b31150a5",
   "metadata": {
    "deletable": false,
    "editable": true,
    "tags": [
     "q14-code"
    ]
   },
   "outputs": [
    {
     "data": {
      "text/plain": [
       "'Starfield'"
      ]
     },
     "execution_count": 646,
     "metadata": {},
     "output_type": "execute_result"
    }
   ],
   "source": [
    "# Replace each ... with your code\n",
    "\n",
    "priciest_bethesda_idx = None\n",
    "highest_bethesda_price = None\n",
    "\n",
    "for idx in range(project.count()):\n",
    "    if project.get_publisher(idx) == \"Bethesda Softworks\":\n",
    "        if (highest_bethesda_price == None) or (format_price(project.get_price(idx)) >= highest_bethesda_price):\n",
    "            highest_bethesda_price = format_price(project.get_price(idx)) \n",
    "            priciest_bethesda_idx = idx\n",
    "\n",
    "priciest_bethesda = project.get_name(priciest_bethesda_idx)\n",
    "priciest_bethesda"
   ]
  },
  {
   "cell_type": "code",
   "execution_count": 647,
   "id": "ed3f566d",
   "metadata": {
    "deletable": false,
    "editable": true
   },
   "outputs": [
    {
     "name": "stdout",
     "output_type": "stream",
     "text": [
      "Make sure you saved the notebook before running this cell. Running check for q14...\n",
      "Great job! You passed all test cases for this question.\n"
     ]
    },
    {
     "data": {
      "text/plain": [
       "True"
      ]
     },
     "execution_count": 647,
     "metadata": {},
     "output_type": "execute_result"
    }
   ],
   "source": [
    "student_grader.check(\"q14\", should_get_llm_feedback=False)"
   ]
  },
  {
   "cell_type": "markdown",
   "id": "e52967f3",
   "metadata": {
    "deletable": false,
    "editable": false
   },
   "source": [
    "#### Project Function 6: `best_in_range(year1, year2)`"
   ]
  },
  {
   "cell_type": "markdown",
   "id": "01bfde79",
   "metadata": {
    "deletable": false,
    "editable": false
   },
   "source": [
    "When deciding what games to buy, people sometimes choose the **most positively reviewed** games. We want to write a function to compute this.\n",
    "\n",
    "The function `best_in_range(year1, year2)` should take in two years, `year1` and `year2`, as its inputs, and return the **index** of the game which was released between `year1` and `year2` (both **inclusive**) and has the **most** `positive_reviews`. In case of any ties, you must return the index of the **first** game in the dataset with the most `positive_reviews`.\n",
    "\n",
    "If there are **no** games released between the given `year1` and `year2`, the function **must** return `None`.\n",
    "\n",
    "Remember that you can simplify the check for a value within a range. If you have the variable `release_year` for a game as an integer, that could look like this:\n",
    "\n",
    "```Python\n",
    "if year1 <= release_year <= year2:\n",
    "```"
   ]
  },
  {
   "cell_type": "markdown",
   "id": "3d15ee89",
   "metadata": {
    "deletable": false,
    "editable": false
   },
   "source": [
    "Points possible: 6.0"
   ]
  },
  {
   "cell_type": "code",
   "execution_count": 648,
   "id": "1f96e06f",
   "metadata": {
    "deletable": false,
    "editable": true,
    "tags": [
     "best_in_range-code"
    ]
   },
   "outputs": [],
   "source": [
    "# Replace the ... with your code\n",
    "\n",
    "def best_in_range(year1, year2):\n",
    "    best_idx = None\n",
    "    best_num_reviews = None\n",
    "\n",
    "    for idx in range(project.count()):\n",
    "        if year1 <= get_year(project.get_release_date(idx)) <= year2:\n",
    "            if best_num_reviews == None or (format_num_reviews(project.get_positive_reviews(idx))>best_num_reviews):\n",
    "                best_num_reviews = format_num_reviews(project.get_positive_reviews(idx))\n",
    "                best_idx = idx\n",
    "      \n",
    "    return best_idx"
   ]
  },
  {
   "cell_type": "code",
   "execution_count": 649,
   "id": "9c866f00",
   "metadata": {
    "deletable": false,
    "editable": true
   },
   "outputs": [
    {
     "name": "stdout",
     "output_type": "stream",
     "text": [
      "Make sure you saved the notebook before running this cell. Running check for best_in_range...\n",
      "Great job! You passed all test cases for this question.\n"
     ]
    },
    {
     "data": {
      "text/plain": [
       "True"
      ]
     },
     "execution_count": 649,
     "metadata": {},
     "output_type": "execute_result"
    }
   ],
   "source": [
    "student_grader.check(\"best_in_range\", should_get_llm_feedback=False)"
   ]
  },
  {
   "cell_type": "markdown",
   "id": "dd01ce85",
   "metadata": {
    "deletable": false,
    "editable": false
   },
   "source": [
    "#### Project Question 15"
   ]
  },
  {
   "cell_type": "markdown",
   "id": "23ee9176",
   "metadata": {
    "deletable": false,
    "editable": false
   },
   "source": [
    "What is the `name` of the **best** game released between *2016* and *2020* (inclusive of both bounds)?\n",
    "\n",
    "You **must** answer this question by calling the `best_in_range` function."
   ]
  },
  {
   "cell_type": "markdown",
   "id": "958bf9f2",
   "metadata": {
    "deletable": false,
    "editable": false
   },
   "source": [
    "Points possible: 3.0"
   ]
  },
  {
   "cell_type": "code",
   "execution_count": 650,
   "id": "a9cb1f16",
   "metadata": {
    "deletable": false,
    "editable": true,
    "tags": [
     "q15-code"
    ]
   },
   "outputs": [
    {
     "data": {
      "text/plain": [
       "'PUBG: BATTLEGROUNDS'"
      ]
     },
     "execution_count": 650,
     "metadata": {},
     "output_type": "execute_result"
    }
   ],
   "source": [
    "# Replace each ... with your code\n",
    "\n",
    "best_game_2016_2020_idx = best_in_range(2016, 2020)\n",
    "best_game_2016_2020 = project.get_name(best_game_2016_2020_idx)\n",
    "best_game_2016_2020"
   ]
  },
  {
   "cell_type": "code",
   "execution_count": 651,
   "id": "3995309a",
   "metadata": {
    "deletable": false,
    "editable": true
   },
   "outputs": [
    {
     "name": "stdout",
     "output_type": "stream",
     "text": [
      "Make sure you saved the notebook before running this cell. Running check for q15...\n",
      "Great job! You passed all test cases for this question.\n"
     ]
    },
    {
     "data": {
      "text/plain": [
       "True"
      ]
     },
     "execution_count": 651,
     "metadata": {},
     "output_type": "execute_result"
    }
   ],
   "source": [
    "student_grader.check(\"q15\", should_get_llm_feedback=False)"
   ]
  },
  {
   "cell_type": "markdown",
   "id": "d47f482e",
   "metadata": {
    "deletable": false,
    "editable": false
   },
   "source": [
    "#### Project Question 16"
   ]
  },
  {
   "cell_type": "markdown",
   "id": "ba0a5fab",
   "metadata": {
    "deletable": false,
    "editable": false
   },
   "source": [
    "What is the `price` of the **best** game in `year` *2022*?\n",
    "\n",
    "You **must** use `project.get_price` to get the price of the game, and `format_price` to convert the price to `float`.\n",
    "\n",
    "**Hint:** Think of a clever way to use function `best_in_range`."
   ]
  },
  {
   "cell_type": "markdown",
   "id": "7f9c2b88",
   "metadata": {
    "deletable": false,
    "editable": false
   },
   "source": [
    "Points possible: 4.0"
   ]
  },
  {
   "cell_type": "code",
   "execution_count": 652,
   "id": "087083c8",
   "metadata": {
    "deletable": false,
    "editable": true,
    "tags": [
     "q16-code"
    ]
   },
   "outputs": [
    {
     "data": {
      "text/plain": [
       "59.99"
      ]
     },
     "execution_count": 652,
     "metadata": {},
     "output_type": "execute_result"
    }
   ],
   "source": [
    "# Replace each ... with your code\n",
    "\n",
    "best_game_2022_idx = best_in_range(2022, 2022)\n",
    "best_game_2022_price = format_price(project.get_price(best_game_2022_idx))\n",
    "best_game_2022_price"
   ]
  },
  {
   "cell_type": "code",
   "execution_count": 653,
   "id": "e7c0d4e9",
   "metadata": {
    "deletable": false,
    "editable": true
   },
   "outputs": [
    {
     "name": "stdout",
     "output_type": "stream",
     "text": [
      "Make sure you saved the notebook before running this cell. Running check for q16...\n",
      "Great job! You passed all test cases for this question.\n"
     ]
    },
    {
     "data": {
      "text/plain": [
       "True"
      ]
     },
     "execution_count": 653,
     "metadata": {},
     "output_type": "execute_result"
    }
   ],
   "source": [
    "student_grader.check(\"q16\", should_get_llm_feedback=False)"
   ]
  },
  {
   "cell_type": "markdown",
   "id": "88912bed-204f-49d1-b103-1d8fc005c732",
   "metadata": {
    "deletable": false,
    "editable": false
   },
   "source": [
    "#### Project Question 17"
   ]
  },
  {
   "cell_type": "markdown",
   "id": "354c74bf",
   "metadata": {
    "deletable": false,
    "editable": false
   },
   "source": [
    "Who **published** the **best** game of all time in the dataset?\n",
    "\n",
    "Think of a clever way to use function `best_in_range`."
   ]
  },
  {
   "cell_type": "markdown",
   "id": "69771d1e",
   "metadata": {
    "deletable": false,
    "editable": false
   },
   "source": [
    "Points possible: 4.0"
   ]
  },
  {
   "cell_type": "code",
   "execution_count": 654,
   "id": "3f550e7f-83c2-49f1-a694-bdd71068917a",
   "metadata": {
    "deletable": false,
    "editable": true,
    "tags": [
     "q17-code"
    ]
   },
   "outputs": [
    {
     "data": {
      "text/plain": [
       "'Valve'"
      ]
     },
     "execution_count": 654,
     "metadata": {},
     "output_type": "execute_result"
    }
   ],
   "source": [
    "# Replace the ... with your code\n",
    "\n",
    "min_release_year = None\n",
    "max_release_year = None\n",
    "for i in range (project.count()):\n",
    "    if min_release_year == None or get_year(project.get_release_date(i))< min_release_year:\n",
    "        min_release_year = get_year(project.get_release_date(i))\n",
    "    if max_release_year == None or get_year(project.get_release_date(i))> max_release_year:\n",
    "        max_release_year = get_year(project.get_release_date(i))\n",
    "\n",
    "best_game_publisher = project.get_publisher(best_in_range(min_release_year, max_release_year))\n",
    "best_game_publisher"
   ]
  },
  {
   "cell_type": "code",
   "execution_count": 655,
   "id": "06ba5d1f",
   "metadata": {
    "deletable": false,
    "editable": true
   },
   "outputs": [
    {
     "name": "stdout",
     "output_type": "stream",
     "text": [
      "Make sure you saved the notebook before running this cell. Running check for q17...\n",
      "Great job! You passed all test cases for this question.\n"
     ]
    },
    {
     "data": {
      "text/plain": [
       "True"
      ]
     },
     "execution_count": 655,
     "metadata": {},
     "output_type": "execute_result"
    }
   ],
   "source": [
    "student_grader.check(\"q17\", should_get_llm_feedback=False)"
   ]
  },
  {
   "cell_type": "markdown",
   "id": "2ad428f0",
   "metadata": {
    "deletable": false,
    "editable": false
   },
   "source": [
    "#### Project Function 7: `get_year_total(year)`"
   ]
  },
  {
   "cell_type": "markdown",
   "id": "beb46df5",
   "metadata": {
    "deletable": false,
    "editable": false
   },
   "source": [
    "This function should take in `year` as its input and return the number of games released in the given `year`. When no game was released in the given `year`, this function should return `0`."
   ]
  },
  {
   "cell_type": "markdown",
   "id": "231c7a2c",
   "metadata": {
    "deletable": false,
    "editable": false
   },
   "source": [
    "Points possible: 4.0"
   ]
  },
  {
   "cell_type": "code",
   "execution_count": 656,
   "id": "4e941295",
   "metadata": {
    "deletable": false,
    "editable": true,
    "tags": [
     "get_year_total-code"
    ]
   },
   "outputs": [],
   "source": [
    "# Replace the ... with your code\n",
    "def get_year_total(year):\n",
    "    count = 0\n",
    "    for i in range(project.count()):\n",
    "        if get_year(project.get_release_date(i)) == year:\n",
    "            count += 1\n",
    "    return count"
   ]
  },
  {
   "cell_type": "code",
   "execution_count": 657,
   "id": "cb0d4165",
   "metadata": {
    "deletable": false,
    "editable": true
   },
   "outputs": [
    {
     "name": "stdout",
     "output_type": "stream",
     "text": [
      "Make sure you saved the notebook before running this cell. Running check for get_year_total...\n",
      "Great job! You passed all test cases for this question.\n"
     ]
    },
    {
     "data": {
      "text/plain": [
       "True"
      ]
     },
     "execution_count": 657,
     "metadata": {},
     "output_type": "execute_result"
    }
   ],
   "source": [
    "student_grader.check(\"get_year_total\", should_get_llm_feedback=False)"
   ]
  },
  {
   "cell_type": "markdown",
   "id": "39dd6c24",
   "metadata": {
    "deletable": false,
    "editable": false
   },
   "source": [
    "#### Project Question 18"
   ]
  },
  {
   "cell_type": "markdown",
   "id": "d39003ab",
   "metadata": {
    "deletable": false,
    "editable": false
   },
   "source": [
    "How **many** games were released in the `year` *2023*?\n",
    "\n",
    "You **must** answer this question by calling `get_year_total`."
   ]
  },
  {
   "cell_type": "markdown",
   "id": "cf28fe86",
   "metadata": {
    "deletable": false,
    "editable": false
   },
   "source": [
    "Points possible: 3.0"
   ]
  },
  {
   "cell_type": "code",
   "execution_count": 658,
   "id": "72093103",
   "metadata": {
    "deletable": false,
    "editable": true,
    "tags": [
     "q18-code"
    ]
   },
   "outputs": [
    {
     "data": {
      "text/plain": [
       "86"
      ]
     },
     "execution_count": 658,
     "metadata": {},
     "output_type": "execute_result"
    }
   ],
   "source": [
    "# Replace the ... with your code\n",
    "\n",
    "total_games_2023 = get_year_total(2023)\n",
    "total_games_2023"
   ]
  },
  {
   "cell_type": "code",
   "execution_count": 659,
   "id": "c78a989e",
   "metadata": {
    "deletable": false,
    "editable": true
   },
   "outputs": [
    {
     "name": "stdout",
     "output_type": "stream",
     "text": [
      "Make sure you saved the notebook before running this cell. Running check for q18...\n",
      "Great job! You passed all test cases for this question.\n"
     ]
    },
    {
     "data": {
      "text/plain": [
       "True"
      ]
     },
     "execution_count": 659,
     "metadata": {},
     "output_type": "execute_result"
    }
   ],
   "source": [
    "student_grader.check(\"q18\", should_get_llm_feedback=False)"
   ]
  },
  {
   "cell_type": "markdown",
   "id": "ac106398",
   "metadata": {
    "deletable": false,
    "editable": false
   },
   "source": [
    "#### Project Question 19"
   ]
  },
  {
   "cell_type": "markdown",
   "id": "e92fe290",
   "metadata": {
    "deletable": false,
    "editable": false
   },
   "source": [
    "How **many** games were released in the **21st century** (*2001 to 2024*, both inclusive)?\n",
    "\n",
    "You **must** answer this question by **looping** across the years in this period, and calling the function `get_year_total`."
   ]
  },
  {
   "cell_type": "markdown",
   "id": "db906bcc",
   "metadata": {
    "deletable": false,
    "editable": false
   },
   "source": [
    "Points possible: 5.0"
   ]
  },
  {
   "cell_type": "code",
   "execution_count": 660,
   "id": "e23d83a8",
   "metadata": {
    "deletable": false,
    "editable": true,
    "tags": [
     "q19-code"
    ]
   },
   "outputs": [
    {
     "data": {
      "text/plain": [
       "2247"
      ]
     },
     "execution_count": 660,
     "metadata": {},
     "output_type": "execute_result"
    }
   ],
   "source": [
    "# Replace the ... with your code\n",
    "\n",
    "total_games_in_century = 0\n",
    "year = 2001\n",
    "for i in range(24):\n",
    "    total_games_in_century += get_year_total(year)\n",
    "    year += 1\n",
    "    \n",
    "total_games_in_century"
   ]
  },
  {
   "cell_type": "code",
   "execution_count": 661,
   "id": "16287604",
   "metadata": {
    "deletable": false,
    "editable": true
   },
   "outputs": [
    {
     "name": "stdout",
     "output_type": "stream",
     "text": [
      "Make sure you saved the notebook before running this cell. Running check for q19...\n",
      "Great job! You passed all test cases for this question.\n"
     ]
    },
    {
     "data": {
      "text/plain": [
       "True"
      ]
     },
     "execution_count": 661,
     "metadata": {},
     "output_type": "execute_result"
    }
   ],
   "source": [
    "student_grader.check(\"q19\", should_get_llm_feedback=False)"
   ]
  },
  {
   "cell_type": "markdown",
   "id": "87abb7b0",
   "metadata": {
    "deletable": false,
    "editable": false
   },
   "source": [
    "#### Project Question 20"
   ]
  },
  {
   "cell_type": "markdown",
   "id": "48fb8bb5",
   "metadata": {
    "deletable": false,
    "editable": false
   },
   "source": [
    "What is the **average** `number of reviews` received by the **best** game of each year from *2001 - 2024*, both inclusive?\n",
    "\n",
    "You **must** use the `best_in_range` function to identify the **best** game of each year, and you **must** use `format_num_reviews` to convert the `positive_reviews` and `negative_reviews` into an `int`, and **add** them up to get the `number of reviews`. You **must** ignore any year in which no games were released while computing the average."
   ]
  },
  {
   "cell_type": "markdown",
   "id": "731aa8bc",
   "metadata": {
    "deletable": false,
    "editable": false
   },
   "source": [
    "Points possible: 5.0"
   ]
  },
  {
   "cell_type": "code",
   "execution_count": 662,
   "id": "847659ae",
   "metadata": {
    "deletable": false,
    "editable": true,
    "tags": [
     "q20-code"
    ]
   },
   "outputs": [
    {
     "data": {
      "text/plain": [
       "1013364.5652173914"
      ]
     },
     "execution_count": 662,
     "metadata": {},
     "output_type": "execute_result"
    }
   ],
   "source": [
    "# Replace each ... with your code\n",
    "\n",
    "total_num_reviews = 0\n",
    "num_years = 0\n",
    "\n",
    "for i in range(2001,2025):\n",
    "    if best_in_range(i, i) == None:   #那年沒遊戲就pass\n",
    "        continue  \n",
    "    total_num_reviews += format_num_reviews(project.get_positive_reviews(best_in_range(i,i))) + format_num_reviews(project.get_negative_reviews(best_in_range(i,i)))\n",
    "    num_years += 1\n",
    "\n",
    "average_num_reviews_best = total_num_reviews/num_years\n",
    "average_num_reviews_best"
   ]
  },
  {
   "cell_type": "code",
   "execution_count": 663,
   "id": "54e9e8c0",
   "metadata": {
    "deletable": false,
    "editable": true
   },
   "outputs": [
    {
     "name": "stdout",
     "output_type": "stream",
     "text": [
      "Make sure you saved the notebook before running this cell. Running check for q20...\n",
      "Great job! You passed all test cases for this question.\n"
     ]
    },
    {
     "data": {
      "text/plain": [
       "True"
      ]
     },
     "execution_count": 663,
     "metadata": {},
     "output_type": "execute_result"
    }
   ],
   "source": [
    "student_grader.check(\"q20\", should_get_llm_feedback=False)"
   ]
  },
  {
   "cell_type": "markdown",
   "id": "6197ba8b",
   "metadata": {
    "deletable": false,
    "editable": false
   },
   "source": [
    "## Submission and Grading"
   ]
  },
  {
   "cell_type": "markdown",
   "id": "45a608b2",
   "metadata": {
    "deletable": false,
    "editable": false
   },
   "source": [
    "**Congrats on finishing p5!**\n",
    "\n",
    "Make sure you have saved and run all cells in your notebook in order before submitting on Gradescope. Your notebook should not contain any uncaught Exceptions, otherwise the Gradescope autograder will not give you full points.  Also, make sure you have put your name in the cell at the top of this notebook.\n",
    "\n",
    "To shut down the kernel and close Jupyter select `File -> Shut Down` in the menu.\n",
    "\n",
    "Make sure you complete the required [Canvas quiz](https://canvas.wisc.edu/courses/427075/quizzes/578050) about the LLM feedback feature."
   ]
  }
 ],
 "metadata": {
  "kernelspec": {
   "display_name": "Python 3 (ipykernel)",
   "language": "python",
   "name": "python3"
  },
  "language_info": {
   "codemirror_mode": {
    "name": "ipython",
    "version": 3
   },
   "file_extension": ".py",
   "mimetype": "text/x-python",
   "name": "python",
   "nbconvert_exporter": "python",
   "pygments_lexer": "ipython3",
   "version": "3.10.12"
  },
  "semester": "s25"
 },
 "nbformat": 4,
 "nbformat_minor": 5
}
