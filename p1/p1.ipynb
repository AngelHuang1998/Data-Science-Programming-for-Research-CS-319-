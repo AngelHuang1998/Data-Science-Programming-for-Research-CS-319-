{
 "cells": [
  {
   "cell_type": "markdown",
   "id": "25950726",
   "metadata": {
    "deletable": false,
    "editable": false
   },
   "source": [
    "# Assignment 1: Introduction to Labs and Projects in CS 220"
   ]
  },
  {
   "cell_type": "markdown",
   "id": "2f5cc218-153c-4182-b7dd-bcea15b5ec46",
   "metadata": {
    "deletable": false,
    "editable": false
   },
   "source": [
    "## Your Information"
   ]
  },
  {
   "cell_type": "markdown",
   "id": "689a1f57-647c-48cf-b3b8-e588af0b11f3",
   "metadata": {
    "deletable": false,
    "editable": false
   },
   "source": [
    "At the start of each assignment, you will need to provide us your name and the name of the partner you worked with for this assignment (if you had one). In the case of assignment 1, you do not have the option of working with a partner. Double click on the cell below or click once and hit enter to edit it. Replace \"First Last\" with your first name and last name."
   ]
  },
  {
   "cell_type": "code",
   "execution_count": 1,
   "id": "41b16394",
   "metadata": {
    "deletable": false
   },
   "outputs": [],
   "source": [
    "# MY NAME: Angel Huang\n",
    "# PARTNER: None"
   ]
  },
  {
   "cell_type": "markdown",
   "id": "e4224579",
   "metadata": {
    "deletable": false,
    "editable": false
   },
   "source": [
    "## Learning Objectives"
   ]
  },
  {
   "cell_type": "markdown",
   "id": "30a37242",
   "metadata": {
    "deletable": false,
    "editable": false
   },
   "source": [
    "In this assignment, you will...\n",
    "\n",
    "* Practice writing and running Python code\n",
    "* Practice running tests on your code\n",
    "* Become familiar with Jupyter Lab\n",
    "* Walk through all the steps of a typical lab and project for CS 220"
   ]
  },
  {
   "cell_type": "markdown",
   "id": "b183d6d9-8c5f-4ae2-a9d0-1403120ffa0b",
   "metadata": {
    "deletable": false,
    "editable": false
   },
   "source": [
    "## Imports"
   ]
  },
  {
   "cell_type": "markdown",
   "id": "e0f91617",
   "metadata": {
    "deletable": false,
    "editable": false
   },
   "source": [
    "The first code cell in a notebook is usually where you place statements that will load code that you have not written but that your code depends upon.  This is also where we will have statements that load code that is used to run the tests.\n",
    "\n",
    "Let us start by importing all the modules we will need for this lab and project.  Click inside the code cell below so that you have a cursor and then type `shift-enter` to execute that code. Note that our grader system expects all of the files for this assignment to be in a folder named `p1`. If this is not the case, rename the current folder or move all of the files you extracted from the `p1.zip` file into a folder named `p1` before continuing.\n",
    "\n",
    "For future projects you may need to add additional import statements to this opening code cell to load additional modules for your code, but this time you should not need to make any additions to this cell."
   ]
  },
  {
   "cell_type": "code",
   "execution_count": 3,
   "id": "5aa98b89",
   "metadata": {
    "deletable": false
   },
   "outputs": [],
   "source": [
    "# it is considered good coding practice to place all import statements at the top of the notebook\n",
    "\n",
    "import student_grader\n",
    "import os\n",
    "student_grader.initialize(os.getcwd(), \"p1\")"
   ]
  },
  {
   "cell_type": "markdown",
   "id": "84dfe105",
   "metadata": {
    "deletable": false,
    "editable": false
   },
   "source": [
    "## Background Information:"
   ]
  },
  {
   "cell_type": "markdown",
   "id": "7f9f03c6",
   "metadata": {
    "deletable": false,
    "editable": false
   },
   "source": [
    "Welcome to CS 220 -- Data Science Programming 1.  This course is an introduction to data science programming in Python.  No previous programming experience is required.  This course will emphasize working with real datasets.  You will work with these datasets during labs and projects.\n",
    "\n",
    "Before you begin, you should have already installed Anaconda (a suite of software programs) on your computer.  One of these programs is Jupyter Lab -- the program you will be using to write Python code this semester.  If you have not already done so, please go back and watch the video and follow the steps to install Anaconda on Windows or Mac before continuing. You can find this video on the cs220.cs.wisc.edu site, which is also linked from Canvas."
   ]
  },
  {
   "cell_type": "markdown",
   "id": "045b0931",
   "metadata": {
    "deletable": false,
    "editable": false
   },
   "source": [
    "## Description:"
   ]
  },
  {
   "cell_type": "markdown",
   "id": "c20543b6",
   "metadata": {
    "deletable": false,
    "editable": false
   },
   "source": [
    "For each assignment, you will download a zip file and extract its contents into a folder on your computer then open the notebook file, e.g. `p1.ipynb`, `p2.ipynb`, etc., in Jupyter Lab.  The notebook will contain instructions and starter code for the lab and project portion of the assignment.\n",
    "\n",
    "These Jupyter notebooks are organized into cells -- some containing instructions and some containing a place for you to write Python code and execute it.  You should read the instructions and complete the code cells in order from top to bottom.  After you write your code in a code cell, you will need to execute that code and then execute the provided code in the cell below that, which will test to see if you completed the code correctly.\n",
    "\n",
    "These assignment notebooks are divided into two parts, a lab portion and a project portion.  The lab portion is designed to be done during lab where you can ask questions of the teaching assistant and make sure you are setup for success to complete the project portion.  The project portion is designed to be done by yourself or with a partner outside of lab time (except for this first one -- you should do it on your own and complete the ENTIRE notebook before leaving lab).\n",
    "\n",
    "You will need to submit your completed notebook two times to Gradescope.  The first submission should occur at the end of lab once you have completed the lab portion of the notebook.  Gradescope will then test only that portion of your notebook.  The second submission should occur when you have completed the full notebook and then the full notebook will be graded.  The project portion depends upon the lab portion, so you need to complete the notebook in order.\n",
    "\n",
    "After Gradescope has finished running the tests on your notebook, your grade for both the lab and project will be automatically updated in Canvas."
   ]
  },
  {
   "cell_type": "markdown",
   "id": "a9e8ff15",
   "metadata": {
    "deletable": false,
    "editable": false
   },
   "source": [
    "## Lab Portion (1 question)"
   ]
  },
  {
   "cell_type": "markdown",
   "id": "b4cfb294",
   "metadata": {
    "deletable": false,
    "editable": false
   },
   "source": [
    "#### Lab Question 1: Writing and Running Python Code"
   ]
  },
  {
   "cell_type": "markdown",
   "id": "9b0d7e2d",
   "metadata": {
    "deletable": false,
    "editable": false
   },
   "source": [
    "Remember, to execute the code in a cell, type `shift-enter`. \n",
    "\n",
    "Just below the cell where you will type your code for each question, there is another code cell with pre-written code that will test your code.\n",
    "\n",
    "Please try the following things before answering this question. This will help you get familiar with our grading system and the kind of messages it ouputs.\n",
    "\n",
    "1. Execute the grader check cell without making any changes. Notice the failing test cases.\n",
    "2. Replace the `...` with `\"hi\"`. Then, execute the grader check cell. Notice that the failing test cases have not changed.\n",
    "3. Save your notebook with (Ctrl-s (Windows) or Command-s (Mac)). Then execute the grader check cell. You should see that the output from the grader has changed. Saving the notebook before running the grader check cell is necessary so that the grader has the most up-to-date version of your code.\n",
    "\n",
    "Finally, answer the question by following the instructions below.\n",
    "\n",
    "In the code cell below, write and execute the following lines of code:\n",
    "\n",
    "```Python\n",
    "msg = \"Hello World\"\n",
    "msg\n",
    "```\n",
    "\n",
    "Then, save your notebook and execute the grader check cell. You should see that you've passed all test cases. Note that cells in a notebook will evaluate their last line and include that in their output. Thus, after running the cell you will see the value of the `msg` variable."
   ]
  },
  {
   "cell_type": "markdown",
   "id": "965a563e",
   "metadata": {
    "deletable": false,
    "editable": false
   },
   "source": [
    "Points possible: 100.0"
   ]
  },
  {
   "cell_type": "code",
   "execution_count": 17,
   "id": "97e0c276",
   "metadata": {
    "deletable": false,
    "editable": true,
    "tags": [
     "lab-q1-code"
    ]
   },
   "outputs": [
    {
     "data": {
      "text/plain": [
       "'Hello World'"
      ]
     },
     "execution_count": 17,
     "metadata": {},
     "output_type": "execute_result"
    }
   ],
   "source": [
    "# TODO: Replace the ... in this cell according to the instructions above\n",
    "\n",
    "msg = \"Hello World\"\n",
    "msg"
   ]
  },
  {
   "cell_type": "code",
   "execution_count": 18,
   "id": "b3d6995b",
   "metadata": {
    "deletable": false,
    "editable": true
   },
   "outputs": [
    {
     "name": "stdout",
     "output_type": "stream",
     "text": [
      "Make sure you saved the notebook before running this cell. Running check for lab-q1...\n",
      "Great job! You passed all test cases for this question.\n"
     ]
    },
    {
     "data": {
      "text/plain": [
       "True"
      ]
     },
     "execution_count": 18,
     "metadata": {},
     "output_type": "execute_result"
    }
   ],
   "source": [
    "student_grader.check(\"lab-q1\", should_get_llm_feedback=False)"
   ]
  },
  {
   "cell_type": "markdown",
   "id": "d8db951a",
   "metadata": {
    "deletable": false,
    "editable": false
   },
   "source": [
    "### Submitting your lab"
   ]
  },
  {
   "cell_type": "markdown",
   "id": "528538a3",
   "metadata": {
    "deletable": false,
    "editable": false
   },
   "source": [
    "**Congrats! You've reached the end of the lab.**\n",
    "\n",
    "If you have passed all the tests up to this point, you should do one last test before you submit to Gradescope.  Your code runs in a Python **kernel** and the kernel has memory.  For example, if you run a line of code to create a variable, like `x=3`, then that variable is created and the kernel remembers that the variable `x` refers to the value 3.  Even if you later *delete the line of code* the kernel still remembers the variable and its value.  So, it is a good idea to save the notebook, restart the kernel (to make it forget everything), and then run all the cells up to this point again to make sure the code that is currently in all the cells is what is passing the tests.\n",
    "\n",
    "* To save your notebook, you can either go to the menu `File -> Save Notebook`, or you can click the small disk icon <img width=\"30px\" src=\"images/disk_icon.png\" alt=\"[IMG PATH BROKEN]\"/> above, or type \\<ctrl\\>-s (Command-s on a Mac).  You can tell if all of your changes to the notebook have been saved by noticing the change to the close button for the notebook's tab, which will change from a <img width=\"30px\" src=\"images/changes_not_saved.png\" alt=\"[IMG PATH BROKEN]\"/> (changes not saved) to a <img width=\"30px\" src=\"images/changes_saved.png\" alt=\"[IMG PATH BROKEN]\"/>  (changes saved).\n",
    "* To restart the kernel and run all the cells up to the current cell, click inside whatever your last coding cell is, then click the menu `Kernel -> Restart Kernel and Run up to Selected Cell...`.\n",
    "\n",
    "If the notebook still passes all of the tests, then it is ready to be submitted to Gradescope.  Go ahead and submit the notebook to the p1 lab assignment in Gradescope."
   ]
  },
  {
   "cell_type": "markdown",
   "id": "1de7ee2e",
   "metadata": {
    "deletable": false,
    "editable": false
   },
   "source": [
    "## Project Portion (1 question)"
   ]
  },
  {
   "cell_type": "markdown",
   "id": "f454e06e",
   "metadata": {
    "deletable": false,
    "editable": false
   },
   "source": [
    "Normally, after you finish the lab portion of an assignment, you should be prepared to complete the project portion on your own or with a partner.  After completing the project portion, you will need to submit your notebook to Gradescope a second time.\n",
    "\n",
    "If you are working with a partner, each person must submit to Gradescope.  Make sure you edit the text cell at the top of this notebook with your name and, for future assignments, modify the `PARTNER:` line to be the name of your partner.  This is important, because we check your notebook against everyone's notebook and for similarity and it may be flagged for plagiarism if it is too similar."
   ]
  },
  {
   "cell_type": "markdown",
   "id": "5a989ba3",
   "metadata": {
    "deletable": false,
    "editable": false
   },
   "source": [
    "### Jupyter Lab Interface"
   ]
  },
  {
   "cell_type": "markdown",
   "id": "5a20e776",
   "metadata": {
    "deletable": false,
    "editable": false
   },
   "source": [
    "This development environment you are using to write your Python code is called Jupyter Lab.  You can learn the details about about the interface by reading the [the on-line documentation](https://jupyterlab.readthedocs.io/en/latest/user/interface.html).  Below is a brief introduction to some parts of the interface that you will be using throughout the semester."
   ]
  },
  {
   "cell_type": "markdown",
   "id": "4ec49dbd",
   "metadata": {
    "deletable": false,
    "editable": false
   },
   "source": [
    "#### Left Side Panel"
   ]
  },
  {
   "cell_type": "markdown",
   "id": "dedd1ea3",
   "metadata": {
    "deletable": false,
    "editable": false
   },
   "source": [
    "<img width=\"30px\" src=\"images/left_side_panel.png\" alt=\"[IMG PATH BROKEN]\"/> \n",
    "\n",
    "the left side panel has icons for opening (or closing) the `File Browser`, the `Running Kernels and Terminals`, and the `Table of Content` of your open notebook (as well as `extensions` which we won't go over).\n",
    "\n",
    "* `File Browser` -- When you start Jupyter Lab, whatever directory it was started from is the folder that will be displayed.  You can browse into sub-folders or double click to open files.\n",
    "* `Running Kernels and Terminals` -- You can have multiple notebooks open at the same time.  This side panel will show you these open notebooks and the kernel that the notebook is running its code in.  You can use this to shut down kernels or open tabs.  Just hover over any of the open tabs or kernels to get the X to appear to shut it down.\n",
    "* `Table of Content` -- This is very useful way to navigate around a notebook.\n"
   ]
  },
  {
   "cell_type": "markdown",
   "id": "bef6af37",
   "metadata": {
    "deletable": false,
    "editable": false
   },
   "source": [
    "#### Main Work Area"
   ]
  },
  {
   "cell_type": "markdown",
   "id": "61cf9565-2368-4db3-a4a0-f49394f9eaa1",
   "metadata": {
    "deletable": false,
    "editable": false
   },
   "source": [
    "The main work area in JupyterLab enables you to arrange documents (notebooks, text files, etc.) and other activities (terminals, code consoles, etc.) into panels of tabs that can be resized or subdivided.  When you have a Jupyter notebook open you will have a bar of icons across the top of the tab:\n",
    "\n",
    "<img src=\"images/top_icon_bar.png\" alt=\"[IMG PATH BROKEN]\"/> \n",
    "\n",
    "The icons on the left of the bar are for saving, adding a new cell, and cut, copy, and paste.  You then have a set of buttons for running the code in a cell, stopping the execution of code, restarting the kernel, and restarting the kernel and running all cells.  In the dropdown menu you can change the current cell type to either *Markdown*, *Code*, or *Raw*.  Python code goes into *Code* cells and text goes into *Markdown* cells.  We will not be using *Raw* cells.\n",
    "\n",
    "On the far right of the bar are indicators to switch to *Notebook* mode (an older interface), open the *debugger* (which we will work with later), and to see the *status of the kernel*. When code is actively running, the circle in the far right of the top icon bar will become filled-in.  When no code is running the circle will be empty.\n",
    "\n",
    "As mentioned above, a notebook is divided into cells.  The two cell types we will be using this semester are *Markdown* cells and *Code* cells.  There are several ways to interact with these cells.\n",
    "\n",
    "<img src=\"images/highlighted_code_cell.png\" alt=\"[IMG PATH BROKEN]\"/> \n",
    "\n",
    "When a cell is active, you will see the blue outline around the cell.  The portion to the left of the cell also contains information.  The square brackets with a possible number inside indicate the order that cells are executed.  If an astrisk appears in the brackets then the is either currently being executed or about to be executed.  You can also click  and drag in this area to reorder the cells.  One common feature to turn on for the cells is line numbering.  If you click on the menu `View -> Show Line Numbers` then this side area will number the lines of the cell.  This can be very useful when talking with others about your code."
   ]
  },
  {
   "cell_type": "markdown",
   "id": "4a43eb33-77cc-495e-8f26-4029eec7a123",
   "metadata": {
    "deletable": false,
    "editable": false
   },
   "source": [
    "### Project Questions"
   ]
  },
  {
   "cell_type": "markdown",
   "id": "443e63be-470b-4b64-8921-4a04deb2e069",
   "metadata": {
    "deletable": false,
    "editable": false
   },
   "source": [
    "#### Project Problem 1: Variables, Types, and Viewing Kernel State"
   ]
  },
  {
   "cell_type": "markdown",
   "id": "ed0ab992",
   "metadata": {
    "deletable": false,
    "editable": false
   },
   "source": [
    "As mentioned above, the kernel that executes your Python code remembers the variables that have been created.  In the code cell below type in and execute the following code to create a few variables holding references to values of different types:\n",
    "\n",
    "```Python\n",
    "num = 3.1415\n",
    "name = \"Sally\"\n",
    "age = 34\n",
    "married = True\n",
    "```\n",
    "\n",
    "These lines of code create the variables `num`, `name`, `age`, and `married` to hold the types float, string, int, and bool.\n"
   ]
  },
  {
   "cell_type": "markdown",
   "id": "055bc66a",
   "metadata": {
    "deletable": false,
    "editable": false
   },
   "source": [
    "Points possible: 100.0"
   ]
  },
  {
   "cell_type": "code",
   "execution_count": 19,
   "id": "6686da2a",
   "metadata": {
    "deletable": false,
    "editable": true,
    "tags": [
     "q1-code"
    ]
   },
   "outputs": [],
   "source": [
    "# TODO: Write Code Here\n",
    "num = 3.1415\n",
    "name = \"Sally\"\n",
    "age = 34\n",
    "married = True"
   ]
  },
  {
   "cell_type": "code",
   "execution_count": 20,
   "id": "b267edad",
   "metadata": {
    "deletable": false,
    "editable": true
   },
   "outputs": [
    {
     "name": "stdout",
     "output_type": "stream",
     "text": [
      "Make sure you saved the notebook before running this cell. Running check for q1...\n",
      "Great job! You passed all test cases for this question.\n"
     ]
    },
    {
     "data": {
      "text/plain": [
       "True"
      ]
     },
     "execution_count": 20,
     "metadata": {},
     "output_type": "execute_result"
    }
   ],
   "source": [
    "student_grader.check(\"q1\", should_get_llm_feedback=False)"
   ]
  },
  {
   "cell_type": "markdown",
   "id": "8be96c08",
   "metadata": {
    "deletable": false,
    "editable": false
   },
   "source": [
    "#### Problem 1 Follow-Up"
   ]
  },
  {
   "cell_type": "markdown",
   "id": "ab2bbf7b-c819-4d12-9e9e-a35ea7184d7c",
   "metadata": {
    "deletable": false,
    "editable": false
   },
   "source": [
    "After you have created a variable, you can just type the variable name into an empty code cell and it will print out the value that is is referring to.  In the code cell below, try typing in the name of one of these variables and running the cell to see its value.\n",
    "\n",
    "You can also see what type of value the variable is referring to, by using the `type()` function with the name of the variable.  Now change the code in the cell below to be:\n",
    "\n",
    "```Python\n",
    "type(name)\n",
    "```\n",
    "\n",
    "And run the code.  It will print out that the variable `name` is referring to a `str` value.\n",
    "\n",
    "To get a listing of all of the variables that the kernel is keeping track of, you can use a special Jupyter command (called a *magic*) in the cell.  This is not strictly speaking Python code, but it can be really useful to see a listing of all of the variables.  Try typing in the following and running it:\n",
    "\n",
    "```Python\n",
    "%whos\n",
    "```\n",
    "\n",
    "Notice that a small table is shown listing all of your variables.  There should even be the `msg` variable which you created during the lab portion of the assignment.  You may also notice some `module`(s) from the code that was loaded and at the top of this notebook."
   ]
  },
  {
   "cell_type": "code",
   "execution_count": 23,
   "id": "a7557c40-fb52-46ce-9745-dfc338eec4fe",
   "metadata": {
    "deletable": false
   },
   "outputs": [
    {
     "name": "stdout",
     "output_type": "stream",
     "text": [
      "Variable          Type             Data/Info\n",
      "--------------------------------------------\n",
      "NamespaceMagics   MetaHasTraits    <class 'IPython.core.magi<...>mespace.NamespaceMagics'>\n",
      "age               int              34\n",
      "get_ipython       function         <function get_ipython at 0x000001E7A841F910>\n",
      "json              module           <module 'json' from 'C:\\\\<...>\\lib\\\\json\\\\__init__.py'>\n",
      "married           bool             True\n",
      "msg               str              Hello World\n",
      "name              str              Rose\n",
      "num               float            3.1415\n",
      "os                module           <module 'os' from 'C:\\\\Us<...>\\\\anaconda3\\\\lib\\\\os.py'>\n",
      "student_grader    module           <module 'student_grader' <...>ent_grader\\\\__init__.py'>\n",
      "sys               module           <module 'sys' (built-in)>\n"
     ]
    }
   ],
   "source": [
    "# Type code here\n",
    "name= \"Rose\"\n",
    "type(name)\n",
    "%whos"
   ]
  },
  {
   "cell_type": "markdown",
   "id": "ec493b2b",
   "metadata": {
    "deletable": false,
    "editable": false
   },
   "source": [
    "## Summary"
   ]
  },
  {
   "cell_type": "markdown",
   "id": "f53a4a11",
   "metadata": {
    "deletable": false,
    "editable": false
   },
   "source": [
    "In this assignment you should have have learned:\n",
    "\n",
    "* How to write and execute Python code in a Jupyter notebook.\n",
    "* How to run tests and what types of errors you may see if your code does not pass those tests.\n",
    "* Some of the Jupyter Lab interfrace, including:\n",
    "    * The side panels for `File Browser`, `Running Terminals and Kernels`, and `Table of Contents`.\n",
    "    * The menu options for `File -> Save notebook` and `Kernel -> Restart Kernel`.\n",
    "    * The main work area along with the buttons that appear at the top when working with notebooks.\n",
    "    * The cells of a notebook, including the left gutter.\n",
    "* How to create a variable, view the value and type of what a variable refers to, and see a list of the variables that the kernel is keeping track of.\n",
    "* The process for submitting your completed notebook to Gradescope, especially submitting twice -- once for the lab portion of the notebook and again after you complete the entire notebook."
   ]
  },
  {
   "cell_type": "markdown",
   "id": "b55a25d8",
   "metadata": {
    "deletable": false,
    "editable": false
   },
   "source": [
    "## Submission"
   ]
  },
  {
   "cell_type": "markdown",
   "id": "daf13334",
   "metadata": {
    "deletable": false,
    "editable": false
   },
   "source": [
    "Make sure you have saved and run all cells in your notebook in order before submitting on Gradescope. Your notebook should not contain any uncaught Exceptions, otherwise the Gradescope autograder will not give you full points.  Also, make sure you have put your name in the cell at the top of this notebook.\n",
    "\n",
    "To shut down the kernel and close Jupyter select `File -> Shut Down` in the menu."
   ]
  }
 ],
 "metadata": {
  "kernelspec": {
   "display_name": "Python 3 (ipykernel)",
   "language": "python",
   "name": "python3"
  },
  "language_info": {
   "codemirror_mode": {
    "name": "ipython",
    "version": 3
   },
   "file_extension": ".py",
   "mimetype": "text/x-python",
   "name": "python",
   "nbconvert_exporter": "python",
   "pygments_lexer": "ipython3",
   "version": "3.10.12"
  },
  "semester": "s25"
 },
 "nbformat": 4,
 "nbformat_minor": 5
}
