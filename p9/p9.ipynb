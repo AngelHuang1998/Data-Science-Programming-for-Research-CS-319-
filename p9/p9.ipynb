{
 "cells": [
  {
   "cell_type": "markdown",
   "id": "95806b06-3d21-4de2-b3f6-af2be6c6aad6",
   "metadata": {
    "deletable": false,
    "editable": false
   },
   "source": [
    "# Assignment 9:  Plotting and Sorting"
   ]
  },
  {
   "cell_type": "markdown",
   "id": "da3d598b-4be8-4d03-86e1-3c86522c5cea",
   "metadata": {
    "deletable": false,
    "editable": false
   },
   "source": [
    "## Your Information"
   ]
  },
  {
   "cell_type": "markdown",
   "id": "adf3c3de-5e29-481f-9120-61b48d2304ae",
   "metadata": {
    "deletable": false,
    "editable": false
   },
   "source": [
    "At the start of each assignment, you will need to provide us your name and the name of the partner you worked with for this assignment (if you had one). Double click on the cell below or click once and hit enter to edit it. Replace \"First Last\" with your first name and last name. Replace \"None\" with the first and last name of your partner if you had one for this assignment. We ask for this information so we don't accuse you of cheating when your code looks like your partner's.\n",
    "\n",
    "Please keep these lines commented so they don't cause an error."
   ]
  },
  {
   "cell_type": "code",
   "execution_count": 1,
   "id": "0758789f-c5d1-4380-9bf5-7aef90231cbe",
   "metadata": {
    "deletable": false
   },
   "outputs": [],
   "source": [
    "# MY NAME: Angel Huang\n",
    "# MY PARTNER's NAME: None"
   ]
  },
  {
   "cell_type": "markdown",
   "id": "1873a4df-1219-4d1f-80bf-dea88dd5b6f0",
   "metadata": {
    "deletable": false,
    "editable": false
   },
   "source": [
    "## Imports"
   ]
  },
  {
   "cell_type": "markdown",
   "id": "20b5a531-49e2-447f-8cee-2af1adec546e",
   "metadata": {
    "deletable": false,
    "editable": false
   },
   "source": [
    "Every project will begin with some import statements. It's crucial that you run the cell below, otherwise we will not be able to grade your code and provide feedback to you."
   ]
  },
  {
   "cell_type": "markdown",
   "id": "6fe79c3a-1bb0-49b8-bc45-9789f90ef23d",
   "metadata": {
    "deletable": false,
    "editable": false
   },
   "source": [
    "In order to create bar plots, you will use two new packages: `matplotlib` and `pandas`. Import them below."
   ]
  },
  {
   "cell_type": "code",
   "execution_count": 2,
   "id": "633d4d76-2f36-44cf-8493-19f89e2e1433",
   "metadata": {
    "deletable": false
   },
   "outputs": [],
   "source": [
    "# it is considered a good coding practice to place all import statements at the top of the notebook\n",
    "\n",
    "import student_grader\n",
    "import os\n",
    "student_grader.initialize(os.getcwd(), \"p9\")\n",
    "\n",
    "import pandas\n",
    "import matplotlib\n",
    "import csv"
   ]
  },
  {
   "cell_type": "markdown",
   "id": "05253bbd-fc2f-459f-abd3-cd6d32cbc496",
   "metadata": {
    "deletable": false,
    "editable": false
   },
   "source": [
    "If you saw any error messages after running the previous cell, you might have to install the packages `pandas` and `matplotlib`. You can install these packages by typing the following command into your terminal:\n",
    "\n",
    "```shell\n",
    "pip install matplotlib pandas\n",
    "```"
   ]
  },
  {
   "cell_type": "markdown",
   "id": "cd5655f1-0594-4572-9ef4-01303dfca85d",
   "metadata": {
    "deletable": false,
    "editable": false
   },
   "source": [
    "## Learning Objectives:"
   ]
  },
  {
   "cell_type": "markdown",
   "id": "79a6d82a-8a45-417c-8a4f-761c18d0dc87",
   "metadata": {
    "deletable": false,
    "editable": false
   },
   "source": [
    "In this assignment, you will demonstrate how to:\n",
    "* create simple plots from dictionaries,\n",
    "* sort dictionaries by keys and values,\n",
    "* use bucketizing to obtain useful data structures,\n",
    "* use comprehensions to create lists and dictionaries."
   ]
  },
  {
   "cell_type": "markdown",
   "id": "08fd9e22-cab4-4f11-b70d-ea0bb888fd18",
   "metadata": {
    "deletable": false,
    "editable": false
   },
   "source": [
    "<h2 style=\"color:red\">Warning (Note on Academic Misconduct):</h2>"
   ]
  },
  {
   "cell_type": "markdown",
   "id": "197f6ea1-2828-495f-9c07-76bb2e617311",
   "metadata": {
    "deletable": false,
    "editable": false
   },
   "source": [
    "**IMPORTANT**: **P8 and P9 are two parts of the same data analysis.** You **cannot** switch project partners between these two projects. That is if you partnered up with someone for P8, you have to sustain that partnership until end of P9.\n",
    "Be careful not to work with more than one partner. If you work with a partner on Lab-P9, you are **not** allowed to finish your project with a different partner.\n",
    "You may either continue to work with the same partner, or work on P9 alone. Now may be a good time to review [our course policies](https://cs220.cs.wisc.edu/s25/syllabus.html).\n",
    "\n",
    "Under any circumstances, **no more than two students are allowed to work together on a project** as mentioned in the course policies. If your code is flagged by our code similarity detection tools, **both partners will be responsible** for sharing/copying the code, even if the code is shared/copied by one of the partners with/from other non-partner student(s). Note that each case of plagiarism will be reported to the Dean of Students with a zero grade on the project. **If you think that someone cannot be your project partner then don’t make that student your lab partner.**"
   ]
  },
  {
   "cell_type": "markdown",
   "id": "79d5ed61-e0b3-4931-a2ec-15a764daf280",
   "metadata": {
    "deletable": false,
    "editable": false
   },
   "source": [
    "## Introduction:"
   ]
  },
  {
   "cell_type": "markdown",
   "id": "5fa5ad44-472b-4fa5-ad72-80778bd993fa",
   "metadata": {
    "deletable": false,
    "editable": false
   },
   "source": [
    "In Lab-P8 and P8, you learnt to parse the `mapping.csv` and `movies.csv` datasets. In P9, you will be analyzing the movies dataset using the data structures you created in P8. In Lab-P9, you will create some useful helper functions that will be needed in P9, and you will also learn to create bar plots."
   ]
  },
  {
   "cell_type": "markdown",
   "id": "de61878b-bf5d-41ea-9ff7-8d2f3fc07edc",
   "metadata": {
    "deletable": false,
    "editable": false
   },
   "source": [
    "## Lab portion (21 questions, 1 function)"
   ]
  },
  {
   "cell_type": "markdown",
   "id": "34586c15-e9a9-4425-86f1-27a9a3cadc73",
   "metadata": {
    "deletable": false,
    "editable": false
   },
   "source": [
    "### Task 2.1: Understand how `plot_dict` works"
   ]
  },
  {
   "cell_type": "markdown",
   "id": "cbeb9c4e-d13e-421c-9405-a05a76c632bc",
   "metadata": {
    "deletable": false,
    "editable": false
   },
   "source": [
    "**Creating a dictionary** will often be the first step towards creating a bar plot in Python. In particular, each dictionary **key** might correspond to a **category** (along the *x-axis*), and each **value** might correspond to an **amount** (along the *y-axis*). To setup plotting in Python, run the following cell:"
   ]
  },
  {
   "cell_type": "code",
   "execution_count": 3,
   "id": "84a92ff0-02ab-4843-8346-125a83c11cd5",
   "metadata": {
    "deletable": false
   },
   "outputs": [],
   "source": [
    "# we have done this for you\n",
    "\n",
    "def plot_dict(d, label=\"Please Label Me!\"):\n",
    "    \"\"\"plot_dict(d, label) creates a bar plot using the \n",
    "    dictionary 'd' and labels the y-axis as 'label'\"\"\"\n",
    "    ax = pandas.Series(d).sort_index().plot.bar(color=\"black\", fontsize=16, figsize=(4 + len(d)//4, 4))\n",
    "    ax.set_ylabel(label, fontsize=16)"
   ]
  },
  {
   "cell_type": "markdown",
   "id": "36fba7f9-3f6f-4b4d-8813-2ac3abce1e78",
   "metadata": {
    "deletable": false,
    "editable": false
   },
   "source": [
    "Let's try creating a simple dictionary and using it to create a bar plot with the `plot_dict` function:"
   ]
  },
  {
   "cell_type": "code",
   "execution_count": 4,
   "id": "c9cf64a4-0703-46e9-9753-967479e69cad",
   "metadata": {
    "deletable": false
   },
   "outputs": [
    {
     "data": {
      "text/plain": [
       "{'Ada Lovelace': 5, 'Rose Lavelle': 22, 'Marta Vieira da Silva': 113}"
      ]
     },
     "execution_count": 4,
     "metadata": {},
     "output_type": "execute_result"
    }
   ],
   "source": [
    "# we have done this for you\n",
    "\n",
    "# create a dictionary mapping different players to their goals scored\n",
    "goals = {\"Ada Lovelace\": 5, \"Rose Lavelle\": 22, \"Marta Vieira da Silva\": 113}\n",
    "goals"
   ]
  },
  {
   "cell_type": "code",
   "execution_count": 5,
   "id": "950fc7b6-df44-4cb5-801c-69a6e622ebe4",
   "metadata": {
    "deletable": false
   },
   "outputs": [
    {
     "data": {
      "image/png": "[encoded data removed]",
      "text/plain": [
       "<Figure size 400x400 with 1 Axes>"
      ]
     },
     "metadata": {},
     "output_type": "display_data"
    }
   ],
   "source": [
    "# we have done this for you\n",
    "\n",
    "# create a bar plot from the data in the dictionary 'goals'\n",
    "plot_dict(goals)"
   ]
  },
  {
   "cell_type": "markdown",
   "id": "e4c67ef8-6714-48db-b5ba-975ff78973d4",
   "metadata": {
    "deletable": false,
    "editable": false
   },
   "source": [
    "Since P9 is all about the movies dataset, we will now work on a **list** of movie **dictionaries**, similar to the one you created in P8. If you haven't completed P8, don't worry! The variable has been defined below and you do not need to copy any P8 code over. Run the cell below to define the variable `movies_data`. Note that this is a **list** of **dictionaries** in the same format as the **list** `movies` that you defined in P8 (and will work with, in P9).\n",
    "\n",
    "**Important**: We define the variable directly in order to save time and simplify the lab exercises. Do **not** hardcode values of variables storing the dataset in P9. Instead use the appropriate functions to load the data from the corresponding CSV files, as you did in P8."
   ]
  },
  {
   "cell_type": "code",
   "execution_count": 6,
   "id": "d9cf4df7-b316-46c6-ba23-c61294ea0fa4",
   "metadata": {
    "deletable": false
   },
   "outputs": [],
   "source": [
    "# we have done this for you\n",
    "movies_data = [{'title': 'The Trees of the East',\n",
    "  'year': 2018,\n",
    "  'duration': 71,\n",
    "  'genres': ['Thriller'],\n",
    "  'rating': 9.8,\n",
    "  'directors': ['Mike Ellwood'],\n",
    "  'cast': ['Pattyeffinmayo', 'Parlay Pass', 'Sia Poorak', 'Kandisha']},\n",
    "{'title': 'Avengers: Infinity War',\n",
    "  'year': 2018,\n",
    "  'duration': 149,\n",
    "  'genres': ['Action', 'Adventure', 'Sci-Fi'],\n",
    "  'rating': 8.4,\n",
    "  'directors': ['Anthony Russo', 'Joe Russo'],\n",
    "  'cast': ['Robert Downey Jr.', 'Chris Hemsworth', 'Mark Ruffalo', 'Chris Evans']},\n",
    "{'title': 'Zodiac',\n",
    "  'year': 2007,\n",
    "  'duration': 157,\n",
    "  'genres': ['Crime', 'Drama', 'Mystery'],\n",
    "  'rating': 7.7,\n",
    "  'directors': ['David Fincher'],\n",
    "  'cast': ['Jake Gyllenhaal', 'Robert Downey Jr.', 'Mark Ruffalo', 'Anthony Edwards']},\n",
    "{'title': 'Top Gun: Maverick',\n",
    "  'year': 2022,\n",
    "  'duration': 130,\n",
    "  'genres': ['Action', 'Drama'],\n",
    "  'rating': 8.4,\n",
    "  'directors': ['Joseph Kosinski'],\n",
    "  'cast': ['Tom Cruise', 'Jennifer Connelly', 'Miles Teller', 'Val Kilmer']},\n",
    "{'title': 'Space Jam: A New Legacy',\n",
    "  'year': 2021,\n",
    "  'duration': 115,\n",
    "  'genres': ['Adventure', 'Animation', 'Comedy'],\n",
    "  'rating': 4.5,\n",
    "  'directors': ['Malcolm D. Lee'],\n",
    "  'cast': ['LeBron James', 'Don Cheadle', 'Cedric Joe', 'Khris Davis']},\n",
    "{'title': 'The Big Short',\n",
    "  'year': 2015,\n",
    "  'duration': 130,\n",
    "  'genres': ['Biography', 'Comedy', 'Drama'],\n",
    "  'rating': 7.8,\n",
    "  'directors': ['Adam McKay'],\n",
    "  'cast': ['Christian Bale', 'Steve Carell', 'Ryan Gosling', 'Brad Pitt']}]"
   ]
  },
  {
   "cell_type": "markdown",
   "id": "e10ec089-ea86-4c35-8f2b-389562f8a632",
   "metadata": {
    "deletable": false,
    "editable": false
   },
   "source": [
    "### Task 2.2: Map necessary details into a dictionary"
   ]
  },
  {
   "cell_type": "markdown",
   "id": "049b99d7-4e8c-4c95-9dc4-33a9a1b5e95b",
   "metadata": {
    "deletable": false,
    "editable": false
   },
   "source": [
    "As you can see, `movies_data` is a **list** of **dictionaries** where each **dictionary** stores information on a particular movie.\n",
    "\n",
    "Using the `plot_dict` function, we will now create a **bar plot** that compares the `rating` of each movie in `movies_data`. The *x-axis* will contain the `title` of each movie and your *y-axis* will be the `rating`."
   ]
  },
  {
   "cell_type": "code",
   "execution_count": 7,
   "id": "37d4fbe0-63c3-4fd8-8e51-66ecaade8df1",
   "metadata": {
    "deletable": false
   },
   "outputs": [
    {
     "data": {
      "text/plain": [
       "{'The Trees of the East': 9.8,\n",
       " 'Avengers: Infinity War': 8.4,\n",
       " 'Zodiac': 7.7,\n",
       " 'Top Gun: Maverick': 8.4,\n",
       " 'Space Jam: A New Legacy': 4.5,\n",
       " 'The Big Short': 7.8}"
      ]
     },
     "execution_count": 7,
     "metadata": {},
     "output_type": "execute_result"
    }
   ],
   "source": [
    "# create the dictionary first\n",
    "\n",
    "plot_movies_data = {}\n",
    "for movie in movies_data:\n",
    "    plot_movies_data[movie['title']] = movie['rating']\n",
    "    \n",
    "plot_movies_data"
   ]
  },
  {
   "cell_type": "code",
   "execution_count": 8,
   "id": "b479de02-05a7-43b4-82b1-8adf8b94c66d",
   "metadata": {
    "deletable": false
   },
   "outputs": [
    {
     "data": {
      "image/png": "[encoded data removed]",
      "text/plain": [
       "<Figure size 500x400 with 1 Axes>"
      ]
     },
     "metadata": {},
     "output_type": "display_data"
    }
   ],
   "source": [
    "# then plot the dictionary\n",
    "\n",
    "plot_dict(plot_movies_data)"
   ]
  },
  {
   "cell_type": "markdown",
   "id": "03e73462-f403-4cf6-a03d-09cd872371cb",
   "metadata": {
    "deletable": false,
    "editable": false
   },
   "source": [
    "Notice that in this plot, the *y-axis* is missing a label; that can be specified with the **optional** second argument to `plot_dict`."
   ]
  },
  {
   "cell_type": "code",
   "execution_count": 9,
   "id": "d5944121-a676-4915-bd2f-491873bb06ba",
   "metadata": {
    "deletable": false
   },
   "outputs": [
    {
     "data": {
      "image/png": "[encoded data removed]",
      "text/plain": [
       "<Figure size 500x400 with 1 Axes>"
      ]
     },
     "metadata": {},
     "output_type": "display_data"
    }
   ],
   "source": [
    "# provide the y-axis label as the second argument\n",
    "\n",
    "plot_dict(plot_movies_data, 'Rating')"
   ]
  },
  {
   "cell_type": "markdown",
   "id": "a014c39a-9690-4367-91dc-25f70178b1e9",
   "metadata": {
    "deletable": false,
    "editable": false
   },
   "source": [
    "You are now ready to create your own bar plots in P9!"
   ]
  },
  {
   "cell_type": "markdown",
   "id": "c5c5c4d8-47d4-4d70-8f8a-cb45ebcd9fe6",
   "metadata": {
    "deletable": false,
    "editable": false
   },
   "source": [
    "### Task 3.1: Creating a Dictionary with Custom Keys"
   ]
  },
  {
   "cell_type": "markdown",
   "id": "7d7024ee-12df-464e-ba53-348123ef4888",
   "metadata": {
    "deletable": false,
    "editable": false
   },
   "source": [
    "#### Function 1: `year_to_decade(year)`"
   ]
  },
  {
   "cell_type": "markdown",
   "id": "cc371759-1a34-48f0-9701-4f642008f68d",
   "metadata": {
    "deletable": false,
    "editable": false
   },
   "source": [
    "First, we are going to write the `year_to_decade` function. Given a year, this function returns a string that represents the decade that year belongs to. Here are some sample calls and the expected output:\n",
    "\n",
    "- `year_to_decade(2003)` **must** return `'2001 to 2010'`\n",
    "- `year_to_decade(2000)` **must** return `'1991 to 2000'`\n",
    "\n",
    "Complete the code below. "
   ]
  },
  {
   "cell_type": "markdown",
   "id": "13978830-1a8d-4970-a4f1-ed7b5db328b1",
   "metadata": {
    "deletable": false,
    "editable": false
   },
   "source": [
    "Points possible: 5.0"
   ]
  },
  {
   "cell_type": "code",
   "execution_count": 10,
   "id": "977c007c-8960-4402-a8ef-3ed3041ad97d",
   "metadata": {
    "deletable": false,
    "editable": true,
    "tags": [
     "lab-year_to_decade-code"
    ]
   },
   "outputs": [],
   "source": [
    "# replace the ... with your code\n",
    "\n",
    "def year_to_decade(year):\n",
    "    if year % 10 == 0:\n",
    "        decade = str(year-9) + ' to ' + str(year)\n",
    "    else:\n",
    "        # TODO: first find the year in which the decade starts\n",
    "        #       when year is not divisible by 10\n",
    "        start = (year//10)*10 + 1\n",
    "        decade = str(start) + ' to ' + str(start + 9)\n",
    "    return decade"
   ]
  },
  {
   "cell_type": "code",
   "execution_count": 11,
   "id": "11810ef9-164c-44ed-a352-1ff2b1e03471",
   "metadata": {
    "deletable": false,
    "editable": true
   },
   "outputs": [
    {
     "name": "stdout",
     "output_type": "stream",
     "text": [
      "Make sure you saved the notebook before running this cell. Running check for lab-year_to_decade...\n",
      "Great job! You passed all test cases for this question.\n"
     ]
    },
    {
     "data": {
      "text/plain": [
       "True"
      ]
     },
     "execution_count": 11,
     "metadata": {},
     "output_type": "execute_result"
    }
   ],
   "source": [
    "student_grader.check(\"lab-year_to_decade\", should_get_llm_feedback=False)"
   ]
  },
  {
   "cell_type": "markdown",
   "id": "0f142da4-fcbe-4069-a15d-4a6e3af9f211",
   "metadata": {
    "deletable": false,
    "editable": false
   },
   "source": [
    "#### Lab question 1"
   ]
  },
  {
   "cell_type": "markdown",
   "id": "e426f45f-2352-4556-939c-b737e470d099",
   "metadata": {
    "deletable": false,
    "editable": false
   },
   "source": [
    "Which **decade** does the `year` *2010* belong to?"
   ]
  },
  {
   "cell_type": "markdown",
   "id": "b29257e8-0853-4d08-b3ae-08a94831774d",
   "metadata": {
    "deletable": false,
    "editable": false
   },
   "source": [
    "Points possible: 4.0"
   ]
  },
  {
   "cell_type": "code",
   "execution_count": 12,
   "id": "7ba77cca-cfe0-4605-afc0-888f744b7d5e",
   "metadata": {
    "deletable": false,
    "editable": true,
    "tags": [
     "lab-q1-code"
    ]
   },
   "outputs": [
    {
     "data": {
      "text/plain": [
       "'2001 to 2010'"
      ]
     },
     "execution_count": 12,
     "metadata": {},
     "output_type": "execute_result"
    }
   ],
   "source": [
    "# replace the ... with your code\n",
    "\n",
    "decade_2010 = year_to_decade(2010)\n",
    "\n",
    "decade_2010"
   ]
  },
  {
   "cell_type": "code",
   "execution_count": 13,
   "id": "c3fe5133-7dd8-43e0-9f20-6ddcf659850a",
   "metadata": {
    "deletable": false,
    "editable": true
   },
   "outputs": [
    {
     "name": "stdout",
     "output_type": "stream",
     "text": [
      "Make sure you saved the notebook before running this cell. Running check for lab-q1...\n",
      "Great job! You passed all test cases for this question.\n"
     ]
    },
    {
     "data": {
      "text/plain": [
       "True"
      ]
     },
     "execution_count": 13,
     "metadata": {},
     "output_type": "execute_result"
    }
   ],
   "source": [
    "student_grader.check(\"lab-q1\", should_get_llm_feedback=False)"
   ]
  },
  {
   "cell_type": "markdown",
   "id": "13622f39-e661-4429-9132-4f3566296421",
   "metadata": {
    "deletable": false,
    "editable": false
   },
   "source": [
    "#### Lab question 2"
   ]
  },
  {
   "cell_type": "markdown",
   "id": "3a336348-480f-41a3-a2c1-48874d3aeda2",
   "metadata": {
    "deletable": false,
    "editable": false
   },
   "source": [
    "Which **decade** does the `year` *1891* belong to?"
   ]
  },
  {
   "cell_type": "markdown",
   "id": "0e1b5679-e1b4-403c-a2bf-9bdc77b61707",
   "metadata": {
    "deletable": false,
    "editable": false
   },
   "source": [
    "Points possible: 4.0"
   ]
  },
  {
   "cell_type": "code",
   "execution_count": 14,
   "id": "5c29defb-e8b2-474d-8aa4-1c47743c1565",
   "metadata": {
    "deletable": false,
    "editable": true,
    "tags": [
     "lab-q2-code"
    ]
   },
   "outputs": [
    {
     "data": {
      "text/plain": [
       "'1891 to 1900'"
      ]
     },
     "execution_count": 14,
     "metadata": {},
     "output_type": "execute_result"
    }
   ],
   "source": [
    "# replace the ... with your code\n",
    "\n",
    "decade_1891 = year_to_decade(1891)\n",
    "\n",
    "decade_1891"
   ]
  },
  {
   "cell_type": "code",
   "execution_count": 15,
   "id": "8d42dbbb-2c17-406d-8663-653909306bc6",
   "metadata": {
    "deletable": false,
    "editable": true
   },
   "outputs": [
    {
     "name": "stdout",
     "output_type": "stream",
     "text": [
      "Make sure you saved the notebook before running this cell. Running check for lab-q2...\n",
      "Great job! You passed all test cases for this question.\n"
     ]
    },
    {
     "data": {
      "text/plain": [
       "True"
      ]
     },
     "execution_count": 15,
     "metadata": {},
     "output_type": "execute_result"
    }
   ],
   "source": [
    "student_grader.check(\"lab-q2\", should_get_llm_feedback=False)"
   ]
  },
  {
   "cell_type": "markdown",
   "id": "9b5cc101-ddc3-491a-84dd-8fefc9695c19",
   "metadata": {
    "deletable": false,
    "editable": false
   },
   "source": [
    "### Task 3.2: Create new dictionaries with custom keys and values"
   ]
  },
  {
   "cell_type": "markdown",
   "id": "dff018be-7c08-4e09-8606-df2c38cc42d7",
   "metadata": {
    "deletable": false,
    "editable": false
   },
   "source": [
    "#### Lab question 3"
   ]
  },
  {
   "cell_type": "markdown",
   "id": "7ad8e447-e40d-44c3-bf14-34cfe3925f62",
   "metadata": {
    "deletable": false,
    "editable": false
   },
   "source": [
    "Create a new **dictionary** that has the `title` of each movie in `movies_data` as a **key** and the **decade** it was released in as the corresponding **value**.\n",
    "\n",
    "You **must** use the `year_to_decade` function to create this **dictionary**."
   ]
  },
  {
   "cell_type": "markdown",
   "id": "a88a1c4a-5386-4278-bd29-d58322f394c4",
   "metadata": {
    "deletable": false,
    "editable": false
   },
   "source": [
    "Points possible: 4.0"
   ]
  },
  {
   "cell_type": "code",
   "execution_count": 16,
   "id": "d5ad5d13-0e13-4651-9246-ed8536ba9fdd",
   "metadata": {
    "deletable": false,
    "editable": true,
    "tags": [
     "lab-q3-code"
    ]
   },
   "outputs": [
    {
     "data": {
      "text/plain": [
       "{'The Trees of the East': '2011 to 2020',\n",
       " 'Avengers: Infinity War': '2011 to 2020',\n",
       " 'Zodiac': '2001 to 2010',\n",
       " 'Top Gun: Maverick': '2021 to 2030',\n",
       " 'Space Jam: A New Legacy': '2021 to 2030',\n",
       " 'The Big Short': '2011 to 2020'}"
      ]
     },
     "execution_count": 16,
     "metadata": {},
     "output_type": "execute_result"
    }
   ],
   "source": [
    "# replace the ... with your code\n",
    "\n",
    "movies_with_decade = {}\n",
    "for record in movies_data:\n",
    "    movies_with_decade[record['title']] = year_to_decade(record['year'])\n",
    "\n",
    "movies_with_decade"
   ]
  },
  {
   "cell_type": "code",
   "execution_count": 17,
   "id": "c0f6c718-2255-4684-b637-9b3c6785835b",
   "metadata": {
    "deletable": false,
    "editable": true
   },
   "outputs": [
    {
     "name": "stdout",
     "output_type": "stream",
     "text": [
      "Make sure you saved the notebook before running this cell. Running check for lab-q3...\n",
      "Great job! You passed all test cases for this question.\n"
     ]
    },
    {
     "data": {
      "text/plain": [
       "True"
      ]
     },
     "execution_count": 17,
     "metadata": {},
     "output_type": "execute_result"
    }
   ],
   "source": [
    "student_grader.check(\"lab-q3\", should_get_llm_feedback=False)"
   ]
  },
  {
   "cell_type": "markdown",
   "id": "6176ea36-efba-4d1e-9f50-73a79d758878",
   "metadata": {
    "deletable": false,
    "editable": false
   },
   "source": [
    "#### Lab question 4"
   ]
  },
  {
   "cell_type": "markdown",
   "id": "df7b52de-bc48-4cec-b777-d405ac3e6041",
   "metadata": {
    "deletable": false,
    "editable": false
   },
   "source": [
    "Calculate the **average** `rating` of movies in the **decade** *2001 to 2010*.\n",
    "\n",
    "**Hint:** You can loop through `movies_data` for each movie and use `movies_with_decade` to check which **decade** each movie is from."
   ]
  },
  {
   "cell_type": "markdown",
   "id": "0df7a89e-f39e-48e9-bda0-6dfb872d6e15",
   "metadata": {
    "deletable": false,
    "editable": false
   },
   "source": [
    "Points possible: 4.0"
   ]
  },
  {
   "cell_type": "code",
   "execution_count": 18,
   "id": "4b3a14bc-6f4c-4e73-bb4f-0ecb0059e0a5",
   "metadata": {
    "deletable": false,
    "editable": true,
    "tags": [
     "lab-q4-code"
    ]
   },
   "outputs": [
    {
     "data": {
      "text/plain": [
       "7.7"
      ]
     },
     "execution_count": 18,
     "metadata": {},
     "output_type": "execute_result"
    }
   ],
   "source": [
    "# replace the ... with your code\n",
    "total_rating = []\n",
    "\n",
    "for movie in movies_data:\n",
    "    decade = movies_with_decade[movie['title']]\n",
    "    if decade == '2001 to 2010':\n",
    "        total_rating.append(movie['rating'])\n",
    "\n",
    "if total_rating:\n",
    "    total_sum = sum(total_rating)\n",
    "    total_count = len(total_rating)\n",
    "    avg_rating_2001_2010 = total_sum / total_count\n",
    "else:\n",
    "    avg_rating_2001_2010 = None\n",
    "\n",
    "\n",
    "avg_rating_2001_2010"
   ]
  },
  {
   "cell_type": "code",
   "execution_count": 19,
   "id": "1635868b-71b6-4411-950d-1a8ad750a542",
   "metadata": {
    "deletable": false,
    "editable": true
   },
   "outputs": [
    {
     "name": "stdout",
     "output_type": "stream",
     "text": [
      "Make sure you saved the notebook before running this cell. Running check for lab-q4...\n",
      "Great job! You passed all test cases for this question.\n"
     ]
    },
    {
     "data": {
      "text/plain": [
       "True"
      ]
     },
     "execution_count": 19,
     "metadata": {},
     "output_type": "execute_result"
    }
   ],
   "source": [
    "student_grader.check(\"lab-q4\", should_get_llm_feedback=False)"
   ]
  },
  {
   "cell_type": "markdown",
   "id": "56b090d5-d799-456d-a13a-180f45eba2f6",
   "metadata": {
    "deletable": false,
    "editable": false
   },
   "source": [
    "## Segment 4: Sorting Dictionaries"
   ]
  },
  {
   "cell_type": "markdown",
   "id": "8017381c-8270-4175-9429-73b89dfd0a66",
   "metadata": {
    "deletable": false,
    "editable": false
   },
   "source": [
    "It would be useful if we could somehow **sort** **dictionaries**. Recall however, that Python does not distinguish between two dictionaries which have keys stored in different orders. To test this, run the following cell:"
   ]
  },
  {
   "cell_type": "code",
   "execution_count": 20,
   "id": "de9b6847-87e4-4fec-b0b8-bbbb1aa9a5f1",
   "metadata": {
    "deletable": false
   },
   "outputs": [
    {
     "data": {
      "text/plain": [
       "True"
      ]
     },
     "execution_count": 20,
     "metadata": {},
     "output_type": "execute_result"
    }
   ],
   "source": [
    "# two dictionaries with the same key/value pairs in different orders\n",
    "dict_a = {'C': 'S', 2: 20}\n",
    "dict_b = {2: 20, 'C': 'S'}\n",
    "\n",
    "# test if dict_a and dict_b store the same value\n",
    "dict_a == dict_b"
   ]
  },
  {
   "cell_type": "markdown",
   "id": "7a7deaf4-d29d-4963-814e-b9dadd0c1912",
   "metadata": {
    "deletable": false,
    "editable": false
   },
   "source": [
    "Therefore, if we want to **sort** the data stored in a **dictionary**, you must *first* typecast it into some other data type, which has an order. One way to do this is to **convert** it into a **list** of **tuples**, and then **sort** the **list**. The `dict.items()` method will be useful for us here.\n",
    "\n",
    "In Task 2.2, we created the variable `plot_movies_data`. It looks like this:\n",
    "\n",
    "```python\n",
    "{'The Trees of the East': 9.8,\n",
    " 'Avengers: Infinity War': 8.4,\n",
    " 'Zodiac': 7.7,\n",
    " 'Top Gun: Maverick': 8.4,\n",
    " 'Space Jam: A New Legacy': 4.5,\n",
    " 'The Big Short': 7.8}\n",
    "```\n",
    "\n",
    "Here's what `list(plot_movies_data.items())` looks like:\n",
    "```python\n",
    "[('The Trees of the East', 9.8),\n",
    " ('Avengers: Infinity War', 8.4),\n",
    " ('Zodiac', 7.7),\n",
    " ('Top Gun: Maverick', 8.4),\n",
    " ('Space Jam: A New Legacy', 4.5),\n",
    " ('The Big Short', 7.8)]\n",
    "```\n",
    "This **list** of **tuples** can now be sorted."
   ]
  },
  {
   "cell_type": "markdown",
   "id": "9f236bac-6c46-40a9-a4a3-2fceaec6d28b",
   "metadata": {
    "deletable": false,
    "editable": false
   },
   "source": [
    "#### Task 4.1: Sort `plot_movies_data` by title"
   ]
  },
  {
   "cell_type": "markdown",
   "id": "4eb4262d-3088-4ba4-9a02-38e9be875c0e",
   "metadata": {
    "deletable": false,
    "editable": false
   },
   "source": [
    "We will start simple by **sorting** the **dictionary** by the `title`."
   ]
  },
  {
   "cell_type": "markdown",
   "id": "15ac31fa-3a74-4ad4-af6e-3914fdf1fe7c",
   "metadata": {
    "deletable": false,
    "editable": false
   },
   "source": [
    "#### Lab question 5"
   ]
  },
  {
   "cell_type": "markdown",
   "id": "6aaf451b-7d22-411c-84be-7bc028fab3ee",
   "metadata": {
    "deletable": false,
    "editable": false
   },
   "source": [
    "Sort the `plot_movies_data` **dictionary** in alphabetical order of the `title`. Your answer should be a sorted list of tuples.\n",
    "\n",
    "**Hint:** Note that in each **tuple**, the `title` appears at index *0* followed by the `rating` at index *1*. By default, when you **sort** a **list** of **tuples**, you will **sort** the **tuples** by the values at index *0*. So, you can answer this question by just **sorting** the **list** of **items** in `plot_movies_data`."
   ]
  },
  {
   "cell_type": "markdown",
   "id": "407bbe3f-5638-4e85-a90e-c611bd44a4ab",
   "metadata": {
    "deletable": false,
    "editable": false
   },
   "source": [
    "Points possible: 4.0"
   ]
  },
  {
   "cell_type": "code",
   "execution_count": 21,
   "id": "4b18535b-5a11-49e7-9a26-0d4294042c65",
   "metadata": {
    "deletable": false,
    "editable": true,
    "tags": [
     "lab-q5-code"
    ]
   },
   "outputs": [
    {
     "data": {
      "text/plain": [
       "[('Avengers: Infinity War', 8.4),\n",
       " ('Space Jam: A New Legacy', 4.5),\n",
       " ('The Big Short', 7.8),\n",
       " ('The Trees of the East', 9.8),\n",
       " ('Top Gun: Maverick', 8.4),\n",
       " ('Zodiac', 7.7)]"
      ]
     },
     "execution_count": 21,
     "metadata": {},
     "output_type": "execute_result"
    }
   ],
   "source": [
    "# replace the ... with your code\n",
    "plot_movies_data = {}\n",
    "for movie in movies_data:\n",
    "    title = movie['title'] \n",
    "    rating = movie['rating'] \n",
    "    plot_movies_data[title] = rating \n",
    "    \n",
    "sorted_plot_movies_data = sorted(plot_movies_data.items(),key = lambda x:x[0])\n",
    "\n",
    "sorted_plot_movies_data"
   ]
  },
  {
   "cell_type": "code",
   "execution_count": 22,
   "id": "a517309c-9be3-4b23-9e32-e778e35b940b",
   "metadata": {
    "deletable": false,
    "editable": true
   },
   "outputs": [
    {
     "name": "stdout",
     "output_type": "stream",
     "text": [
      "Make sure you saved the notebook before running this cell. Running check for lab-q5...\n",
      "Great job! You passed all test cases for this question.\n"
     ]
    },
    {
     "data": {
      "text/plain": [
       "True"
      ]
     },
     "execution_count": 22,
     "metadata": {},
     "output_type": "execute_result"
    }
   ],
   "source": [
    "student_grader.check(\"lab-q5\", should_get_llm_feedback=False)"
   ]
  },
  {
   "cell_type": "markdown",
   "id": "516ff721-c77e-4061-8f79-600496501fa4",
   "metadata": {
    "deletable": false,
    "editable": false
   },
   "source": [
    "### Task 4.2: Sort `plot_movies_data` by `rating`"
   ]
  },
  {
   "cell_type": "markdown",
   "id": "9f2955c2-53e2-4695-97c2-c5477f701600",
   "metadata": {
    "deletable": false,
    "editable": false
   },
   "source": [
    "Note that by default, the **tuples** were sorted by the value at index *0*, which was also the **key** of the **dictionary**. This time, let us try to **sort** the **dictionary** by its **values**. i.e. we want to sort the movies in **ascending order** of their `ratings`.\n",
    "\n",
    "To **sort** by **values**, we need to use a **keyword argument** to identify a **function reference**.\n",
    "\n",
    "The **key** parameter takes in a function that would serve as a key or a basis of sort comparison."
   ]
  },
  {
   "cell_type": "markdown",
   "id": "df7137b9-0301-4986-b1b4-d28ee308b492",
   "metadata": {
    "deletable": false,
    "editable": false
   },
   "source": [
    "#### Lab question 6"
   ]
  },
  {
   "cell_type": "markdown",
   "id": "bd3403b2-8178-438f-b726-b249ebedbc6a",
   "metadata": {
    "deletable": false,
    "editable": false
   },
   "source": [
    "Sort `plot_movies_data` by their `rating` (from lowest to highest)."
   ]
  },
  {
   "cell_type": "markdown",
   "id": "8b13821f-8510-4f63-8dd4-5a66595f3345",
   "metadata": {
    "deletable": false,
    "editable": false
   },
   "source": [
    "Points possible: 4.0"
   ]
  },
  {
   "cell_type": "code",
   "execution_count": 23,
   "id": "988c7b74-af2c-476c-9b9b-6125c63e4bf3",
   "metadata": {
    "deletable": false,
    "editable": true,
    "tags": [
     "lab-q6-code"
    ]
   },
   "outputs": [
    {
     "data": {
      "text/plain": [
       "[('Space Jam: A New Legacy', 4.5),\n",
       " ('Zodiac', 7.7),\n",
       " ('The Big Short', 7.8),\n",
       " ('Avengers: Infinity War', 8.4),\n",
       " ('Top Gun: Maverick', 8.4),\n",
       " ('The Trees of the East', 9.8)]"
      ]
     },
     "execution_count": 23,
     "metadata": {},
     "output_type": "execute_result"
    }
   ],
   "source": [
    "# we have done this for you\n",
    "\n",
    "def get_value(item):\n",
    "    '''get_value(item) takes in a tuple item = (key, value)\n",
    "    and returns the value which is at index 1 of the tuple'''\n",
    "    return item[1]\n",
    "\n",
    "# the elements of the list list(plot_movies_data.items()) are\n",
    "# sorted by the value returned by the function get_value\n",
    "sorted_plot_movies_data_ratings = sorted(list(plot_movies_data.items()), key=get_value)\n",
    "\n",
    "sorted_plot_movies_data_ratings"
   ]
  },
  {
   "cell_type": "code",
   "execution_count": 24,
   "id": "175f0680-130c-4da4-9e2d-d219865ad19a",
   "metadata": {
    "deletable": false,
    "editable": true
   },
   "outputs": [
    {
     "name": "stdout",
     "output_type": "stream",
     "text": [
      "Make sure you saved the notebook before running this cell. Running check for lab-q6...\n",
      "Great job! You passed all test cases for this question.\n"
     ]
    },
    {
     "data": {
      "text/plain": [
       "True"
      ]
     },
     "execution_count": 24,
     "metadata": {},
     "output_type": "execute_result"
    }
   ],
   "source": [
    "student_grader.check(\"lab-q6\", should_get_llm_feedback=False)"
   ]
  },
  {
   "cell_type": "markdown",
   "id": "b784f2e6-86b9-41ad-b022-dfcb30449a2a",
   "metadata": {
    "deletable": false,
    "editable": false
   },
   "source": [
    "#### Lab question 7"
   ]
  },
  {
   "cell_type": "markdown",
   "id": "53f41c85-8983-4155-85bb-fe3c02f9c6e8",
   "metadata": {
    "deletable": false,
    "editable": false
   },
   "source": [
    "What is the `title` of the **second lowest rated** movie in the dataset?\n",
    "\n",
    "You **must** use `sorted_plot_movies_data_ratings` to answer this question.\n",
    "\n",
    "You **do not** have to worry about breaking any ties. You may assume that there is a **unique** second lowest rated movie in the dataset.\n",
    "\n",
    "You are **allowed** to use the fact that `sorted_plot_movies_data_ratings` is sorted in **increasing** order of the `rating`, and the fact that each entry of the **list** is a **tuple** of the format `(<title>, <rating>)` to **index** from `sorted_plot_movies_data_ratings`.\n",
    "\n",
    "You are **allowed** to hardcode the index in this case."
   ]
  },
  {
   "cell_type": "markdown",
   "id": "ecc9ac98-94be-41f0-b51c-e9745c0a7811",
   "metadata": {
    "deletable": false,
    "editable": false
   },
   "source": [
    "Points possible: 4.0"
   ]
  },
  {
   "cell_type": "code",
   "execution_count": 25,
   "id": "f0086d8d-49b4-41e5-bca6-26c54a8d03c2",
   "metadata": {
    "deletable": false,
    "editable": true,
    "tags": [
     "lab-q7-code"
    ]
   },
   "outputs": [
    {
     "data": {
      "text/plain": [
       "'Zodiac'"
      ]
     },
     "execution_count": 25,
     "metadata": {},
     "output_type": "execute_result"
    }
   ],
   "source": [
    "# replace the ... with your code\n",
    "\n",
    "second_lowest_rated_movie = sorted_plot_movies_data_ratings[1][0]\n",
    "\n",
    "second_lowest_rated_movie "
   ]
  },
  {
   "cell_type": "code",
   "execution_count": 26,
   "id": "4a29b289-d6a4-457d-b860-475e05c22353",
   "metadata": {
    "deletable": false,
    "editable": true
   },
   "outputs": [
    {
     "name": "stdout",
     "output_type": "stream",
     "text": [
      "Make sure you saved the notebook before running this cell. Running check for lab-q7...\n",
      "Great job! You passed all test cases for this question.\n"
     ]
    },
    {
     "data": {
      "text/plain": [
       "True"
      ]
     },
     "execution_count": 26,
     "metadata": {},
     "output_type": "execute_result"
    }
   ],
   "source": [
    "student_grader.check(\"lab-q7\", should_get_llm_feedback=False)"
   ]
  },
  {
   "cell_type": "markdown",
   "id": "fb214e9d-cc3d-4641-9965-a9e9fe6526a8",
   "metadata": {
    "deletable": false,
    "editable": false
   },
   "source": [
    "## Segment 5: Sorting a List of Dictionaries by any Key"
   ]
  },
  {
   "cell_type": "markdown",
   "id": "185df54e-0d5e-49b8-b9e2-fd711a0110c4",
   "metadata": {
    "deletable": false,
    "editable": false
   },
   "source": [
    "In the past, you have already sorted **lists** made up of **integers**, **floats**, and **strings**. You were able to sort those **lists** because these data types (i.e. **integers**, **floats**, and **strings**) can be **compared** with each other. For example, the expressions: `3 > 1`, `2.5 < 6.1`, and `'a' > 'A'` are valid (and evaluate to `True`). However, an expression such as `dict_a > dict_b` would result in a **TypeError** since the `>` operation is **not** supported between two **dictionaries**.\n",
    "\n",
    "Therefore, if we want to **sort** a **list** of **dictionaries**, we will have to tell Python what to sort the **dictionaries** by. Given our `movies_data` **list** of **dictionaries**, over the next few questions, you will **sort** by the **values** attached to different **keys**.\n",
    "\n",
    "For example, you could sort `movies_data` by the `year` of release of the movies. In such an instance, you would want to define a function that takes in an element of the list `movies_data` (in this case, movie **dictionaries**) and returns the **value** of the `year` key. Then, if you **sort** `movies_data` by passing this function as a keyword argument to the `key` parameter, then you would **sort** the **list** of **dictionaries** `movies_data` by their `year` of release."
   ]
  },
  {
   "cell_type": "markdown",
   "id": "bb11da38-9f46-4a0e-a440-a5c2f0995ccb",
   "metadata": {
    "deletable": false,
    "editable": false
   },
   "source": [
    "#### Lab question 8"
   ]
  },
  {
   "cell_type": "markdown",
   "id": "258ec7bc-ff24-47af-b948-230fd13a1bdc",
   "metadata": {
    "deletable": false,
    "editable": false
   },
   "source": [
    "Create a **list** of **dictionaries** that contains the movies in `movies_data` **sorted** based on the `duration` of each movie, in **descending order**.\n",
    "\n",
    "You **must not** modify the original value of `movies_data` in any way.\n",
    "\n",
    "**Hint:** To sort the **list** in **descending order**, you can use the **keyword argument** `reverse=True`.\n",
    "\n",
    "You may also use a **lambda** function here as the argument to the `key` parameter, but this is **optional**. "
   ]
  },
  {
   "cell_type": "markdown",
   "id": "273f063f-379e-4535-a303-9ee667f6d890",
   "metadata": {
    "deletable": false,
    "editable": false
   },
   "source": [
    "Points possible: 4.0"
   ]
  },
  {
   "cell_type": "code",
   "execution_count": 27,
   "id": "35deb48c-ad76-4d39-ac04-48b3ee259b38",
   "metadata": {
    "deletable": false,
    "editable": true,
    "tags": [
     "lab-q8-code"
    ]
   },
   "outputs": [
    {
     "data": {
      "text/plain": [
       "[{'title': 'Zodiac',\n",
       "  'year': 2007,\n",
       "  'duration': 157,\n",
       "  'genres': ['Crime', 'Drama', 'Mystery'],\n",
       "  'rating': 7.7,\n",
       "  'directors': ['David Fincher'],\n",
       "  'cast': ['Jake Gyllenhaal',\n",
       "   'Robert Downey Jr.',\n",
       "   'Mark Ruffalo',\n",
       "   'Anthony Edwards']},\n",
       " {'title': 'Avengers: Infinity War',\n",
       "  'year': 2018,\n",
       "  'duration': 149,\n",
       "  'genres': ['Action', 'Adventure', 'Sci-Fi'],\n",
       "  'rating': 8.4,\n",
       "  'directors': ['Anthony Russo', 'Joe Russo'],\n",
       "  'cast': ['Robert Downey Jr.',\n",
       "   'Chris Hemsworth',\n",
       "   'Mark Ruffalo',\n",
       "   'Chris Evans']},\n",
       " {'title': 'Top Gun: Maverick',\n",
       "  'year': 2022,\n",
       "  'duration': 130,\n",
       "  'genres': ['Action', 'Drama'],\n",
       "  'rating': 8.4,\n",
       "  'directors': ['Joseph Kosinski'],\n",
       "  'cast': ['Tom Cruise', 'Jennifer Connelly', 'Miles Teller', 'Val Kilmer']},\n",
       " {'title': 'The Big Short',\n",
       "  'year': 2015,\n",
       "  'duration': 130,\n",
       "  'genres': ['Biography', 'Comedy', 'Drama'],\n",
       "  'rating': 7.8,\n",
       "  'directors': ['Adam McKay'],\n",
       "  'cast': ['Christian Bale', 'Steve Carell', 'Ryan Gosling', 'Brad Pitt']},\n",
       " {'title': 'Space Jam: A New Legacy',\n",
       "  'year': 2021,\n",
       "  'duration': 115,\n",
       "  'genres': ['Adventure', 'Animation', 'Comedy'],\n",
       "  'rating': 4.5,\n",
       "  'directors': ['Malcolm D. Lee'],\n",
       "  'cast': ['LeBron James', 'Don Cheadle', 'Cedric Joe', 'Khris Davis']},\n",
       " {'title': 'The Trees of the East',\n",
       "  'year': 2018,\n",
       "  'duration': 71,\n",
       "  'genres': ['Thriller'],\n",
       "  'rating': 9.8,\n",
       "  'directors': ['Mike Ellwood'],\n",
       "  'cast': ['Pattyeffinmayo', 'Parlay Pass', 'Sia Poorak', 'Kandisha']}]"
      ]
     },
     "execution_count": 27,
     "metadata": {},
     "output_type": "execute_result"
    }
   ],
   "source": [
    "# replace the ... with your code, should look like sorted(..., key=..., reverse=...)\n",
    "\n",
    "sorted_movies_data = sorted(movies_data, key = lambda x: x['duration'], reverse=True)\n",
    "sorted_movies_data"
   ]
  },
  {
   "cell_type": "code",
   "execution_count": 28,
   "id": "d6817a78-6e83-4a2b-a696-a7192ba423b5",
   "metadata": {
    "deletable": false,
    "editable": true
   },
   "outputs": [
    {
     "name": "stdout",
     "output_type": "stream",
     "text": [
      "Make sure you saved the notebook before running this cell. Running check for lab-q8...\n",
      "Great job! You passed all test cases for this question.\n"
     ]
    },
    {
     "data": {
      "text/plain": [
       "True"
      ]
     },
     "execution_count": 28,
     "metadata": {},
     "output_type": "execute_result"
    }
   ],
   "source": [
    "student_grader.check(\"lab-q8\", should_get_llm_feedback=False)"
   ]
  },
  {
   "cell_type": "markdown",
   "id": "36f579e5-0e9b-4dde-a849-7a66683e896b",
   "metadata": {
    "deletable": false,
    "editable": false
   },
   "source": [
    "#### Lab question 9"
   ]
  },
  {
   "cell_type": "markdown",
   "id": "03343c1e-7bd9-456b-8864-720972997341",
   "metadata": {
    "deletable": false,
    "editable": false
   },
   "source": [
    "What is the `title` of the **second shortest** movie in the dataset?\n",
    "\n",
    "You **must** use `sorted_movies_data` to answer this question.\n",
    "\n",
    "You are allowed to use the fact that `sorted_movies_data` is sorted in decreasing order of the duration"
   ]
  },
  {
   "cell_type": "markdown",
   "id": "46844719-0cb4-49b8-95fa-6cda19157a07",
   "metadata": {
    "deletable": false,
    "editable": false
   },
   "source": [
    "Points possible: 4.0"
   ]
  },
  {
   "cell_type": "code",
   "execution_count": 29,
   "id": "b4b2d6a9-5cab-4ca8-92ae-05dacd474e01",
   "metadata": {
    "deletable": false,
    "editable": true,
    "tags": [
     "lab-q9-code"
    ]
   },
   "outputs": [
    {
     "data": {
      "text/plain": [
       "'Space Jam: A New Legacy'"
      ]
     },
     "execution_count": 29,
     "metadata": {},
     "output_type": "execute_result"
    }
   ],
   "source": [
    "# replace the ... with your code\n",
    "\n",
    "second_shortest_movie = sorted_movies_data[-2]['title']\n",
    "\n",
    "second_shortest_movie"
   ]
  },
  {
   "cell_type": "code",
   "execution_count": 30,
   "id": "fb4e433f-c1da-4e43-b593-19ddc9ff936b",
   "metadata": {
    "deletable": false,
    "editable": true
   },
   "outputs": [
    {
     "name": "stdout",
     "output_type": "stream",
     "text": [
      "Make sure you saved the notebook before running this cell. Running check for lab-q9...\n",
      "Great job! You passed all test cases for this question.\n"
     ]
    },
    {
     "data": {
      "text/plain": [
       "True"
      ]
     },
     "execution_count": 30,
     "metadata": {},
     "output_type": "execute_result"
    }
   ],
   "source": [
    "student_grader.check(\"lab-q9\", should_get_llm_feedback=False)"
   ]
  },
  {
   "cell_type": "markdown",
   "id": "08857ca2-47cd-4d97-a22c-5ced100f8bbd",
   "metadata": {
    "deletable": false,
    "editable": false
   },
   "source": [
    "#### Lab question 10"
   ]
  },
  {
   "cell_type": "markdown",
   "id": "4bf2bbb5-fe2b-4e24-bddb-7dd3f4bda70d",
   "metadata": {
    "deletable": false,
    "editable": false
   },
   "source": [
    "What is the difference in `duration` between the **longest** and the **shortest** movies in the dataset?\n",
    "\n",
    "You **must** use `sorted_movies_data` to answer this question.\n",
    "\n",
    "You are allowed to use the fact that `sorted_movies_data` is sorted in decreasing order of the duration"
   ]
  },
  {
   "cell_type": "markdown",
   "id": "c7f0374d-4416-441c-b37d-a01d13fbb382",
   "metadata": {
    "deletable": false,
    "editable": false
   },
   "source": [
    "Points possible: 4.0"
   ]
  },
  {
   "cell_type": "code",
   "execution_count": 31,
   "id": "9d4841ed-a39c-46c5-8311-abb09925dc8f",
   "metadata": {
    "deletable": false,
    "editable": true,
    "tags": [
     "lab-q10-code"
    ]
   },
   "outputs": [
    {
     "data": {
      "text/plain": [
       "86"
      ]
     },
     "execution_count": 31,
     "metadata": {},
     "output_type": "execute_result"
    }
   ],
   "source": [
    "# replace the ... with your code\n",
    "\n",
    "diff_in_duration = sorted_movies_data[0]['duration'] - sorted_movies_data[-1]['duration']\n",
    "diff_in_duration"
   ]
  },
  {
   "cell_type": "code",
   "execution_count": 32,
   "id": "a2cc0ae2-7695-4fd0-9f08-c81dd78ec33d",
   "metadata": {
    "deletable": false,
    "editable": true
   },
   "outputs": [
    {
     "name": "stdout",
     "output_type": "stream",
     "text": [
      "Make sure you saved the notebook before running this cell. Running check for lab-q10...\n",
      "Great job! You passed all test cases for this question.\n"
     ]
    },
    {
     "data": {
      "text/plain": [
       "True"
      ]
     },
     "execution_count": 32,
     "metadata": {},
     "output_type": "execute_result"
    }
   ],
   "source": [
    "student_grader.check(\"lab-q10\", should_get_llm_feedback=False)"
   ]
  },
  {
   "cell_type": "markdown",
   "id": "6c2fd7bc-205e-4708-8099-9e7499eb46a8",
   "metadata": {
    "deletable": false,
    "editable": false
   },
   "source": [
    "## Segment 6: Bucketizing"
   ]
  },
  {
   "cell_type": "markdown",
   "id": "362a46af-8ca6-45e7-9451-d9f62ba9a575",
   "metadata": {
    "deletable": false,
    "editable": false
   },
   "source": [
    "### Task 6.1: Bucketizing by `cast`"
   ]
  },
  {
   "cell_type": "markdown",
   "id": "e20d877a-96cc-4a45-9060-789746bb14ba",
   "metadata": {
    "deletable": false,
    "editable": false
   },
   "source": [
    "Let's make a bucketized dictionary `movies_by_cast` that has the name of each `cast` member mentioned in `movies_data` as a **key** and a **list** of movies they featured in as **values**. By list of movies, we mean a **list** of **dictionaries** - each **dictionary** represents a movie.\n",
    "\n",
    "Suggested Approach:\n",
    "1. Iterate over each **dictionary** in `movies_data`.\n",
    "2. Iterate over the **list** of `cast` members in each **dictionary**.\n",
    "3. For each `cast` member, check if they are already present in `movies_by_cast`. If they are **not** present, **initialize** their **value** as an **empty list**. The **key** will be the name of the `cast` member.\n",
    "4. For each `cast` member, **append** the current movie (as a **dictionary** with all the associated values) in `movies_data` to the corresponding **list** in `movies_by_cast`.\n",
    "\n",
    "Your output **must** look something like this:\n",
    "\n",
    "```python\n",
    "{\n",
    " 'Pattyeffinmayo': [{'title': 'The Trees of the East',\n",
    "   'year': 2018,\n",
    "   'duration': 71,\n",
    "   'genres': ['Thriller'],\n",
    "   'rating': 9.8,\n",
    "   'directors': ['Mike Ellwood'],\n",
    "   'cast': ['Pattyeffinmayo', 'Parlay Pass', 'Sia Poorak', 'Kandisha']}],\n",
    " 'Parlay Pass': [{'title': 'The Trees of the East',\n",
    "   'year': 2018,\n",
    "   'duration': 71,\n",
    "   'genres': ['Thriller'],\n",
    "   'rating': 9.8,\n",
    "   'directors': ['Mike Ellwood'],\n",
    "   'cast': ['Pattyeffinmayo', 'Parlay Pass', 'Sia Poorak', 'Kandisha']}],\n",
    " ...\n",
    "}\n",
    "```"
   ]
  },
  {
   "cell_type": "markdown",
   "id": "1100ca1b-9c51-4f94-837e-f6afa64b622c",
   "metadata": {
    "deletable": false,
    "editable": false
   },
   "source": [
    "Points possible: 5.0"
   ]
  },
  {
   "cell_type": "code",
   "execution_count": 33,
   "id": "98cfc2c6-5668-440d-bfe8-6f632c6b3402",
   "metadata": {
    "deletable": false,
    "editable": true,
    "tags": [
     "lab-movies_by_cast-code"
    ]
   },
   "outputs": [
    {
     "data": {
      "text/plain": [
       "{'Pattyeffinmayo': [{'title': 'The Trees of the East',\n",
       "   'year': 2018,\n",
       "   'duration': 71,\n",
       "   'genres': ['Thriller'],\n",
       "   'rating': 9.8,\n",
       "   'directors': ['Mike Ellwood'],\n",
       "   'cast': ['Pattyeffinmayo', 'Parlay Pass', 'Sia Poorak', 'Kandisha']}],\n",
       " 'Parlay Pass': [{'title': 'The Trees of the East',\n",
       "   'year': 2018,\n",
       "   'duration': 71,\n",
       "   'genres': ['Thriller'],\n",
       "   'rating': 9.8,\n",
       "   'directors': ['Mike Ellwood'],\n",
       "   'cast': ['Pattyeffinmayo', 'Parlay Pass', 'Sia Poorak', 'Kandisha']}],\n",
       " 'Sia Poorak': [{'title': 'The Trees of the East',\n",
       "   'year': 2018,\n",
       "   'duration': 71,\n",
       "   'genres': ['Thriller'],\n",
       "   'rating': 9.8,\n",
       "   'directors': ['Mike Ellwood'],\n",
       "   'cast': ['Pattyeffinmayo', 'Parlay Pass', 'Sia Poorak', 'Kandisha']}],\n",
       " 'Kandisha': [{'title': 'The Trees of the East',\n",
       "   'year': 2018,\n",
       "   'duration': 71,\n",
       "   'genres': ['Thriller'],\n",
       "   'rating': 9.8,\n",
       "   'directors': ['Mike Ellwood'],\n",
       "   'cast': ['Pattyeffinmayo', 'Parlay Pass', 'Sia Poorak', 'Kandisha']}],\n",
       " 'Robert Downey Jr.': [{'title': 'Avengers: Infinity War',\n",
       "   'year': 2018,\n",
       "   'duration': 149,\n",
       "   'genres': ['Action', 'Adventure', 'Sci-Fi'],\n",
       "   'rating': 8.4,\n",
       "   'directors': ['Anthony Russo', 'Joe Russo'],\n",
       "   'cast': ['Robert Downey Jr.',\n",
       "    'Chris Hemsworth',\n",
       "    'Mark Ruffalo',\n",
       "    'Chris Evans']},\n",
       "  {'title': 'Zodiac',\n",
       "   'year': 2007,\n",
       "   'duration': 157,\n",
       "   'genres': ['Crime', 'Drama', 'Mystery'],\n",
       "   'rating': 7.7,\n",
       "   'directors': ['David Fincher'],\n",
       "   'cast': ['Jake Gyllenhaal',\n",
       "    'Robert Downey Jr.',\n",
       "    'Mark Ruffalo',\n",
       "    'Anthony Edwards']}],\n",
       " 'Chris Hemsworth': [{'title': 'Avengers: Infinity War',\n",
       "   'year': 2018,\n",
       "   'duration': 149,\n",
       "   'genres': ['Action', 'Adventure', 'Sci-Fi'],\n",
       "   'rating': 8.4,\n",
       "   'directors': ['Anthony Russo', 'Joe Russo'],\n",
       "   'cast': ['Robert Downey Jr.',\n",
       "    'Chris Hemsworth',\n",
       "    'Mark Ruffalo',\n",
       "    'Chris Evans']}],\n",
       " 'Mark Ruffalo': [{'title': 'Avengers: Infinity War',\n",
       "   'year': 2018,\n",
       "   'duration': 149,\n",
       "   'genres': ['Action', 'Adventure', 'Sci-Fi'],\n",
       "   'rating': 8.4,\n",
       "   'directors': ['Anthony Russo', 'Joe Russo'],\n",
       "   'cast': ['Robert Downey Jr.',\n",
       "    'Chris Hemsworth',\n",
       "    'Mark Ruffalo',\n",
       "    'Chris Evans']},\n",
       "  {'title': 'Zodiac',\n",
       "   'year': 2007,\n",
       "   'duration': 157,\n",
       "   'genres': ['Crime', 'Drama', 'Mystery'],\n",
       "   'rating': 7.7,\n",
       "   'directors': ['David Fincher'],\n",
       "   'cast': ['Jake Gyllenhaal',\n",
       "    'Robert Downey Jr.',\n",
       "    'Mark Ruffalo',\n",
       "    'Anthony Edwards']}],\n",
       " 'Chris Evans': [{'title': 'Avengers: Infinity War',\n",
       "   'year': 2018,\n",
       "   'duration': 149,\n",
       "   'genres': ['Action', 'Adventure', 'Sci-Fi'],\n",
       "   'rating': 8.4,\n",
       "   'directors': ['Anthony Russo', 'Joe Russo'],\n",
       "   'cast': ['Robert Downey Jr.',\n",
       "    'Chris Hemsworth',\n",
       "    'Mark Ruffalo',\n",
       "    'Chris Evans']}],\n",
       " 'Jake Gyllenhaal': [{'title': 'Zodiac',\n",
       "   'year': 2007,\n",
       "   'duration': 157,\n",
       "   'genres': ['Crime', 'Drama', 'Mystery'],\n",
       "   'rating': 7.7,\n",
       "   'directors': ['David Fincher'],\n",
       "   'cast': ['Jake Gyllenhaal',\n",
       "    'Robert Downey Jr.',\n",
       "    'Mark Ruffalo',\n",
       "    'Anthony Edwards']}],\n",
       " 'Anthony Edwards': [{'title': 'Zodiac',\n",
       "   'year': 2007,\n",
       "   'duration': 157,\n",
       "   'genres': ['Crime', 'Drama', 'Mystery'],\n",
       "   'rating': 7.7,\n",
       "   'directors': ['David Fincher'],\n",
       "   'cast': ['Jake Gyllenhaal',\n",
       "    'Robert Downey Jr.',\n",
       "    'Mark Ruffalo',\n",
       "    'Anthony Edwards']}],\n",
       " 'Tom Cruise': [{'title': 'Top Gun: Maverick',\n",
       "   'year': 2022,\n",
       "   'duration': 130,\n",
       "   'genres': ['Action', 'Drama'],\n",
       "   'rating': 8.4,\n",
       "   'directors': ['Joseph Kosinski'],\n",
       "   'cast': ['Tom Cruise', 'Jennifer Connelly', 'Miles Teller', 'Val Kilmer']}],\n",
       " 'Jennifer Connelly': [{'title': 'Top Gun: Maverick',\n",
       "   'year': 2022,\n",
       "   'duration': 130,\n",
       "   'genres': ['Action', 'Drama'],\n",
       "   'rating': 8.4,\n",
       "   'directors': ['Joseph Kosinski'],\n",
       "   'cast': ['Tom Cruise', 'Jennifer Connelly', 'Miles Teller', 'Val Kilmer']}],\n",
       " 'Miles Teller': [{'title': 'Top Gun: Maverick',\n",
       "   'year': 2022,\n",
       "   'duration': 130,\n",
       "   'genres': ['Action', 'Drama'],\n",
       "   'rating': 8.4,\n",
       "   'directors': ['Joseph Kosinski'],\n",
       "   'cast': ['Tom Cruise', 'Jennifer Connelly', 'Miles Teller', 'Val Kilmer']}],\n",
       " 'Val Kilmer': [{'title': 'Top Gun: Maverick',\n",
       "   'year': 2022,\n",
       "   'duration': 130,\n",
       "   'genres': ['Action', 'Drama'],\n",
       "   'rating': 8.4,\n",
       "   'directors': ['Joseph Kosinski'],\n",
       "   'cast': ['Tom Cruise', 'Jennifer Connelly', 'Miles Teller', 'Val Kilmer']}],\n",
       " 'LeBron James': [{'title': 'Space Jam: A New Legacy',\n",
       "   'year': 2021,\n",
       "   'duration': 115,\n",
       "   'genres': ['Adventure', 'Animation', 'Comedy'],\n",
       "   'rating': 4.5,\n",
       "   'directors': ['Malcolm D. Lee'],\n",
       "   'cast': ['LeBron James', 'Don Cheadle', 'Cedric Joe', 'Khris Davis']}],\n",
       " 'Don Cheadle': [{'title': 'Space Jam: A New Legacy',\n",
       "   'year': 2021,\n",
       "   'duration': 115,\n",
       "   'genres': ['Adventure', 'Animation', 'Comedy'],\n",
       "   'rating': 4.5,\n",
       "   'directors': ['Malcolm D. Lee'],\n",
       "   'cast': ['LeBron James', 'Don Cheadle', 'Cedric Joe', 'Khris Davis']}],\n",
       " 'Cedric Joe': [{'title': 'Space Jam: A New Legacy',\n",
       "   'year': 2021,\n",
       "   'duration': 115,\n",
       "   'genres': ['Adventure', 'Animation', 'Comedy'],\n",
       "   'rating': 4.5,\n",
       "   'directors': ['Malcolm D. Lee'],\n",
       "   'cast': ['LeBron James', 'Don Cheadle', 'Cedric Joe', 'Khris Davis']}],\n",
       " 'Khris Davis': [{'title': 'Space Jam: A New Legacy',\n",
       "   'year': 2021,\n",
       "   'duration': 115,\n",
       "   'genres': ['Adventure', 'Animation', 'Comedy'],\n",
       "   'rating': 4.5,\n",
       "   'directors': ['Malcolm D. Lee'],\n",
       "   'cast': ['LeBron James', 'Don Cheadle', 'Cedric Joe', 'Khris Davis']}],\n",
       " 'Christian Bale': [{'title': 'The Big Short',\n",
       "   'year': 2015,\n",
       "   'duration': 130,\n",
       "   'genres': ['Biography', 'Comedy', 'Drama'],\n",
       "   'rating': 7.8,\n",
       "   'directors': ['Adam McKay'],\n",
       "   'cast': ['Christian Bale', 'Steve Carell', 'Ryan Gosling', 'Brad Pitt']}],\n",
       " 'Steve Carell': [{'title': 'The Big Short',\n",
       "   'year': 2015,\n",
       "   'duration': 130,\n",
       "   'genres': ['Biography', 'Comedy', 'Drama'],\n",
       "   'rating': 7.8,\n",
       "   'directors': ['Adam McKay'],\n",
       "   'cast': ['Christian Bale', 'Steve Carell', 'Ryan Gosling', 'Brad Pitt']}],\n",
       " 'Ryan Gosling': [{'title': 'The Big Short',\n",
       "   'year': 2015,\n",
       "   'duration': 130,\n",
       "   'genres': ['Biography', 'Comedy', 'Drama'],\n",
       "   'rating': 7.8,\n",
       "   'directors': ['Adam McKay'],\n",
       "   'cast': ['Christian Bale', 'Steve Carell', 'Ryan Gosling', 'Brad Pitt']}],\n",
       " 'Brad Pitt': [{'title': 'The Big Short',\n",
       "   'year': 2015,\n",
       "   'duration': 130,\n",
       "   'genres': ['Biography', 'Comedy', 'Drama'],\n",
       "   'rating': 7.8,\n",
       "   'directors': ['Adam McKay'],\n",
       "   'cast': ['Christian Bale', 'Steve Carell', 'Ryan Gosling', 'Brad Pitt']}]}"
      ]
     },
     "execution_count": 33,
     "metadata": {},
     "output_type": "execute_result"
    }
   ],
   "source": [
    "# replace the ... with your code\n",
    "\n",
    "movies_by_cast = {}\n",
    "for movie in movies_data:\n",
    "    ... # uncomment the lines below\n",
    "    for cast_member in movie['cast']:\n",
    "        if cast_member not in movies_by_cast:\n",
    "            movies_by_cast[cast_member] = []\n",
    "        movies_by_cast[cast_member].append(movie)\n",
    "\n",
    "movies_by_cast"
   ]
  },
  {
   "cell_type": "code",
   "execution_count": 34,
   "id": "ee374ed3-ac25-4197-8d09-e71a5e7c6515",
   "metadata": {
    "deletable": false,
    "editable": true
   },
   "outputs": [
    {
     "name": "stdout",
     "output_type": "stream",
     "text": [
      "Make sure you saved the notebook before running this cell. Running check for lab-movies_by_cast...\n",
      "Great job! You passed all test cases for this question.\n"
     ]
    },
    {
     "data": {
      "text/plain": [
       "True"
      ]
     },
     "execution_count": 34,
     "metadata": {},
     "output_type": "execute_result"
    }
   ],
   "source": [
    "student_grader.check(\"lab-movies_by_cast\", should_get_llm_feedback=False)"
   ]
  },
  {
   "cell_type": "markdown",
   "id": "7a17ea30-0699-41d2-b986-425246537502",
   "metadata": {
    "deletable": false,
    "editable": false
   },
   "source": [
    "#### Lab question 11"
   ]
  },
  {
   "cell_type": "markdown",
   "id": "3800e06b-c64d-4dbb-a0c3-f16798ea06e0",
   "metadata": {
    "deletable": false,
    "editable": false
   },
   "source": [
    "How **many** movies from the dataset has *Robert Downey Jr.* acted in?\n",
    "\n",
    "You **must** use `movies_by_cast` to answer this question."
   ]
  },
  {
   "cell_type": "markdown",
   "id": "78e18fa6-ad58-4652-9d1c-07ad569ddafa",
   "metadata": {
    "deletable": false,
    "editable": false
   },
   "source": [
    "Points possible: 4.0"
   ]
  },
  {
   "cell_type": "code",
   "execution_count": 35,
   "id": "0695d239-d70b-4d2c-a07a-0bb268d3f512",
   "metadata": {
    "deletable": false,
    "editable": true,
    "tags": [
     "lab-q11-code"
    ]
   },
   "outputs": [
    {
     "data": {
      "text/plain": [
       "2"
      ]
     },
     "execution_count": 35,
     "metadata": {},
     "output_type": "execute_result"
    }
   ],
   "source": [
    "# replace the ... with your code\n",
    "\n",
    "downey_jr_movies = len(movies_by_cast[\"Robert Downey Jr.\"])\n",
    "\n",
    "downey_jr_movies"
   ]
  },
  {
   "cell_type": "code",
   "execution_count": 36,
   "id": "7a231f4a-e8f9-4b9e-b398-5cedd7fbeac2",
   "metadata": {
    "deletable": false,
    "editable": true
   },
   "outputs": [
    {
     "name": "stdout",
     "output_type": "stream",
     "text": [
      "Make sure you saved the notebook before running this cell. Running check for lab-q11...\n",
      "Great job! You passed all test cases for this question.\n"
     ]
    },
    {
     "data": {
      "text/plain": [
       "True"
      ]
     },
     "execution_count": 36,
     "metadata": {},
     "output_type": "execute_result"
    }
   ],
   "source": [
    "student_grader.check(\"lab-q11\", should_get_llm_feedback=False)"
   ]
  },
  {
   "cell_type": "markdown",
   "id": "a817bfba-bc67-42ec-99e6-52b1ced5ccd0",
   "metadata": {
    "deletable": false,
    "editable": false
   },
   "source": [
    "#### Lab question 12"
   ]
  },
  {
   "cell_type": "markdown",
   "id": "5aa4ffc6-1f7c-427f-824e-8f3d9bc487cd",
   "metadata": {
    "deletable": false,
    "editable": false
   },
   "source": [
    "How **many** movies from the dataset has *LeBron James* acted in?\n",
    "\n",
    "You **must** use `movies_by_cast` to answer this question."
   ]
  },
  {
   "cell_type": "markdown",
   "id": "c3f914ce-65d9-4f52-b1ec-b8993c8fcd67",
   "metadata": {
    "deletable": false,
    "editable": false
   },
   "source": [
    "Points possible: 4.0"
   ]
  },
  {
   "cell_type": "code",
   "execution_count": 37,
   "id": "d790f32e-e6d2-46d8-b111-71e87830c2ce",
   "metadata": {
    "deletable": false,
    "editable": true,
    "tags": [
     "lab-q12-code"
    ]
   },
   "outputs": [
    {
     "data": {
      "text/plain": [
       "1"
      ]
     },
     "execution_count": 37,
     "metadata": {},
     "output_type": "execute_result"
    }
   ],
   "source": [
    "# replace the ... with your code\n",
    "\n",
    "lebron_james_movies = len(movies_by_cast[\"LeBron James\"])\n",
    "\n",
    "lebron_james_movies"
   ]
  },
  {
   "cell_type": "code",
   "execution_count": 38,
   "id": "09edb88a-d808-47bd-b2f1-aeff04129ad5",
   "metadata": {
    "deletable": false,
    "editable": true
   },
   "outputs": [
    {
     "name": "stdout",
     "output_type": "stream",
     "text": [
      "Make sure you saved the notebook before running this cell. Running check for lab-q12...\n",
      "Great job! You passed all test cases for this question.\n"
     ]
    },
    {
     "data": {
      "text/plain": [
       "True"
      ]
     },
     "execution_count": 38,
     "metadata": {},
     "output_type": "execute_result"
    }
   ],
   "source": [
    "student_grader.check(\"lab-q12\", should_get_llm_feedback=False)"
   ]
  },
  {
   "cell_type": "markdown",
   "id": "aa672ece-6b96-4da4-81f8-1e486cc9b981",
   "metadata": {
    "deletable": false,
    "editable": false
   },
   "source": [
    "#### Lab question 13"
   ]
  },
  {
   "cell_type": "markdown",
   "id": "ef39e88e-bd3f-4baa-aeed-5a0403052c80",
   "metadata": {
    "deletable": false,
    "editable": false
   },
   "source": [
    "Which `cast` members have featured in the **most** number of movies?\n",
    "\n",
    "You **must** use `movies_by_cast` to answer this question. Your output should be a **list** containing names of cast members starring in the **most** number of movies. Note that there is no unique cast member in the dataset with the most number of movies. In case of ties, your list **must** contain the names of **all** the cast members tied for the most number of appearances.\n",
    "\n",
    "**Hint:** You **need** to find the **max** number of movies first and then find the specific cast members"
   ]
  },
  {
   "cell_type": "markdown",
   "id": "eb9825bb-e25c-42b1-a3a2-4e5dc340da15",
   "metadata": {
    "deletable": false,
    "editable": false
   },
   "source": [
    "Points possible: 4.0"
   ]
  },
  {
   "cell_type": "code",
   "execution_count": 39,
   "id": "332c0b09-2504-4dcb-aa3e-7a42888f485a",
   "metadata": {
    "deletable": false,
    "editable": true,
    "tags": [
     "lab-q13-code"
    ]
   },
   "outputs": [
    {
     "data": {
      "text/plain": [
       "['Robert Downey Jr.', 'Mark Ruffalo']"
      ]
     },
     "execution_count": 39,
     "metadata": {},
     "output_type": "execute_result"
    }
   ],
   "source": [
    "# replace the ... with your code\n",
    "maximum = 0\n",
    "\n",
    "for movies in movies_by_cast.values():\n",
    "    if len(movies) > maximum:\n",
    "        maximum = len(movies)\n",
    "                      \n",
    "most_movies_cast = []\n",
    "for cast, movies in movies_by_cast.items():\n",
    "    if len(movies) == maximum:\n",
    "        most_movies_cast.append(cast)\n",
    "        \n",
    "most_movies_cast"
   ]
  },
  {
   "cell_type": "code",
   "execution_count": 40,
   "id": "2fc4aef9-4acb-4155-b441-2fc05f474307",
   "metadata": {
    "deletable": false,
    "editable": true
   },
   "outputs": [
    {
     "name": "stdout",
     "output_type": "stream",
     "text": [
      "Make sure you saved the notebook before running this cell. Running check for lab-q13...\n",
      "Great job! You passed all test cases for this question.\n"
     ]
    },
    {
     "data": {
      "text/plain": [
       "True"
      ]
     },
     "execution_count": 40,
     "metadata": {},
     "output_type": "execute_result"
    }
   ],
   "source": [
    "student_grader.check(\"lab-q13\", should_get_llm_feedback=False)"
   ]
  },
  {
   "cell_type": "markdown",
   "id": "307f0e5f-9b3c-4be8-b410-94f9438be345",
   "metadata": {
    "deletable": false,
    "editable": false
   },
   "source": [
    "## Segment 7: Comprehensions\n",
    "\n",
    "We can write comprehensions on dictionaries to form lists or to form new dictionaries. For example, let's compute the median ratings of the movies in `movies_data`."
   ]
  },
  {
   "cell_type": "markdown",
   "id": "5b923adc-0e21-4e59-bd6c-a6141239a843",
   "metadata": {
    "deletable": false,
    "editable": false
   },
   "source": [
    "### Task 7.1: Write the `median` function"
   ]
  },
  {
   "cell_type": "markdown",
   "id": "a448f4a9-78f8-479f-af5d-3dd2bdaeeda1",
   "metadata": {
    "deletable": false,
    "editable": false
   },
   "source": [
    "Recall that you wrote a `median` function in Lab-P6 which sorted and returned the middle value/average of two values from a list of numbers. If you do not wish to rewrite that function, you may copy/paste that function to your notebook here."
   ]
  },
  {
   "cell_type": "markdown",
   "id": "ff8dbfb1-18ab-4d79-b0e0-8f1c04a05cd8",
   "metadata": {
    "deletable": false,
    "editable": false
   },
   "source": [
    "Points possible: 5.0"
   ]
  },
  {
   "cell_type": "code",
   "execution_count": 41,
   "id": "541dfe94-9a5a-45d3-8de3-d66457371136",
   "metadata": {
    "deletable": false,
    "editable": true,
    "tags": [
     "lab-median-code"
    ]
   },
   "outputs": [],
   "source": [
    "# copy/paste the median function you had defined in Lab-P6\n",
    "\n",
    "def median(items):\n",
    "    # sort the list using `sorted`\n",
    "    sorted_list = sorted(items)\n",
    "    \n",
    "    # determine the length of the list\n",
    "    list_len = len(sorted_list)\n",
    "    \n",
    "    # use the modulo operator to determine whether length of the list is odd\n",
    "    if list_len % 2 == 1: \n",
    "        return sorted_list[list_len//2]\n",
    "    \n",
    "    else:\n",
    "        first_middle = sorted_list[list_len//2 - 1]\n",
    "        second_middle = sorted_list[list_len//2]\n",
    "        \n",
    "        # return the average of first_middle and second_middle\n",
    "        return (first_middle + second_middle) / 2\n"
   ]
  },
  {
   "cell_type": "code",
   "execution_count": 42,
   "id": "b66385c4-f6fe-428c-aca9-61a1d6d3cf22",
   "metadata": {
    "deletable": false,
    "editable": true
   },
   "outputs": [
    {
     "name": "stdout",
     "output_type": "stream",
     "text": [
      "Make sure you saved the notebook before running this cell. Running check for lab-median...\n",
      "Great job! You passed all test cases for this question.\n"
     ]
    },
    {
     "data": {
      "text/plain": [
       "True"
      ]
     },
     "execution_count": 42,
     "metadata": {},
     "output_type": "execute_result"
    }
   ],
   "source": [
    "student_grader.check(\"lab-median\", should_get_llm_feedback=False)"
   ]
  },
  {
   "cell_type": "markdown",
   "id": "6918c69b-ca81-41d5-b494-01d392f7fa3c",
   "metadata": {
    "deletable": false,
    "editable": false
   },
   "source": [
    "### Task 7.2: Create a list of ratings using list comprehension"
   ]
  },
  {
   "cell_type": "markdown",
   "id": "608458c6-8623-4336-b464-035e9ffc35fc",
   "metadata": {
    "deletable": false,
    "editable": false
   },
   "source": [
    "#### Lab question 14"
   ]
  },
  {
   "cell_type": "markdown",
   "id": "198c97fb-a8e6-49b5-b254-964d2ef258ff",
   "metadata": {
    "deletable": false,
    "editable": false
   },
   "source": [
    "Find the **median** `rating` of all the movies in `movies_data`."
   ]
  },
  {
   "cell_type": "markdown",
   "id": "2e1aad65-e55c-45ae-829f-30e4658d3332",
   "metadata": {
    "deletable": false,
    "editable": false
   },
   "source": [
    "Points possible: 4.0"
   ]
  },
  {
   "cell_type": "code",
   "execution_count": 43,
   "id": "59109a35-a2c8-4666-9350-9f77d40431c0",
   "metadata": {
    "deletable": false,
    "editable": true,
    "tags": [
     "lab-q14-code"
    ]
   },
   "outputs": [
    {
     "data": {
      "text/plain": [
       "8.1"
      ]
     },
     "execution_count": 43,
     "metadata": {},
     "output_type": "execute_result"
    }
   ],
   "source": [
    "# we have done this one for you\n",
    "\n",
    "# note the use of list comprehension here to create the list `movie_ratings`\n",
    "movie_ratings = [movie['rating'] for movie in movies_data]\n",
    "median_rating = median(movie_ratings)\n",
    "\n",
    "median_rating"
   ]
  },
  {
   "cell_type": "code",
   "execution_count": 44,
   "id": "57edc0ac-0501-42a5-b328-a6567a4635b0",
   "metadata": {
    "deletable": false,
    "editable": true
   },
   "outputs": [
    {
     "name": "stdout",
     "output_type": "stream",
     "text": [
      "Make sure you saved the notebook before running this cell. Running check for lab-q14...\n",
      "Great job! You passed all test cases for this question.\n"
     ]
    },
    {
     "data": {
      "text/plain": [
       "True"
      ]
     },
     "execution_count": 44,
     "metadata": {},
     "output_type": "execute_result"
    }
   ],
   "source": [
    "student_grader.check(\"lab-q14\", should_get_llm_feedback=False)"
   ]
  },
  {
   "cell_type": "markdown",
   "id": "988b83ee-d4c0-4bfd-8039-60052d62d253",
   "metadata": {
    "deletable": false,
    "editable": false
   },
   "source": [
    "### Task 7.3: More list comprehension"
   ]
  },
  {
   "cell_type": "markdown",
   "id": "dba71358-d418-4468-a1d5-c376ebcf522e",
   "metadata": {
    "deletable": false,
    "editable": false
   },
   "source": [
    "#### Lab question 15"
   ]
  },
  {
   "cell_type": "markdown",
   "id": "a939b82e-fd8f-41ca-8181-a98f6f715d5c",
   "metadata": {
    "deletable": false,
    "editable": false
   },
   "source": [
    "Create a **dictionary** with the **names** of the `cast` members as **keys** and a **list** of `ratings` of all their movies as the corresponding **values**. \n",
    "\n",
    "You **must** use **list comprehension** to create the **lists**.\n",
    "\n",
    "**Hint:** Loop through the **dictionary** `movies_by_cast`, and for each `cast` member, use **list comprehension** to create the **list** of `ratings` from the value in `movies_by_cast`."
   ]
  },
  {
   "cell_type": "markdown",
   "id": "a0d1f743-a0f0-42f9-94a6-33221c08e19b",
   "metadata": {
    "deletable": false,
    "editable": false
   },
   "source": [
    "Points possible: 4.0"
   ]
  },
  {
   "cell_type": "code",
   "execution_count": 45,
   "id": "3b85f4ad-05d0-4e50-8476-a2cbc973cefd",
   "metadata": {
    "deletable": false,
    "editable": true,
    "tags": [
     "lab-q15-code"
    ]
   },
   "outputs": [
    {
     "data": {
      "text/plain": [
       "{'Pattyeffinmayo': [9.8],\n",
       " 'Parlay Pass': [9.8],\n",
       " 'Sia Poorak': [9.8],\n",
       " 'Kandisha': [9.8],\n",
       " 'Robert Downey Jr.': [8.4, 7.7],\n",
       " 'Chris Hemsworth': [8.4],\n",
       " 'Mark Ruffalo': [8.4, 7.7],\n",
       " 'Chris Evans': [8.4],\n",
       " 'Jake Gyllenhaal': [7.7],\n",
       " 'Anthony Edwards': [7.7],\n",
       " 'Tom Cruise': [8.4],\n",
       " 'Jennifer Connelly': [8.4],\n",
       " 'Miles Teller': [8.4],\n",
       " 'Val Kilmer': [8.4],\n",
       " 'LeBron James': [4.5],\n",
       " 'Don Cheadle': [4.5],\n",
       " 'Cedric Joe': [4.5],\n",
       " 'Khris Davis': [4.5],\n",
       " 'Christian Bale': [7.8],\n",
       " 'Steve Carell': [7.8],\n",
       " 'Ryan Gosling': [7.8],\n",
       " 'Brad Pitt': [7.8]}"
      ]
     },
     "execution_count": 45,
     "metadata": {},
     "output_type": "execute_result"
    }
   ],
   "source": [
    "# replace the ... with your code\n",
    "\n",
    "ratings_by_cast = {}\n",
    "\n",
    "for cast, movies in movies_by_cast.items():\n",
    "    ratings_by_cast[cast] = [movie['rating'] for movie in movies]\n",
    "\n",
    "ratings_by_cast"
   ]
  },
  {
   "cell_type": "code",
   "execution_count": 46,
   "id": "ebe40cdf-e3a1-4f34-a56c-4862fc5fea1e",
   "metadata": {
    "deletable": false,
    "editable": true
   },
   "outputs": [
    {
     "name": "stdout",
     "output_type": "stream",
     "text": [
      "Make sure you saved the notebook before running this cell. Running check for lab-q15...\n",
      "Great job! You passed all test cases for this question.\n"
     ]
    },
    {
     "data": {
      "text/plain": [
       "True"
      ]
     },
     "execution_count": 46,
     "metadata": {},
     "output_type": "execute_result"
    }
   ],
   "source": [
    "student_grader.check(\"lab-q15\", should_get_llm_feedback=False)"
   ]
  },
  {
   "cell_type": "markdown",
   "id": "94502dfc-d068-4d94-9514-308334207fb0",
   "metadata": {
    "deletable": false,
    "editable": false
   },
   "source": [
    "#### Lab question 16"
   ]
  },
  {
   "cell_type": "markdown",
   "id": "a2443924-009d-4887-97f6-941e61f0f673",
   "metadata": {
    "deletable": false,
    "editable": false
   },
   "source": [
    "What is the **median** `rating` of movies starring *Don Cheadle*?\n",
    "\n",
    "Use the **dictionary** `ratings_by_cast` to answer this question"
   ]
  },
  {
   "cell_type": "markdown",
   "id": "d46f3a19-f762-433d-9563-490fc9a00f45",
   "metadata": {
    "deletable": false,
    "editable": false
   },
   "source": [
    "Points possible: 4.0"
   ]
  },
  {
   "cell_type": "code",
   "execution_count": 47,
   "id": "195ee89c-1da5-475d-baa2-74c0c709aa50",
   "metadata": {
    "deletable": false,
    "editable": true,
    "tags": [
     "lab-q16-code"
    ]
   },
   "outputs": [
    {
     "data": {
      "text/plain": [
       "4.5"
      ]
     },
     "execution_count": 47,
     "metadata": {},
     "output_type": "execute_result"
    }
   ],
   "source": [
    "# replace the ... with your code\n",
    "cheadle_median_rating = median(ratings_by_cast[\"Don Cheadle\"]) \n",
    "cheadle_median_rating"
   ]
  },
  {
   "cell_type": "code",
   "execution_count": 48,
   "id": "ed7d6e8e-9a6c-4e63-b706-7feef5fd9a3c",
   "metadata": {
    "deletable": false,
    "editable": true
   },
   "outputs": [
    {
     "name": "stdout",
     "output_type": "stream",
     "text": [
      "Make sure you saved the notebook before running this cell. Running check for lab-q16...\n",
      "Great job! You passed all test cases for this question.\n"
     ]
    },
    {
     "data": {
      "text/plain": [
       "True"
      ]
     },
     "execution_count": 48,
     "metadata": {},
     "output_type": "execute_result"
    }
   ],
   "source": [
    "student_grader.check(\"lab-q16\", should_get_llm_feedback=False)"
   ]
  },
  {
   "cell_type": "markdown",
   "id": "57aac1c9-ab29-4d7e-9e42-7a8142c1ec8a",
   "metadata": {
    "deletable": false,
    "editable": false
   },
   "source": [
    "### Task 7.4: Create a dictionary of medians using dictionary comprehension"
   ]
  },
  {
   "cell_type": "markdown",
   "id": "5e4842bb-1ede-4de3-a8ad-2c8e3fa48a82",
   "metadata": {
    "deletable": false,
    "editable": false
   },
   "source": [
    "#### Lab question 17"
   ]
  },
  {
   "cell_type": "markdown",
   "id": "a62aa833-7db7-432d-bdf5-7a6ef484c966",
   "metadata": {
    "deletable": false,
    "editable": false
   },
   "source": [
    "Create a new **dictionary** where the **key** is a `cast` member and the **value** is the **median** `rating` of their movies."
   ]
  },
  {
   "cell_type": "markdown",
   "id": "93195e25-f324-427e-a1b2-666b10bcf68b",
   "metadata": {
    "deletable": false,
    "editable": false
   },
   "source": [
    "Points possible: 4.0"
   ]
  },
  {
   "cell_type": "code",
   "execution_count": 49,
   "id": "426bbf96-36b2-48c9-8b85-9029b1687bb6",
   "metadata": {
    "deletable": false,
    "editable": true,
    "tags": [
     "lab-q17-code"
    ]
   },
   "outputs": [
    {
     "data": {
      "text/plain": [
       "{'Pattyeffinmayo': 9.8,\n",
       " 'Parlay Pass': 9.8,\n",
       " 'Sia Poorak': 9.8,\n",
       " 'Kandisha': 9.8,\n",
       " 'Robert Downey Jr.': 8.05,\n",
       " 'Chris Hemsworth': 8.4,\n",
       " 'Mark Ruffalo': 8.05,\n",
       " 'Chris Evans': 8.4,\n",
       " 'Jake Gyllenhaal': 7.7,\n",
       " 'Anthony Edwards': 7.7,\n",
       " 'Tom Cruise': 8.4,\n",
       " 'Jennifer Connelly': 8.4,\n",
       " 'Miles Teller': 8.4,\n",
       " 'Val Kilmer': 8.4,\n",
       " 'LeBron James': 4.5,\n",
       " 'Don Cheadle': 4.5,\n",
       " 'Cedric Joe': 4.5,\n",
       " 'Khris Davis': 4.5,\n",
       " 'Christian Bale': 7.8,\n",
       " 'Steve Carell': 7.8,\n",
       " 'Ryan Gosling': 7.8,\n",
       " 'Brad Pitt': 7.8}"
      ]
     },
     "execution_count": 49,
     "metadata": {},
     "output_type": "execute_result"
    }
   ],
   "source": [
    "# we have done this one for you\n",
    "\n",
    "median_ratings_by_cast = {cast_member:median(ratings_by_cast[cast_member]) for cast_member in ratings_by_cast}\n",
    "\n",
    "median_ratings_by_cast"
   ]
  },
  {
   "cell_type": "code",
   "execution_count": 50,
   "id": "059ed8a7-8450-4e0a-bad3-9233ef2c43bb",
   "metadata": {
    "deletable": false,
    "editable": true
   },
   "outputs": [
    {
     "name": "stdout",
     "output_type": "stream",
     "text": [
      "Make sure you saved the notebook before running this cell. Running check for lab-q17...\n",
      "Great job! You passed all test cases for this question.\n"
     ]
    },
    {
     "data": {
      "text/plain": [
       "True"
      ]
     },
     "execution_count": 50,
     "metadata": {},
     "output_type": "execute_result"
    }
   ],
   "source": [
    "student_grader.check(\"lab-q17\", should_get_llm_feedback=False)"
   ]
  },
  {
   "cell_type": "markdown",
   "id": "3e771066-9daf-4aca-8b16-bb35e70a79ce",
   "metadata": {
    "deletable": false,
    "editable": false
   },
   "source": [
    "Now, **plot** `median_ratings_by_cast` as a **bar plot**.\n",
    "\n",
    "Refer back to Task 2.1 at the top of the notebook to refresh yourself on plotting dictionaries.\n",
    "\n",
    "NOTE: This question will not be graded, but make sure you understand how to do this.\n",
    "\n",
    "Your plot should look like this:"
   ]
  },
  {
   "cell_type": "markdown",
   "id": "524b7c2c-0b84-47de-bf97-bd663fadea90",
   "metadata": {
    "deletable": false,
    "editable": false
   },
   "source": [
    "<div><img src=\"attachment:q17.jpg\" style=\"height: 300px;\"/></div>"
   ]
  },
  {
   "cell_type": "code",
   "execution_count": 64,
   "id": "edc1529a-4163-4e0e-94e5-da295ca8eb96",
   "metadata": {
    "deletable": false
   },
   "outputs": [
    {
     "data": {
      "image/png": "[encoded data removed]",
      "text/plain": [
       "<Figure size 900x400 with 1 Axes>"
      ]
     },
     "metadata": {},
     "output_type": "display_data"
    }
   ],
   "source": [
    "# plot 'median_ratings_by_cast' with the y-axis labelled 'median rating'\n",
    "\n",
    "def plot_dict(d, label=\"median rating\"):\n",
    "    #pandas.Series(d):將字典 d 轉換為 Pandas Series（鍵為索引，值為數據）\n",
    "    #sort_index():按 key排序\n",
    "    #.plot.bar():繪製長條圖\n",
    "    ax = pandas.Series(d).sort_index().plot.bar(color=\"black\", fontsize=16, figsize=(4 + len(d)//4, 4))\n",
    "    ax.set_ylabel(label, fontsize=16)\n",
    "    \n",
    "plot_dict(median_ratings_by_cast)"
   ]
  },
  {
   "cell_type": "markdown",
   "id": "8e33604d-ab64-46e8-bda1-acdc6bc40ad8",
   "metadata": {
    "deletable": false,
    "editable": false
   },
   "source": [
    "#### Lab question 18"
   ]
  },
  {
   "cell_type": "markdown",
   "id": "cac7315a-f83f-48d7-b50d-22d41d8c9d4d",
   "metadata": {
    "deletable": false,
    "editable": false
   },
   "source": [
    "Create a new **dictionary** where the **key** is a `cast` member and the **value** is the **minimum** `rating` among all of their movies.\n",
    "\n",
    "Try to use **dictionary comprehension** to answer this question."
   ]
  },
  {
   "cell_type": "markdown",
   "id": "7b64c859-ef84-4072-aa43-f68fed2b5773",
   "metadata": {
    "deletable": false,
    "editable": false
   },
   "source": [
    "Points possible: 4.0"
   ]
  },
  {
   "cell_type": "code",
   "execution_count": 65,
   "id": "93a257f2-f404-4b90-bd83-738fcc951f6e",
   "metadata": {
    "deletable": false,
    "editable": true,
    "tags": [
     "lab-q18-code"
    ]
   },
   "outputs": [
    {
     "data": {
      "text/plain": [
       "{'Pattyeffinmayo': 9.8,\n",
       " 'Parlay Pass': 9.8,\n",
       " 'Sia Poorak': 9.8,\n",
       " 'Kandisha': 9.8,\n",
       " 'Robert Downey Jr.': 7.7,\n",
       " 'Chris Hemsworth': 8.4,\n",
       " 'Mark Ruffalo': 7.7,\n",
       " 'Chris Evans': 8.4,\n",
       " 'Jake Gyllenhaal': 7.7,\n",
       " 'Anthony Edwards': 7.7,\n",
       " 'Tom Cruise': 8.4,\n",
       " 'Jennifer Connelly': 8.4,\n",
       " 'Miles Teller': 8.4,\n",
       " 'Val Kilmer': 8.4,\n",
       " 'LeBron James': 4.5,\n",
       " 'Don Cheadle': 4.5,\n",
       " 'Cedric Joe': 4.5,\n",
       " 'Khris Davis': 4.5,\n",
       " 'Christian Bale': 7.8,\n",
       " 'Steve Carell': 7.8,\n",
       " 'Ryan Gosling': 7.8,\n",
       " 'Brad Pitt': 7.8}"
      ]
     },
     "execution_count": 65,
     "metadata": {},
     "output_type": "execute_result"
    }
   ],
   "source": [
    "# replace the ... with your code\n",
    "\n",
    "min_ratings_by_cast = {cast : min(rating) for cast, rating in ratings_by_cast.items()}\n",
    "\n",
    "min_ratings_by_cast"
   ]
  },
  {
   "cell_type": "code",
   "execution_count": 66,
   "id": "e3783b4c-e9c1-43fc-a4bf-e3fed6faa89b",
   "metadata": {
    "deletable": false,
    "editable": true
   },
   "outputs": [
    {
     "name": "stdout",
     "output_type": "stream",
     "text": [
      "Make sure you saved the notebook before running this cell. Running check for lab-q18...\n",
      "Great job! You passed all test cases for this question.\n"
     ]
    },
    {
     "data": {
      "text/plain": [
       "True"
      ]
     },
     "execution_count": 66,
     "metadata": {},
     "output_type": "execute_result"
    }
   ],
   "source": [
    "student_grader.check(\"lab-q18\", should_get_llm_feedback=False)"
   ]
  },
  {
   "cell_type": "markdown",
   "id": "9a7f0688-9208-428c-8ae4-3c065bd0232c",
   "metadata": {
    "deletable": false,
    "editable": false
   },
   "source": [
    "Now, **plot** `min_ratings_by_cast` as a **bar plot**.\n",
    "\n",
    "NOTE: This question will not be graded, but make sure you understand how to do this.\n",
    "\n",
    "Your plot should look like this:"
   ]
  },
  {
   "cell_type": "markdown",
   "id": "e03c1b15-d16c-4d00-950a-06aad453bb85",
   "metadata": {
    "deletable": false,
    "editable": false
   },
   "source": [
    "<div><img src=\"attachment:q18.jpg\" style=\"height: 300px;\"/></div>"
   ]
  },
  {
   "cell_type": "code",
   "execution_count": 67,
   "id": "28fc53fa-3a28-4634-b9f4-376641a188b8",
   "metadata": {
    "deletable": false
   },
   "outputs": [
    {
     "data": {
      "image/png": "[encoded data removed]",
      "text/plain": [
       "<Figure size 900x400 with 1 Axes>"
      ]
     },
     "metadata": {},
     "output_type": "display_data"
    }
   ],
   "source": [
    "# plot 'min_ratings_by_cast' with the y-axis labelled 'minimum rating'\n",
    "\n",
    "plot_dict(min_ratings_by_cast, \"min rating\")"
   ]
  },
  {
   "cell_type": "markdown",
   "id": "1e10283e-ee75-4a14-a4ee-ed335dc3710f",
   "metadata": {
    "deletable": false,
    "editable": false
   },
   "source": [
    "#### Lab question 19"
   ]
  },
  {
   "cell_type": "markdown",
   "id": "25e43b5b-20ee-48bb-a810-1369cca53f07",
   "metadata": {
    "deletable": false,
    "editable": false
   },
   "source": [
    "What is the **minimum** `rating` of any movie starring *Mark Ruffalo*? You should use the `min_ratings_by_cast dictionary` from the previous problem to answer this question."
   ]
  },
  {
   "cell_type": "markdown",
   "id": "f5f4e218-59db-4177-b596-e63b6f5f3a34",
   "metadata": {
    "deletable": false,
    "editable": false
   },
   "source": [
    "Points possible: 4.0"
   ]
  },
  {
   "cell_type": "code",
   "execution_count": 68,
   "id": "f54b43c8-a7f0-4f8f-9206-cd2f8491f39a",
   "metadata": {
    "deletable": false,
    "editable": true,
    "tags": [
     "lab-q19-code"
    ]
   },
   "outputs": [
    {
     "data": {
      "text/plain": [
       "7.7"
      ]
     },
     "execution_count": 68,
     "metadata": {},
     "output_type": "execute_result"
    }
   ],
   "source": [
    "# replace the ... with your code\n",
    "\n",
    "mark_ruffalo_min_rating = min_ratings_by_cast[\"Mark Ruffalo\"]\n",
    "\n",
    "mark_ruffalo_min_rating"
   ]
  },
  {
   "cell_type": "code",
   "execution_count": 69,
   "id": "3767cb58-bcf1-40fd-814d-b40e5f93e678",
   "metadata": {
    "deletable": false,
    "editable": true
   },
   "outputs": [
    {
     "name": "stdout",
     "output_type": "stream",
     "text": [
      "Make sure you saved the notebook before running this cell. Running check for lab-q19...\n",
      "Great job! You passed all test cases for this question.\n"
     ]
    },
    {
     "data": {
      "text/plain": [
       "True"
      ]
     },
     "execution_count": 69,
     "metadata": {},
     "output_type": "execute_result"
    }
   ],
   "source": [
    "student_grader.check(\"lab-q19\", should_get_llm_feedback=False)"
   ]
  },
  {
   "cell_type": "markdown",
   "id": "c71a5078-5c76-4b1b-abcf-5a0e97aeb978",
   "metadata": {
    "deletable": false,
    "editable": false
   },
   "source": [
    "#### Lab question 20"
   ]
  },
  {
   "cell_type": "markdown",
   "id": "f436d62c-e2ee-4291-b35d-f79a297a253c",
   "metadata": {
    "deletable": false,
    "editable": false
   },
   "source": [
    "What is the **median** of the **minimum** `rating` of all the `cast` members in the dataset?\n",
    "\n",
    "You **must** find the **median** of all the values in the `min_ratings_by_cast` **dictionary**."
   ]
  },
  {
   "cell_type": "markdown",
   "id": "91559696-9916-4ccb-adba-b2007bba0f3f",
   "metadata": {
    "deletable": false,
    "editable": false
   },
   "source": [
    "Points possible: 4.0"
   ]
  },
  {
   "cell_type": "code",
   "execution_count": 70,
   "id": "37105b52-dd48-4989-875b-5a0164d93f53",
   "metadata": {
    "deletable": false,
    "editable": true,
    "tags": [
     "lab-q20-code"
    ]
   },
   "outputs": [
    {
     "data": {
      "text/plain": [
       "7.8"
      ]
     },
     "execution_count": 70,
     "metadata": {},
     "output_type": "execute_result"
    }
   ],
   "source": [
    "# replace the ... with your code\n",
    "\n",
    "median_min_ratings =  median(min_ratings_by_cast.values())\n",
    "median_min_ratings"
   ]
  },
  {
   "cell_type": "code",
   "execution_count": 71,
   "id": "24af6d4e-025f-453c-bb89-ede140530bf0",
   "metadata": {
    "deletable": false,
    "editable": true
   },
   "outputs": [
    {
     "name": "stdout",
     "output_type": "stream",
     "text": [
      "Make sure you saved the notebook before running this cell. Running check for lab-q20...\n",
      "Great job! You passed all test cases for this question.\n"
     ]
    },
    {
     "data": {
      "text/plain": [
       "True"
      ]
     },
     "execution_count": 71,
     "metadata": {},
     "output_type": "execute_result"
    }
   ],
   "source": [
    "student_grader.check(\"lab-q20\", should_get_llm_feedback=False)"
   ]
  },
  {
   "cell_type": "markdown",
   "id": "b2bc7ced-39fe-42a9-8835-e819f3dc7040",
   "metadata": {
    "deletable": false,
    "editable": false
   },
   "source": [
    "#### Lab question 21"
   ]
  },
  {
   "cell_type": "markdown",
   "id": "388b72e2-e55c-4109-a307-a5af278eb054",
   "metadata": {
    "deletable": false,
    "editable": false
   },
   "source": [
    "Which `cast` member's **minimum** `rating` is the **highest**?\n",
    "\n",
    "There will be **multiple** `cast` members having the **same** **highest** `rating` so you will have to make a **list** containing **all** these names.\n",
    "\n",
    "**Hint:** You need to find the highest min rating first and then find the specific cast members"
   ]
  },
  {
   "cell_type": "markdown",
   "id": "ef6d0de1-9104-4050-aa1a-97f4ffa32968",
   "metadata": {
    "deletable": false,
    "editable": false
   },
   "source": [
    "Points possible: 5.0"
   ]
  },
  {
   "cell_type": "code",
   "execution_count": 72,
   "id": "0c1bf23c-1680-4373-af3c-a6131a786834",
   "metadata": {
    "deletable": false,
    "editable": true,
    "tags": [
     "lab-q21-code"
    ]
   },
   "outputs": [
    {
     "data": {
      "text/plain": [
       "['Pattyeffinmayo', 'Parlay Pass', 'Sia Poorak', 'Kandisha']"
      ]
     },
     "execution_count": 72,
     "metadata": {},
     "output_type": "execute_result"
    }
   ],
   "source": [
    "# replace the ... with your code\n",
    "\n",
    "highest_min_rated_cast = []\n",
    "highest_min_rating = None\n",
    "\n",
    "for cast_member in min_ratings_by_cast:\n",
    "    if highest_min_rating == None or (min_ratings_by_cast[cast_member] > highest_min_rating):\n",
    "        highest_min_rating = min_ratings_by_cast[cast_member]\n",
    "        highest_min_rated_cast = [cast_member]  \n",
    "        \n",
    "    elif min_ratings_by_cast[cast_member] == highest_min_rating:\n",
    "        highest_min_rated_cast.append(cast_member)  \n",
    "        \n",
    "highest_min_rated_cast"
   ]
  },
  {
   "cell_type": "code",
   "execution_count": 73,
   "id": "6a60f45e-350a-4cb0-9aee-e34519fcc859",
   "metadata": {
    "deletable": false,
    "editable": true
   },
   "outputs": [
    {
     "name": "stdout",
     "output_type": "stream",
     "text": [
      "Make sure you saved the notebook before running this cell. Running check for lab-q21...\n",
      "Great job! You passed all test cases for this question.\n"
     ]
    },
    {
     "data": {
      "text/plain": [
       "True"
      ]
     },
     "execution_count": 73,
     "metadata": {},
     "output_type": "execute_result"
    }
   ],
   "source": [
    "student_grader.check(\"lab-q21\", should_get_llm_feedback=False)"
   ]
  },
  {
   "cell_type": "markdown",
   "id": "d5bfc5a8-78d5-481e-be1e-0e3fa0c319f9",
   "metadata": {
    "deletable": false,
    "editable": false
   },
   "source": [
    "### Submitting the lab"
   ]
  },
  {
   "cell_type": "markdown",
   "id": "aabeb9cc-fc15-4612-ab86-3f31b62c279a",
   "metadata": {
    "deletable": false,
    "editable": false
   },
   "source": [
    "Submit your `p9.ipynb` on Gradescope to the lab-p9 assignment, like usual. Remember that the grades for the lab portion of the project and the actual assignment grade are independent. You will submit the same notebook (at different levels of completion) to two different assignments."
   ]
  },
  {
   "cell_type": "markdown",
   "id": "6dd7898a-c707-4b54-b6c3-2126e0efdccd",
   "metadata": {
    "deletable": false,
    "editable": false
   },
   "source": [
    "## Project portion (10 questions, 1 function):"
   ]
  },
  {
   "cell_type": "markdown",
   "id": "e9754830",
   "metadata": {
    "deletable": false,
    "editable": false
   },
   "source": [
    "## Introduction:\n",
    "\n",
    "In P8, you created very useful helper functions to parse the raw IMDb dataset. You also created useful data structures to store the data. In this project, you will be building on the work you did in P8 to analyze your favorite movies. This is a shorter project than usual, and **P9 will only have 10 questions for you to solve**.\n",
    "\n",
    "In P9, you will be analyzing the same dataset that you worked with in P8."
   ]
  },
  {
   "cell_type": "markdown",
   "id": "6a7614b2",
   "metadata": {
    "deletable": false,
    "editable": false
   },
   "source": [
    "## Project Requirements:"
   ]
  },
  {
   "cell_type": "markdown",
   "id": "0e5b89e5-f5e2-43b2-969d-5db113956572",
   "metadata": {
    "deletable": false,
    "editable": false
   },
   "source": [
    "You **may not** hardcode indices in your code, unless the question explicitly asks you to do so. If you open your `.csv` files with Excel, manually count through the rows and use this number to loop through the dataset, this is also considered as hardcoding. If any instances of hardcoding are found during code review, the autograder will **deduct** points from your public score.\n",
    "\n",
    "**Store** your final answer for each question in the **variable specified for each question**. This step is important because the autograder grades your work by comparing the value of this variable against the correct answer.\n",
    "\n",
    "For some of the questions, we'll ask you to write (then use) a function to compute the answer. If you compute the answer **without** creating the function we ask you to write, you will not be awarded any points.\n",
    "\n",
    "#### Required Functions:\n",
    "- `get_mapping`\n",
    "- `get_raw_movies`\n",
    "- `get_movies`\n",
    "- `find_specific_movies`\n",
    "- `bucketize`\n",
    "\n",
    "In this project, you will also be required to define certain **data structures**. If you do not create these data structures exactly as specified, you will not be awarded points.\n",
    "\n",
    "#### Required Data Structures:\n",
    "- `movies`\n",
    "- `cast_buckets`\n",
    "- `director_buckets`\n",
    "- `genre_buckets`\n",
    "- `year_buckets`\n",
    "\n",
    "You should only define these data structures **once**.\n",
    "\n",
    "In this project (and the next), you will be asked to create **lists** of movies. For all such questions, **unless it is explicitly mentioned otherwise**, the movies should be in the **same order** as in the `movies.csv` (or `small_movies.csv`) file. Similarly, for each movie, the **list** of `genres`, `directors`, and `cast` members should always be in the **same order** as in the `movies.csv` (or `small_movies.csv`) file.\n",
    "\n",
    "Students are only allowed to use Python commands and concepts that have been taught in the course prior to the release of P9. Therefore, you should not use the `pandas` module."
   ]
  },
  {
   "cell_type": "markdown",
   "id": "6887bd16",
   "metadata": {
    "deletable": false,
    "editable": false
   },
   "source": [
    "### Loading the Movies Data"
   ]
  },
  {
   "cell_type": "markdown",
   "id": "cc64fdaf-ae20-4691-a109-1950ee7b4c29",
   "metadata": {
    "deletable": false,
    "editable": false
   },
   "source": [
    "For all these questions, we will be looking at the movies in `mapping.csv` and `movies.csv`. You can load the list of movies using the functions you wrote in the last project."
   ]
  },
  {
   "cell_type": "markdown",
   "id": "04d36797",
   "metadata": {
    "deletable": false,
    "editable": false
   },
   "source": [
    "We have provided the functions you wrote in `p8.ipynb` to `p9.ipynb` to read the movies data. The functions included are `process_csv`, `get_mapping`, `get_raw_movies`, and `get_movies`. DO NOT modify these. Later in P9, we will provide you with a simpler version of the function `find_specific_movies`, which does not require the use of the `copy` module."
   ]
  },
  {
   "cell_type": "code",
   "execution_count": 88,
   "id": "f8a88445",
   "metadata": {
    "deletable": false
   },
   "outputs": [],
   "source": [
    "# definition of process_csv from previous projects (p6 or p7)\n",
    "# definition of get_mapping from p8.ipynb\n",
    "# DO NOT MODIFY THIS CELL\n",
    "\n",
    "def process_csv(filename):\n",
    "    exampleFile = open(filename, encoding=\"utf-8\")\n",
    "    exampleReader = csv.reader(exampleFile)\n",
    "    exampleData = list(exampleReader)\n",
    "    exampleFile.close()\n",
    "    return exampleData\n",
    "\n",
    "def get_mapping(path):\n",
    "    csv_rows = process_csv(path)\n",
    "    mapping_dict = {}\n",
    "    for row in csv_rows:\n",
    "        mapping_dict[row[0]] = row[1]\n",
    "    return mapping_dict\n"
   ]
  },
  {
   "cell_type": "code",
   "execution_count": 89,
   "id": "104a69c7-0536-4135-b503-222706f8dad6",
   "metadata": {
    "deletable": false
   },
   "outputs": [],
   "source": [
    "# definition of get_raw_movies from p8.ipynb\n",
    "# DO NOT MODIFY THIS CELL\n",
    "\n",
    "def get_raw_movies(path):\n",
    "    csv_rows = process_csv(path)\n",
    "    csv_header = csv_rows[0]\n",
    "    csv_data = csv_rows[1:]\n",
    "    \n",
    "    raw_movies_list = []\n",
    "    for row in csv_data:\n",
    "        movie_dict = {}\n",
    "        for i in range(len(csv_header)):\n",
    "            if csv_header[i] in ['year', 'duration']:\n",
    "                movie_dict[csv_header[i]] = int(row[i])\n",
    "            elif csv_header[i] in ['genres', 'directors', 'cast']:\n",
    "                movie_dict[csv_header[i]] = row[i].split(\", \")\n",
    "            elif csv_header[i] == 'rating':\n",
    "                movie_dict[csv_header[i]] = float(row[i])\n",
    "            else:\n",
    "                movie_dict[csv_header[i]] = row[i]\n",
    "        raw_movies_list.append(movie_dict)   \n",
    "    return raw_movies_list\n"
   ]
  },
  {
   "cell_type": "code",
   "execution_count": 90,
   "id": "06fa306e-1d23-47f0-a6ec-0c8dc1bcb2e0",
   "metadata": {
    "deletable": false
   },
   "outputs": [],
   "source": [
    "# definition of get_movies from p8.ipynb\n",
    "# DO NOT MODIFY THIS CELL\n",
    "\n",
    "def get_movies(movies_path, mapping_path):\n",
    "    movies_data = get_raw_movies(movies_path)\n",
    "    mapping_data = get_mapping(mapping_path)\n",
    "    for movie in movies_data:\n",
    "        movie['title'] = mapping_data[movie['title']]\n",
    "        for i in range(len(movie['directors'])):\n",
    "            movie['directors'][i] = mapping_data[movie['directors'][i]]\n",
    "        for i in range(len(movie['cast'])):\n",
    "            movie['cast'][i] = mapping_data[movie['cast'][i]]    \n",
    "    return movies_data\n"
   ]
  },
  {
   "cell_type": "markdown",
   "id": "ff245047-6643-46cd-90bc-d697ba3c9f69",
   "metadata": {
    "deletable": false,
    "editable": false
   },
   "source": [
    "#### Data loading"
   ]
  },
  {
   "cell_type": "markdown",
   "id": "1ddfafe3",
   "metadata": {
    "deletable": false,
    "editable": false
   },
   "source": [
    "Now, you can use `get_movies` to read the data in `movies.csv` and `mapping.csv` as you did in P8."
   ]
  },
  {
   "cell_type": "markdown",
   "id": "62c63da4-d558-491b-86d1-1d7e1893dda0",
   "metadata": {
    "deletable": false,
    "editable": false
   },
   "source": [
    "Points possible: 1.0"
   ]
  },
  {
   "cell_type": "code",
   "execution_count": 91,
   "id": "a7914c33",
   "metadata": {
    "deletable": false,
    "editable": true,
    "tags": [
     "movies-code"
    ]
   },
   "outputs": [],
   "source": [
    "# create a list of dictionaries named 'movies' to store the data in 'movies.csv' and 'mapping.csv' as in p8\n",
    "# replace the ... with your code\n",
    "\n",
    "movies = get_movies(\"movies.csv\", \"mapping.csv\")\n",
    "\n",
    "# do NOT display the value of this variable anywhere in this notebook"
   ]
  },
  {
   "cell_type": "code",
   "execution_count": 92,
   "id": "c7e48bbd-99a1-4ab6-aa34-b8c3404705d0",
   "metadata": {
    "deletable": false,
    "editable": true
   },
   "outputs": [
    {
     "name": "stdout",
     "output_type": "stream",
     "text": [
      "Make sure you saved the notebook before running this cell. Running check for movies...\n",
      "Great job! You passed all test cases for this question.\n"
     ]
    },
    {
     "data": {
      "text/plain": [
       "True"
      ]
     },
     "execution_count": 92,
     "metadata": {},
     "output_type": "execute_result"
    }
   ],
   "source": [
    "student_grader.check(\"movies\", should_get_llm_feedback=False) "
   ]
  },
  {
   "cell_type": "markdown",
   "id": "8916aba2",
   "metadata": {
    "deletable": false,
    "editable": false
   },
   "source": [
    "There should be *75123* **dictionaries** in the **list** `movies` and the first entry of `movies` should be a **dictionary** that looks as follows:\n",
    "\n",
    "```python\n",
    "{'title': 'Countdown',\n",
    " 'year': 1996,\n",
    " 'duration': 90,\n",
    " 'genres': ['Crime', 'Mystery', 'Thriller'],\n",
    " 'rating': 3.9,\n",
    " 'directors': ['Keoni Waxman'],\n",
    " 'cast': ['Yûki Amami', 'Lori Petty', 'Jason London', 'James Le Gros']}\n",
    "```\n",
    "\n",
    "Also, just like in P8, delete any cells displaying the whole of `movies` data structure before turning in `p9.ipynb`."
   ]
  },
  {
   "cell_type": "markdown",
   "id": "8618c47c",
   "metadata": {
    "deletable": false,
    "editable": false
   },
   "source": [
    "In P8, you were provided with a function `find_specific_movies` which functioned as some sort of a 'search bar' for the movies dataset. However, in order to use that function properly, you had to use the `copy` module to pass a *copy* of your list of movies to `find_specific_movies`. Making copies frequently is **not** a good coding practice. For this project, we will provide **a new version** of `find_specific_movies` that does **not** require using `copy`. Please go through the following function:"
   ]
  },
  {
   "cell_type": "code",
   "execution_count": 93,
   "id": "5b67b538-d33d-4605-b7ec-ea9fa43e34b9",
   "metadata": {
    "deletable": false
   },
   "outputs": [],
   "source": [
    "# modified find_specific_movies (doesn't require using copy module)\n",
    "# DO NOT modify this function\n",
    "\n",
    "def find_specific_movies(movies, keyword):\n",
    "    \"\"\"\n",
    "    find_specific_movies(movies, keyword) takes a list of movie dictionaries \n",
    "    and a keyword; it returns a list of movies that contain the keyword\n",
    "    in either its title, genre, cast or directors.\n",
    "    \"\"\"\n",
    "    movies_with_keyword = []\n",
    "    for movie in movies:\n",
    "        if (keyword in movie['title']) or (keyword in movie['genres']) \\\n",
    "            or (keyword in movie['directors']) or (keyword in movie['cast']):\n",
    "            movies_with_keyword.append(movie)\n",
    "    return movies_with_keyword"
   ]
  },
  {
   "cell_type": "markdown",
   "id": "93af2529",
   "metadata": {
    "deletable": false,
    "editable": false
   },
   "source": [
    "**Important:** **Even when you are not explicitly prompted to do so, using the `find_specific_movies` function cleverly can simplify your code significantly. Keep an eye out for how you can simplify your code by making use of `find_specific_movies`.**"
   ]
  },
  {
   "cell_type": "markdown",
   "id": "7f1c4751",
   "metadata": {
    "deletable": false,
    "editable": false
   },
   "source": [
    "### Analyzing the Movies data"
   ]
  },
  {
   "cell_type": "markdown",
   "id": "2747c245-10ac-43f3-9a9d-6e9478f8cc78",
   "metadata": {
    "deletable": false,
    "editable": false
   },
   "source": [
    "#### Project Question 1"
   ]
  },
  {
   "cell_type": "markdown",
   "id": "56da8b79",
   "metadata": {
    "deletable": false,
    "editable": false
   },
   "source": [
    "What is the **median** `rating` of the movies that **involve** both *Clint Eastwood* and *Sergio Leone*?\n",
    "\n",
    "You **must** make multiple calls to the `find_specific_movies` function to identify the movies which involve both *Clint Eastwood* and *Sergio Leone*."
   ]
  },
  {
   "cell_type": "markdown",
   "id": "dee6229b-7daf-46f2-9dd3-f278ecd24f76",
   "metadata": {
    "deletable": false,
    "editable": false
   },
   "source": [
    "Points possible: 8.0"
   ]
  },
  {
   "cell_type": "code",
   "execution_count": 96,
   "id": "c3589ac0",
   "metadata": {
    "deletable": false,
    "editable": true,
    "tags": [
     "q1-code"
    ]
   },
   "outputs": [
    {
     "data": {
      "text/plain": [
       "8.2"
      ]
     },
     "execution_count": 96,
     "metadata": {},
     "output_type": "execute_result"
    }
   ],
   "source": [
    "# compute and store the answer in the variable 'median_eastwood_leone_rating'\n",
    "\n",
    "Clint = find_specific_movies(movies, \"Clint Eastwood\")\n",
    "Sergio = find_specific_movies(movies, \"Sergio Leone\")\n",
    "\n",
    "moviee = [movie for movie in Clint if movie in Sergio]\n",
    "ratings = [movie['rating'] for movie in moviee]\n",
    "\n",
    "median_eastwood_leone_rating = median(ratings)\n",
    "median_eastwood_leone_rating"
   ]
  },
  {
   "cell_type": "code",
   "execution_count": 97,
   "id": "65ec8aa3",
   "metadata": {
    "deletable": false,
    "editable": true
   },
   "outputs": [
    {
     "name": "stdout",
     "output_type": "stream",
     "text": [
      "Make sure you saved the notebook before running this cell. Running check for q1...\n",
      "Great job! You passed all test cases for this question.\n"
     ]
    },
    {
     "data": {
      "text/plain": [
       "True"
      ]
     },
     "execution_count": 97,
     "metadata": {},
     "output_type": "execute_result"
    }
   ],
   "source": [
    "student_grader.check(\"q1\", should_get_llm_feedback=False) "
   ]
  },
  {
   "cell_type": "markdown",
   "id": "b203c940-4fe8-49af-875e-49a6fc9f8c62",
   "metadata": {
    "deletable": false,
    "editable": false
   },
   "source": [
    "#### Project Question 2"
   ]
  },
  {
   "cell_type": "markdown",
   "id": "8a769290",
   "metadata": {
    "deletable": false,
    "editable": false
   },
   "source": [
    "Among all the *Toy Story* movies, which ones are the **highest** rated?\n",
    "\n",
    "Your output **must** be a **list** of **dictionaries**. You **must** use `find_specific_movies` to identify all movies which have *Toy Story* as a substring of their `title`. You may assume there is no cast member or director named *Toy Story*, or any genre called *Toy Story*.\n",
    "\n",
    "**Hint:** You could first find the **highest** `rating` that any *Toy Story* movie received, and then find all the *Toy Story* movies that received that `rating`."
   ]
  },
  {
   "cell_type": "markdown",
   "id": "04568d8c-6b08-498e-ae2f-4d9399b2aac1",
   "metadata": {
    "deletable": false,
    "editable": false
   },
   "source": [
    "Points possible: 8.0"
   ]
  },
  {
   "cell_type": "code",
   "execution_count": 98,
   "id": "75341871",
   "metadata": {
    "deletable": false,
    "editable": true,
    "tags": [
     "q2-code"
    ]
   },
   "outputs": [
    {
     "data": {
      "text/plain": [
       "[{'title': 'Toy Story 3',\n",
       "  'year': 2010,\n",
       "  'duration': 103,\n",
       "  'genres': ['Adventure', 'Animation', 'Comedy'],\n",
       "  'rating': 8.3,\n",
       "  'directors': ['Lee Unkrich'],\n",
       "  'cast': ['Tom Hanks', 'Tim Allen', 'Joan Cusack', 'Ned Beatty']},\n",
       " {'title': 'Toy Story',\n",
       "  'year': 1995,\n",
       "  'duration': 81,\n",
       "  'genres': ['Adventure', 'Animation', 'Comedy'],\n",
       "  'rating': 8.3,\n",
       "  'directors': ['John Lasseter'],\n",
       "  'cast': ['Tom Hanks', 'Tim Allen', 'Don Rickles', 'Jim Varney']}]"
      ]
     },
     "execution_count": 98,
     "metadata": {},
     "output_type": "execute_result"
    }
   ],
   "source": [
    "toy_story_movies = find_specific_movies(movies, 'Toy Story')\n",
    "\n",
    "highest_rated_toy_story_movies = None\n",
    "\n",
    "if toy_story_movies:\n",
    "    highest_toy_story_rating = max(movie['rating'] for movie in toy_story_movies)\n",
    "    highest_rated_toy_story_movies = [movie for movie in toy_story_movies if movie['rating'] == highest_toy_story_rating]\n",
    "\n",
    "highest_rated_toy_story_movies"
   ]
  },
  {
   "cell_type": "code",
   "execution_count": 99,
   "id": "c6509374",
   "metadata": {
    "deletable": false,
    "editable": true
   },
   "outputs": [
    {
     "name": "stdout",
     "output_type": "stream",
     "text": [
      "Make sure you saved the notebook before running this cell. Running check for q2...\n",
      "Great job! You passed all test cases for this question.\n"
     ]
    },
    {
     "data": {
      "text/plain": [
       "True"
      ]
     },
     "execution_count": 99,
     "metadata": {},
     "output_type": "execute_result"
    }
   ],
   "source": [
    "student_grader.check(\"q2\", should_get_llm_feedback=False) "
   ]
  },
  {
   "cell_type": "markdown",
   "id": "b366d7b3",
   "metadata": {
    "deletable": false,
    "editable": false
   },
   "source": [
    "#### Function 1: `bucketize(movies_list, category)`"
   ]
  },
  {
   "cell_type": "markdown",
   "id": "2264c2c6-3e06-4572-b965-131e8d39e9b2",
   "metadata": {
    "deletable": false,
    "editable": false
   },
   "source": [
    "This function should take in a **list** of movie **dictionaries** as well as a **category** (i.e. `title`, `year`, `duration`, `genres`, `rating`, `directors`, or `cast`), and *bucketize* the **list** of movie **dictionaries** by this **category**.\n",
    "\n",
    "For example, the output of `bucketize(movies, 'rating')` should be a **dictionary** so that all the unique values of `rating` of the movies in `movies` are the **keys** and the correspoding **values** would be a **list** of all movie **dictionaries** with that rating (e.g., the value of the key *6.4* should be the **list** of movie dictionaries with `rating` of *6.4*).\n",
    "\n",
    "The output of `bucketize(movies, 'rating')` should look like this:\n",
    "\n",
    "```python\n",
    "{3.9: [{'title': 'Countdown',\n",
    "       'year': 1996,\n",
    "       'duration': 90,\n",
    "       'genres': ['Crime', 'Mystery', 'Thriller'],\n",
    "       'rating': 3.9,\n",
    "       'directors': ['Keoni Waxman'],\n",
    "       'cast': ['Yûki Amami', 'Lori Petty', 'Jason London', 'James Le Gros']},\n",
    "      {'title': 'A Darker Reality',\n",
    "       'year': 2008,\n",
    "       'duration': 88,\n",
    "       'genres': ['Horror'],\n",
    "       'rating': 3.9,\n",
    "       'directors': ['Chris Kazmier'],\n",
    "       'cast': ['Daniel Baldwin', 'James C. Burns', 'Sunny Doench', 'Alisha Seaton']},\n",
    "       ...\n",
    "      ],\n",
    " 4.1: [{'title': 'Shadows & Lies',\n",
    "      'year': 2010,\n",
    "      'duration': 100,\n",
    "      'genres': ['Crime', 'Drama'],\n",
    "      'rating': 4.1,\n",
    "      'directors': ['Jay Anania'],\n",
    "      'cast': ['James Franco', 'Julianne Nicholson', 'Martin Donovan', 'Josh Lucas']},\n",
    "     {'title': 'Paramedics',\n",
    "      'year': 1988,\n",
    "      'duration': 90,\n",
    "      'genres': ['Comedy'],\n",
    "      'rating': 4.1,\n",
    "      'directors': ['Stuart Margolin'],\n",
    "      'cast': ['George Newbern', 'Christopher McDonald', 'John P. Ryan', 'James Noble']},\n",
    "       ...\n",
    "      ],\n",
    " ...\n",
    "}\n",
    "```\n",
    "\n",
    "Similarly, the output of `bucketize(movies, 'cast')` should be a **dictionary** so that all the unique `cast` members of the movies in `movies` are the **keys** and the corresponding **values** would be a **list** of all movie **dictionaries** with that cast member as one of their `cast` (e.g., the value of the key *Kate Winslet* should be the **list** of movie dictionaries with *Kate Winslet* as one of their `cast` members).\n",
    "\n",
    "The output of `bucketize(movies, 'cast')` should look like this:\n",
    "\n",
    "```python\n",
    "{'Peter Coyote': [{'title': 'Outrageous Fortune',\n",
    "                      'year': 1987,\n",
    "                      'duration': 99,\n",
    "                      'genres': ['Comedy'],\n",
    "                      'rating': 6.2,\n",
    "                      'directors': ['Arthur Hiller'],\n",
    "                      'cast': ['Shelley Long', 'Bette Midler', 'Peter Coyote', 'Robert Prosky']},\n",
    "                     {'title': 'Sphere',\n",
    "                      'year': 1998,\n",
    "                      'duration': 134,\n",
    "                      'genres': ['Action', 'Mystery', 'Sci-Fi'],\n",
    "                      'rating': 6.1,\n",
    "                      'directors': ['Barry Levinson'],\n",
    "                      'cast': ['Dustin Hoffman', 'Sharon Stone', 'Samuel L. Jackson', 'Peter Coyote']},\n",
    "                   ...\n",
    "                  ],\n",
    " 'Tchéky Karyo': [{'title': 'Vincent and Me',\n",
    "                      'year': 1990,\n",
    "                      'duration': 100,\n",
    "                      'genres': ['Drama', 'Family', 'Fantasy'],\n",
    "                      'rating': 6.2,\n",
    "                      'directors': ['Michael Rubbo'],\n",
    "                      'cast': ['Tchéky Karyo', 'Nina Petronzio', 'Christopher Forrest', 'Paul Klerk']},\n",
    "                     {'title': 'Utopía',\n",
    "                      'year': 2003,\n",
    "                      'duration': 106,\n",
    "                      'genres': ['Fantasy', 'Sci-Fi', 'Thriller'],\n",
    "                      'rating': 5.2,\n",
    "                      'directors': ['Maria Ripoll'],\n",
    "                      'cast': ['Leonardo Sbaraglia', 'Najwa Nimri', 'Tchéky Karyo', 'José Garcia']},\n",
    "                   ...\n",
    "                  ]\n",
    " ...\n",
    "} \n",
    "```\n",
    "\n",
    "**Hints:** Note that depending on whether or not the `category` represents a **list** or not, your function will have to behave differently. In P8, you created a function `bucketize_by_genre` that *bucketized* the list of movies by their genre. Take a moment to find that function; it will help you here. Also, take a moment to look at the buckets you made in Lab-P9."
   ]
  },
  {
   "cell_type": "markdown",
   "id": "4bd007b4-44a2-4244-8809-950568547d91",
   "metadata": {
    "deletable": false,
    "editable": false
   },
   "source": [
    "Points possible: 7.0"
   ]
  },
  {
   "cell_type": "code",
   "execution_count": 100,
   "id": "daf0903f",
   "metadata": {
    "deletable": false,
    "editable": true,
    "tags": [
     "bucketize-code"
    ]
   },
   "outputs": [],
   "source": [
    "# replace the ... with your code to finish the definition of bucketize\n",
    "\n",
    "def bucketize(movie_list, category):\n",
    "    buckets = {}\n",
    "    for movie in movie_list:\n",
    "        category_value = movie[category]  #TODO: access the category value from a movie\n",
    "        # TODO: bucketize depending on the type of `category_value`\n",
    "        if type(category_value) == list: \n",
    "            for value in category_value:\n",
    "                if value not in buckets:\n",
    "                    buckets[value] = []  \n",
    "                buckets[value].append(movie) \n",
    "        else:\n",
    "            if category_value not in buckets:\n",
    "                buckets[category_value] = []  \n",
    "            buckets[category_value].append(movie)\n",
    "                \n",
    "    return buckets\n"
   ]
  },
  {
   "cell_type": "code",
   "execution_count": 101,
   "id": "81936796-cd41-4060-a988-837a9a8550d4",
   "metadata": {
    "deletable": false,
    "editable": true
   },
   "outputs": [
    {
     "name": "stdout",
     "output_type": "stream",
     "text": [
      "Make sure you saved the notebook before running this cell. Running check for bucketize...\n",
      "Great job! You passed all test cases for this question.\n"
     ]
    },
    {
     "data": {
      "text/plain": [
       "True"
      ]
     },
     "execution_count": 101,
     "metadata": {},
     "output_type": "execute_result"
    }
   ],
   "source": [
    "student_grader.check(\"bucketize\", should_get_llm_feedback=False) "
   ]
  },
  {
   "cell_type": "markdown",
   "id": "ed28b578",
   "metadata": {
    "deletable": false,
    "editable": false
   },
   "source": [
    "**Important:** Just like `get_movies`, `bucketize` is quite a time-consuming function to run. Hence, you do **not** want to call `bucketize` on the same list of movies and category **more than once**. Throughout the project, we will frequently use bucketized lists of movies organized by their `cast`, `directors`, `genre`, and `year`. Rather than calling `bucketize` several times, we will store the bucketized lists in the following variables:"
   ]
  },
  {
   "cell_type": "markdown",
   "id": "a82735cd-4a17-4967-9a20-939683e243ee",
   "metadata": {
    "deletable": false,
    "editable": false
   },
   "source": [
    "#### Data Structure 1: `cast_buckets`"
   ]
  },
  {
   "cell_type": "markdown",
   "id": "86138244-1c8d-4ce6-8641-53d71f638e62",
   "metadata": {
    "deletable": false,
    "editable": false
   },
   "source": [
    "Points possible: 3.0"
   ]
  },
  {
   "cell_type": "code",
   "execution_count": 102,
   "id": "cacb7901-9095-40de-8299-463ff4893dc6",
   "metadata": {
    "deletable": false,
    "editable": true,
    "tags": [
     "cast_buckets-code"
    ]
   },
   "outputs": [],
   "source": [
    "# define `cast_buckets`, but do NOT display the output here\n",
    "\n",
    "# bucketize the full list of movies by their cast.\n",
    "cast_buckets =  bucketize(movies, 'cast')"
   ]
  },
  {
   "cell_type": "code",
   "execution_count": 103,
   "id": "24cc7f00-2937-44ef-925b-7e92134797b3",
   "metadata": {
    "deletable": false,
    "editable": true
   },
   "outputs": [
    {
     "name": "stdout",
     "output_type": "stream",
     "text": [
      "Make sure you saved the notebook before running this cell. Running check for cast_buckets...\n",
      "Great job! You passed all test cases for this question.\n"
     ]
    },
    {
     "data": {
      "text/plain": [
       "True"
      ]
     },
     "execution_count": 103,
     "metadata": {},
     "output_type": "execute_result"
    }
   ],
   "source": [
    "student_grader.check(\"cast_buckets\", should_get_llm_feedback=False) "
   ]
  },
  {
   "cell_type": "markdown",
   "id": "8b6ec257-caf1-45b8-a60a-17af19481289",
   "metadata": {
    "deletable": false,
    "editable": false
   },
   "source": [
    "#### Data Structure 2: `director_buckets`"
   ]
  },
  {
   "cell_type": "markdown",
   "id": "034930c7-69e8-48f0-a44b-8baa37357a0f",
   "metadata": {
    "deletable": false,
    "editable": false
   },
   "source": [
    "Points possible: 3.0"
   ]
  },
  {
   "cell_type": "code",
   "execution_count": 104,
   "id": "480a5da9-ccd9-4795-8b18-bf517c090356",
   "metadata": {
    "deletable": false,
    "editable": true,
    "tags": [
     "director_buckets-code"
    ]
   },
   "outputs": [],
   "source": [
    "# define `director_buckets`, but do NOT display the output here\n",
    "\n",
    "# bucketize the full list of movies by their directors.\n",
    "director_buckets = bucketize(movies, \"directors\")\n"
   ]
  },
  {
   "cell_type": "code",
   "execution_count": 105,
   "id": "c8c2fad9-5cf3-41cd-976c-abff60d7f387",
   "metadata": {
    "deletable": false,
    "editable": true
   },
   "outputs": [
    {
     "name": "stdout",
     "output_type": "stream",
     "text": [
      "Make sure you saved the notebook before running this cell. Running check for director_buckets...\n",
      "Great job! You passed all test cases for this question.\n"
     ]
    },
    {
     "data": {
      "text/plain": [
       "True"
      ]
     },
     "execution_count": 105,
     "metadata": {},
     "output_type": "execute_result"
    }
   ],
   "source": [
    "student_grader.check(\"director_buckets\", should_get_llm_feedback=False) "
   ]
  },
  {
   "cell_type": "markdown",
   "id": "91ad93ce-3574-49de-b8b1-1c102ef64366",
   "metadata": {
    "deletable": false,
    "editable": false
   },
   "source": [
    "#### Data Structure 3: `genre_buckets`"
   ]
  },
  {
   "cell_type": "markdown",
   "id": "91be3abc-466a-43ba-a185-2e583aecdb25",
   "metadata": {
    "deletable": false,
    "editable": false
   },
   "source": [
    "Use the `bucketize` function to bucketize by the `genres`"
   ]
  },
  {
   "cell_type": "markdown",
   "id": "32989a29-c234-4a07-bc57-fd1a4d01a45e",
   "metadata": {
    "deletable": false,
    "editable": false
   },
   "source": [
    "Points possible: 3.0"
   ]
  },
  {
   "cell_type": "code",
   "execution_count": 106,
   "id": "687c90f0-640b-4c2c-843d-984a131c1735",
   "metadata": {
    "deletable": false,
    "editable": true,
    "tags": [
     "genre_buckets-code"
    ]
   },
   "outputs": [],
   "source": [
    "# define `genre_buckets`, but do NOT display the output here\n",
    "\n",
    "# bucketize the full list of movies by their genres.\n",
    "genre_buckets = bucketize(movies, \"genres\")\n"
   ]
  },
  {
   "cell_type": "code",
   "execution_count": 107,
   "id": "eba702de-d3ed-4b6c-b0d4-fe114d2ebee0",
   "metadata": {
    "deletable": false,
    "editable": true
   },
   "outputs": [
    {
     "name": "stdout",
     "output_type": "stream",
     "text": [
      "Make sure you saved the notebook before running this cell. Running check for genre_buckets...\n",
      "Great job! You passed all test cases for this question.\n"
     ]
    },
    {
     "data": {
      "text/plain": [
       "True"
      ]
     },
     "execution_count": 107,
     "metadata": {},
     "output_type": "execute_result"
    }
   ],
   "source": [
    "student_grader.check(\"genre_buckets\", should_get_llm_feedback=False) "
   ]
  },
  {
   "cell_type": "markdown",
   "id": "16a74405-3eed-45b6-be22-3986c50f82d0",
   "metadata": {
    "deletable": false,
    "editable": false
   },
   "source": [
    "#### Data Structure 4: `year_buckets`"
   ]
  },
  {
   "cell_type": "markdown",
   "id": "6aedc435-caf0-4c98-9aa4-75d8e117de4a",
   "metadata": {
    "deletable": false,
    "editable": false
   },
   "source": [
    "Use the `bucketize` function to bucketize by the `year`"
   ]
  },
  {
   "cell_type": "markdown",
   "id": "f5ec8f5c-cb4e-4a5a-8758-dbd23608eda1",
   "metadata": {
    "deletable": false,
    "editable": false
   },
   "source": [
    "Points possible: 3.0"
   ]
  },
  {
   "cell_type": "code",
   "execution_count": 108,
   "id": "302ceda6-d282-46ba-970c-9e3c63019b89",
   "metadata": {
    "deletable": false,
    "editable": true,
    "tags": [
     "year_buckets-code"
    ]
   },
   "outputs": [],
   "source": [
    "# define `year_buckets`, but do NOT display the output here\n",
    "\n",
    "# bucketize the full list of movies by their year.\n",
    "year_buckets = bucketize(movies, \"year\")\n"
   ]
  },
  {
   "cell_type": "code",
   "execution_count": 109,
   "id": "f6988bc3-cced-4737-bcd9-726fb6b0ff43",
   "metadata": {
    "deletable": false,
    "editable": true
   },
   "outputs": [
    {
     "name": "stdout",
     "output_type": "stream",
     "text": [
      "Make sure you saved the notebook before running this cell. Running check for year_buckets...\n",
      "Great job! You passed all test cases for this question.\n"
     ]
    },
    {
     "data": {
      "text/plain": [
       "True"
      ]
     },
     "execution_count": 109,
     "metadata": {},
     "output_type": "execute_result"
    }
   ],
   "source": [
    "student_grader.check(\"year_buckets\", should_get_llm_feedback=False) "
   ]
  },
  {
   "cell_type": "markdown",
   "id": "08508a50",
   "metadata": {
    "deletable": false,
    "editable": false
   },
   "source": [
    "Even when you are not explicitly prompted to do so, using these data structures and the `bucketize` function cleverly can simplify your code significantly. Keep an eye out for how you can simplify your code by making use of these data structures and the `bucketize` function.\n",
    "\n",
    "Remember, you can still use the `bucketize` function on a subset of the `movies` data structure (i.e. not the whole `movies` dataset). You are **not** limited to only using the variables defined above."
   ]
  },
  {
   "cell_type": "markdown",
   "id": "b7054b64-594a-442a-96bd-f7d9ece903eb",
   "metadata": {
    "deletable": false,
    "editable": false
   },
   "source": [
    "#### Project Question 3"
   ]
  },
  {
   "cell_type": "markdown",
   "id": "0c3a4374",
   "metadata": {
    "deletable": false,
    "editable": false
   },
   "source": [
    "List the movies that *Margot Robbie* was `cast` in.\n",
    "\n",
    "Your output **must** be a **list** of **dictionaries**. You **must** answer this question by accessing the **value** of the correct **key** from the correct **bucket** defined in the previous cell."
   ]
  },
  {
   "cell_type": "markdown",
   "id": "35372917-228f-4c96-83a7-6c3983750d34",
   "metadata": {
    "deletable": false,
    "editable": false
   },
   "source": [
    "Points possible: 8.0"
   ]
  },
  {
   "cell_type": "code",
   "execution_count": 111,
   "id": "0b7a9fdc",
   "metadata": {
    "deletable": false,
    "editable": true,
    "tags": [
     "q3-code"
    ]
   },
   "outputs": [
    {
     "data": {
      "text/plain": [
       "[{'title': 'The Suicide Squad',\n",
       "  'year': 2021,\n",
       "  'duration': 132,\n",
       "  'genres': ['Action', 'Adventure', 'Comedy'],\n",
       "  'rating': 7.2,\n",
       "  'directors': ['James Gunn'],\n",
       "  'cast': ['Margot Robbie', 'Idris Elba', 'John Cena', 'Joel Kinnaman']},\n",
       " {'title': 'Z for Zachariah',\n",
       "  'year': 2015,\n",
       "  'duration': 98,\n",
       "  'genres': ['Drama', 'Romance', 'Sci-Fi'],\n",
       "  'rating': 6.0,\n",
       "  'directors': ['Craig Zobel'],\n",
       "  'cast': ['Chiwetel Ejiofor', 'Chris Pine', 'Margot Robbie']},\n",
       " {'title': 'Bombshell',\n",
       "  'year': 2019,\n",
       "  'duration': 109,\n",
       "  'genres': ['Biography', 'Drama'],\n",
       "  'rating': 6.8,\n",
       "  'directors': ['Jay Roach'],\n",
       "  'cast': ['Charlize Theron',\n",
       "   'Nicole Kidman',\n",
       "   'Margot Robbie',\n",
       "   'John Lithgow']},\n",
       " {'title': 'Suite Française',\n",
       "  'year': 2014,\n",
       "  'duration': 107,\n",
       "  'genres': ['Drama', 'Romance', 'Thriller'],\n",
       "  'rating': 7.0,\n",
       "  'directors': ['Saul Dibb'],\n",
       "  'cast': ['Michelle Williams',\n",
       "   'Kristin Scott Thomas',\n",
       "   'Margot Robbie',\n",
       "   'Eric Godon']},\n",
       " {'title': 'Dreamland',\n",
       "  'year': 2019,\n",
       "  'duration': 98,\n",
       "  'genres': ['Drama', 'Thriller', 'Western'],\n",
       "  'rating': 5.9,\n",
       "  'directors': ['Miles Joris-Peyrafitte'],\n",
       "  'cast': ['Finn Cole', 'Margot Robbie', 'Travis Fimmel', 'Kerry Condon']},\n",
       " {'title': 'Barbie',\n",
       "  'year': 2023,\n",
       "  'duration': 114,\n",
       "  'genres': ['Adventure', 'Comedy', 'Fantasy'],\n",
       "  'rating': 6.9,\n",
       "  'directors': ['Greta Gerwig'],\n",
       "  'cast': ['Margot Robbie', 'Ryan Gosling', 'Issa Rae', 'Kate McKinnon']},\n",
       " {'title': 'The Wolf of Wall Street',\n",
       "  'year': 2013,\n",
       "  'duration': 180,\n",
       "  'genres': ['Biography', 'Comedy', 'Crime'],\n",
       "  'rating': 8.2,\n",
       "  'directors': ['Martin Scorsese'],\n",
       "  'cast': ['Leonardo DiCaprio',\n",
       "   'Jonah Hill',\n",
       "   'Margot Robbie',\n",
       "   'Matthew McConaughey']},\n",
       " {'title': 'Goodbye Christopher Robin',\n",
       "  'year': 2017,\n",
       "  'duration': 107,\n",
       "  'genres': ['Biography', 'Drama', 'Family'],\n",
       "  'rating': 7.1,\n",
       "  'directors': ['Simon Curtis'],\n",
       "  'cast': ['Domhnall Gleeson',\n",
       "   'Margot Robbie',\n",
       "   'Kelly Macdonald',\n",
       "   'Vicki Pepperdine']},\n",
       " {'title': 'Terminal',\n",
       "  'year': 2018,\n",
       "  'duration': 95,\n",
       "  'genres': ['Action', 'Comedy', 'Crime'],\n",
       "  'rating': 5.3,\n",
       "  'directors': ['Vaughn Stein'],\n",
       "  'cast': ['Margot Robbie', 'Simon Pegg', 'Dexter Fletcher', 'Mike Myers']},\n",
       " {'title': 'I.C.U.',\n",
       "  'year': 2009,\n",
       "  'duration': 85,\n",
       "  'genres': ['Horror', 'Thriller'],\n",
       "  'rating': 2.5,\n",
       "  'directors': ['Aash Aaron'],\n",
       "  'cast': ['Margot Robbie',\n",
       "   'Christian Radford',\n",
       "   'James Dean',\n",
       "   'Natalie Hoflin']},\n",
       " {'title': 'Focus',\n",
       "  'year': 2015,\n",
       "  'duration': 105,\n",
       "  'genres': ['Comedy', 'Crime', 'Drama'],\n",
       "  'rating': 6.6,\n",
       "  'directors': ['Glenn Ficarra', 'John Requa'],\n",
       "  'cast': ['Will Smith',\n",
       "   'Margot Robbie',\n",
       "   'Rodrigo Santoro',\n",
       "   'Adrian Martinez']},\n",
       " {'title': 'Birds of Prey',\n",
       "  'year': 2020,\n",
       "  'duration': 109,\n",
       "  'genres': ['Action', 'Comedy', 'Crime'],\n",
       "  'rating': 6.1,\n",
       "  'directors': ['Cathy Yan'],\n",
       "  'cast': ['Margot Robbie',\n",
       "   'Rosie Perez',\n",
       "   'Mary Elizabeth Winstead',\n",
       "   'Jurnee Smollett']},\n",
       " {'title': 'Mary Queen of Scots',\n",
       "  'year': 2018,\n",
       "  'duration': 124,\n",
       "  'genres': ['Biography', 'Drama', 'History'],\n",
       "  'rating': 6.3,\n",
       "  'directors': ['Josie Rourke'],\n",
       "  'cast': ['Saoirse Ronan', 'Margot Robbie', 'Jack Lowden', 'Joe Alwyn']},\n",
       " {'title': 'Once Upon a Time... in Hollywood',\n",
       "  'year': 2019,\n",
       "  'duration': 161,\n",
       "  'genres': ['Comedy', 'Drama'],\n",
       "  'rating': 7.6,\n",
       "  'directors': ['Quentin Tarantino'],\n",
       "  'cast': ['Leonardo DiCaprio', 'Brad Pitt', 'Margot Robbie', 'Emile Hirsch']},\n",
       " {'title': 'Babylon',\n",
       "  'year': 2022,\n",
       "  'duration': 189,\n",
       "  'genres': ['Comedy', 'Drama', 'History'],\n",
       "  'rating': 7.1,\n",
       "  'directors': ['Damien Chazelle'],\n",
       "  'cast': ['Brad Pitt', 'Margot Robbie', 'Jean Smart', 'Olivia Wilde']},\n",
       " {'title': 'I, Tonya',\n",
       "  'year': 2017,\n",
       "  'duration': 119,\n",
       "  'genres': ['Biography', 'Comedy', 'Drama'],\n",
       "  'rating': 7.5,\n",
       "  'directors': ['Craig Gillespie'],\n",
       "  'cast': ['Margot Robbie',\n",
       "   'Sebastian Stan',\n",
       "   'Allison Janney',\n",
       "   'Julianne Nicholson']},\n",
       " {'title': 'Suicide Squad',\n",
       "  'year': 2016,\n",
       "  'duration': 123,\n",
       "  'genres': ['Action', 'Adventure', 'Fantasy'],\n",
       "  'rating': 5.9,\n",
       "  'directors': ['David Ayer'],\n",
       "  'cast': ['Will Smith', 'Jared Leto', 'Margot Robbie', 'Viola Davis']},\n",
       " {'title': 'Whiskey Tango Foxtrot',\n",
       "  'year': 2016,\n",
       "  'duration': 112,\n",
       "  'genres': ['Biography', 'Comedy', 'Drama'],\n",
       "  'rating': 6.6,\n",
       "  'directors': ['Glenn Ficarra', 'John Requa'],\n",
       "  'cast': ['Tina Fey', 'Margot Robbie', 'Martin Freeman', 'Alfred Molina']},\n",
       " {'title': 'Vigilante',\n",
       "  'year': 2008,\n",
       "  'duration': 90,\n",
       "  'genres': ['Action'],\n",
       "  'rating': 2.6,\n",
       "  'directors': ['Aash Aaron'],\n",
       "  'cast': ['Robert Díaz', 'Kazuya Wright', 'Lexie Symon', 'Margot Robbie']},\n",
       " {'title': 'Amsterdam',\n",
       "  'year': 2022,\n",
       "  'duration': 134,\n",
       "  'genres': ['Comedy', 'Drama', 'History'],\n",
       "  'rating': 6.1,\n",
       "  'directors': ['David O. Russell'],\n",
       "  'cast': ['Christian Bale',\n",
       "   'Margot Robbie',\n",
       "   'John David Washington',\n",
       "   'Alessandro Nivola']}]"
      ]
     },
     "execution_count": 111,
     "metadata": {},
     "output_type": "execute_result"
    }
   ],
   "source": [
    "# compute and store the answer in the variable 'robbie_movies', then display it\n",
    "\n",
    "robbie_movies = bucketize(movies, 'cast')['Margot Robbie'] \n",
    "robbie_movies"
   ]
  },
  {
   "cell_type": "code",
   "execution_count": 112,
   "id": "6e619853-d374-48fa-a3d3-73956a728ace",
   "metadata": {
    "deletable": false,
    "editable": true
   },
   "outputs": [
    {
     "name": "stdout",
     "output_type": "stream",
     "text": [
      "Make sure you saved the notebook before running this cell. Running check for q3...\n",
      "Great job! You passed all test cases for this question.\n"
     ]
    },
    {
     "data": {
      "text/plain": [
       "True"
      ]
     },
     "execution_count": 112,
     "metadata": {},
     "output_type": "execute_result"
    }
   ],
   "source": [
    "student_grader.check(\"q3\", should_get_llm_feedback=False) "
   ]
  },
  {
   "cell_type": "markdown",
   "id": "03bcf0a4-9f67-491e-89d4-84f85e0ca237",
   "metadata": {
    "deletable": false,
    "editable": false
   },
   "source": [
    "#### Project Question 4"
   ]
  },
  {
   "cell_type": "markdown",
   "id": "1695bc80",
   "metadata": {
    "deletable": false,
    "editable": false
   },
   "source": [
    "Compute a **dictionary** which maps each **genre** to the **number** of movies in that **genre**."
   ]
  },
  {
   "cell_type": "markdown",
   "id": "086ca423-4065-489a-b606-7651762084d4",
   "metadata": {
    "deletable": false,
    "editable": false
   },
   "source": [
    "Points possible: 8.0"
   ]
  },
  {
   "cell_type": "code",
   "execution_count": 113,
   "id": "dfecaff8",
   "metadata": {
    "deletable": false,
    "editable": true,
    "tags": [
     "q4-code"
    ]
   },
   "outputs": [
    {
     "data": {
      "text/plain": [
       "{'Crime': 10875,\n",
       " 'Mystery': 5654,\n",
       " 'Thriller': 11011,\n",
       " 'Drama': 41960,\n",
       " 'Romance': 12652,\n",
       " 'Adventure': 7103,\n",
       " 'Comedy': 24973,\n",
       " 'Music': 1665,\n",
       " 'Horror': 9503,\n",
       " 'Action': 12133,\n",
       " 'Family': 3557,\n",
       " 'Fantasy': 3621,\n",
       " 'Biography': 2586,\n",
       " 'Documentary': 1396,\n",
       " 'History': 2311,\n",
       " 'War': 1903,\n",
       " 'Animation': 2135,\n",
       " 'Western': 1309,\n",
       " 'Musical': 1569,\n",
       " 'Sci-Fi': 3396,\n",
       " 'Film-Noir': 673,\n",
       " 'Sport': 1143,\n",
       " 'News': 20,\n",
       " 'Reality-TV': 1}"
      ]
     },
     "execution_count": 113,
     "metadata": {},
     "output_type": "execute_result"
    }
   ],
   "source": [
    "# first compute and store the dictionary in the variable 'genre_num', then display it\n",
    "\n",
    "genre_num = {genre: len(movie) for genre, movie in bucketize(movies, 'genres').items()}\n",
    "genre_num\n"
   ]
  },
  {
   "cell_type": "code",
   "execution_count": 114,
   "id": "b1f13af0-89f6-40ae-8453-8455807feaed",
   "metadata": {
    "deletable": false,
    "editable": true
   },
   "outputs": [
    {
     "name": "stdout",
     "output_type": "stream",
     "text": [
      "Make sure you saved the notebook before running this cell. Running check for q4...\n",
      "Great job! You passed all test cases for this question.\n"
     ]
    },
    {
     "data": {
      "text/plain": [
       "True"
      ]
     },
     "execution_count": 114,
     "metadata": {},
     "output_type": "execute_result"
    }
   ],
   "source": [
    "student_grader.check(\"q4\", should_get_llm_feedback=False) "
   ]
  },
  {
   "cell_type": "markdown",
   "id": "3ce293b0",
   "metadata": {
    "deletable": false,
    "editable": false
   },
   "source": [
    "Now, **plot** `genre_num` as a **bar graph**. \n",
    "\n",
    "NOTE: This question will not be graded, but make sure you understand how to do this.\n",
    "\n",
    "Your plot should look like this:"
   ]
  },
  {
   "cell_type": "markdown",
   "id": "9b517a60",
   "metadata": {
    "deletable": false,
    "editable": false
   },
   "source": [
    "<div style=\"text-align: center;\"><img src=\"attachment:q4.jpg\" style=\"height: 300px;\"/></div>"
   ]
  },
  {
   "cell_type": "code",
   "execution_count": 115,
   "id": "711540ef",
   "metadata": {
    "deletable": false
   },
   "outputs": [
    {
     "data": {
      "image/png": "[encoded data removed]",
      "text/plain": [
       "<Figure size 1000x400 with 1 Axes>"
      ]
     },
     "metadata": {},
     "output_type": "display_data"
    }
   ],
   "source": [
    "# plot 'genre_num' with the y-axis labelled 'number of movies'\n",
    "\n",
    "plot_dict(genre_num,label = 'number of movies')\n"
   ]
  },
  {
   "cell_type": "markdown",
   "id": "ecc40640",
   "metadata": {
    "deletable": false,
    "editable": false
   },
   "source": [
    "**Food for thought:** Can you tell what the most popular **genres** are from the plot? Do you see anything surprising in this plot?"
   ]
  },
  {
   "cell_type": "code",
   "execution_count": null,
   "id": "243a1082",
   "metadata": {
    "deletable": false
   },
   "outputs": [],
   "source": [
    "# Food for thought is an entirely OPTIONAL exercise\n",
    "# you may leave your thoughts here as a comment if you wish to\n"
   ]
  },
  {
   "cell_type": "markdown",
   "id": "1b0b391b-e1a0-487e-95ec-7a03297e305c",
   "metadata": {
    "deletable": false,
    "editable": false
   },
   "source": [
    "#### Project Question 5"
   ]
  },
  {
   "cell_type": "markdown",
   "id": "0757ee11",
   "metadata": {
    "deletable": false,
    "editable": false
   },
   "source": [
    "Compute a **dictionary** which maps each **genre** to the **number** of movies in that **genre** directed by *Stanley Kubrick*.\n",
    "\n",
    "You **must** only include those `genres` in which *Stanley Kubrick* has directed **at least** one movie\n",
    "\n",
    "**Hint:** Think about how you can use functions such as `bucketize` on a subset of movies for the category that you are interested in."
   ]
  },
  {
   "cell_type": "markdown",
   "id": "2592d810-5653-479d-bd4f-c4d3b229acc2",
   "metadata": {
    "deletable": false,
    "editable": false
   },
   "source": [
    "Points possible: 8.0"
   ]
  },
  {
   "cell_type": "code",
   "execution_count": 122,
   "id": "d6a7c7bb",
   "metadata": {
    "deletable": false,
    "editable": true,
    "tags": [
     "q5-code"
    ]
   },
   "outputs": [
    {
     "data": {
      "text/plain": [
       "{'Crime': 3,\n",
       " 'Sci-Fi': 2,\n",
       " 'Drama': 9,\n",
       " 'Mystery': 1,\n",
       " 'Thriller': 2,\n",
       " 'Adventure': 3,\n",
       " 'War': 5,\n",
       " 'Film-Noir': 2,\n",
       " 'Comedy': 1,\n",
       " 'Horror': 1,\n",
       " 'Biography': 1}"
      ]
     },
     "execution_count": 122,
     "metadata": {},
     "output_type": "execute_result"
    }
   ],
   "source": [
    "k_movies = [movie for movie in movies if 'Stanley Kubrick' in movie['directors']]\n",
    "\n",
    "kubrick_genres = {genre: len(movie) for genre, movie in bucketize(k_movies, 'genres').items()}\n",
    "\n",
    "kubrick_genres"
   ]
  },
  {
   "cell_type": "code",
   "execution_count": 123,
   "id": "f64aa249-335a-4caa-8136-65d5336a203c",
   "metadata": {
    "deletable": false,
    "editable": true
   },
   "outputs": [
    {
     "name": "stdout",
     "output_type": "stream",
     "text": [
      "Make sure you saved the notebook before running this cell. Running check for q5...\n",
      "Great job! You passed all test cases for this question.\n"
     ]
    },
    {
     "data": {
      "text/plain": [
       "True"
      ]
     },
     "execution_count": 123,
     "metadata": {},
     "output_type": "execute_result"
    }
   ],
   "source": [
    "student_grader.check(\"q5\", should_get_llm_feedback=False) "
   ]
  },
  {
   "cell_type": "markdown",
   "id": "40fec1f8",
   "metadata": {
    "deletable": false,
    "editable": false
   },
   "source": [
    "Now, **plot** `kubrick_genres` as a **bar graph**. Your plot should look like this:"
   ]
  },
  {
   "cell_type": "markdown",
   "id": "e35eb3d5",
   "metadata": {
    "deletable": false,
    "editable": false
   },
   "source": [
    "<div style=\"text-align: center;\"><img src=\"attachment:q5.jpg\" style=\"height: 300px;\"/></div>"
   ]
  },
  {
   "cell_type": "code",
   "execution_count": 124,
   "id": "f32adf53",
   "metadata": {
    "deletable": false
   },
   "outputs": [
    {
     "data": {
      "image/png": "[encoded data removed]",
      "text/plain": [
       "<Figure size 600x400 with 1 Axes>"
      ]
     },
     "metadata": {},
     "output_type": "display_data"
    }
   ],
   "source": [
    "# now plot 'kubrick_genres' with the y-axis labelled 'number of movies'\n",
    "\n",
    "plot_dict(kubrick_genres,label = 'number of movies')"
   ]
  },
  {
   "cell_type": "markdown",
   "id": "502f4ae5",
   "metadata": {
    "deletable": false,
    "editable": false
   },
   "source": [
    "**Food for thought:** Can you similarly **plot** the **number** of films directed by your favorite director or starring your favorite cast member in each **genre**?"
   ]
  },
  {
   "cell_type": "code",
   "execution_count": null,
   "id": "074435e5",
   "metadata": {
    "deletable": false
   },
   "outputs": [],
   "source": [
    "# Food for thought is an entirely OPTIONAL exercise\n",
    "# you may leave your thoughts here as a comment if you wish to\n"
   ]
  },
  {
   "cell_type": "markdown",
   "id": "de1229ff-dc90-4ed0-a464-53929c3d1e06",
   "metadata": {
    "deletable": false,
    "editable": false
   },
   "source": [
    "#### Project Question 6"
   ]
  },
  {
   "cell_type": "markdown",
   "id": "c5d3f62e",
   "metadata": {
    "deletable": false,
    "editable": false
   },
   "source": [
    "Compute a **dictionary** which maps each **decade** to the **number** of Sci-Fi movies in released in that **decade**. This dictionary should look like this:\n",
    "\n",
    "```python\n",
    "{'1991 to 2000': 389,\n",
    " '1981 to 1990': 381,\n",
    " '1971 to 1980': 240,\n",
    " '2011 to 2020': 1109,\n",
    " '2001 to 2010': 529,\n",
    " '2021 to 2030': 285,\n",
    " '1951 to 1960': 198,\n",
    " '1961 to 1970': 202,\n",
    " '1911 to 1920': 6,\n",
    " '1941 to 1950': 24,\n",
    " '1931 to 1940': 29,\n",
    " '1921 to 1930': 4}\n",
    "```\n",
    "\n",
    "**Hint:** You should use `year_to_decade` function to get the decade for a movie's year"
   ]
  },
  {
   "cell_type": "markdown",
   "id": "950669ee-9a9c-44b5-aa1f-61b60d118288",
   "metadata": {
    "deletable": false,
    "editable": false
   },
   "source": [
    "Points possible: 8.0"
   ]
  },
  {
   "cell_type": "code",
   "execution_count": 137,
   "id": "52e0d794",
   "metadata": {
    "deletable": false,
    "editable": true,
    "tags": [
     "q6-code"
    ]
   },
   "outputs": [
    {
     "data": {
      "text/plain": [
       "{'1991 to 2000': 389,\n",
       " '1981 to 1990': 381,\n",
       " '1971 to 1980': 240,\n",
       " '2011 to 2020': 1109,\n",
       " '2001 to 2010': 529,\n",
       " '2021 to 2030': 285,\n",
       " '1951 to 1960': 198,\n",
       " '1961 to 1970': 202,\n",
       " '1911 to 1920': 6,\n",
       " '1941 to 1950': 24,\n",
       " '1931 to 1940': 29,\n",
       " '1921 to 1930': 4}"
      ]
     },
     "execution_count": 137,
     "metadata": {},
     "output_type": "execute_result"
    }
   ],
   "source": [
    "# first compute and store the dictionary in the variable 'sci_fi_decade_mapping', then display it\n",
    "sci_mov = [movie for movie in movies if 'Sci-Fi' in movie['genres']]\n",
    "\n",
    "sci_fi_decade_mapping = {}\n",
    "\n",
    "for movie in sci_mov:\n",
    "    decade = year_to_decade(movie['year'])\n",
    "    sci_fi_decade_mapping[decade] = sci_fi_decade_mapping.get(decade, 0) + 1\n",
    "\n",
    "sci_fi_decade_mapping"
   ]
  },
  {
   "cell_type": "code",
   "execution_count": 138,
   "id": "6627d1cc-cf1b-4a9f-9ade-906d14aa06ce",
   "metadata": {
    "deletable": false,
    "editable": true
   },
   "outputs": [
    {
     "name": "stdout",
     "output_type": "stream",
     "text": [
      "Make sure you saved the notebook before running this cell. Running check for q6...\n",
      "Great job! You passed all test cases for this question.\n"
     ]
    },
    {
     "data": {
      "text/plain": [
       "True"
      ]
     },
     "execution_count": 138,
     "metadata": {},
     "output_type": "execute_result"
    }
   ],
   "source": [
    "student_grader.check(\"q6\", should_get_llm_feedback=False) "
   ]
  },
  {
   "cell_type": "markdown",
   "id": "4339f5b8",
   "metadata": {
    "deletable": false,
    "editable": false
   },
   "source": [
    "Now, **plot** `sci_fi_decade_mapping` as a **bar graph**. Your plot should look like this:"
   ]
  },
  {
   "cell_type": "markdown",
   "id": "d9c54e25",
   "metadata": {
    "deletable": false,
    "editable": false
   },
   "source": [
    "<div style=\"text-align: center;\"><img src=\"attachment:q6.jpg\" style=\"height: 300px;\"/></div>"
   ]
  },
  {
   "cell_type": "code",
   "execution_count": 135,
   "id": "bcade1a3",
   "metadata": {
    "deletable": false
   },
   "outputs": [
    {
     "data": {
      "image/png": "[encoded data removed]",
      "text/plain": [
       "<Figure size 700x400 with 1 Axes>"
      ]
     },
     "metadata": {},
     "output_type": "display_data"
    }
   ],
   "source": [
    "# now plot 'sci_fi_decade_mapping' with the y-axis labelled 'Sci-Fi movies released'\n",
    "plot_dict(sci_fi_decade_mapping,label = 'Sci-Fi movies released')"
   ]
  },
  {
   "cell_type": "markdown",
   "id": "f0da26eb",
   "metadata": {
    "deletable": false,
    "editable": false
   },
   "source": [
    "**Food for thought:** Can you explain the shape of this plot? Why do you think the number of Sci-Fi movies increased so rapidly over the last decade? If you want, you could compare this plot against plots of other genres (such as `Western` or `Horror`)."
   ]
  },
  {
   "cell_type": "code",
   "execution_count": null,
   "id": "46933f0e",
   "metadata": {
    "deletable": false
   },
   "outputs": [],
   "source": [
    "# Food for thought is an entirely OPTIONAL exercise\n",
    "# you may leave your thoughts here as a comment if you wish to\n"
   ]
  },
  {
   "cell_type": "markdown",
   "id": "fa76c3de-9748-4395-8637-ecf6de950cad",
   "metadata": {
    "deletable": false,
    "editable": false
   },
   "source": [
    "#### Project Question 7"
   ]
  },
  {
   "cell_type": "markdown",
   "id": "8e467d3f",
   "metadata": {
    "deletable": false,
    "editable": false
   },
   "source": [
    "Compute a **dictionary** which maps each **genre** of movies directed by *James Cameron* to the **median** `rating` of all of the movies he directed in that **genre**. Note that your dictionary **must not** contain any genres in which *James Cameron* has not directed any movie."
   ]
  },
  {
   "cell_type": "markdown",
   "id": "af1e55d8-84e1-4d28-954b-cf84bb3ba415",
   "metadata": {
    "deletable": false,
    "editable": false
   },
   "source": [
    "Points possible: 8.0"
   ]
  },
  {
   "cell_type": "code",
   "execution_count": 143,
   "id": "d24531e5",
   "metadata": {
    "deletable": false,
    "editable": true,
    "tags": [
     "q7-code"
    ]
   },
   "outputs": [
    {
     "data": {
      "text/plain": [
       "{'Action': 8.0,\n",
       " 'Adventure': 7.75,\n",
       " 'Fantasy': 7.75,\n",
       " 'Drama': 7.7,\n",
       " 'Romance': 7.9,\n",
       " 'Sci-Fi': 8.25,\n",
       " 'Comedy': 7.3,\n",
       " 'Thriller': 5.55,\n",
       " 'Mystery': 7.5,\n",
       " 'Horror': 3.8}"
      ]
     },
     "execution_count": 143,
     "metadata": {},
     "output_type": "execute_result"
    }
   ],
   "source": [
    "# first compute and store the dictionary in the variable 'cameron_median_genres', then display it\n",
    "\n",
    "cameron_movies = [movie for movie in movies if 'James Cameron' in movie['directors']]\n",
    "cameron_median_genres = { genre: median([movie['rating'] for movie in movie_list]) for genre, movie_list in bucketize(cameron_movies, 'genres').items()\n",
    "}\n",
    "\n",
    "cameron_median_genres"
   ]
  },
  {
   "cell_type": "code",
   "execution_count": 144,
   "id": "0f1ce356-5d47-417b-a4d9-04181c63aa0d",
   "metadata": {
    "deletable": false,
    "editable": true
   },
   "outputs": [
    {
     "name": "stdout",
     "output_type": "stream",
     "text": [
      "Make sure you saved the notebook before running this cell. Running check for q7...\n",
      "Great job! You passed all test cases for this question.\n"
     ]
    },
    {
     "data": {
      "text/plain": [
       "True"
      ]
     },
     "execution_count": 144,
     "metadata": {},
     "output_type": "execute_result"
    }
   ],
   "source": [
    "student_grader.check(\"q7\", should_get_llm_feedback=False) "
   ]
  },
  {
   "cell_type": "markdown",
   "id": "7503b5d6",
   "metadata": {
    "deletable": false,
    "editable": false
   },
   "source": [
    "Now, **plot** `cameron_median_genres` as a **bar graph**. Your plot should look like this:"
   ]
  },
  {
   "cell_type": "markdown",
   "id": "bc4ac957",
   "metadata": {
    "deletable": false,
    "editable": false
   },
   "source": [
    "<div style=\"text-align: center;\"><img src=\"attachment:q7.jpg\" style=\"height: 300px;\"/></div>"
   ]
  },
  {
   "cell_type": "code",
   "execution_count": 146,
   "id": "647677f0",
   "metadata": {
    "deletable": false
   },
   "outputs": [
    {
     "data": {
      "image/png": "[encoded data removed]",
      "text/plain": [
       "<Figure size 600x400 with 1 Axes>"
      ]
     },
     "metadata": {},
     "output_type": "display_data"
    }
   ],
   "source": [
    "# now plot 'cameron_median_genres' with the y-axis labelled 'median rating'\n",
    "\n",
    "plot_dict(cameron_median_genres,label = 'median rating')\n"
   ]
  },
  {
   "cell_type": "markdown",
   "id": "436dcaf0",
   "metadata": {
    "deletable": false,
    "editable": false
   },
   "source": [
    "**Food for thought:** *James Cameron* has directed many critically acclaimed movies such as *Aliens*, *The Terminator*, *Avatar*, and *Titanic*. Nevertheless, median ratings of his work in the *Thriller*, and especially *Horror* genres are surprisingly lackluster. Can you explain this inconsistency?\n",
    "\n",
    "Hint: Take a look at the years of release of the films in these genres. "
   ]
  },
  {
   "cell_type": "code",
   "execution_count": null,
   "id": "415c7847",
   "metadata": {
    "deletable": false
   },
   "outputs": [],
   "source": [
    "# Food for thought is an entirely OPTIONAL exercise\n",
    "# you may leave your thoughts here as a comment if you wish to\n"
   ]
  },
  {
   "cell_type": "markdown",
   "id": "b9aa8b9b",
   "metadata": {
    "deletable": false,
    "editable": false
   },
   "source": [
    "The visualization in Question 7 immediately tells us that the **median** *Fantasy* movie directed by *James Cameron* is rated higher than the **median** *Horror* movie. However, it is a little hard to tell how the **median** *Romance* movie fares against the **median** *Adventure* movie. In order to compare the `genres`, it would be useful to **sort** the `genres` by their **median** `rating`.\n",
    "\n",
    "Refer [Mike's](???) or [Louis'](???) lecture notes on using function references to sort a collection by value(s) related to that collection's elements."
   ]
  },
  {
   "cell_type": "markdown",
   "id": "3223c3e6-9341-4c50-a649-bf8d207b068c",
   "metadata": {
    "deletable": false,
    "editable": false
   },
   "source": [
    "#### Project Question 8"
   ]
  },
  {
   "cell_type": "markdown",
   "id": "b939917b",
   "metadata": {
    "deletable": false,
    "editable": false
   },
   "source": [
    "Produce a **list** of `genres` of films directed by *James Cameron* sorted in **decreasing order** of their **median** `rating`.\n",
    "\n",
    "**Hint:** Refer to Task 4.2 in the lab to understand how to sort a collection using the `key` parameter."
   ]
  },
  {
   "cell_type": "markdown",
   "id": "83e9a9b9-96ff-4997-b15c-9d1d08dcf72e",
   "metadata": {
    "deletable": false,
    "editable": false
   },
   "source": [
    "Points possible: 8.0"
   ]
  },
  {
   "cell_type": "code",
   "execution_count": 151,
   "id": "b6d49c68",
   "metadata": {
    "deletable": false,
    "editable": true,
    "tags": [
     "q8-code"
    ]
   },
   "outputs": [
    {
     "data": {
      "text/plain": [
       "['Sci-Fi',\n",
       " 'Action',\n",
       " 'Romance',\n",
       " 'Adventure',\n",
       " 'Fantasy',\n",
       " 'Drama',\n",
       " 'Mystery',\n",
       " 'Comedy',\n",
       " 'Thriller',\n",
       " 'Horror']"
      ]
     },
     "execution_count": 151,
     "metadata": {},
     "output_type": "execute_result"
    }
   ],
   "source": [
    "# compute and store the answer in the variable 'cameron_genres_desc', then display it\n",
    "\n",
    "cameron_mov = [movie for movie in movies if 'James Cameron' in movie['directors']]\n",
    "\n",
    "median_genres = {genre: median([movie['rating'] for movie in movie_list])for genre, movie_list in bucketize(cameron_mov, 'genres').items()}\n",
    "\n",
    "cameron_genres_desc = sorted(median_genres.keys() ,key = lambda genre: median_genres[genre], reverse=True)\n",
    "\n",
    "cameron_genres_desc"
   ]
  },
  {
   "cell_type": "code",
   "execution_count": 152,
   "id": "4af07340",
   "metadata": {
    "deletable": false,
    "editable": true
   },
   "outputs": [
    {
     "name": "stdout",
     "output_type": "stream",
     "text": [
      "Make sure you saved the notebook before running this cell. Running check for q8...\n",
      "Great job! You passed all test cases for this question.\n"
     ]
    },
    {
     "data": {
      "text/plain": [
       "True"
      ]
     },
     "execution_count": 152,
     "metadata": {},
     "output_type": "execute_result"
    }
   ],
   "source": [
    "student_grader.check(\"q8\", should_get_llm_feedback=False) "
   ]
  },
  {
   "cell_type": "markdown",
   "id": "b1c29d95-b508-482b-a9b7-35d293690421",
   "metadata": {
    "deletable": false,
    "editable": false
   },
   "source": [
    "#### Project Question 9"
   ]
  },
  {
   "cell_type": "markdown",
   "id": "26a2c264",
   "metadata": {
    "deletable": false,
    "editable": false
   },
   "source": [
    "Produce a **list** of movies directed by *Martin Scorsese* and starring *Robert De Niro* sorted in **increasing** order of their `year` of release.\n",
    "\n",
    "Your output **must** be a **list** of **dictionaries** of movies having *Martin Scorsese* as one of the `directors`, and *Robert De Niro* as one of the `cast` members, that are **sorted** in **increasing** order of their `year`."
   ]
  },
  {
   "cell_type": "markdown",
   "id": "0696d9a7-1240-4674-b904-80d05eeb5dc4",
   "metadata": {
    "deletable": false,
    "editable": false
   },
   "source": [
    "Points possible: 8.0"
   ]
  },
  {
   "cell_type": "code",
   "execution_count": 153,
   "id": "352bc7cb",
   "metadata": {
    "deletable": false,
    "editable": true,
    "tags": [
     "q9-code"
    ]
   },
   "outputs": [
    {
     "data": {
      "text/plain": [
       "[{'title': 'Mean Streets',\n",
       "  'year': 1973,\n",
       "  'duration': 112,\n",
       "  'genres': ['Crime', 'Drama', 'Thriller'],\n",
       "  'rating': 7.2,\n",
       "  'directors': ['Martin Scorsese'],\n",
       "  'cast': ['Robert De Niro', 'Harvey Keitel', 'David Proval', 'Amy Robinson']},\n",
       " {'title': 'Taxi Driver',\n",
       "  'year': 1976,\n",
       "  'duration': 114,\n",
       "  'genres': ['Crime', 'Drama'],\n",
       "  'rating': 8.2,\n",
       "  'directors': ['Martin Scorsese'],\n",
       "  'cast': ['Robert De Niro',\n",
       "   'Jodie Foster',\n",
       "   'Cybill Shepherd',\n",
       "   'Albert Brooks']},\n",
       " {'title': 'New York, New York',\n",
       "  'year': 1977,\n",
       "  'duration': 155,\n",
       "  'genres': ['Drama', 'Music', 'Musical'],\n",
       "  'rating': 6.6,\n",
       "  'directors': ['Martin Scorsese'],\n",
       "  'cast': ['Liza Minnelli',\n",
       "   'Robert De Niro',\n",
       "   'Lionel Stander',\n",
       "   'Barry Primus']},\n",
       " {'title': 'Raging Bull',\n",
       "  'year': 1980,\n",
       "  'duration': 129,\n",
       "  'genres': ['Biography', 'Drama', 'Sport'],\n",
       "  'rating': 8.1,\n",
       "  'directors': ['Martin Scorsese'],\n",
       "  'cast': ['Robert De Niro', 'Cathy Moriarty', 'Joe Pesci', 'Frank Vincent']},\n",
       " {'title': 'The King of Comedy',\n",
       "  'year': 1982,\n",
       "  'duration': 109,\n",
       "  'genres': ['Comedy', 'Crime', 'Drama'],\n",
       "  'rating': 7.8,\n",
       "  'directors': ['Martin Scorsese'],\n",
       "  'cast': ['Robert De Niro',\n",
       "   'Jerry Lewis',\n",
       "   'Diahnne Abbott',\n",
       "   'Sandra Bernhard']},\n",
       " {'title': 'Goodfellas',\n",
       "  'year': 1990,\n",
       "  'duration': 145,\n",
       "  'genres': ['Biography', 'Crime', 'Drama'],\n",
       "  'rating': 8.7,\n",
       "  'directors': ['Martin Scorsese'],\n",
       "  'cast': ['Robert De Niro', 'Ray Liotta', 'Joe Pesci', 'Lorraine Bracco']},\n",
       " {'title': 'Cape Fear',\n",
       "  'year': 1991,\n",
       "  'duration': 128,\n",
       "  'genres': ['Crime', 'Thriller'],\n",
       "  'rating': 7.3,\n",
       "  'directors': ['Martin Scorsese'],\n",
       "  'cast': ['Robert De Niro', 'Nick Nolte', 'Jessica Lange', 'Juliette Lewis']},\n",
       " {'title': 'Casino',\n",
       "  'year': 1995,\n",
       "  'duration': 178,\n",
       "  'genres': ['Crime', 'Drama'],\n",
       "  'rating': 8.2,\n",
       "  'directors': ['Martin Scorsese'],\n",
       "  'cast': ['Robert De Niro', 'Sharon Stone', 'Joe Pesci', 'James Woods']},\n",
       " {'title': 'The Irishman',\n",
       "  'year': 2019,\n",
       "  'duration': 209,\n",
       "  'genres': ['Biography', 'Crime', 'Drama'],\n",
       "  'rating': 7.8,\n",
       "  'directors': ['Martin Scorsese'],\n",
       "  'cast': ['Robert De Niro', 'Al Pacino', 'Joe Pesci', 'Harvey Keitel']},\n",
       " {'title': 'Killers of the Flower Moon',\n",
       "  'year': 2023,\n",
       "  'duration': 206,\n",
       "  'genres': ['Crime', 'Drama', 'History'],\n",
       "  'rating': 7.7,\n",
       "  'directors': ['Martin Scorsese'],\n",
       "  'cast': ['Leonardo DiCaprio',\n",
       "   'Robert De Niro',\n",
       "   'Lily Gladstone',\n",
       "   'Jesse Plemons']}]"
      ]
     },
     "execution_count": 153,
     "metadata": {},
     "output_type": "execute_result"
    }
   ],
   "source": [
    "# compute and store the answer in the variable 'scorsese_de_niro_movies', then display it\n",
    "\n",
    "scorsese_de_niro_movies = [movie for movie in movies if 'Martin Scorsese' in movie['directors'] and 'Robert De Niro' in movie['cast']]\n",
    "\n",
    "scorsese_de_niro_movies = sorted(scorsese_de_niro_movies, key=lambda movie: movie['year'])\n",
    "\n",
    "scorsese_de_niro_movies"
   ]
  },
  {
   "cell_type": "code",
   "execution_count": 154,
   "id": "eab5448a",
   "metadata": {
    "deletable": false,
    "editable": true
   },
   "outputs": [
    {
     "name": "stdout",
     "output_type": "stream",
     "text": [
      "Make sure you saved the notebook before running this cell. Running check for q9...\n",
      "Great job! You passed all test cases for this question.\n"
     ]
    },
    {
     "data": {
      "text/plain": [
       "True"
      ]
     },
     "execution_count": 154,
     "metadata": {},
     "output_type": "execute_result"
    }
   ],
   "source": [
    "student_grader.check(\"q9\", should_get_llm_feedback=False) "
   ]
  },
  {
   "cell_type": "markdown",
   "id": "9ebec6d7",
   "metadata": {
    "deletable": false,
    "editable": false
   },
   "source": [
    "**Food for thought:** Can you think of other famous director-actor combinations? Can you find a combination with more movies than *Scorsese* and *De Niro*?"
   ]
  },
  {
   "cell_type": "code",
   "execution_count": null,
   "id": "9b8c6227",
   "metadata": {
    "deletable": false
   },
   "outputs": [],
   "source": [
    "# Food for thought is an entirely OPTIONAL exercise\n",
    "# you may leave your thoughts here as a comment if you wish to\n"
   ]
  },
  {
   "cell_type": "markdown",
   "id": "bc2f34c2",
   "metadata": {
    "deletable": false,
    "editable": false
   },
   "source": [
    "#### Finding the best `directors`"
   ]
  },
  {
   "cell_type": "markdown",
   "id": "e57273fe-f7c1-443d-808c-207a80f57ace",
   "metadata": {
    "deletable": false,
    "editable": false
   },
   "source": [
    "Notice that the movie with the **highest** `rating` in the dataset is\n",
    "\n",
    "```python\n",
    "{'title': 'Ardhambardha Premakathe',\n",
    " 'year': 2023,\n",
    " 'duration': 136,\n",
    " 'genres': ['Comedy', 'Romance'],\n",
    " 'rating': 9.8,\n",
    " 'directors': ['Aravind Kaushik'],\n",
    " 'cast': ['Abhilash M', 'Dwarish Abhilash', 'K.P. Aravind', 'Ashwathi']}\n",
    "```\n",
    "\n",
    "This movie is one of the only two movies directed by this `director`. It is hardly appropriate to use this one movie to hail this director as one of the best ever given the small sample size. Moreover, **seven out of the top ten** highest rated movies in the dataset happen to be from the `year` **2023** or **2024**, while **over half of the top hundred** highest rated movies were released after the `year` *2020*. This is explained by the fact that IMDb `ratings` tend to be **inflated** soon after release, and *settle* down after a while.\n",
    "\n",
    "Therefore, if we want to identify who the **best** directors are, it would be a good idea to ignore the movies that were released **after** the `year` *2020*, and to restrict our attention to `directors` who have directed a **decent number** of movies. "
   ]
  },
  {
   "cell_type": "markdown",
   "id": "90cbc682-888f-48c9-9655-9072ac688d73",
   "metadata": {
    "deletable": false,
    "editable": false
   },
   "source": [
    "#### Project Question 10"
   ]
  },
  {
   "cell_type": "markdown",
   "id": "a479081f",
   "metadata": {
    "deletable": false,
    "editable": false
   },
   "source": [
    "Produce a **list** of `directors` who have directed **at least** *10* movies, have a **median** `rating` of **at least** *7.5*, and have a **minimum** `rating` of **at least** *5.0*. You **must** **exclude** all movies released **after** the `year` *2020*.\n",
    "\n",
    "Your output **must** be a **list** of the names of the `directors`. The order does **not** matter.\n",
    "\n",
    "**Hint**: You must first create a **list** of movies **excluding** the movies released **after** the `year` *2020*. Then, among these movies, you must find the `directors` who have directed `>= 10` movies, and whose movies have a **median** `rating` of `>= 7.5`, as well as a **minimum** `rating` of `>= 5.0`."
   ]
  },
  {
   "cell_type": "markdown",
   "id": "ae661ab6-f635-4d5e-a9c1-dba3661042f0",
   "metadata": {
    "deletable": false,
    "editable": false
   },
   "source": [
    "Points possible: 8.0"
   ]
  },
  {
   "cell_type": "code",
   "execution_count": 157,
   "id": "68a86136",
   "metadata": {
    "deletable": false,
    "editable": true,
    "tags": [
     "q10-code"
    ]
   },
   "outputs": [
    {
     "data": {
      "text/plain": [
       "['Shyam Benegal',\n",
       " 'Sergiu Nicolaescu',\n",
       " 'Theodoros Angelopoulos',\n",
       " 'Christopher Nolan',\n",
       " 'P. Padmarajan',\n",
       " 'William Wyler',\n",
       " 'Ingmar Bergman',\n",
       " 'Quentin Tarantino',\n",
       " 'Stanley Kubrick',\n",
       " 'Ertem Egilmez',\n",
       " 'Yoshikazu Yasuhiko',\n",
       " 'Yasujirô Ozu',\n",
       " 'Akira Kurosawa',\n",
       " 'Jean-Pierre Melville',\n",
       " 'Martin Scorsese',\n",
       " 'S. Shankar',\n",
       " 'Mani Ratnam',\n",
       " 'S.S. Rajamouli',\n",
       " 'David Fincher',\n",
       " 'Michael Cacoyannis',\n",
       " 'Gulzar',\n",
       " 'Rituparno Ghosh',\n",
       " 'Masaki Kobayashi',\n",
       " 'Singeetam Srinivasa Rao',\n",
       " 'Tim Van Someren',\n",
       " 'Goran Markovic',\n",
       " 'Satyajit Ray',\n",
       " 'Preston Sturges',\n",
       " 'Sibi Malayil',\n",
       " 'Nikita Mikhalkov',\n",
       " 'K. Balachander',\n",
       " 'Hayao Miyazaki',\n",
       " 'Oldrich Lipský',\n",
       " 'Georgiy Daneliya',\n",
       " 'Krzysztof Kieslowski',\n",
       " 'Bahram Beyzaie']"
      ]
     },
     "execution_count": 157,
     "metadata": {},
     "output_type": "execute_result"
    }
   ],
   "source": [
    "# compute and store the answer in the variable 'best_directors', then display it\n",
    "\n",
    "movieee = [movie for movie in movies if movie['year'] <= 2020]\n",
    "\n",
    "director_ratings = {}\n",
    "\n",
    "for movie in movieee:\n",
    "    for director in movie['directors']:\n",
    "        if director not in director_ratings:\n",
    "            director_ratings[director] = []\n",
    "        director_ratings[director].append(movie['rating'])\n",
    "\n",
    "best_directors = [director for director, ratings in director_ratings.items() if len(ratings) >= 10 and median(ratings) >= 7.5 and min(ratings) >= 5.0]\n",
    "best_directors"
   ]
  },
  {
   "cell_type": "code",
   "execution_count": 159,
   "id": "0126f049",
   "metadata": {
    "deletable": false,
    "editable": true
   },
   "outputs": [
    {
     "name": "stdout",
     "output_type": "stream",
     "text": [
      "Make sure you saved the notebook before running this cell. Running check for q10...\n",
      "Great job! You passed all test cases for this question.\n"
     ]
    },
    {
     "data": {
      "text/plain": [
       "True"
      ]
     },
     "execution_count": 159,
     "metadata": {},
     "output_type": "execute_result"
    }
   ],
   "source": [
    "student_grader.check(\"q10\", should_get_llm_feedback=False) "
   ]
  },
  {
   "cell_type": "markdown",
   "id": "b445508f",
   "metadata": {
    "deletable": false,
    "editable": false
   },
   "source": [
    "**Food for thought:** How many of these directors can you recognize? Do you spot your favorite director in that list? Can you come up with better criteria for deciding who the best directors are?"
   ]
  },
  {
   "cell_type": "code",
   "execution_count": null,
   "id": "9236b2b3",
   "metadata": {
    "deletable": false
   },
   "outputs": [],
   "source": [
    "# Food for thought is an entirely OPTIONAL exercise\n",
    "# you may leave your thoughts here as a comment if you wish to\n"
   ]
  },
  {
   "cell_type": "markdown",
   "id": "4fe5de82-5ee4-4aeb-bc07-b959786750c1",
   "metadata": {
    "deletable": false,
    "editable": false
   },
   "source": [
    "## Submission"
   ]
  },
  {
   "cell_type": "markdown",
   "id": "e3ec72d8-cc21-48fd-b6de-694f068c3967",
   "metadata": {
    "deletable": false,
    "editable": false
   },
   "source": [
    "Make sure you have run all cells in your notebook in order before submitting on Gradescope. Your notebook should not contain any uncaught Exceptions, otherwise the Gradescope autograder will not give you any points."
   ]
  }
 ],
 "metadata": {
  "kernelspec": {
   "display_name": "Python 3 (ipykernel)",
   "language": "python",
   "name": "python3"
  },
  "language_info": {
   "codemirror_mode": {
    "name": "ipython",
    "version": 3
   },
   "file_extension": ".py",
   "mimetype": "text/x-python",
   "name": "python",
   "nbconvert_exporter": "python",
   "pygments_lexer": "ipython3",
   "version": "3.10.12"
  },
  "semester": "s25"
 },
 "nbformat": 4,
 "nbformat_minor": 5
}
