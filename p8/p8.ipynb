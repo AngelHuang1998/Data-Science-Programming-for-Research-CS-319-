{
 "cells": [
  {
   "cell_type": "markdown",
   "id": "25950726",
   "metadata": {
    "deletable": false,
    "editable": false
   },
   "source": [
    "# Project 8: Going to the Movies"
   ]
  },
  {
   "cell_type": "markdown",
   "id": "b06db0d7",
   "metadata": {
    "deletable": false,
    "editable": false
   },
   "source": [
    "## Your Information"
   ]
  },
  {
   "cell_type": "markdown",
   "id": "ec961d9f-8525-4d5e-a14b-051c2e3a3a3e",
   "metadata": {
    "deletable": false,
    "editable": false
   },
   "source": [
    "At the start of each assignment, you will need to provide us your name and the name of the partner you worked with for this assignment (if you had one). Double click on the cell below or click once and hit enter to edit it. Replace \"First Last\" with your first name and last name. Replace \"None\" with the first and last name of your partner if you had one for this assignment. We ask for this information so we don't accuse you of cheating when your code looks like your partner's.\n",
    "\n",
    "Please keep these lines commented so they don't cause an error."
   ]
  },
  {
   "cell_type": "code",
   "execution_count": 73,
   "id": "7a0e0430-31c1-4e4c-9388-cae3d907fb5a",
   "metadata": {
    "deletable": false
   },
   "outputs": [],
   "source": [
    "# MY NAME: Angel Huang\n",
    "\n",
    "# MY PARTNER'S Name: None"
   ]
  },
  {
   "cell_type": "markdown",
   "id": "cd1876ac",
   "metadata": {
    "deletable": false,
    "editable": false
   },
   "source": [
    "## Imports"
   ]
  },
  {
   "cell_type": "markdown",
   "id": "b475ff95",
   "metadata": {
    "deletable": false,
    "editable": false
   },
   "source": [
    "Every project will begin with some import statements. It's crucial that you run the cell below, otherwise we will not be able to grade your code and provide feedback to you."
   ]
  },
  {
   "cell_type": "code",
   "execution_count": 74,
   "id": "937ecaa5",
   "metadata": {
    "deletable": false
   },
   "outputs": [],
   "source": [
    "# it is considered a good coding practice to place all import statements at the top of the notebook\n",
    "\n",
    "import csv\n",
    "import copy\n",
    "import os\n",
    "import student_grader\n",
    "student_grader.initialize(os.getcwd(), \"p8\")"
   ]
  },
  {
   "cell_type": "markdown",
   "id": "c52a2373",
   "metadata": {
    "deletable": false,
    "editable": false
   },
   "source": [
    "## Learning Objectives"
   ]
  },
  {
   "cell_type": "markdown",
   "id": "50e8db61",
   "metadata": {
    "deletable": false,
    "editable": false
   },
   "source": [
    "In this assignment, you will...\n",
    "\n",
    "* integrate relevant information from various sources (e.g. multiple csv files),\n",
    "* build appropriate data structures for organization and informative presentation (e.g. list of dictionaries),\n",
    "* practice good coding style."
   ]
  },
  {
   "cell_type": "markdown",
   "id": "2c208c52-e632-4267-ac17-5c449e546285",
   "metadata": {
    "deletable": false,
    "editable": false
   },
   "source": [
    "<h2 style=\"color:red\">Warning (Note on Academic Misconduct):</h2>"
   ]
  },
  {
   "cell_type": "markdown",
   "id": "3b2b8929-3462-466b-b8e9-aed733bdbd9b",
   "metadata": {
    "deletable": false,
    "editable": false
   },
   "source": [
    "**IMPORTANT**: **P8 and P9 are two parts of the same data analysis.** You **cannot** switch project partners between these two projects. That is if you partner up with someone for P8, you have to sustain that partnership until end of P9.\n",
    "Be careful not to work with more than one partner. If you work with a partner on Lab-P8, you are **not** allowed to finish your project with a different partner.\n",
    "You may either continue to work with the same partner, or work on P8 and P9 alone. Now may be a good time to review [our course policies](https://cs220.cs.wisc.edu/s25/syllabus.html).\n",
    "\n",
    "Under any circumstances, **no more than two students are allowed to work together on a project** as mentioned in the course policies. If your code is flagged by our code similarity detection tools, **both partners will be responsible** for sharing/copying the code, even if the code is shared/copied by one of the partners with/from other non-partner student(s). Note that each case of plagiarism will be reported to the Dean of Students with a zero grade on the project. **If you think that someone cannot be your project partner then don’t make that student your lab partner.**"
   ]
  },
  {
   "cell_type": "markdown",
   "id": "dd48494b-7797-4a65-b0a2-8791c3602793",
   "metadata": {
    "deletable": false,
    "editable": false
   },
   "source": [
    "## Background Information"
   ]
  },
  {
   "cell_type": "markdown",
   "id": "2a22fe57-4677-4567-afc0-048cc910b349",
   "metadata": {
    "deletable": false,
    "editable": false
   },
   "source": [
    "In P8 and P9, we will be working on a subset of the [IMDb Movies Dataset](https://www.imdb.com/interfaces/). We will use Python to discover some cool facts about our favorite movies, cast, and directors.\n",
    "\n",
    "In Lab-P8, you will work with the movies data sets, and practice writing some code to parse the data stored in `mapping.csv` and `movies.csv`. You can then use this code to parse other similar data sets in P8 and P9."
   ]
  },
  {
   "cell_type": "markdown",
   "id": "89a3e8c1-6ad6-41e6-b46b-f40b0f189c31",
   "metadata": {
    "deletable": false,
    "editable": false
   },
   "source": [
    "## The Data"
   ]
  },
  {
   "cell_type": "markdown",
   "id": "84dfe105",
   "metadata": {
    "deletable": false,
    "editable": false
   },
   "source": [
    "Open `movies.csv` and `mapping.csv` in any spreadsheet viewer, and see what the data looks like. When seen with a good spreadsheet viewer, this is what the first three lines of `movies.csv` will look like:\n",
    "\n",
    "\n",
    "|title|year|duration|genres|rating|directors|cast|\n",
    "| ----  |-----------------|-----------------------------|----------|---------------------------------------------------------------------|----------------------------------------------|--------|\n",
    "|tt0115953|1996|90|\"Crime, Mystery, Thriller\"|3.9|nm0915394|\"nm0023858, nm0001614, nm0518715, nm0001457\"|\n",
    "|tt0283453|2003|95|\"Drama, Romance, Thriller\"|5.5|nm0557751|\"nm0000117, nm0121605, nm0000998, nm0694052\"|\n",
    "|tt0447619|2006|102|\"Adventure, Crime, Drama\"|4.8|nm0630112|\"nm0000899, nm0000366, nm0001953, nm0098793\"|\n",
    "\n",
    "\n",
    "However, if you open the raw version of `movies.csv`, you are more likely to see something like this. It's the same data, but is sometimes a little harder to read:\n",
    "```\n",
    "title,year,duration,genres,rating,directors,cast\n",
    "tt0115953,1996,90,\"Crime, Mystery, Thriller\",3.9,nm0915394,\"nm0023858, nm0001614, nm0518715, nm0001457\"\n",
    "tt0283453,2003,95,\"Drama, Romance, Thriller\",5.5,nm0557751,\"nm0000117, nm0121605, nm0000998, nm0694052\"\n",
    "tt0447619,2006,102,\"Adventure, Crime, Drama\",4.8,nm0630112,\"nm0000899, nm0000366, nm0001953, nm0098793\"\n",
    "\n",
    "\n",
    "```\n",
    "\n",
    "The `title`, `directors`, and `cast` members are represented by their unique *IMDb ID* instead of their actual *names*. Now would be a good time to open `mapping.csv` to observe the data stored there. The first few lines should look like this:\n",
    "\n",
    "|         |           |\n",
    "| --------|-----|\n",
    "|tt7708470|The Bloody Man|\n",
    "|tt5759068|Freightened: The Real Price of Shipping|\n",
    "|tt0081541|The Under-Gifted|\n",
    "|tt1024962|Here We Are!|\n",
    "|tt0246875|Purely Belter|\n",
    "|tt0239341|Devi Putrudu|\n",
    "|tt0360960|Shadows of Time|\n",
    "|tt3215486|Idhu Kathirvelan Kadhal|\n",
    "|tt12792532|The Third War|\n",
    "|tt0070660|Seduction|\n",
    "|tt0284573|Transfixed|\n",
    "|tt14605182|Hell's Garden|\n",
    "|tt0043511|Europe '51|\n",
    "|tt0420215|The Spectator|\n",
    "|tt19514578|Shubh Yatra|\n",
    "|tt1837574|Hyena|"
   ]
  },
  {
   "cell_type": "markdown",
   "id": "6243c4f1-0181-40e6-b1b2-45724d6784fe",
   "metadata": {
    "deletable": false,
    "editable": false
   },
   "source": [
    "## Lab Portion (25 Questions)"
   ]
  },
  {
   "cell_type": "markdown",
   "id": "ce4bd078-ba3a-4a09-8e87-823931e5610b",
   "metadata": {
    "deletable": false,
    "editable": false
   },
   "source": [
    "### Segment 1: Loading data from csv file\n",
    "\n",
    "In this segment, you will learn to parse the data in `movies.csv` and `mapping.csv`, and convert them into useful data structures.\n",
    "\n",
    "However, before we do any of that, **open `movies.csv` and `mapping.csv` within Jupyter Lab by double clicking on the file names** and look at the format in which the data is stored. Inspecting this data will be extremely useful when you try to read it in Python."
   ]
  },
  {
   "cell_type": "markdown",
   "id": "fb04198a-253d-4653-8622-8ffb556801ef",
   "metadata": {
    "deletable": false,
    "editable": false
   },
   "source": [
    "### Task 1.1: Process `movies.csv`"
   ]
  },
  {
   "cell_type": "code",
   "execution_count": 164,
   "id": "90d772f2-0208-4bbf-862a-d9d28712ac72",
   "metadata": {
    "deletable": false
   },
   "outputs": [],
   "source": [
    "# Here is the same 'process_csv' function from P6 and P7\n",
    "\n",
    "def process_csv(filename):\n",
    "    example_file = open(filename, encoding=\"utf-8\")\n",
    "    example_reader = csv.reader(example_file)\n",
    "    example_data = list(example_reader)\n",
    "    example_file.close()\n",
    "    return example_data\n"
   ]
  },
  {
   "cell_type": "code",
   "execution_count": 165,
   "id": "8a3f9d3b",
   "metadata": {
    "deletable": false
   },
   "outputs": [],
   "source": [
    "# TODO: Use the code below to load the \"movies.csv\" file\n",
    "\n",
    "csv_data = process_csv(\"movies.csv\")"
   ]
  },
  {
   "cell_type": "markdown",
   "id": "806d3035",
   "metadata": {
    "deletable": false,
    "editable": false
   },
   "source": [
    "#### Lab Question 1"
   ]
  },
  {
   "cell_type": "markdown",
   "id": "848db9f1-dfd1-4c90-9e32-8ece17e5ae03",
   "metadata": {
    "deletable": false,
    "editable": false
   },
   "source": [
    "What is the **header** of the file `movies.csv`?\n",
    "\n",
    "Your output **must** be a **list** of **strings**."
   ]
  },
  {
   "cell_type": "markdown",
   "id": "e64d70fb",
   "metadata": {
    "deletable": false,
    "editable": false
   },
   "source": [
    "Points possible: 4.0"
   ]
  },
  {
   "cell_type": "code",
   "execution_count": 77,
   "id": "d26cac88",
   "metadata": {
    "deletable": false,
    "editable": true,
    "tags": [
     "lab-q1-code"
    ]
   },
   "outputs": [
    {
     "data": {
      "text/plain": [
       "['title', 'year', 'duration', 'genres', 'rating', 'directors', 'cast']"
      ]
     },
     "execution_count": 77,
     "metadata": {},
     "output_type": "execute_result"
    }
   ],
   "source": [
    "# extract the header into csv_header variable\n",
    "csv_header = csv_data[0]\n",
    "\n",
    "csv_header"
   ]
  },
  {
   "cell_type": "code",
   "execution_count": 78,
   "id": "35f9092f",
   "metadata": {
    "deletable": false,
    "editable": true
   },
   "outputs": [
    {
     "name": "stdout",
     "output_type": "stream",
     "text": [
      "Make sure you saved the notebook before running this cell. Running check for lab-q1...\n",
      "Great job! You passed all test cases for this question.\n"
     ]
    },
    {
     "data": {
      "text/plain": [
       "True"
      ]
     },
     "execution_count": 78,
     "metadata": {},
     "output_type": "execute_result"
    }
   ],
   "source": [
    "student_grader.check(\"lab-q1\", should_get_llm_feedback=False)"
   ]
  },
  {
   "cell_type": "markdown",
   "id": "8afc019b",
   "metadata": {
    "deletable": false,
    "editable": false
   },
   "source": [
    "#### Lab Question 2"
   ]
  },
  {
   "cell_type": "markdown",
   "id": "9a6ae879-fcf7-4e1f-9468-165e6fd1468d",
   "metadata": {
    "deletable": false,
    "editable": false
   },
   "source": [
    "What is the **data** (without the header) in the file `movies.csv`?\n",
    "\n",
    "Your output **must** be a **list** of **lists**.\n",
    "\n",
    "Since the data set is large, we only display the first three lines and will do so for the rest of the lab."
   ]
  },
  {
   "cell_type": "markdown",
   "id": "2e60a776",
   "metadata": {
    "deletable": false,
    "editable": false
   },
   "source": [
    "Points possible: 4.0"
   ]
  },
  {
   "cell_type": "code",
   "execution_count": 79,
   "id": "4ed87fd5",
   "metadata": {
    "deletable": false,
    "editable": true,
    "tags": [
     "lab-q2-code"
    ]
   },
   "outputs": [
    {
     "data": {
      "text/plain": [
       "[['tt0115953',\n",
       "  '1996',\n",
       "  '90',\n",
       "  'Crime, Mystery, Thriller',\n",
       "  '3.9',\n",
       "  'nm0915394',\n",
       "  'nm0023858, nm0001614, nm0518715, nm0001457'],\n",
       " ['tt0283453',\n",
       "  '2003',\n",
       "  '95',\n",
       "  'Drama, Romance, Thriller',\n",
       "  '5.5',\n",
       "  'nm0557751',\n",
       "  'nm0000117, nm0121605, nm0000998, nm0694052'],\n",
       " ['tt0447619',\n",
       "  '2006',\n",
       "  '102',\n",
       "  'Adventure, Crime, Drama',\n",
       "  '4.8',\n",
       "  'nm0630112',\n",
       "  'nm0000899, nm0000366, nm0001953, nm0098793']]"
      ]
     },
     "execution_count": 79,
     "metadata": {},
     "output_type": "execute_result"
    }
   ],
   "source": [
    "# extract just the data rows into csv_rows variable\n",
    "csv_rows = csv_data[1:]\n",
    "\n",
    "csv_rows[:3]"
   ]
  },
  {
   "cell_type": "code",
   "execution_count": 80,
   "id": "d229a408",
   "metadata": {
    "deletable": false,
    "editable": true
   },
   "outputs": [
    {
     "name": "stdout",
     "output_type": "stream",
     "text": [
      "Make sure you saved the notebook before running this cell. Running check for lab-q2...\n",
      "Great job! You passed all test cases for this question.\n"
     ]
    },
    {
     "data": {
      "text/plain": [
       "True"
      ]
     },
     "execution_count": 80,
     "metadata": {},
     "output_type": "execute_result"
    }
   ],
   "source": [
    "student_grader.check(\"lab-q2\", should_get_llm_feedback=False)"
   ]
  },
  {
   "cell_type": "markdown",
   "id": "e5123fe8-d88d-4dd8-8311-06e4c05183a4",
   "metadata": {
    "deletable": false,
    "editable": false
   },
   "source": [
    "### Task 1.2: Convert your `mapping` to a `dict`"
   ]
  },
  {
   "cell_type": "markdown",
   "id": "751c63cc",
   "metadata": {
    "deletable": false,
    "editable": false
   },
   "source": [
    "#### Lab Question 3"
   ]
  },
  {
   "cell_type": "markdown",
   "id": "a103cf01-5aef-4aaa-8dfd-31f2b9daa5d9",
   "metadata": {
    "deletable": false,
    "editable": false
   },
   "source": [
    "What is the **data** in the file `mapping.csv`?\n",
    "\n",
    "Your output **must** be a **list** of **lists**. There is no header in `mapping.csv`, so you should **not** slice off the first row here.\n",
    "\n",
    "Since the data set is large, we only display the first ten lines and will do so for the rest of the lab."
   ]
  },
  {
   "cell_type": "markdown",
   "id": "0bcc48d2",
   "metadata": {
    "deletable": false,
    "editable": false
   },
   "source": [
    "Points possible: 4.0"
   ]
  },
  {
   "cell_type": "code",
   "execution_count": 81,
   "id": "18e81857",
   "metadata": {
    "deletable": false,
    "editable": true,
    "tags": [
     "lab-q3-code"
    ]
   },
   "outputs": [
    {
     "data": {
      "text/plain": [
       "[['tt7708470', 'The Bloody Man'],\n",
       " ['tt5759068', 'Freightened: The Real Price of Shipping'],\n",
       " ['tt0081541', 'The Under-Gifted'],\n",
       " ['tt1024962', 'Here We Are!'],\n",
       " ['tt0246875', 'Purely Belter'],\n",
       " ['tt0239341', 'Devi Putrudu'],\n",
       " ['tt0360960', 'Shadows of Time'],\n",
       " ['tt3215486', 'Idhu Kathirvelan Kadhal'],\n",
       " ['tt12792532', 'The Third War'],\n",
       " ['tt0070660', 'Seduction']]"
      ]
     },
     "execution_count": 81,
     "metadata": {},
     "output_type": "execute_result"
    }
   ],
   "source": [
    "# use process_csv to read `mapping.csv` into a list of lists data structure\n",
    "mapping_rows = csv_data = process_csv(\"mapping.csv\")\n",
    "\n",
    "mapping_rows[:10]"
   ]
  },
  {
   "cell_type": "code",
   "execution_count": 82,
   "id": "2d4f27b6",
   "metadata": {
    "deletable": false,
    "editable": true
   },
   "outputs": [
    {
     "name": "stdout",
     "output_type": "stream",
     "text": [
      "Make sure you saved the notebook before running this cell. Running check for lab-q3...\n",
      "Great job! You passed all test cases for this question.\n"
     ]
    },
    {
     "data": {
      "text/plain": [
       "True"
      ]
     },
     "execution_count": 82,
     "metadata": {},
     "output_type": "execute_result"
    }
   ],
   "source": [
    "student_grader.check(\"lab-q3\", should_get_llm_feedback=False)"
   ]
  },
  {
   "cell_type": "markdown",
   "id": "181bc0ad-9a6e-489c-837d-c74246a91e19",
   "metadata": {
    "deletable": false,
    "editable": false
   },
   "source": [
    "Currently `mapping_rows` is a **list** of **lists**.  To make it more useful, let us convert it to a **dict** with the *ID* as the **key** and the *name* as the **value**, like this:\n",
    "\n",
    "```python\n",
    "{\"tt7708470\": \"The Bloody Man\"\n",
    " \"tt5759068\": \"Freightened: The Real Price of Shipping\"\n",
    " \"tt0081541\": \"The Under-Gifted\"\n",
    " \"tt1024962\": \"Here We Are!\"\n",
    " \"tt0246875\": \"Purely Belter\"\n",
    " \"tt0239341\": \"Devi Putrudu\"\n",
    " \"tt0360960\": \"Shadows of Time\"\n",
    " \"tt3215486\": \"Idhu Kathirvelan Kadhal\"\n",
    " \"tt12792532\": \"The Third War\"\n",
    " \"tt0070660\": \"Seduction\"\n",
    " \"tt0284573\": \"Transfixed\"\n",
    " \"tt14605182\": \"Hell's Garden\"\n",
    " \"tt0043511\": \"Europe '51\"\n",
    " \"tt0420215\": \"The Spectator\"\n",
    " \"tt19514578\": \"Shubh Yatra\"\n",
    " \"tt1837574\": \"Hyena\"}\n",
    "```"
   ]
  },
  {
   "cell_type": "markdown",
   "id": "c5ac34bb",
   "metadata": {
    "deletable": false,
    "editable": false
   },
   "source": [
    "#### Lab Question 4"
   ]
  },
  {
   "cell_type": "markdown",
   "id": "5cfb1354-dcaa-4a75-a25a-216458cc3766",
   "metadata": {
    "deletable": false,
    "editable": false
   },
   "source": [
    "Display the **data** in the file `mapping.csv` as a **dictionary**.\n",
    "\n",
    "Your output **must** be a **dictionary**.\n",
    "\n",
    "It is acceptable for you to *hardcode* **column indices** here. This is because this csv file does not have a header, and it is **implicit** that the first string is the ID and that the second string is the name associated with the ID. For csv files which have headers, you should **never** hardcode **column indices**.\n",
    "\n",
    "We will not display the dictionary because it is long, so we will display the length instead (length: 5823). However the next few questions will check to make sure you've correctly created the dictionary. "
   ]
  },
  {
   "cell_type": "markdown",
   "id": "c3913b08",
   "metadata": {
    "deletable": false,
    "editable": false
   },
   "source": [
    "Points possible: 4.0"
   ]
  },
  {
   "cell_type": "code",
   "execution_count": 83,
   "id": "87299046-4dea-4624-ab76-8f89c1fa1a0a",
   "metadata": {
    "deletable": false,
    "editable": true,
    "tags": [
     "lab-q4-code"
    ]
   },
   "outputs": [],
   "source": [
    "mapping_dict = {} # initialize an empty dictionary into the variable mapping_dict\n",
    "# TODO: iterate over each row of the mapping dataset\n",
    "for row in mapping_rows:\n",
    "    mapping_dict[row[0]] = row[1]\n"
   ]
  },
  {
   "cell_type": "code",
   "execution_count": 84,
   "id": "4fb9b3f5",
   "metadata": {
    "deletable": false,
    "editable": true
   },
   "outputs": [
    {
     "name": "stdout",
     "output_type": "stream",
     "text": [
      "Make sure you saved the notebook before running this cell. Running check for lab-q4...\n",
      "Great job! You passed all test cases for this question.\n"
     ]
    },
    {
     "data": {
      "text/plain": [
       "True"
      ]
     },
     "execution_count": 84,
     "metadata": {},
     "output_type": "execute_result"
    }
   ],
   "source": [
    "student_grader.check(\"lab-q4\", should_get_llm_feedback=False)"
   ]
  },
  {
   "cell_type": "markdown",
   "id": "54ddf52e",
   "metadata": {
    "deletable": false,
    "editable": false
   },
   "source": [
    "#### Lab Question 5"
   ]
  },
  {
   "cell_type": "markdown",
   "id": "80d59605-c768-48b5-8e72-2d76a099d02a",
   "metadata": {
    "deletable": false,
    "editable": false
   },
   "source": [
    "What is the **value** associated with the key **nm0000123** in `mapping_dict`?"
   ]
  },
  {
   "cell_type": "markdown",
   "id": "4b7cc785",
   "metadata": {
    "deletable": false,
    "editable": false
   },
   "source": [
    "Points possible: 4.0"
   ]
  },
  {
   "cell_type": "code",
   "execution_count": 85,
   "id": "0b094e68-e150-459b-9e36-87564efef12c",
   "metadata": {
    "deletable": false,
    "editable": true,
    "tags": [
     "lab-q5-code"
    ]
   },
   "outputs": [
    {
     "data": {
      "text/plain": [
       "'George Clooney'"
      ]
     },
     "execution_count": 85,
     "metadata": {},
     "output_type": "execute_result"
    }
   ],
   "source": [
    "# we have done this one for you\n",
    "nm0000123_value = mapping_dict[\"nm0000123\"]\n",
    "\n",
    "nm0000123_value"
   ]
  },
  {
   "cell_type": "code",
   "execution_count": 86,
   "id": "64cdaaed",
   "metadata": {
    "deletable": false,
    "editable": true
   },
   "outputs": [
    {
     "name": "stdout",
     "output_type": "stream",
     "text": [
      "Make sure you saved the notebook before running this cell. Running check for lab-q5...\n",
      "Great job! You passed all test cases for this question.\n"
     ]
    },
    {
     "data": {
      "text/plain": [
       "True"
      ]
     },
     "execution_count": 86,
     "metadata": {},
     "output_type": "execute_result"
    }
   ],
   "source": [
    "student_grader.check(\"lab-q5\", should_get_llm_feedback=False)"
   ]
  },
  {
   "cell_type": "markdown",
   "id": "1d9002cb",
   "metadata": {
    "deletable": false,
    "editable": false
   },
   "source": [
    "#### Lab Question 6"
   ]
  },
  {
   "cell_type": "markdown",
   "id": "90a7e78d-f3dd-493c-9359-3a8b9d8b8dbe",
   "metadata": {
    "deletable": false,
    "editable": false
   },
   "source": [
    "What is the **value** associated with the key *tt3469046* in `mapping_dict`?"
   ]
  },
  {
   "cell_type": "markdown",
   "id": "bef0d51a",
   "metadata": {
    "deletable": false,
    "editable": false
   },
   "source": [
    "Points possible: 4.0"
   ]
  },
  {
   "cell_type": "code",
   "execution_count": 87,
   "id": "445c9a75",
   "metadata": {
    "deletable": false,
    "editable": true,
    "tags": [
     "lab-q6-code"
    ]
   },
   "outputs": [
    {
     "data": {
      "text/plain": [
       "'Despicable Me 3'"
      ]
     },
     "execution_count": 87,
     "metadata": {},
     "output_type": "execute_result"
    }
   ],
   "source": [
    "# replace the ... with your code\n",
    "tt3469046_value = mapping_dict[\"tt3469046\"]\n",
    "\n",
    "tt3469046_value"
   ]
  },
  {
   "cell_type": "code",
   "execution_count": 88,
   "id": "aa5a41dd",
   "metadata": {
    "deletable": false,
    "editable": true
   },
   "outputs": [
    {
     "name": "stdout",
     "output_type": "stream",
     "text": [
      "Make sure you saved the notebook before running this cell. Running check for lab-q6...\n",
      "Great job! You passed all test cases for this question.\n"
     ]
    },
    {
     "data": {
      "text/plain": [
       "True"
      ]
     },
     "execution_count": 88,
     "metadata": {},
     "output_type": "execute_result"
    }
   ],
   "source": [
    "student_grader.check(\"lab-q6\", should_get_llm_feedback=False)"
   ]
  },
  {
   "cell_type": "markdown",
   "id": "2346c48a",
   "metadata": {
    "deletable": false,
    "editable": false
   },
   "source": [
    "### Task 1.3.1: Convert a list of lists to a list of dictionaries\n",
    "\n",
    "Now, let's go back to `movies.csv`. Your variable `csv_rows` (defined above in Question 2) should look like this:\n",
    "\n",
    "```python\n",
    "[['tt0115953',\n",
    "  '1996',\n",
    "  '90',\n",
    "  'Crime, Mystery, Thriller',\n",
    "  '3.9',\n",
    "  'nm0915394',\n",
    "  'nm0023858, nm0001614, nm0518715, nm0001457'],\n",
    " ['tt0283453',\n",
    "  '2003',\n",
    "  '95',\n",
    "  'Drama, Romance, Thriller',\n",
    "  '5.5',\n",
    "  'nm0557751',\n",
    "  'nm0000117, nm0121605, nm0000998, nm0694052'],\n",
    " ['tt0447619',\n",
    "  '2006',\n",
    "  '102',\n",
    "  'Adventure, Crime, Drama',\n",
    "  '4.8',\n",
    "  'nm0630112',\n",
    "  'nm0000899, nm0000366, nm0001953, nm0098793']]\n",
    "```"
   ]
  },
  {
   "cell_type": "markdown",
   "id": "08e69132-fafa-42c6-b143-ac3e8490ac8c",
   "metadata": {
    "deletable": false,
    "editable": false
   },
   "source": [
    "It's a list of lists without its header. To make it easier to access data, let us convert it to a **list** of **dictionaries**. The data structure should look like:\n",
    "\n",
    "```python\n",
    "[{'title': 'tt0115953',\n",
    "  'year': '1996',\n",
    "  'duration': '90',\n",
    "  'genres': 'Crime, Mystery, Thriller',\n",
    "  'rating': '3.9',\n",
    "  'directors': 'nm0915394',\n",
    "  'cast': 'nm0023858, nm0001614, nm0518715, nm0001457'},\n",
    " {'title': 'tt0283453',\n",
    "  'year': '2003',\n",
    "  'duration': '95',\n",
    "  'genres': 'Drama, Romance, Thriller',\n",
    "  'rating': '5.5',\n",
    "  'directors': 'nm0557751',\n",
    "  'cast': 'nm0000117, nm0121605, nm0000998, nm0694052'},\n",
    " {'title': 'tt0447619',\n",
    "  'year': '2006',\n",
    "  'duration': '102',\n",
    "  'genres': 'Adventure, Crime, Drama',\n",
    "  'rating': '4.8',\n",
    "  'directors': 'nm0630112',\n",
    "  'cast': 'nm0000899, nm0000366, nm0001953, nm0098793'}]\n",
    "```"
   ]
  },
  {
   "cell_type": "markdown",
   "id": "5c1a4933",
   "metadata": {
    "deletable": false,
    "editable": false
   },
   "source": [
    "#### Lab Question 7"
   ]
  },
  {
   "cell_type": "markdown",
   "id": "47592482-f62f-47fe-8e98-942b3e50dd11",
   "metadata": {
    "deletable": false,
    "editable": false
   },
   "source": [
    "Store the **first** movie in the file `movies.csv` as a **dictionary**.\n",
    "\n",
    "It should be noted that the dataset file has a **header** that must be used. You **must** use the `list.index` method to identify the column indices from the column name, just as you did in P6 and P7."
   ]
  },
  {
   "cell_type": "markdown",
   "id": "01be6de7",
   "metadata": {
    "deletable": false,
    "editable": false
   },
   "source": [
    "Points possible: 4.0"
   ]
  },
  {
   "cell_type": "code",
   "execution_count": 89,
   "id": "3ab44d52-03a4-4df3-b58a-3b828ecfaa94",
   "metadata": {
    "deletable": false,
    "editable": true,
    "tags": [
     "lab-q7-code"
    ]
   },
   "outputs": [
    {
     "data": {
      "text/plain": [
       "{'title': 'tt0115953',\n",
       " 'year': '1996',\n",
       " 'duration': '90',\n",
       " 'genres': 'Crime, Mystery, Thriller',\n",
       " 'rating': '3.9',\n",
       " 'directors': 'nm0915394',\n",
       " 'cast': 'nm0023858, nm0001614, nm0518715, nm0001457'}"
      ]
     },
     "execution_count": 89,
     "metadata": {},
     "output_type": "execute_result"
    }
   ],
   "source": [
    "first_movie = {} # initialize an empty dictionary\n",
    "first_movie[\"title\"] = csv_rows[0][csv_header.index(\"title\")] \n",
    "first_movie[\"year\"] = csv_rows[0][csv_header.index(\"year\")]\n",
    "# TODO: add the other columns to first_movie\n",
    "first_movie[\"duration\"] = csv_rows[0][csv_header.index(\"duration\")]\n",
    "first_movie[\"genres\"] = csv_rows[0][csv_header.index(\"genres\")]\n",
    "first_movie[\"rating\"] = csv_rows[0][csv_header.index(\"rating\")]\n",
    "first_movie[\"directors\"] = csv_rows[0][csv_header.index(\"directors\")]\n",
    "first_movie[\"cast\"] = csv_rows[0][csv_header.index(\"cast\")]\n",
    "\n",
    "first_movie"
   ]
  },
  {
   "cell_type": "code",
   "execution_count": 90,
   "id": "2b2e338e",
   "metadata": {
    "deletable": false,
    "editable": true
   },
   "outputs": [
    {
     "name": "stdout",
     "output_type": "stream",
     "text": [
      "Make sure you saved the notebook before running this cell. Running check for lab-q7...\n",
      "Great job! You passed all test cases for this question.\n"
     ]
    },
    {
     "data": {
      "text/plain": [
       "True"
      ]
     },
     "execution_count": 90,
     "metadata": {},
     "output_type": "execute_result"
    }
   ],
   "source": [
    "student_grader.check(\"lab-q7\", should_get_llm_feedback=False)"
   ]
  },
  {
   "cell_type": "markdown",
   "id": "cb9103f2",
   "metadata": {
    "deletable": false,
    "editable": false
   },
   "source": [
    "#### Lab Question 8"
   ]
  },
  {
   "cell_type": "markdown",
   "id": "30e0566d-aa0d-429f-a845-c953e2e28391",
   "metadata": {
    "deletable": false,
    "editable": false
   },
   "source": [
    "Display the **data** in the file `movies.csv` as a **list** of **dictionaries**."
   ]
  },
  {
   "cell_type": "markdown",
   "id": "b28763a2",
   "metadata": {
    "deletable": false,
    "editable": false
   },
   "source": [
    "Points possible: 4.0"
   ]
  },
  {
   "cell_type": "code",
   "execution_count": 91,
   "id": "5fd54109",
   "metadata": {
    "deletable": false,
    "editable": true,
    "tags": [
     "lab-q8-code"
    ]
   },
   "outputs": [
    {
     "data": {
      "text/plain": [
       "[{'title': 'tt0115953',\n",
       "  'year': '1996',\n",
       "  'duration': '90',\n",
       "  'genres': 'Crime, Mystery, Thriller',\n",
       "  'rating': '3.9',\n",
       "  'directors': 'nm0915394',\n",
       "  'cast': 'nm0023858, nm0001614, nm0518715, nm0001457'},\n",
       " {'title': 'tt0283453',\n",
       "  'year': '2003',\n",
       "  'duration': '95',\n",
       "  'genres': 'Drama, Romance, Thriller',\n",
       "  'rating': '5.5',\n",
       "  'directors': 'nm0557751',\n",
       "  'cast': 'nm0000117, nm0121605, nm0000998, nm0694052'},\n",
       " {'title': 'tt0447619',\n",
       "  'year': '2006',\n",
       "  'duration': '102',\n",
       "  'genres': 'Adventure, Crime, Drama',\n",
       "  'rating': '4.8',\n",
       "  'directors': 'nm0630112',\n",
       "  'cast': 'nm0000899, nm0000366, nm0001953, nm0098793'}]"
      ]
     },
     "execution_count": 91,
     "metadata": {},
     "output_type": "execute_result"
    }
   ],
   "source": [
    "raw_movies_list = [] # use this empty list to append your dictionary\n",
    "# TODO: loop through all the rows of csv_rows\n",
    "movie = {}\n",
    "for row in csv_rows:\n",
    "    for head in csv_header:\n",
    "        movie[head] = row[csv_header.index(head)]\n",
    "    raw_movies_list.append(movie)\n",
    "    movie = {}\n",
    "\n",
    "raw_movies_list[:3]"
   ]
  },
  {
   "cell_type": "code",
   "execution_count": 92,
   "id": "b16e05f8",
   "metadata": {
    "deletable": false,
    "editable": true
   },
   "outputs": [
    {
     "name": "stdout",
     "output_type": "stream",
     "text": [
      "Make sure you saved the notebook before running this cell. Running check for lab-q8...\n",
      "Great job! You passed all test cases for this question.\n"
     ]
    },
    {
     "data": {
      "text/plain": [
       "True"
      ]
     },
     "execution_count": 92,
     "metadata": {},
     "output_type": "execute_result"
    }
   ],
   "source": [
    "student_grader.check(\"lab-q8\", should_get_llm_feedback=False)"
   ]
  },
  {
   "cell_type": "markdown",
   "id": "c3210fd7",
   "metadata": {
    "deletable": false,
    "editable": false
   },
   "source": [
    "#### Lab Question 9"
   ]
  },
  {
   "cell_type": "markdown",
   "id": "258daaf7-2d96-45d3-b81e-acf902648312",
   "metadata": {
    "deletable": false,
    "editable": false
   },
   "source": [
    "What is the `title` *ID* of the **first** movie in your list?\n",
    "\n",
    "Your output **must** be a **string**. You must answer this question by querying the value from the `raw_movies_list` data structure."
   ]
  },
  {
   "cell_type": "markdown",
   "id": "c2c5b1c2",
   "metadata": {
    "deletable": false,
    "editable": false
   },
   "source": [
    "Points possible: 4.0"
   ]
  },
  {
   "cell_type": "code",
   "execution_count": 93,
   "id": "c6df20bc-6867-4d17-a4b6-8d84c24838cb",
   "metadata": {
    "deletable": false,
    "editable": true,
    "tags": [
     "lab-q9-code"
    ]
   },
   "outputs": [
    {
     "data": {
      "text/plain": [
       "'tt0115953'"
      ]
     },
     "execution_count": 93,
     "metadata": {},
     "output_type": "execute_result"
    }
   ],
   "source": [
    "# we have done this one for you\n",
    "first_movie_title = raw_movies_list[0]['title']\n",
    "\n",
    "first_movie_title"
   ]
  },
  {
   "cell_type": "code",
   "execution_count": 94,
   "id": "6e4fcd1e",
   "metadata": {
    "deletable": false,
    "editable": true
   },
   "outputs": [
    {
     "name": "stdout",
     "output_type": "stream",
     "text": [
      "Make sure you saved the notebook before running this cell. Running check for lab-q9...\n",
      "Great job! You passed all test cases for this question.\n"
     ]
    },
    {
     "data": {
      "text/plain": [
       "True"
      ]
     },
     "execution_count": 94,
     "metadata": {},
     "output_type": "execute_result"
    }
   ],
   "source": [
    "student_grader.check(\"lab-q9\", should_get_llm_feedback=False)"
   ]
  },
  {
   "cell_type": "markdown",
   "id": "9a0f1a65",
   "metadata": {
    "deletable": false,
    "editable": false
   },
   "source": [
    "#### Lab Question 10"
   ]
  },
  {
   "cell_type": "markdown",
   "id": "9106bd3a-d35b-4154-b217-7c198c76211d",
   "metadata": {
    "deletable": false,
    "editable": false
   },
   "source": [
    "What is the `duration` of the **second** movie in your list?\n",
    "\n",
    "Your output **must** be a **string**. You **must** answer this question by querying the value from the `raw_movies_list` data structure."
   ]
  },
  {
   "cell_type": "markdown",
   "id": "22f093b8",
   "metadata": {
    "deletable": false,
    "editable": false
   },
   "source": [
    "Points possible: 4.0"
   ]
  },
  {
   "cell_type": "code",
   "execution_count": 95,
   "id": "73347ed0-77e9-4db2-9ef3-241f604e0324",
   "metadata": {
    "deletable": false,
    "editable": true,
    "tags": [
     "lab-q10-code"
    ]
   },
   "outputs": [
    {
     "data": {
      "text/plain": [
       "'95'"
      ]
     },
     "execution_count": 95,
     "metadata": {},
     "output_type": "execute_result"
    }
   ],
   "source": [
    "# compute and store the answer in the variable 'second_movie_duration', then display it\n",
    "\n",
    "second_movie_duration = raw_movies_list[1]['duration']\n",
    "\n",
    "second_movie_duration"
   ]
  },
  {
   "cell_type": "code",
   "execution_count": 96,
   "id": "05685b12",
   "metadata": {
    "deletable": false,
    "editable": true
   },
   "outputs": [
    {
     "name": "stdout",
     "output_type": "stream",
     "text": [
      "Make sure you saved the notebook before running this cell. Running check for lab-q10...\n",
      "Great job! You passed all test cases for this question.\n"
     ]
    },
    {
     "data": {
      "text/plain": [
       "True"
      ]
     },
     "execution_count": 96,
     "metadata": {},
     "output_type": "execute_result"
    }
   ],
   "source": [
    "student_grader.check(\"lab-q10\", should_get_llm_feedback=False)"
   ]
  },
  {
   "cell_type": "markdown",
   "id": "8ea9920d",
   "metadata": {
    "deletable": false,
    "editable": false
   },
   "source": [
    "#### Lab Question 11"
   ]
  },
  {
   "cell_type": "markdown",
   "id": "6b87be85-1dea-4cb7-b996-891de2b3aeeb",
   "metadata": {
    "deletable": false,
    "editable": false
   },
   "source": [
    "What are the `genres` of the **second** movie in your list?\n",
    "\n",
    "Your output **must** be a **string**. You **must** answer this question by querying the value from the `raw_movies_list` data structure."
   ]
  },
  {
   "cell_type": "markdown",
   "id": "94a003cc-e3dc-4f0f-b92b-b5c9f795f1dd",
   "metadata": {
    "deletable": false,
    "editable": false
   },
   "source": [
    "Points possible: 4.0"
   ]
  },
  {
   "cell_type": "code",
   "execution_count": 97,
   "id": "79fef008-9cbd-45f0-a7b5-a5ba14dcf079",
   "metadata": {
    "deletable": false,
    "editable": true,
    "tags": [
     "lab-q11-code"
    ]
   },
   "outputs": [
    {
     "data": {
      "text/plain": [
       "'Drama, Romance, Thriller'"
      ]
     },
     "execution_count": 97,
     "metadata": {},
     "output_type": "execute_result"
    }
   ],
   "source": [
    "# compute and store the answer in the variable 'second_movie_genres', then display it\n",
    "\n",
    "second_movie_genres = raw_movies_list[1]['genres']\n",
    "\n",
    "second_movie_genres"
   ]
  },
  {
   "cell_type": "code",
   "execution_count": 98,
   "id": "7416237d",
   "metadata": {
    "deletable": false,
    "editable": true
   },
   "outputs": [
    {
     "name": "stdout",
     "output_type": "stream",
     "text": [
      "Make sure you saved the notebook before running this cell. Running check for lab-q11...\n",
      "Great job! You passed all test cases for this question.\n"
     ]
    },
    {
     "data": {
      "text/plain": [
       "True"
      ]
     },
     "execution_count": 98,
     "metadata": {},
     "output_type": "execute_result"
    }
   ],
   "source": [
    "student_grader.check(\"lab-q11\", should_get_llm_feedback=False)"
   ]
  },
  {
   "cell_type": "markdown",
   "id": "335253d5",
   "metadata": {
    "deletable": false,
    "editable": false
   },
   "source": [
    "### Task 1.3.2: Convert the `int` and `float` values to the correct type\n",
    "\n",
    "Did you notice that currently all the values in the dictionaries are **strings**? We should convert them into correct types. In particular, the `year` and `duration` should be data type **int** and the `rating` should be a **float**. \n",
    "\n",
    "After converting the **int** and **float** values to the right types, your list of dictionaries should look like: \n",
    "\n",
    "```python\n",
    "[{'title': 'tt0115953',\n",
    "  'year': 1996,\n",
    "  'duration': 90,\n",
    "  'genres': 'Crime, Mystery, Thriller',\n",
    "  'rating': 3.9,\n",
    "  'directors': 'nm0915394',\n",
    "  'cast': 'nm0023858, nm0001614, nm0518715, nm0001457'},\n",
    " {'title': 'tt0283453',\n",
    "  'year': 2003,\n",
    "  'duration': 95,\n",
    "  'genres': 'Drama, Romance, Thriller',\n",
    "  'rating': 5.5,\n",
    "  'directors': 'nm0557751',\n",
    "  'cast': 'nm0000117, nm0121605, nm0000998, nm0694052'},\n",
    " {'title': 'tt0447619',\n",
    "  'year': 2006,\n",
    "  'duration': 102,\n",
    "  'genres': 'Adventure, Crime, Drama',\n",
    "  'rating': 4.8,\n",
    "  'directors': 'nm0630112',\n",
    "  'cast': 'nm0000899, nm0000366, nm0001953, nm0098793'}]\n",
    "```"
   ]
  },
  {
   "cell_type": "markdown",
   "id": "efefc9e9",
   "metadata": {
    "deletable": false,
    "editable": false
   },
   "source": [
    "#### Lab Question 12"
   ]
  },
  {
   "cell_type": "markdown",
   "id": "be4bfeae-2cb5-47dc-b126-22bdc6d863a3",
   "metadata": {
    "deletable": false,
    "editable": false
   },
   "source": [
    "Store the **data** in the file `movies.csv` as a **list** of **dictionaries** with the correct data types.\n",
    "\n",
    "The `year` and `duration` values **must** be of data type **int** and the `rating` value **must** be a **float**."
   ]
  },
  {
   "cell_type": "markdown",
   "id": "3d2b4003",
   "metadata": {
    "deletable": false,
    "editable": false
   },
   "source": [
    "Points possible: 4.0"
   ]
  },
  {
   "cell_type": "code",
   "execution_count": 99,
   "id": "e28df34e-8752-460e-9001-449c9dfd95db",
   "metadata": {
    "deletable": false,
    "editable": true,
    "tags": [
     "lab-q12-code"
    ]
   },
   "outputs": [
    {
     "data": {
      "text/plain": [
       "[{'title': 'tt0115953',\n",
       "  'year': 1996,\n",
       "  'duration': 90,\n",
       "  'genres': 'Crime, Mystery, Thriller',\n",
       "  'rating': 3.9,\n",
       "  'directors': 'nm0915394',\n",
       "  'cast': 'nm0023858, nm0001614, nm0518715, nm0001457'},\n",
       " {'title': 'tt0283453',\n",
       "  'year': 2003,\n",
       "  'duration': 95,\n",
       "  'genres': 'Drama, Romance, Thriller',\n",
       "  'rating': 5.5,\n",
       "  'directors': 'nm0557751',\n",
       "  'cast': 'nm0000117, nm0121605, nm0000998, nm0694052'},\n",
       " {'title': 'tt0447619',\n",
       "  'year': 2006,\n",
       "  'duration': 102,\n",
       "  'genres': 'Adventure, Crime, Drama',\n",
       "  'rating': 4.8,\n",
       "  'directors': 'nm0630112',\n",
       "  'cast': 'nm0000899, nm0000366, nm0001953, nm0098793'}]"
      ]
     },
     "execution_count": 99,
     "metadata": {},
     "output_type": "execute_result"
    }
   ],
   "source": [
    "mostly_raw_movies_list = [] # use this empty list to append your dictionaies below\n",
    "for movie in raw_movies_list: # loop (directly) through movies in raw_movies_list\n",
    "    new_movie = {} # create an empty dictionary to insert values for each movie\n",
    "    new_movie['title'] = movie['title'] # extract the title from movie to new_movie\n",
    "    new_movie['year'] = int(movie['year']) # convert the year from movie into an int and save in new_movie\n",
    "    new_movie['duration'] = int(movie['duration'])\n",
    "    new_movie['genres'] = movie['genres'] \n",
    "    new_movie['rating'] = float(movie['rating'])\n",
    "    new_movie['directors'] = movie['directors']\n",
    "    new_movie['cast'] = movie['cast']\n",
    "    \n",
    "    mostly_raw_movies_list.append(new_movie)\n",
    "    # TODO: add the other columns (with the required data types) to new_movie\n",
    "    # TODO: add new_movie to mostly_raw_movies_list\n",
    "\n",
    "mostly_raw_movies_list[:3]"
   ]
  },
  {
   "cell_type": "code",
   "execution_count": 100,
   "id": "d9b9b248",
   "metadata": {
    "deletable": false,
    "editable": true
   },
   "outputs": [
    {
     "name": "stdout",
     "output_type": "stream",
     "text": [
      "Make sure you saved the notebook before running this cell. Running check for lab-q12...\n",
      "Great job! You passed all test cases for this question.\n"
     ]
    },
    {
     "data": {
      "text/plain": [
       "True"
      ]
     },
     "execution_count": 100,
     "metadata": {},
     "output_type": "execute_result"
    }
   ],
   "source": [
    "student_grader.check(\"lab-q12\", should_get_llm_feedback=False)"
   ]
  },
  {
   "cell_type": "markdown",
   "id": "1a7355aa",
   "metadata": {
    "deletable": false,
    "editable": false
   },
   "source": [
    "#### Lab Question 13"
   ]
  },
  {
   "cell_type": "markdown",
   "id": "2166e565-9f91-4833-a3fc-675efd1ca43d",
   "metadata": {
    "deletable": false,
    "editable": false
   },
   "source": [
    "What is the `type` of the `duration` of the **first** movie in your list?\n",
    "\n",
    "You must answer this question by querying the value from the `mostly_raw_movies_list` structure."
   ]
  },
  {
   "cell_type": "markdown",
   "id": "8f9258c7",
   "metadata": {
    "deletable": false,
    "editable": false
   },
   "source": [
    "Points possible: 4.0"
   ]
  },
  {
   "cell_type": "code",
   "execution_count": 101,
   "id": "fb5152d6",
   "metadata": {
    "deletable": false,
    "editable": true,
    "tags": [
     "lab-q13-code"
    ]
   },
   "outputs": [
    {
     "data": {
      "text/plain": [
       "int"
      ]
     },
     "execution_count": 101,
     "metadata": {},
     "output_type": "execute_result"
    }
   ],
   "source": [
    "# we have done this one for you\n",
    "first_movie_duration_type = type(mostly_raw_movies_list[0][\"duration\"])\n",
    "\n",
    "first_movie_duration_type"
   ]
  },
  {
   "cell_type": "code",
   "execution_count": 102,
   "id": "1c3bfab7",
   "metadata": {
    "deletable": false,
    "editable": true
   },
   "outputs": [
    {
     "name": "stdout",
     "output_type": "stream",
     "text": [
      "Make sure you saved the notebook before running this cell. Running check for lab-q13...\n",
      "Great job! You passed all test cases for this question.\n"
     ]
    },
    {
     "data": {
      "text/plain": [
       "True"
      ]
     },
     "execution_count": 102,
     "metadata": {},
     "output_type": "execute_result"
    }
   ],
   "source": [
    "student_grader.check(\"lab-q13\", should_get_llm_feedback=False)"
   ]
  },
  {
   "cell_type": "markdown",
   "id": "3cf8b19e",
   "metadata": {
    "deletable": false,
    "editable": false
   },
   "source": [
    "#### Lab Question 14"
   ]
  },
  {
   "cell_type": "markdown",
   "id": "fb8afa7f-e55e-4c7d-90b4-e5d60a58c1a2",
   "metadata": {
    "deletable": false,
    "editable": false
   },
   "source": [
    "What is the `type` of the `rating` of the **first** movie in your list?"
   ]
  },
  {
   "cell_type": "markdown",
   "id": "f55ab790",
   "metadata": {
    "deletable": false,
    "editable": false
   },
   "source": [
    "Points possible: 4.0"
   ]
  },
  {
   "cell_type": "code",
   "execution_count": 103,
   "id": "3cb3757e",
   "metadata": {
    "deletable": false,
    "editable": true,
    "tags": [
     "lab-q14-code"
    ]
   },
   "outputs": [
    {
     "data": {
      "text/plain": [
       "float"
      ]
     },
     "execution_count": 103,
     "metadata": {},
     "output_type": "execute_result"
    }
   ],
   "source": [
    "# Replace the ... with your code\n",
    "first_movie_rating_type = type(mostly_raw_movies_list[0][\"rating\"])\n",
    "\n",
    "first_movie_rating_type"
   ]
  },
  {
   "cell_type": "code",
   "execution_count": 104,
   "id": "c9be89e6",
   "metadata": {
    "deletable": false,
    "editable": true
   },
   "outputs": [
    {
     "name": "stdout",
     "output_type": "stream",
     "text": [
      "Make sure you saved the notebook before running this cell. Running check for lab-q14...\n",
      "Great job! You passed all test cases for this question.\n"
     ]
    },
    {
     "data": {
      "text/plain": [
       "True"
      ]
     },
     "execution_count": 104,
     "metadata": {},
     "output_type": "execute_result"
    }
   ],
   "source": [
    "student_grader.check(\"lab-q14\", should_get_llm_feedback=False)"
   ]
  },
  {
   "cell_type": "markdown",
   "id": "9dcb11ee",
   "metadata": {
    "deletable": false,
    "editable": false
   },
   "source": [
    "### Task 1.3.3: Convert the `genres`, `directors`, and `cast` to list of strings\n",
    "\n",
    "Run the next cell and observe its output."
   ]
  },
  {
   "cell_type": "code",
   "execution_count": 105,
   "id": "a60c8c43",
   "metadata": {
    "deletable": false
   },
   "outputs": [
    {
     "data": {
      "text/plain": [
       "'Crime, Mystery, Thriller'"
      ]
     },
     "execution_count": 105,
     "metadata": {},
     "output_type": "execute_result"
    }
   ],
   "source": [
    "# these are the 'genres' of the first movie\n",
    "mostly_raw_movies_list[0][\"genres\"]\n"
   ]
  },
  {
   "cell_type": "markdown",
   "id": "ca9d7adc",
   "metadata": {
    "deletable": false,
    "editable": false
   },
   "source": [
    "Notice that the `genres` are stored as a *single* **string**. It would be much more useful to store this value as a **list** of *three different* **strings**, with each **string** representing a *single* **genre**: \n",
    "\n",
    "`['Crime', 'Mystery', 'Thriller']`\n",
    "\n",
    "Unfortunately, the CSV file format cannot represent **lists**, so **lists** of **strings** are often represented as a *single* **string** with the values separated by a comma followed by a space. So, we will have to convert the **string** into a **list** of **strings** ourselves.\n",
    "\n",
    "In the `movies.csv` dataset, the `directors` and `cast` are similarly stored as a *single* **string** with the values separated by a comma followed by a space (`\", \"`). We are now going to convert the value corresponding to the keys `genres`, `casts`, and `directors` to a **list** of **strings**. The output **must** be a **list** of **dictionaries** in the following format:\n",
    "\n",
    "```python\n",
    "   {\n",
    "        'title': <title-id>,\n",
    "        'year': <the year as an integer>,\n",
    "        'duration': <the duration as an integer>,\n",
    "        'genres': [<genre1>, <genre2>, ...],\n",
    "        'rating': <the rating as a float>,\n",
    "        'directors': [<director-id1>, <director-id2>, ...],\n",
    "        'cast': [<actor-id1>, <actor-id2>, ....]\n",
    "    }\n",
    "```\n",
    "\n",
    "After converting the strings to list of strings, the **list** of **dictionaries** should look like: \n",
    "\n",
    "```python\n",
    "    [{'title': 'tt0115953',\n",
    "      'year': 1996,\n",
    "      'duration': 90,\n",
    "      'genres': ['Crime', 'Mystery', 'Thriller'],\n",
    "      'rating': 3.9,\n",
    "      'directors': ['nm0915394'],\n",
    "      'cast': ['nm0023858', 'nm0001614', 'nm0518715', 'nm0001457']},\n",
    "     {'title': 'tt0283453',\n",
    "      'year': 2003,\n",
    "      'duration': 95,\n",
    "      'genres': ['Drama', 'Romance', 'Thriller'],\n",
    "      'rating': 5.5,\n",
    "      'directors': ['nm0557751'],\n",
    "      'cast': ['nm0000117', 'nm0121605', 'nm0000998', 'nm0694052']},\n",
    "     {'title': 'tt0447619',\n",
    "      'year': 2006,\n",
    "      'duration': 102,\n",
    "      'genres': ['Adventure', 'Crime', 'Drama'],\n",
    "      'rating': 4.8,\n",
    "      'directors': ['nm0630112'],\n",
    "      'cast': ['nm0000899', 'nm0000366', 'nm0001953', 'nm0098793']}]\n",
    "```"
   ]
  },
  {
   "cell_type": "markdown",
   "id": "565054a8",
   "metadata": {
    "deletable": false,
    "editable": false
   },
   "source": [
    "#### Lab Question 15"
   ]
  },
  {
   "cell_type": "markdown",
   "id": "3d1971e6-4289-4621-85e6-e29f1759b6f9",
   "metadata": {
    "deletable": false,
    "editable": false
   },
   "source": [
    "Store the **data** in the file `movies.csv` as a **list** of **dictionaries** with the fields `genres`, `directors`, and `cast` converted to a list of strings.\n",
    "\n",
    "The `genres`, `directors`, and `cast` values **must** be **lists** of **strings**.\n",
    "\n",
    "**Hint:** Recall that there is a **string method** that enables you to perform this. If you don't know where to start, please review any of the lecture notes from Lecture 14.\n",
    "\n",
    "[Mike's lecture notes on Lists](https://canvas.wisc.edu/courses/450205/files/folder/Mikes_Lecture_Notes/lec14_lists)\n",
    "\n",
    "[Louis' lecture notes on Lists](https://git.doit.wisc.edu/cdis/cs/courses/cs220/cs220-lecture-material/-/tree/main/s25/Louis_Lecture_Notes/14_Lists)"
   ]
  },
  {
   "cell_type": "markdown",
   "id": "1ef50f12",
   "metadata": {
    "deletable": false,
    "editable": false
   },
   "source": [
    "Points possible: 4.0"
   ]
  },
  {
   "cell_type": "code",
   "execution_count": 106,
   "id": "038fd5f4",
   "metadata": {
    "deletable": false,
    "editable": true,
    "tags": [
     "lab-q15-code"
    ]
   },
   "outputs": [
    {
     "data": {
      "text/plain": [
       "[{'title': 'tt0115953',\n",
       "  'year': 1996,\n",
       "  'duration': 90,\n",
       "  'genres': ['Crime', 'Mystery', 'Thriller'],\n",
       "  'rating': 3.9,\n",
       "  'directors': ['nm0915394'],\n",
       "  'cast': ['nm0023858', 'nm0001614', 'nm0518715', 'nm0001457']},\n",
       " {'title': 'tt0283453',\n",
       "  'year': 2003,\n",
       "  'duration': 95,\n",
       "  'genres': ['Drama', 'Romance', 'Thriller'],\n",
       "  'rating': 5.5,\n",
       "  'directors': ['nm0557751'],\n",
       "  'cast': ['nm0000117', 'nm0121605', 'nm0000998', 'nm0694052']},\n",
       " {'title': 'tt0447619',\n",
       "  'year': 2006,\n",
       "  'duration': 102,\n",
       "  'genres': ['Adventure', 'Crime', 'Drama'],\n",
       "  'rating': 4.8,\n",
       "  'directors': ['nm0630112'],\n",
       "  'cast': ['nm0000899', 'nm0000366', 'nm0001953', 'nm0098793']}]"
      ]
     },
     "execution_count": 106,
     "metadata": {},
     "output_type": "execute_result"
    }
   ],
   "source": [
    "semi_raw_movies_list = [] # use this empty list to append your dictionaries below\n",
    "for movie in mostly_raw_movies_list: # loop through movies in mostly_raw_movies_list\n",
    "    new_movie = {} # create an empty dictionary to insert values for each movie\n",
    "    new_movie['title'] = movie['title']# extract the title of movie \n",
    "    new_movie['year'] =  movie['year'] # extract the year of movie as an int\n",
    "    new_movie['duration'] = movie['duration'] # extract the duration of movie as an int\n",
    "    new_movie['genres'] = movie['genres'].split(', ') # split the genres into a list of strings\n",
    "    new_movie['rating'] = movie['rating']\n",
    "    new_movie['directors'] = movie['directors'].split(', ')\n",
    "    new_movie['cast'] = movie['cast'].split(', ')\n",
    "  \n",
    "    # TODO: add new_movie to semi_raw_movies_list\n",
    "    semi_raw_movies_list.append(new_movie)\n",
    "\n",
    "semi_raw_movies_list[:3]"
   ]
  },
  {
   "cell_type": "code",
   "execution_count": 107,
   "id": "91a65d10",
   "metadata": {
    "deletable": false,
    "editable": true
   },
   "outputs": [
    {
     "name": "stdout",
     "output_type": "stream",
     "text": [
      "Make sure you saved the notebook before running this cell. Running check for lab-q15...\n",
      "Great job! You passed all test cases for this question.\n"
     ]
    },
    {
     "data": {
      "text/plain": [
       "True"
      ]
     },
     "execution_count": 107,
     "metadata": {},
     "output_type": "execute_result"
    }
   ],
   "source": [
    "student_grader.check(\"lab-q15\", should_get_llm_feedback=False)"
   ]
  },
  {
   "cell_type": "markdown",
   "id": "50827e67",
   "metadata": {
    "deletable": false,
    "editable": false
   },
   "source": [
    "#### Lab Question 16"
   ]
  },
  {
   "cell_type": "markdown",
   "id": "6fcf0ad9-5d0d-4690-a1fc-a95761363866",
   "metadata": {
    "deletable": false,
    "editable": false
   },
   "source": [
    "What are the `genres` of the **second** movie in your list?\n",
    "\n",
    "You must answer this question by querying the value from the `semi_raw_movies_list` structure."
   ]
  },
  {
   "cell_type": "markdown",
   "id": "5d95d4fc",
   "metadata": {
    "deletable": false,
    "editable": false
   },
   "source": [
    "Points possible: 4.0"
   ]
  },
  {
   "cell_type": "code",
   "execution_count": 108,
   "id": "eb395afa",
   "metadata": {
    "deletable": false,
    "editable": true,
    "tags": [
     "lab-q16-code"
    ]
   },
   "outputs": [
    {
     "data": {
      "text/plain": [
       "['Drama', 'Romance', 'Thriller']"
      ]
     },
     "execution_count": 108,
     "metadata": {},
     "output_type": "execute_result"
    }
   ],
   "source": [
    "# we have done this one for you\n",
    "second_movie_genres_list = semi_raw_movies_list[1][\"genres\"]\n",
    "\n",
    "second_movie_genres_list"
   ]
  },
  {
   "cell_type": "code",
   "execution_count": 109,
   "id": "3f7e6ea8",
   "metadata": {
    "deletable": false,
    "editable": true
   },
   "outputs": [
    {
     "name": "stdout",
     "output_type": "stream",
     "text": [
      "Make sure you saved the notebook before running this cell. Running check for lab-q16...\n",
      "Great job! You passed all test cases for this question.\n"
     ]
    },
    {
     "data": {
      "text/plain": [
       "True"
      ]
     },
     "execution_count": 109,
     "metadata": {},
     "output_type": "execute_result"
    }
   ],
   "source": [
    "student_grader.check(\"lab-q16\", should_get_llm_feedback=False)"
   ]
  },
  {
   "cell_type": "markdown",
   "id": "923934f1",
   "metadata": {
    "deletable": false,
    "editable": false
   },
   "source": [
    "#### Lab Question 17"
   ]
  },
  {
   "cell_type": "markdown",
   "id": "afb0e8dc-0934-4651-886c-26aad2e5be91",
   "metadata": {
    "deletable": false,
    "editable": false
   },
   "source": [
    "How **many** `cast` members are there in the **second** movie?\n",
    "\n",
    "You **must** answer this question by querying the value from the `semi_raw_movies_list` data structure."
   ]
  },
  {
   "cell_type": "markdown",
   "id": "2b958f50",
   "metadata": {
    "deletable": false,
    "editable": false
   },
   "source": [
    "Points possible: 4.0"
   ]
  },
  {
   "cell_type": "code",
   "execution_count": 110,
   "id": "188abb69-2456-4148-95c9-650f329c533d",
   "metadata": {
    "deletable": false,
    "editable": true,
    "tags": [
     "lab-q17-code"
    ]
   },
   "outputs": [
    {
     "data": {
      "text/plain": [
       "4"
      ]
     },
     "execution_count": 110,
     "metadata": {},
     "output_type": "execute_result"
    }
   ],
   "source": [
    "second_movie_num_cast = len(semi_raw_movies_list[1][\"cast\"])\n",
    "\n",
    "second_movie_num_cast"
   ]
  },
  {
   "cell_type": "code",
   "execution_count": 111,
   "id": "7f79f226",
   "metadata": {
    "deletable": false,
    "editable": true
   },
   "outputs": [
    {
     "name": "stdout",
     "output_type": "stream",
     "text": [
      "Make sure you saved the notebook before running this cell. Running check for lab-q17...\n",
      "Great job! You passed all test cases for this question.\n"
     ]
    },
    {
     "data": {
      "text/plain": [
       "True"
      ]
     },
     "execution_count": 111,
     "metadata": {},
     "output_type": "execute_result"
    }
   ],
   "source": [
    "student_grader.check(\"lab-q17\", should_get_llm_feedback=False)"
   ]
  },
  {
   "cell_type": "markdown",
   "id": "b79a0a6f-bb26-4a80-aa91-d0a8b92262aa",
   "metadata": {
    "deletable": false,
    "editable": false
   },
   "source": [
    "### Segment 2: Mapping IDs to Actual Names"
   ]
  },
  {
   "cell_type": "markdown",
   "id": "06dbb5dd-684f-48a1-9476-3e2da35b7594",
   "metadata": {
    "deletable": false,
    "editable": false
   },
   "source": [
    "You may have noticed that `title`, `directors`, and `cast` are represented by *IDs* rather than actual *names*. To make our data more intuitive, we next need to **convert** these *IDs* to actual *names*. The output **must** be a **list** of **dictionaries** in the following format:\n",
    "\n",
    "```python\n",
    "   {\n",
    "        'title': \"the movie name\",\n",
    "        'year': <the year as an integer>,\n",
    "        'duration': <the duration as an integer>,\n",
    "        'genres': [<genre1>, <genre2>, ...],\n",
    "        'rating': <the rating as a float>,\n",
    "        'directors': [\"director-name1\", \"director-name2\", ...],\n",
    "        'cast': [\"actor-name1\", \"actor-name2\", ....]\n",
    "    }\n",
    "```\n",
    "\n",
    "After converting the IDs to actual names, your **list** of **dictionaries** should look like:\n",
    "\n",
    "```python\n",
    "[{'title': 'Countdown',\n",
    "  'year': 1996,\n",
    "  'duration': 90,\n",
    "  'genres': ['Crime', 'Mystery', 'Thriller'],\n",
    "  'rating': 3.9,\n",
    "  'directors': ['Keoni Waxman'],\n",
    "  'cast': ['Yûki Amami', 'Lori Petty', 'Jason London', 'James Le Gros']},\n",
    " {'title': 'Lost Junction',\n",
    "  'year': 2003,\n",
    "  'duration': 95,\n",
    "  'genres': ['Drama', 'Romance', 'Thriller'],\n",
    "  'rating': 5.5,\n",
    "  'directors': ['Peter Masterson'],\n",
    "  'cast': ['Neve Campbell', 'Billy Burke', 'Jake Busey', 'Charles Edwin Powell']},\n",
    " {'title': 'The Stone Council',\n",
    "  'year': 2006,\n",
    "  'duration': 102,\n",
    "  'genres': ['Adventure', 'Crime', 'Drama'],\n",
    "  'rating': 4.8,\n",
    "  'directors': ['Guillaume Nicloux'],\n",
    "  'cast': ['Monica Bellucci', 'Catherine Deneuve', 'Moritz Bleibtreu', 'Sami Bouajila']}]\n",
    "```"
   ]
  },
  {
   "cell_type": "markdown",
   "id": "f963edb9-beb2-47de-bb8c-ed5cb36e562f",
   "metadata": {
    "deletable": false,
    "editable": false
   },
   "source": [
    "### Task 2.1: Find the Actual Names\n",
    "\n",
    "Run the cell below and try to explain its output."
   ]
  },
  {
   "cell_type": "code",
   "execution_count": 112,
   "id": "2ff25dcd-9f8d-4786-9259-756a09ac4ff6",
   "metadata": {
    "deletable": false
   },
   "outputs": [
    {
     "name": "stdout",
     "output_type": "stream",
     "text": [
      "tt0115953: Countdown\n"
     ]
    }
   ],
   "source": [
    "title_id = semi_raw_movies_list[0][\"title\"] # extract the title of the first movie\n",
    "title = mapping_dict[title_id] # recall the dictionary mapping_dict from q4\n",
    "print(title_id + \": \" + title)"
   ]
  },
  {
   "cell_type": "markdown",
   "id": "db038b41",
   "metadata": {
    "deletable": false,
    "editable": false
   },
   "source": [
    "#### Lab Question 18"
   ]
  },
  {
   "cell_type": "markdown",
   "id": "45c87921-4e5f-47bb-8031-702d4e5a7f4e",
   "metadata": {
    "deletable": false,
    "editable": false
   },
   "source": [
    "List the `title` of the **second** movie in your list.\n",
    "\n",
    "Your output **must** be a **string** of the *name* and **not** the *ID*. You **must** answer this question by querying values from the `semi_raw_movies_list` and `mapping_dict` data structures."
   ]
  },
  {
   "cell_type": "markdown",
   "id": "45b2b035",
   "metadata": {
    "deletable": false,
    "editable": false
   },
   "source": [
    "Points possible: 4.0"
   ]
  },
  {
   "cell_type": "code",
   "execution_count": 113,
   "id": "15b1cc92",
   "metadata": {
    "deletable": false,
    "editable": true,
    "tags": [
     "lab-q18-code"
    ]
   },
   "outputs": [
    {
     "data": {
      "text/plain": [
       "'Lost Junction'"
      ]
     },
     "execution_count": 113,
     "metadata": {},
     "output_type": "execute_result"
    }
   ],
   "source": [
    "# compute and store the answer in the variable 'title_second', then display it\n",
    "title_second = mapping_dict[semi_raw_movies_list[1][\"title\"]]\n",
    "\n",
    "title_second"
   ]
  },
  {
   "cell_type": "code",
   "execution_count": 114,
   "id": "f3a4a909",
   "metadata": {
    "deletable": false,
    "editable": true
   },
   "outputs": [
    {
     "name": "stdout",
     "output_type": "stream",
     "text": [
      "Make sure you saved the notebook before running this cell. Running check for lab-q18...\n",
      "Great job! You passed all test cases for this question.\n"
     ]
    },
    {
     "data": {
      "text/plain": [
       "True"
      ]
     },
     "execution_count": 114,
     "metadata": {},
     "output_type": "execute_result"
    }
   ],
   "source": [
    "student_grader.check(\"lab-q18\", should_get_llm_feedback=False)"
   ]
  },
  {
   "cell_type": "markdown",
   "id": "362bf453",
   "metadata": {
    "deletable": false,
    "editable": false
   },
   "source": [
    "#### Lab Question 19"
   ]
  },
  {
   "cell_type": "markdown",
   "id": "6ac88d2e-9cc1-4b4e-bb3b-8c2da02e7dad",
   "metadata": {
    "deletable": false,
    "editable": false
   },
   "source": [
    "List the **names** of the `cast` of the **first** movie in your list.\n",
    "\n",
    "Your output **must** be a **list** of **strings**."
   ]
  },
  {
   "cell_type": "markdown",
   "id": "32d4451c-06f0-4341-b078-8f67e21f04e2",
   "metadata": {
    "deletable": false,
    "editable": false
   },
   "source": [
    "Points possible: 4.0"
   ]
  },
  {
   "cell_type": "code",
   "execution_count": 115,
   "id": "8eb4f70d",
   "metadata": {
    "deletable": false,
    "editable": true,
    "tags": [
     "lab-q19-code"
    ]
   },
   "outputs": [
    {
     "data": {
      "text/plain": [
       "['Yûki Amami', 'Lori Petty', 'Jason London', 'James Le Gros']"
      ]
     },
     "execution_count": 115,
     "metadata": {},
     "output_type": "execute_result"
    }
   ],
   "source": [
    "cast_names = [] # create an empty list to store the names of the cast members\n",
    "first_movie = semi_raw_movies_list[0] # semi_raw_movies_list[...] # extract the dictionary of the first movie\n",
    "# TODO: iterate over the IDs of the cast members of first_movie\n",
    "for ID in first_movie['cast']:\n",
    "    cast_names.append(mapping_dict[ID])   # take each cast member's ID and lookup the value from the mapping_dict dict\n",
    "    # add each cast member's name to the list 'cast_names'\n",
    "\n",
    "cast_names"
   ]
  },
  {
   "cell_type": "code",
   "execution_count": 116,
   "id": "60a7c725",
   "metadata": {
    "deletable": false,
    "editable": true
   },
   "outputs": [
    {
     "name": "stdout",
     "output_type": "stream",
     "text": [
      "Make sure you saved the notebook before running this cell. Running check for lab-q19...\n",
      "Great job! You passed all test cases for this question.\n"
     ]
    },
    {
     "data": {
      "text/plain": [
       "True"
      ]
     },
     "execution_count": 116,
     "metadata": {},
     "output_type": "execute_result"
    }
   ],
   "source": [
    "student_grader.check(\"lab-q19\", should_get_llm_feedback=False)"
   ]
  },
  {
   "cell_type": "markdown",
   "id": "fe643027",
   "metadata": {
    "deletable": false,
    "editable": false
   },
   "source": [
    "#### Lab Question 20"
   ]
  },
  {
   "cell_type": "markdown",
   "id": "f52a9d49-5066-42ee-b0cf-b537b3b07436",
   "metadata": {
    "deletable": false,
    "editable": false
   },
   "source": [
    "List the **names** of all the `directors` of **all** the movies in your list. Do not worry about duplicates. Some directors will appear multiple times.\n",
    "\n",
    "Your output **must** be a **list** of **strings**."
   ]
  },
  {
   "cell_type": "markdown",
   "id": "2eabca87",
   "metadata": {
    "deletable": false,
    "editable": false
   },
   "source": [
    "Points possible: 4.0"
   ]
  },
  {
   "cell_type": "code",
   "execution_count": 117,
   "id": "b433bc89",
   "metadata": {
    "deletable": false,
    "editable": true,
    "tags": [
     "lab-q20-code"
    ]
   },
   "outputs": [
    {
     "data": {
      "text/plain": [
       "['Keoni Waxman', 'Peter Masterson', 'Guillaume Nicloux']"
      ]
     },
     "execution_count": 117,
     "metadata": {},
     "output_type": "execute_result"
    }
   ],
   "source": [
    "# compute and store the answer in the variable 'directors', then display it\n",
    "\n",
    "directors = []  # create an empty list to store the names of the directors\n",
    "# TODO: iterate over each movie in semi_raw_movies_list\n",
    "for row in semi_raw_movies_list:\n",
    "    for ID in row['directors']:  # TODO: for each movie, iterate over the IDs of the directors\n",
    "        # take each director's ID and lookup the value from the mapping_dict dict\n",
    "        # add each director's name to the list 'directors'\n",
    "        directors.append(mapping_dict[ID]) \n",
    "        \n",
    "# display the first 3 lines of the variable 'directors'\n",
    "directors[:3]"
   ]
  },
  {
   "cell_type": "code",
   "execution_count": 118,
   "id": "5db8ed82",
   "metadata": {
    "deletable": false,
    "editable": true
   },
   "outputs": [
    {
     "name": "stdout",
     "output_type": "stream",
     "text": [
      "Make sure you saved the notebook before running this cell. Running check for lab-q20...\n",
      "Great job! You passed all test cases for this question.\n"
     ]
    },
    {
     "data": {
      "text/plain": [
       "True"
      ]
     },
     "execution_count": 118,
     "metadata": {},
     "output_type": "execute_result"
    }
   ],
   "source": [
    "student_grader.check(\"lab-q20\", should_get_llm_feedback=False)"
   ]
  },
  {
   "cell_type": "markdown",
   "id": "a7b1831b-61fc-49bf-bc69-88698ec790c9",
   "metadata": {
    "deletable": false,
    "editable": false
   },
   "source": [
    "### Task 2.2: Convert to Actual Names\n",
    "\n",
    "Use your `mapping_dict` and `semi_raw_movies_list` to finish this task.\n",
    "There are three columns (`title`, `directors`, and `cast`) which need to be converted.\n",
    "\n",
    "We will convert these columns *incrementally*. First, we will convert the `title` values to be the **names** instead of the **IDs**."
   ]
  },
  {
   "cell_type": "markdown",
   "id": "1fbf8c67",
   "metadata": {
    "deletable": false,
    "editable": false
   },
   "source": [
    "#### Lab Question 21"
   ]
  },
  {
   "cell_type": "markdown",
   "id": "55072a91-7b35-462f-a43b-b10a072f257b",
   "metadata": {
    "deletable": false,
    "editable": false
   },
   "source": [
    "Store the **data** in the file `movies.csv` as a **list** of **dictionaries**.\n",
    "\n",
    "The `title` values **must** be **actual names** instead of **IDs**. The `directors` and `cast` values **must** be the **IDs**."
   ]
  },
  {
   "cell_type": "markdown",
   "id": "7f3f9889",
   "metadata": {
    "deletable": false,
    "editable": false
   },
   "source": [
    "Points possible: 4.0"
   ]
  },
  {
   "cell_type": "code",
   "execution_count": 131,
   "id": "d2902e93",
   "metadata": {
    "deletable": false,
    "editable": true,
    "tags": [
     "lab-q21-code"
    ]
   },
   "outputs": [
    {
     "data": {
      "text/plain": [
       "[{'title': 'Countdown',\n",
       "  'year': 1996,\n",
       "  'duration': 90,\n",
       "  'genres': ['Crime', 'Mystery', 'Thriller'],\n",
       "  'rating': 3.9,\n",
       "  'directors': ['nm0915394'],\n",
       "  'cast': ['nm0023858', 'nm0001614', 'nm0518715', 'nm0001457']},\n",
       " {'title': 'Lost Junction',\n",
       "  'year': 2003,\n",
       "  'duration': 95,\n",
       "  'genres': ['Drama', 'Romance', 'Thriller'],\n",
       "  'rating': 5.5,\n",
       "  'directors': ['nm0557751'],\n",
       "  'cast': ['nm0000117', 'nm0121605', 'nm0000998', 'nm0694052']},\n",
       " {'title': 'The Stone Council',\n",
       "  'year': 2006,\n",
       "  'duration': 102,\n",
       "  'genres': ['Adventure', 'Crime', 'Drama'],\n",
       "  'rating': 4.8,\n",
       "  'directors': ['nm0630112'],\n",
       "  'cast': ['nm0000899', 'nm0000366', 'nm0001953', 'nm0098793']}]"
      ]
     },
     "execution_count": 131,
     "metadata": {},
     "output_type": "execute_result"
    }
   ],
   "source": [
    "movies_list_v1 = [] # use this empty list to append your dictionaries below\n",
    "# TODO: iterate over the movies in semi_raw_movies_list\n",
    "for row in semi_raw_movies_list:\n",
    "    # TODO: create a new empty dictionary for each movie\n",
    "    movie = {}\n",
    "    # TODO: find the actual title from the title ID and add to the new dictionary\n",
    "    movie['title'] = mapping_dict[row['title']]\n",
    "    # TODO: add the other columns to the new dictionary\n",
    "    movie['year'] = row['year']\n",
    "    movie['duration'] = row['duration']\n",
    "    movie['genres'] = row['genres'] \n",
    "    movie['rating'] = row['rating']\n",
    "    movie['directors'] = row['directors']\n",
    "    movie['cast'] = row['cast']\n",
    "\n",
    "    # TODO: add the other columns to the new dictionary\n",
    "    # TODO: add the new dictionary to movies_list_v1\n",
    "    movies_list_v1.append(movie)\n",
    "\n",
    "\n",
    "movies_list_v1[:3]"
   ]
  },
  {
   "cell_type": "code",
   "execution_count": 132,
   "id": "e1c1a409",
   "metadata": {
    "deletable": false,
    "editable": true
   },
   "outputs": [
    {
     "name": "stdout",
     "output_type": "stream",
     "text": [
      "Make sure you saved the notebook before running this cell. Running check for lab-q21...\n",
      "Great job! You passed all test cases for this question.\n"
     ]
    },
    {
     "data": {
      "text/plain": [
       "True"
      ]
     },
     "execution_count": 132,
     "metadata": {},
     "output_type": "execute_result"
    }
   ],
   "source": [
    "student_grader.check(\"lab-q21\", should_get_llm_feedback=False)"
   ]
  },
  {
   "cell_type": "markdown",
   "id": "d44505c1",
   "metadata": {
    "deletable": false,
    "editable": false
   },
   "source": [
    " We will now convert the `directors` values to be the **names** instead of the **IDs**."
   ]
  },
  {
   "cell_type": "markdown",
   "id": "8720399e",
   "metadata": {
    "deletable": false,
    "editable": false
   },
   "source": [
    "#### Lab Question 22"
   ]
  },
  {
   "cell_type": "markdown",
   "id": "7c7810f7-2de2-4dd5-80d7-e53ea3eba0a2",
   "metadata": {
    "deletable": false,
    "editable": false
   },
   "source": [
    "Store the **data** in the file `movies.csv` as a **list** of **dictionaries**. Use your `mapping_dict` and `semi_raw_movies_list` to finish this task.\n",
    "\n",
    "The `title` and `directors` values **must** be **actual names** instead of **IDs**. The `cast` values **must** be the **IDs**."
   ]
  },
  {
   "cell_type": "markdown",
   "id": "5defb9ec",
   "metadata": {
    "deletable": false,
    "editable": false
   },
   "source": [
    "Points possible: 4.0"
   ]
  },
  {
   "cell_type": "code",
   "execution_count": 147,
   "id": "3e107cd9",
   "metadata": {
    "deletable": false,
    "editable": true,
    "tags": [
     "lab-q22-code"
    ]
   },
   "outputs": [
    {
     "data": {
      "text/plain": [
       "[{'title': 'Countdown',\n",
       "  'year': 1996,\n",
       "  'duration': 90,\n",
       "  'genres': ['Crime', 'Mystery', 'Thriller'],\n",
       "  'rating': 3.9,\n",
       "  'directors': ['Keoni Waxman'],\n",
       "  'cast': ['nm0023858', 'nm0001614', 'nm0518715', 'nm0001457']},\n",
       " {'title': 'Lost Junction',\n",
       "  'year': 2003,\n",
       "  'duration': 95,\n",
       "  'genres': ['Drama', 'Romance', 'Thriller'],\n",
       "  'rating': 5.5,\n",
       "  'directors': ['Peter Masterson'],\n",
       "  'cast': ['nm0000117', 'nm0121605', 'nm0000998', 'nm0694052']},\n",
       " {'title': 'The Stone Council',\n",
       "  'year': 2006,\n",
       "  'duration': 102,\n",
       "  'genres': ['Adventure', 'Crime', 'Drama'],\n",
       "  'rating': 4.8,\n",
       "  'directors': ['Guillaume Nicloux'],\n",
       "  'cast': ['nm0000899', 'nm0000366', 'nm0001953', 'nm0098793']}]"
      ]
     },
     "execution_count": 147,
     "metadata": {},
     "output_type": "execute_result"
    }
   ],
   "source": [
    "movies_list_v2 = []\n",
    "for row in semi_raw_movies_list:\n",
    "    # TODO: create a new empty dictionary for each movie\n",
    "    movie = {}\n",
    "    # TODO: find the actual title from the title ID and add to the new dictionary\n",
    "    movie['title'] = mapping_dict[row['title']]\n",
    "    # TODO: add the other columns to the new dictionary\n",
    "    movie['year'] = row['year']\n",
    "    movie['duration'] = row['duration']\n",
    "    movie['genres'] = row['genres'] \n",
    "    movie['rating'] = row['rating']\n",
    "    movie['directors'] = [mapping_dict[director] for director in row['directors']]  #row['directors']的型態是list\n",
    "    movie['cast'] = row['cast']\n",
    "    movies_list_v2.append(movie)\n",
    "movies_list_v2[:3]"
   ]
  },
  {
   "cell_type": "code",
   "execution_count": 148,
   "id": "46fae3b2",
   "metadata": {
    "deletable": false,
    "editable": true
   },
   "outputs": [
    {
     "name": "stdout",
     "output_type": "stream",
     "text": [
      "Make sure you saved the notebook before running this cell. Running check for lab-q22...\n",
      "Great job! You passed all test cases for this question.\n"
     ]
    },
    {
     "data": {
      "text/plain": [
       "True"
      ]
     },
     "execution_count": 148,
     "metadata": {},
     "output_type": "execute_result"
    }
   ],
   "source": [
    "student_grader.check(\"lab-q22\", should_get_llm_feedback=False)"
   ]
  },
  {
   "cell_type": "markdown",
   "id": "8ed36f46",
   "metadata": {
    "deletable": false,
    "editable": false
   },
   "source": [
    " Finally, we will now convert the `cast` values to be the **names** instead of the **IDs**, to finish our definition of `movies_list`."
   ]
  },
  {
   "cell_type": "markdown",
   "id": "5d43c383",
   "metadata": {
    "deletable": false,
    "editable": false
   },
   "source": [
    "#### Lab Question 23"
   ]
  },
  {
   "cell_type": "markdown",
   "id": "75993aee-c198-4277-9965-bb8eb2fb49e5",
   "metadata": {
    "deletable": false,
    "editable": false
   },
   "source": [
    "Store the **data** in the file `movies.csv` as a **list** of **dictionaries**. Use your `mapping_dict` and `semi_raw_movies_list` to finish this task.\n",
    "\n",
    "The `title`, `directors` and `cast` values **must** be **actual names** instead of **IDs**."
   ]
  },
  {
   "cell_type": "markdown",
   "id": "eaff6f3e",
   "metadata": {
    "deletable": false,
    "editable": false
   },
   "source": [
    "Points possible: 4.0"
   ]
  },
  {
   "cell_type": "code",
   "execution_count": 151,
   "id": "f47a4b8e",
   "metadata": {
    "deletable": false,
    "editable": true,
    "tags": [
     "lab-q23-code"
    ]
   },
   "outputs": [
    {
     "data": {
      "text/plain": [
       "[{'title': 'Countdown',\n",
       "  'year': 1996,\n",
       "  'duration': 90,\n",
       "  'genres': ['Crime', 'Mystery', 'Thriller'],\n",
       "  'rating': 3.9,\n",
       "  'directors': ['Keoni Waxman'],\n",
       "  'cast': ['Yûki Amami', 'Lori Petty', 'Jason London', 'James Le Gros']},\n",
       " {'title': 'Lost Junction',\n",
       "  'year': 2003,\n",
       "  'duration': 95,\n",
       "  'genres': ['Drama', 'Romance', 'Thriller'],\n",
       "  'rating': 5.5,\n",
       "  'directors': ['Peter Masterson'],\n",
       "  'cast': ['Neve Campbell',\n",
       "   'Billy Burke',\n",
       "   'Jake Busey',\n",
       "   'Charles Edwin Powell']},\n",
       " {'title': 'The Stone Council',\n",
       "  'year': 2006,\n",
       "  'duration': 102,\n",
       "  'genres': ['Adventure', 'Crime', 'Drama'],\n",
       "  'rating': 4.8,\n",
       "  'directors': ['Guillaume Nicloux'],\n",
       "  'cast': ['Monica Bellucci',\n",
       "   'Catherine Deneuve',\n",
       "   'Moritz Bleibtreu',\n",
       "   'Sami Bouajila']}]"
      ]
     },
     "execution_count": 151,
     "metadata": {},
     "output_type": "execute_result"
    }
   ],
   "source": [
    "movies_list = [] # use this empty list to append your dictionaries below\n",
    "for row in semi_raw_movies_list:\n",
    "    # TODO: create a new empty dictionary for each movie\n",
    "    movie = {}\n",
    "    # TODO: find the actual title from the title ID and add to the new dictionary\n",
    "    movie['title'] = mapping_dict[row['title']]\n",
    "    # TODO: add the other columns to the new dictionary\n",
    "    movie['year'] = row['year']\n",
    "    movie['duration'] = row['duration']\n",
    "    movie['genres'] = row['genres'] \n",
    "    movie['rating'] = row['rating']\n",
    "    movie['directors'] = [mapping_dict[director] for director in row['directors']]  #row['directors']的型態是list\n",
    "    movie['cast'] = [mapping_dict[cast] for cast in row['cast']]\n",
    "    \n",
    "    movies_list.append(movie)\n",
    "    \n",
    "movies_list[:3]"
   ]
  },
  {
   "cell_type": "code",
   "execution_count": 152,
   "id": "90177253",
   "metadata": {
    "deletable": false,
    "editable": true
   },
   "outputs": [
    {
     "name": "stdout",
     "output_type": "stream",
     "text": [
      "Make sure you saved the notebook before running this cell. Running check for lab-q23...\n",
      "Great job! You passed all test cases for this question.\n"
     ]
    },
    {
     "data": {
      "text/plain": [
       "True"
      ]
     },
     "execution_count": 152,
     "metadata": {},
     "output_type": "execute_result"
    }
   ],
   "source": [
    "student_grader.check(\"lab-q23\", should_get_llm_feedback=False)"
   ]
  },
  {
   "cell_type": "markdown",
   "id": "ec0272c6",
   "metadata": {
    "deletable": false,
    "editable": false
   },
   "source": [
    "We are now ready to test your data structure `movies_list`."
   ]
  },
  {
   "cell_type": "markdown",
   "id": "52199d6c",
   "metadata": {
    "deletable": false,
    "editable": false
   },
   "source": [
    "#### Lab Question 24"
   ]
  },
  {
   "cell_type": "markdown",
   "id": "9fa8d06f-f0a6-4329-aab8-9813cb914c94",
   "metadata": {
    "deletable": false,
    "editable": false
   },
   "source": [
    "What is the movie `title` of the **first** movie in your list?"
   ]
  },
  {
   "cell_type": "markdown",
   "id": "44d995d7",
   "metadata": {
    "deletable": false,
    "editable": false
   },
   "source": [
    "Points possible: 4.0"
   ]
  },
  {
   "cell_type": "code",
   "execution_count": 153,
   "id": "87054896",
   "metadata": {
    "deletable": false,
    "editable": true,
    "tags": [
     "lab-q24-code"
    ]
   },
   "outputs": [
    {
     "data": {
      "text/plain": [
       "'Countdown'"
      ]
     },
     "execution_count": 153,
     "metadata": {},
     "output_type": "execute_result"
    }
   ],
   "source": [
    "# we have done this one for you\n",
    "first_movie_title = movies_list[0][\"title\"]\n",
    "\n",
    "first_movie_title"
   ]
  },
  {
   "cell_type": "code",
   "execution_count": 154,
   "id": "629fe356",
   "metadata": {
    "deletable": false,
    "editable": true
   },
   "outputs": [
    {
     "name": "stdout",
     "output_type": "stream",
     "text": [
      "Make sure you saved the notebook before running this cell. Running check for lab-q24...\n",
      "Great job! You passed all test cases for this question.\n"
     ]
    },
    {
     "data": {
      "text/plain": [
       "True"
      ]
     },
     "execution_count": 154,
     "metadata": {},
     "output_type": "execute_result"
    }
   ],
   "source": [
    "student_grader.check(\"lab-q24\", should_get_llm_feedback=False)"
   ]
  },
  {
   "cell_type": "markdown",
   "id": "5355003b",
   "metadata": {
    "deletable": false,
    "editable": false
   },
   "source": [
    "#### Lab Question 25"
   ]
  },
  {
   "cell_type": "markdown",
   "id": "518fc4f6-a819-4949-a836-9d685356657b",
   "metadata": {
    "deletable": false,
    "editable": false
   },
   "source": [
    "Who are the `directors` of the **second movie** in your list?\n",
    "\n",
    "Your output **must** be a **list** of **strings**. You **must** answer this question by querying the value from the `movies_list` data structure."
   ]
  },
  {
   "cell_type": "markdown",
   "id": "c090d5dd",
   "metadata": {
    "deletable": false,
    "editable": false
   },
   "source": [
    "Points possible: 4.0"
   ]
  },
  {
   "cell_type": "code",
   "execution_count": 155,
   "id": "394b52d7",
   "metadata": {
    "deletable": false,
    "editable": true,
    "tags": [
     "lab-q25-code"
    ]
   },
   "outputs": [
    {
     "data": {
      "text/plain": [
       "['Peter Masterson']"
      ]
     },
     "execution_count": 155,
     "metadata": {},
     "output_type": "execute_result"
    }
   ],
   "source": [
    "# compute and store the answer in the variable 'second_movie_directors', then display it\n",
    "second_movie_directors = movies_list[1][\"directors\"]\n",
    "\n",
    "second_movie_directors"
   ]
  },
  {
   "cell_type": "code",
   "execution_count": 156,
   "id": "842429af",
   "metadata": {
    "deletable": false,
    "editable": true
   },
   "outputs": [
    {
     "name": "stdout",
     "output_type": "stream",
     "text": [
      "Make sure you saved the notebook before running this cell. Running check for lab-q25...\n",
      "Great job! You passed all test cases for this question.\n"
     ]
    },
    {
     "data": {
      "text/plain": [
       "True"
      ]
     },
     "execution_count": 156,
     "metadata": {},
     "output_type": "execute_result"
    }
   ],
   "source": [
    "student_grader.check(\"lab-q25\", should_get_llm_feedback=False)"
   ]
  },
  {
   "cell_type": "markdown",
   "id": "cc0b4d7c",
   "metadata": {
    "deletable": false,
    "editable": false
   },
   "source": [
    "### Great work! You are now ready to submit lab-p8.\n",
    "\n",
    "### Submitting the lab\n",
    "\n",
    " **Submit your p8.ipynb on Gradescope to the lab-p8 assignment**, like usual. Remember that the grades for the lab portion of the project and the actual assignment grade are independent. You will submit the same notebook (at different levels of completion) to two different assignments."
   ]
  },
  {
   "cell_type": "markdown",
   "id": "9f9cdaa5-01d9-4aa1-8f30-0d400af66b57",
   "metadata": {
    "deletable": false,
    "editable": false
   },
   "source": [
    "## Project Portion (20 Questions)"
   ]
  },
  {
   "cell_type": "markdown",
   "id": "ab96076c-0df0-429f-a1e2-9dcfaa9114d0",
   "metadata": {
    "deletable": false,
    "editable": false
   },
   "source": [
    "### Project Requirements:"
   ]
  },
  {
   "cell_type": "markdown",
   "id": "8869f05a-b59e-4fd1-9b14-bb16390a4a6c",
   "metadata": {
    "deletable": false,
    "editable": false
   },
   "source": [
    "You **may not** hardcode indices in your code, unless the question explicitly asks you to do so. If you open your `.csv` files with Excel, manually count through the rows and use this number to loop through the dataset, this is also considered as hardcoding. If any instances of hardcoding are found during code review, the Gradescope autograder will **deduct** points from your score.\n",
    "\n",
    "**Store** your final answer for each question in the **variable specified for each question**. This step is important because the autograder works by comparing the value of this variable against the correct answer.\n",
    "\n",
    "For some of the questions, we'll ask you to write (then use) a function to compute the answer. If you compute the answer **without** creating the function we ask you to write, the autograder will **deduct** points from your score, even if the way you did it produced the correct answer.\n",
    "\n",
    "#### Required Functions:\n",
    "- `get_mapping`\n",
    "- `get_raw_movies`\n",
    "- `get_movies`\n",
    "- `find_specific_movies`\n",
    "- `bucketize_by_genre`\n",
    "\n",
    "In this project, you will also be required to define certain **data structures**. If you do not create these data structures exactly as specified, the autograder will **deduct** points from your score, even if the way you did it produced the correct answer.\n",
    "\n",
    "#### Required Data Structures:\n",
    "- `movies`\n",
    "- `genre_dict`\n",
    "\n",
    "You are only allowed to define these data structures **once** and the autograder will **deduct** points from your score if you redefine the values of these variables.\n",
    "\n",
    "In this project (and the next), you will be asked to create **lists** of movies. For all such questions, **unless it is explicitly mentioned otherwise**, the movies should be in the **same order** as in the `movies.csv` file. Similarly, for each movie, the **list** of `genres`, `directors`, and `cast` members should always be in the **same order** as in the `movies.csv` file.\n",
    "\n",
    "Students are only allowed to use Python commands and concepts that have been taught in the course prior to the release of P8. Therefore, you should not use the pandas module. The autograder will **deduct** points from your score otherwise.\n",
    "\n",
    "In addition, you are also **required** to follow the requirements below:\n",
    "- **Do not use the method `csv.DictReader` for P8**. Although the required output can be obtained using this method, one of the learning outcomes of this project is to demonstrate your ability to build dictionaries with your own code.  \n",
    "- Additional import statements beyond those that are stated in the directions are not allowed. For this project, we allow you to use the `csv` and `copy` packages (that is, you can use the `import csv` and `import copy` statements in your submission). You should not use concepts / modules that are yet to be covered in this course; for example: you should **not** use modules like `pandas`.\n",
    "\n",
    "The autograder will **deduct** points accordingly, if you don't follow the provided directions."
   ]
  },
  {
   "cell_type": "markdown",
   "id": "7704914d-ab96-422c-8e42-2dcf05a27796",
   "metadata": {
    "deletable": false,
    "editable": false
   },
   "source": [
    "### Questions & Functions"
   ]
  },
  {
   "cell_type": "markdown",
   "id": "199ac24a-c755-43b3-a75b-bd647cb21b2d",
   "metadata": {
    "deletable": false,
    "editable": false
   },
   "source": [
    "#### Project Function 1: `get_mapping(path)`"
   ]
  },
  {
   "cell_type": "markdown",
   "id": "2d372d47-75b2-4c52-af0c-dc25fcd550ef",
   "metadata": {
    "deletable": false,
    "editable": false
   },
   "source": [
    "We require you to complete the below function to answer the next several questions (this is a **requirement**, and you will **lose points** if you do not implement this function).\n",
    "\n",
    "The `get_mapping(path)` function must return a dictionary where a key is from the first column of the mapping file and the value is the second column of the mapping file.  For example, if `get_mapping('movies.csv')` is called, a dictionary will be created where one of the keys would be `tt15239678` and it would map to the value `Barbie`. See **Lab Q4** for additional guidance."
   ]
  },
  {
   "cell_type": "markdown",
   "id": "888d24e6-292c-41d8-94a1-d8850168ec77",
   "metadata": {
    "deletable": false,
    "editable": false
   },
   "source": [
    "Points possible: 5.0"
   ]
  },
  {
   "cell_type": "code",
   "execution_count": 170,
   "id": "7e84bcce-cc86-4f93-8dcc-8b8e3db387c7",
   "metadata": {
    "deletable": false,
    "editable": true,
    "tags": [
     "get_mapping-code"
    ]
   },
   "outputs": [],
   "source": [
    "def get_mapping(path):\n",
    "    \"\"\"\n",
    "    get_mapping(path) converts a mapping csv in 'path' \n",
    "    into a dict with keys as IDs and values as names\n",
    "    \"\"\"\n",
    "    data = process_csv(path) \n",
    "    mapping_dict = {}  \n",
    "\n",
    "    for row in data:  \n",
    "            mapping_dict[row[0]] = row[1]  \n",
    "    return mapping_dict "
   ]
  },
  {
   "cell_type": "code",
   "execution_count": 171,
   "id": "fba6068a-7ed7-4fb7-b60f-11ae753fc0b0",
   "metadata": {
    "deletable": false,
    "editable": true
   },
   "outputs": [
    {
     "name": "stdout",
     "output_type": "stream",
     "text": [
      "Make sure you saved the notebook before running this cell. Running check for get_mapping...\n",
      "Great job! You passed all test cases for this question.\n"
     ]
    },
    {
     "data": {
      "text/plain": [
       "True"
      ]
     },
     "execution_count": 171,
     "metadata": {},
     "output_type": "execute_result"
    }
   ],
   "source": [
    "student_grader.check(\"get_mapping\", should_get_llm_feedback=False)"
   ]
  },
  {
   "cell_type": "markdown",
   "id": "a5a8af48-4761-4549-bd91-56b9dfd9b575",
   "metadata": {
    "deletable": false,
    "editable": false
   },
   "source": [
    "#### Project Question 1"
   ]
  },
  {
   "cell_type": "markdown",
   "id": "732646fc-7722-4c9e-8f9e-5154ee82095f",
   "metadata": {
    "deletable": false,
    "editable": false
   },
   "source": [
    "What is returned by `get_mapping(\"mapping.csv\")`?\n",
    "\n",
    "You must define a variable `mapping` which **must** store a **dictionary** mapping the *IDs* in `mapping.csv` to *names*.\n",
    "\n",
    "Do not display the `mapping`."
   ]
  },
  {
   "cell_type": "markdown",
   "id": "79a2ce16-ca07-4538-a336-b8719117ff13",
   "metadata": {
    "deletable": false,
    "editable": false
   },
   "source": [
    "Points possible: 4.0"
   ]
  },
  {
   "cell_type": "code",
   "execution_count": 172,
   "id": "fe90c519-5731-4d65-a0a3-9adb6601e6d9",
   "metadata": {
    "deletable": false,
    "editable": true,
    "tags": [
     "q1-code"
    ]
   },
   "outputs": [],
   "source": [
    "# compute and store the answer in the variable 'mapping', do NOT display it\n",
    "mapping = get_mapping(\"mapping.csv\")"
   ]
  },
  {
   "cell_type": "code",
   "execution_count": 173,
   "id": "e9e69b68-9abc-44b4-aada-291ab76c0301",
   "metadata": {
    "deletable": false,
    "editable": true
   },
   "outputs": [
    {
     "name": "stdout",
     "output_type": "stream",
     "text": [
      "Make sure you saved the notebook before running this cell. Running check for q1...\n",
      "Great job! You passed all test cases for this question.\n"
     ]
    },
    {
     "data": {
      "text/plain": [
       "True"
      ]
     },
     "execution_count": 173,
     "metadata": {},
     "output_type": "execute_result"
    }
   ],
   "source": [
    "student_grader.check(\"q1\", should_get_llm_feedback=False)"
   ]
  },
  {
   "cell_type": "markdown",
   "id": "a80ed841-e09b-4ec8-b515-c591dd0e6741",
   "metadata": {
    "deletable": false,
    "editable": false
   },
   "source": [
    "#### Project Question 2"
   ]
  },
  {
   "cell_type": "markdown",
   "id": "969ec391-9480-439d-abb4-5795a255290c",
   "metadata": {
    "deletable": false,
    "editable": false
   },
   "source": [
    "What is the **value** associated with the **key** *nm1739764*?\n",
    "\n",
    "Your output **must** be a **string** stored in a variable named `nm1739764_value`. You **must** use the variable `mapping` defined above to answer this question. You should not call the function `get_mapping()` again on this dataset."
   ]
  },
  {
   "cell_type": "markdown",
   "id": "f586a022-bc6a-4bd3-abe5-ffef99c0cdd0",
   "metadata": {
    "deletable": false,
    "editable": false
   },
   "source": [
    "Points possible: 4.0"
   ]
  },
  {
   "cell_type": "code",
   "execution_count": 176,
   "id": "038da011-7b62-4964-8e66-f6a3f0a7b727",
   "metadata": {
    "deletable": false,
    "editable": true,
    "tags": [
     "q2-code"
    ]
   },
   "outputs": [],
   "source": [
    "# access and store the answer in the variable 'nm1289434_value', then display it\n",
    "nm1739764_value =\"\"\n",
    "nm1739764_value = mapping['nm1739764']"
   ]
  },
  {
   "cell_type": "code",
   "execution_count": 177,
   "id": "fc6920c9-9245-4ce4-889b-6356239591cb",
   "metadata": {
    "deletable": false,
    "editable": true
   },
   "outputs": [
    {
     "name": "stdout",
     "output_type": "stream",
     "text": [
      "Make sure you saved the notebook before running this cell. Running check for q2...\n",
      "Great job! You passed all test cases for this question.\n"
     ]
    },
    {
     "data": {
      "text/plain": [
       "True"
      ]
     },
     "execution_count": 177,
     "metadata": {},
     "output_type": "execute_result"
    }
   ],
   "source": [
    "student_grader.check(\"q2\", should_get_llm_feedback=False)"
   ]
  },
  {
   "cell_type": "markdown",
   "id": "c66618bf-30d7-41eb-b199-18dc3ab5f52d",
   "metadata": {
    "deletable": false,
    "editable": false
   },
   "source": [
    "#### Project Question 3"
   ]
  },
  {
   "cell_type": "markdown",
   "id": "acc93650-3d70-4346-8594-4ce864a958cd",
   "metadata": {
    "deletable": false,
    "editable": false
   },
   "source": [
    "What are the **values** associated with **keys** that **begin** with *nm*?\n",
    "\n",
    "Your output **must** be a **list** of **strings** stored in a variable named `nm_mappings`. You **must** find **only** the values of the keys that **begin** with *nm*, and **not** the keys that contain *nm*. You **must** use the variable `mapping` defined above to answer this question. Duplicates are okay.\n",
    "\n",
    "Display the first 10 names."
   ]
  },
  {
   "cell_type": "markdown",
   "id": "5bc7c3f9-74ea-49f6-b366-202e9f9a1fcb",
   "metadata": {
    "deletable": false,
    "editable": false
   },
   "source": [
    "Points possible: 4.0"
   ]
  },
  {
   "cell_type": "code",
   "execution_count": 178,
   "id": "ec6d20e3-eb90-43b2-b0c5-6aec9d6c9cac",
   "metadata": {
    "deletable": false,
    "editable": true,
    "tags": [
     "q3-code"
    ]
   },
   "outputs": [
    {
     "data": {
      "text/plain": [
       "['Giorgi Tsereteli',\n",
       " 'Henri Vidal',\n",
       " 'Leslie Jordan',\n",
       " 'Stella Májová',\n",
       " 'Lucian Msamati',\n",
       " 'Lukas Moodysson',\n",
       " 'Penny Singleton',\n",
       " \"Michael O'Keefe\",\n",
       " 'Giorgos Giannopoulos',\n",
       " 'Mahtab Nasirpour']"
      ]
     },
     "execution_count": 178,
     "metadata": {},
     "output_type": "execute_result"
    }
   ],
   "source": [
    "# compute and store the answer in the variable 'nm_mappings', then display the first 10 names\n",
    "nm_mappings = []\n",
    "for key in mapping:\n",
    "    if key[0] == 'n' and key[1] == 'm':\n",
    "        nm_mappings.append(mapping[key])\n",
    "nm_mappings[:10]"
   ]
  },
  {
   "cell_type": "code",
   "execution_count": 179,
   "id": "941e5ee8-9403-4dc3-8b84-43282b2f2ac7",
   "metadata": {
    "deletable": false,
    "editable": true
   },
   "outputs": [
    {
     "name": "stdout",
     "output_type": "stream",
     "text": [
      "Make sure you saved the notebook before running this cell. Running check for q3...\n",
      "Great job! You passed all test cases for this question.\n"
     ]
    },
    {
     "data": {
      "text/plain": [
       "True"
      ]
     },
     "execution_count": 179,
     "metadata": {},
     "output_type": "execute_result"
    }
   ],
   "source": [
    "student_grader.check(\"q3\", should_get_llm_feedback=False)"
   ]
  },
  {
   "cell_type": "markdown",
   "id": "9a6ecd6c-7d90-45da-876e-60fcbb22757e",
   "metadata": {
    "deletable": false,
    "editable": false
   },
   "source": [
    "#### Project Question 4"
   ]
  },
  {
   "cell_type": "markdown",
   "id": "b61d0d8b-5f14-4386-b04b-b81a5d974245",
   "metadata": {
    "deletable": false,
    "editable": false
   },
   "source": [
    "Find the **keys** of the people (keys **beginning** with *nm*) whose **last name** is *Murphy*.\n",
    "\n",
    "Your output **must** be a **list** of **string(s)** stored in a variable named `nm_murphy`. You **must** use the variable `mapping` defined above to answer this question.\n",
    "\n",
    "**Requirements:** Your **code** must be robust and satisfy all the requirements, even if you were to run this on a larger dataset (such as `mapping.csv`). In particular:\n",
    "1. You will **lose points** if your code would find people whose **first** name or **middle** name is *Murphy* (e.g. *Murphy Patrick Martin*, *Lisa Murphy Collins*).\n",
    "2. You will **lose points** if your code would find people whose **last** name contains *Murphy* as a **substring** (e.g. *Benjamin Harter-Murphy*). The name should be **exactly** *Murphy*. \n",
    "3. You will **lose points** if your code would find any **movie titles** (e.g. *Sergeant Murphy*)."
   ]
  },
  {
   "cell_type": "markdown",
   "id": "81c3fa3e-7195-462e-9694-72e904ac8649",
   "metadata": {
    "deletable": false,
    "editable": false
   },
   "source": [
    "Points possible: 4.0"
   ]
  },
  {
   "cell_type": "code",
   "execution_count": 180,
   "id": "ef6869f8-dc87-4709-a1d4-befc9faf6dab",
   "metadata": {
    "deletable": false,
    "editable": true,
    "tags": [
     "q4-code"
    ]
   },
   "outputs": [
    {
     "data": {
      "text/plain": [
       "['nm0614151', 'nm0614755', 'nm0614165', 'nm3680095', 'nm0001559', 'nm1789678']"
      ]
     },
     "execution_count": 180,
     "metadata": {},
     "output_type": "execute_result"
    }
   ],
   "source": [
    "# compute and store the answer in the variable 'nm_murphy', then display it\n",
    "nm_murphy = []\n",
    "for key in mapping:\n",
    "    name_list = mapping[key].split()\n",
    "    if name_list[-1] == 'Murphy':\n",
    "        nm_murphy.append(key)\n",
    "nm_murphy"
   ]
  },
  {
   "cell_type": "code",
   "execution_count": 181,
   "id": "257f0e1d-8eb8-4176-bde8-62e8a2a1c33f",
   "metadata": {
    "deletable": false,
    "editable": true
   },
   "outputs": [
    {
     "name": "stdout",
     "output_type": "stream",
     "text": [
      "Make sure you saved the notebook before running this cell. Running check for q4...\n",
      "Great job! You passed all test cases for this question.\n"
     ]
    },
    {
     "data": {
      "text/plain": [
       "True"
      ]
     },
     "execution_count": 181,
     "metadata": {},
     "output_type": "execute_result"
    }
   ],
   "source": [
    "student_grader.check(\"q4\", should_get_llm_feedback=False)"
   ]
  },
  {
   "cell_type": "markdown",
   "id": "d03b4983-27ec-4225-a6f9-8bcff1ed18c7",
   "metadata": {
    "deletable": false,
    "editable": false
   },
   "source": [
    "#### Project Function 2: `get_raw_movies(path)`"
   ]
  },
  {
   "cell_type": "markdown",
   "id": "909b77e4-1fe5-4ad4-89e6-56e22ae8bd2c",
   "metadata": {
    "deletable": false,
    "editable": false
   },
   "source": [
    "Now, let's move on to reading the movie files!\n",
    "\n",
    "We require you to complete the below function to answer the next several questions (this is a **requirement**, and you will **lose points** if you do not implement this function).\n",
    "\n",
    "This function **must** return a **list** of **dictionaries**, where each **dictionary** is of the following format:\n",
    "\n",
    "```python\n",
    "   {\n",
    "        'title': <title-id>,\n",
    "        'year': <the year as an integer>,\n",
    "        'duration': <the duration as an integer>,\n",
    "        'genres': [<genre1>, <genre2>, ...],\n",
    "        'rating': <the rating as a float>,\n",
    "        'directors': [<director-id1>, <director-id2>, ...],\n",
    "        'cast': [<actor-id1>, <actor-id2>, ....]\n",
    "    }\n",
    "```\n",
    "\n",
    "Here is an example:\n",
    "\n",
    "```python\n",
    "    {\n",
    "        'title': 'tt0033313',\n",
    "        'year': 1941,\n",
    "        'duration': 59,\n",
    "        'genres': ['Western'],\n",
    "        'rating': 5.2,\n",
    "        'directors': ['nm0496505'],\n",
    "        'cast': ['nm0193318', 'nm0254381', 'nm0279961', 'nm0910294', 'nm0852305']\n",
    "    }\n",
    "```\n",
    "\n",
    "You may use code from the lab portion of the  notebook to finish this function (e.g. calling `process_csv()`)."
   ]
  },
  {
   "cell_type": "markdown",
   "id": "f1193fb5-4f37-43a6-82a1-075b24de7a6f",
   "metadata": {
    "deletable": false,
    "editable": false
   },
   "source": [
    "Points possible: 5.0"
   ]
  },
  {
   "cell_type": "code",
   "execution_count": 205,
   "id": "f0f59cd1-38ac-411b-9255-f0abcd2acd7d",
   "metadata": {
    "deletable": false,
    "editable": true,
    "tags": [
     "get_raw_movies-code"
    ]
   },
   "outputs": [],
   "source": [
    "def get_raw_movies(path):\n",
    "    \"\"\"\n",
    "    get_raw_movies(path) converts a movies csv in 'path' (a \n",
    "    string containing a file path) into a list of dicts with\n",
    "    column names as keys and the corresponding type converted \n",
    "    values as the values\n",
    "    \"\"\"\n",
    "    list_of_dic = []\n",
    "    data = process_csv(path)\n",
    "    header = data[0]\n",
    "\n",
    "    for row in data[1:]:\n",
    "        dict = {}\n",
    "        k = 0\n",
    "        for i in header:\n",
    "            if i == 'year' or i == 'duration':\n",
    "                dict[i] = int(row[k])\n",
    "            elif i == 'rating':\n",
    "                dict[i] = float(row[k])\n",
    "            elif i == 'genres' or i == 'directors' or i == 'cast':\n",
    "                dict[i] = [ID for ID in row[k].split(', ')]\n",
    "            else:\n",
    "                dict[i] = row[k]\n",
    "            k += 1\n",
    "            \n",
    "        list_of_dic.append(dict)\n",
    "        \n",
    "    return list_of_dic"
   ]
  },
  {
   "cell_type": "code",
   "execution_count": 206,
   "id": "150a2511-fecd-4992-ae67-716d3a45b5d5",
   "metadata": {
    "deletable": false,
    "editable": true
   },
   "outputs": [
    {
     "name": "stdout",
     "output_type": "stream",
     "text": [
      "Make sure you saved the notebook before running this cell. Running check for get_raw_movies...\n",
      "Great job! You passed all test cases for this question.\n"
     ]
    },
    {
     "data": {
      "text/plain": [
       "True"
      ]
     },
     "execution_count": 206,
     "metadata": {},
     "output_type": "execute_result"
    }
   ],
   "source": [
    "student_grader.check(\"get_raw_movies\", should_get_llm_feedback=False)"
   ]
  },
  {
   "cell_type": "markdown",
   "id": "ae59b610-b3f7-4ced-8ab3-cecf291facc0",
   "metadata": {
    "deletable": false,
    "editable": false
   },
   "source": [
    "#### Project Question 5"
   ]
  },
  {
   "cell_type": "markdown",
   "id": "0f8743e3-a3a1-4c8b-b076-1148c41b21c8",
   "metadata": {
    "deletable": false,
    "editable": false
   },
   "source": [
    "What is returned by `get_raw_movies(\"movies.csv\")`?\n",
    "\n",
    "Your output **must** be a **list** of **dictionaries** where each dictionary contains information about a movie.\n",
    "\n",
    "Display the first 3 elements."
   ]
  },
  {
   "cell_type": "markdown",
   "id": "236add9b-8e78-4cfb-afdb-4953eb750402",
   "metadata": {
    "deletable": false,
    "editable": false
   },
   "source": [
    "Points possible: 4.0"
   ]
  },
  {
   "cell_type": "code",
   "execution_count": 207,
   "id": "e5a49328-d37e-42f4-8432-9a22dc0620b4",
   "metadata": {
    "deletable": false,
    "editable": true,
    "tags": [
     "q5-code"
    ]
   },
   "outputs": [
    {
     "data": {
      "text/plain": [
       "[{'title': 'tt0115953',\n",
       "  'year': 1996,\n",
       "  'duration': 90,\n",
       "  'genres': ['Crime', 'Mystery', 'Thriller'],\n",
       "  'rating': 3.9,\n",
       "  'directors': ['nm0915394'],\n",
       "  'cast': ['nm0023858', 'nm0001614', 'nm0518715', 'nm0001457']},\n",
       " {'title': 'tt0283453',\n",
       "  'year': 2003,\n",
       "  'duration': 95,\n",
       "  'genres': ['Drama', 'Romance', 'Thriller'],\n",
       "  'rating': 5.5,\n",
       "  'directors': ['nm0557751'],\n",
       "  'cast': ['nm0000117', 'nm0121605', 'nm0000998', 'nm0694052']},\n",
       " {'title': 'tt0447619',\n",
       "  'year': 2006,\n",
       "  'duration': 102,\n",
       "  'genres': ['Adventure', 'Crime', 'Drama'],\n",
       "  'rating': 4.8,\n",
       "  'directors': ['nm0630112'],\n",
       "  'cast': ['nm0000899', 'nm0000366', 'nm0001953', 'nm0098793']}]"
      ]
     },
     "execution_count": 207,
     "metadata": {},
     "output_type": "execute_result"
    }
   ],
   "source": [
    "# compute and store the answer in the variable 'raw_movies', then display the first 3 elements\n",
    "raw_movies = get_raw_movies(\"movies.csv\")\n",
    "raw_movies[:3]"
   ]
  },
  {
   "cell_type": "code",
   "execution_count": 208,
   "id": "504c4f4a-a913-4bfa-af30-557a44b48996",
   "metadata": {
    "deletable": false,
    "editable": true
   },
   "outputs": [
    {
     "name": "stdout",
     "output_type": "stream",
     "text": [
      "Make sure you saved the notebook before running this cell. Running check for q5...\n",
      "Great job! You passed all test cases for this question.\n"
     ]
    },
    {
     "data": {
      "text/plain": [
       "True"
      ]
     },
     "execution_count": 208,
     "metadata": {},
     "output_type": "execute_result"
    }
   ],
   "source": [
    "student_grader.check(\"q5\", should_get_llm_feedback=False)"
   ]
  },
  {
   "cell_type": "markdown",
   "id": "6e52c38b-6d01-4c22-b444-7bd552cb0469",
   "metadata": {
    "deletable": false,
    "editable": false
   },
   "source": [
    "If your answer looks correct, but does not pass the autograder, make sure that the **datatypes** are all correct. Also make sure that the **directors** and **cast**  are in the **same order** as in `movies.csv`."
   ]
  },
  {
   "cell_type": "markdown",
   "id": "8e1535d2-d8e4-4840-a551-cee0e62c8825",
   "metadata": {
    "deletable": false,
    "editable": false
   },
   "source": [
    "#### Project Question 6"
   ]
  },
  {
   "cell_type": "markdown",
   "id": "8945e163-f073-489f-bb6d-a20410f33545",
   "metadata": {
    "deletable": false,
    "editable": false
   },
   "source": [
    "How **many** cast members does the **first** movie have?\n",
    "\n",
    "Your output **must** be an **int**. You **must** use the variable `raw_movies` defined above to answer this question. You **must** not call the function `get_raw_movies` again on this dataset."
   ]
  },
  {
   "cell_type": "markdown",
   "id": "fab58f57-6ecd-4cfd-add9-8cce258b97e8",
   "metadata": {
    "deletable": false,
    "editable": false
   },
   "source": [
    "Points possible: 4.0"
   ]
  },
  {
   "cell_type": "code",
   "execution_count": 210,
   "id": "63a42f80-d8ce-496a-8597-4bf0694203cd",
   "metadata": {
    "deletable": false,
    "editable": true,
    "tags": [
     "q6-code"
    ]
   },
   "outputs": [
    {
     "data": {
      "text/plain": [
       "4"
      ]
     },
     "execution_count": 210,
     "metadata": {},
     "output_type": "execute_result"
    }
   ],
   "source": [
    "# compute and store the answer in the variable 'num_cast_first_movie', then display it\n",
    "num_cast_first_movie = len(raw_movies[0]['cast'])\n",
    "num_cast_first_movie"
   ]
  },
  {
   "cell_type": "code",
   "execution_count": 211,
   "id": "c1d33372-5386-4612-a61b-0d07391cedf5",
   "metadata": {
    "deletable": false,
    "editable": true
   },
   "outputs": [
    {
     "name": "stdout",
     "output_type": "stream",
     "text": [
      "Make sure you saved the notebook before running this cell. Running check for q6...\n",
      "Great job! You passed all test cases for this question.\n"
     ]
    },
    {
     "data": {
      "text/plain": [
       "True"
      ]
     },
     "execution_count": 211,
     "metadata": {},
     "output_type": "execute_result"
    }
   ],
   "source": [
    "student_grader.check(\"q6\", should_get_llm_feedback=False)"
   ]
  },
  {
   "cell_type": "markdown",
   "id": "317057b5-0359-468f-8d15-fe98229913a6",
   "metadata": {
    "deletable": false,
    "editable": false
   },
   "source": [
    "#### Project Question 7"
   ]
  },
  {
   "cell_type": "markdown",
   "id": "12a59b79-34cf-464b-b635-2061a9b79a92",
   "metadata": {
    "deletable": false,
    "editable": false
   },
   "source": [
    "What is the *ID* of the **first** cast member listed for the **first** movie of the dataset?\n",
    "\n",
    "Your output **must** be a **string**. You **must** use the variable `raw_movies` defined above to answer this question."
   ]
  },
  {
   "cell_type": "markdown",
   "id": "8e2b46dc-46db-4bbe-8343-b6580a048833",
   "metadata": {
    "deletable": false,
    "editable": false
   },
   "source": [
    "Points possible: 4.0"
   ]
  },
  {
   "cell_type": "code",
   "execution_count": 212,
   "id": "beb22089-ea77-4567-805a-4b1011fcc910",
   "metadata": {
    "deletable": false,
    "editable": true,
    "tags": [
     "q7-code"
    ]
   },
   "outputs": [
    {
     "data": {
      "text/plain": [
       "'nm0023858'"
      ]
     },
     "execution_count": 212,
     "metadata": {},
     "output_type": "execute_result"
    }
   ],
   "source": [
    "# compute and store the answer in the variable 'first_actor_id_first_movie', then display it\n",
    "first_actor_id_first_movie = raw_movies[0]['cast'][0]\n",
    "first_actor_id_first_movie"
   ]
  },
  {
   "cell_type": "code",
   "execution_count": 213,
   "id": "0beccd91-265d-4491-a5c6-666bede5d49f",
   "metadata": {
    "deletable": false,
    "editable": true
   },
   "outputs": [
    {
     "name": "stdout",
     "output_type": "stream",
     "text": [
      "Make sure you saved the notebook before running this cell. Running check for q7...\n",
      "Great job! You passed all test cases for this question.\n"
     ]
    },
    {
     "data": {
      "text/plain": [
       "True"
      ]
     },
     "execution_count": 213,
     "metadata": {},
     "output_type": "execute_result"
    }
   ],
   "source": [
    "student_grader.check(\"q7\", should_get_llm_feedback=False)"
   ]
  },
  {
   "cell_type": "markdown",
   "id": "b879615d-bf2b-42ec-aeb5-6f936aca3eca",
   "metadata": {
    "deletable": false,
    "editable": false
   },
   "source": [
    "#### Function 3: `get_movies(movies_path, mapping_path)`"
   ]
  },
  {
   "cell_type": "markdown",
   "id": "090a5f1c-f90f-4a22-9b39-6523ac07f7b7",
   "metadata": {
    "deletable": false,
    "editable": false
   },
   "source": [
    "We require you to complete the below function to answer the next several questions (this is a **requirement**, and you will **lose points** if you do not implement this function).\n",
    "\n",
    "\n",
    "This function **must** return a **list** of **dictionaries**, where each **dictionary** is of the following format:\n",
    "\n",
    "```python\n",
    "   {\n",
    "        'title': \"the movie name\",\n",
    "        'year': <the year as an integer>,\n",
    "        'duration': <the duration as an integer>,\n",
    "        'genres': [<genre1>, <genre2>, ...],\n",
    "        'rating': <the rating as a float>,\n",
    "        'directors': [\"director-name1\", \"director-name2\", ...],\n",
    "        'cast': [\"actor-name1\", \"actor-name2\", ....]\n",
    "    }\n",
    "```\n",
    "\n",
    "Here is an example:\n",
    "\n",
    "```python\n",
    "    {\n",
    "        'title': 'Across the Sierras',\n",
    "        'year': 1941,\n",
    "        'duration': 59,\n",
    "        'genres': ['Western'],\n",
    "        'rating': 5.2,\n",
    "        'directors': ['D. Ross Lederman'],\n",
    "        'cast': ['Dick Curtis', 'Bill Elliott', 'Richard Fiske', 'Luana Walters', 'Dub Taylor']\n",
    "    }\n",
    "```\n",
    "\n",
    "You may use functions that you have already created. Look at lab questions 21-23 for additional guidance."
   ]
  },
  {
   "cell_type": "markdown",
   "id": "1cb003f5-9ea1-48af-a324-4e8dbd32a8df",
   "metadata": {
    "deletable": false,
    "editable": false
   },
   "source": [
    "Points possible: 5.0"
   ]
  },
  {
   "cell_type": "code",
   "execution_count": 219,
   "id": "a330ce6c-18ed-4218-83f6-3ef8c1bf1407",
   "metadata": {
    "deletable": false,
    "editable": true,
    "tags": [
     "get_movies-code"
    ]
   },
   "outputs": [],
   "source": [
    "def get_movies(movies_path, mapping_path):\n",
    "    data = get_raw_movies(movies_path)\n",
    "    mapping_dict = get_mapping(mapping_path)\n",
    "    \n",
    "    no_ID = []\n",
    "    \n",
    "    for movie in data:\n",
    "        dic = {}\n",
    "        dic['title'] = mapping_dict.get(movie['title'], movie['title'])\n",
    "        dic['year'] = movie['year']\n",
    "        dic['duration'] = movie['duration']\n",
    "        dic['genres'] = movie['genres']\n",
    "        dic['rating'] = movie['rating']\n",
    "        dic['directors'] = [mapping_dict[director] for director in movie['directors']]\n",
    "        dic['cast'] = [mapping_dict[actor] for actor in movie['cast']]\n",
    "\n",
    "        no_ID.append(dic)\n",
    "\n",
    "    return no_ID\n"
   ]
  },
  {
   "cell_type": "code",
   "execution_count": 220,
   "id": "c024cc2d-c695-4671-a4b4-abd20bb7304e",
   "metadata": {
    "deletable": false,
    "editable": true
   },
   "outputs": [
    {
     "name": "stdout",
     "output_type": "stream",
     "text": [
      "Make sure you saved the notebook before running this cell. Running check for get_movies...\n",
      "Great job! You passed all test cases for this question.\n"
     ]
    },
    {
     "data": {
      "text/plain": [
       "True"
      ]
     },
     "execution_count": 220,
     "metadata": {},
     "output_type": "execute_result"
    }
   ],
   "source": [
    "student_grader.check(\"get_movies\", should_get_llm_feedback=False)"
   ]
  },
  {
   "cell_type": "markdown",
   "id": "d9ec6749-830d-42e3-85cd-0060dfcb7380",
   "metadata": {
    "deletable": false,
    "editable": false
   },
   "source": [
    "#### Project Question 8"
   ]
  },
  {
   "cell_type": "markdown",
   "id": "98060459-f487-4e1c-87ed-c2a8ccb098f8",
   "metadata": {
    "deletable": false,
    "editable": false
   },
   "source": [
    "What is returned by `get_movies(\"movies.csv\", \"mapping.csv\")`?\n",
    "\n",
    "Your output **must** be a **list** of **dictionaries** where each dictionary contains information about a movie.\\\n",
    "\n",
    "Display the first three movies."
   ]
  },
  {
   "cell_type": "markdown",
   "id": "c3279912-2232-4b34-a11a-c220f35f539f",
   "metadata": {
    "deletable": false,
    "editable": false
   },
   "source": [
    "Points possible: 4.0"
   ]
  },
  {
   "cell_type": "code",
   "execution_count": 221,
   "id": "4ae3c443-1f91-47ea-b4c9-66509eb3a8ec",
   "metadata": {
    "deletable": false,
    "editable": true,
    "tags": [
     "q8-code"
    ]
   },
   "outputs": [
    {
     "data": {
      "text/plain": [
       "[{'title': 'Countdown',\n",
       "  'year': 1996,\n",
       "  'duration': 90,\n",
       "  'genres': ['Crime', 'Mystery', 'Thriller'],\n",
       "  'rating': 3.9,\n",
       "  'directors': ['Keoni Waxman'],\n",
       "  'cast': ['Yûki Amami', 'Lori Petty', 'Jason London', 'James Le Gros']},\n",
       " {'title': 'Lost Junction',\n",
       "  'year': 2003,\n",
       "  'duration': 95,\n",
       "  'genres': ['Drama', 'Romance', 'Thriller'],\n",
       "  'rating': 5.5,\n",
       "  'directors': ['Peter Masterson'],\n",
       "  'cast': ['Neve Campbell',\n",
       "   'Billy Burke',\n",
       "   'Jake Busey',\n",
       "   'Charles Edwin Powell']},\n",
       " {'title': 'The Stone Council',\n",
       "  'year': 2006,\n",
       "  'duration': 102,\n",
       "  'genres': ['Adventure', 'Crime', 'Drama'],\n",
       "  'rating': 4.8,\n",
       "  'directors': ['Guillaume Nicloux'],\n",
       "  'cast': ['Monica Bellucci',\n",
       "   'Catherine Deneuve',\n",
       "   'Moritz Bleibtreu',\n",
       "   'Sami Bouajila']}]"
      ]
     },
     "execution_count": 221,
     "metadata": {},
     "output_type": "execute_result"
    }
   ],
   "source": [
    "# compute and store the answer in the variable 'movies', then display the first 3 movies\n",
    "\n",
    "movies = get_movies(\"movies.csv\", \"mapping.csv\")\n",
    "movies[:3]\n"
   ]
  },
  {
   "cell_type": "code",
   "execution_count": 222,
   "id": "338e5c43-b1d7-4a6d-8f31-8ddff7aa59fc",
   "metadata": {
    "deletable": false,
    "editable": true
   },
   "outputs": [
    {
     "name": "stdout",
     "output_type": "stream",
     "text": [
      "Make sure you saved the notebook before running this cell. Running check for q8...\n",
      "Great job! You passed all test cases for this question.\n"
     ]
    },
    {
     "data": {
      "text/plain": [
       "True"
      ]
     },
     "execution_count": 222,
     "metadata": {},
     "output_type": "execute_result"
    }
   ],
   "source": [
    "student_grader.check(\"q8\", should_get_llm_feedback=False)"
   ]
  },
  {
   "cell_type": "markdown",
   "id": "60a61413-c926-4048-9fb7-d6d70ed4cfaa",
   "metadata": {
    "deletable": false,
    "editable": false
   },
   "source": [
    "**Warning**: You are **not** allowed to call `get_movies` more than once on the full dataset (`movies.csv` and `mapping.csv`) in your notebook. Instead, reuse the `movies` variable, which is more efficient. The autograder will deduct **points** if you call `get_movies` again on these files.\n",
    "\n",
    "**Warning:** Do **not** display the value of the variable `movies` **anywhere** in your notebook. It will take up a **lot** of space, and your **code will not be displayed** for grading. Instead you should verify `movies` has the correct value by looking at a small *slice* of the **list** as in the question below. "
   ]
  },
  {
   "cell_type": "markdown",
   "id": "aaf21b6b-e4bb-490c-b8c4-93a63adbc60b",
   "metadata": {
    "deletable": false,
    "editable": false
   },
   "source": [
    "#### Project Question 9"
   ]
  },
  {
   "cell_type": "markdown",
   "id": "7cc73263-39ad-401a-8a3c-38de46a1ce78",
   "metadata": {
    "deletable": false,
    "editable": false
   },
   "source": [
    "What is `title` of the **second** movie in `movies`?\n",
    "\n",
    "Your output **must** be a **string**. You **must** use the variable `movies` defined above to answer this question. You **must not** call the function `get_movies` again on this dataset."
   ]
  },
  {
   "cell_type": "markdown",
   "id": "caebf996-315d-41fd-8a4a-fa2fcfafb06c",
   "metadata": {
    "deletable": false,
    "editable": false
   },
   "source": [
    "Points possible: 4.0"
   ]
  },
  {
   "cell_type": "code",
   "execution_count": 224,
   "id": "c3c2d0e7-5d41-4ecb-a82b-bc798dfe8abb",
   "metadata": {
    "deletable": false,
    "editable": true,
    "tags": [
     "q9-code"
    ]
   },
   "outputs": [
    {
     "data": {
      "text/plain": [
       "'Lost Junction'"
      ]
     },
     "execution_count": 224,
     "metadata": {},
     "output_type": "execute_result"
    }
   ],
   "source": [
    "# compute and store the answer in the variable 'second_movie_title_movies', then display it\n",
    "second_movie_title_movies = movies[1]['title']\n",
    "second_movie_title_movies"
   ]
  },
  {
   "cell_type": "code",
   "execution_count": 225,
   "id": "6a188318-b290-4a02-bda9-0483093f9d61",
   "metadata": {
    "deletable": false,
    "editable": true
   },
   "outputs": [
    {
     "name": "stdout",
     "output_type": "stream",
     "text": [
      "Make sure you saved the notebook before running this cell. Running check for q9...\n",
      "Great job! You passed all test cases for this question.\n"
     ]
    },
    {
     "data": {
      "text/plain": [
       "True"
      ]
     },
     "execution_count": 225,
     "metadata": {},
     "output_type": "execute_result"
    }
   ],
   "source": [
    "student_grader.check(\"q9\", should_get_llm_feedback=False)"
   ]
  },
  {
   "cell_type": "markdown",
   "id": "e0c1a95c-6cd5-4502-801a-a057e06af8db",
   "metadata": {
    "deletable": false,
    "editable": false
   },
   "source": [
    "#### Project Question 10"
   ]
  },
  {
   "cell_type": "markdown",
   "id": "d8ec7e6b-ab5e-4a77-9cf6-a5dc97e46e0d",
   "metadata": {
    "deletable": false,
    "editable": false
   },
   "source": [
    "Who are the `cast` members of the **second** movie in `movies`?\n",
    "\n",
    "Your output **must** be a **list** of **string(s)** stored in a new variable named `second_movie_cast_movies`. You **must** use the variable `movies` defined above to answer this question."
   ]
  },
  {
   "cell_type": "markdown",
   "id": "38ce8d44-2c44-42b7-b394-5614e07d7346",
   "metadata": {
    "deletable": false,
    "editable": false
   },
   "source": [
    "Points possible: 4.0"
   ]
  },
  {
   "cell_type": "code",
   "execution_count": 226,
   "id": "28f9d264-d474-4d83-b21f-74086f76d58e",
   "metadata": {
    "deletable": false,
    "editable": true,
    "tags": [
     "q10-code"
    ]
   },
   "outputs": [
    {
     "data": {
      "text/plain": [
       "['Neve Campbell', 'Billy Burke', 'Jake Busey', 'Charles Edwin Powell']"
      ]
     },
     "execution_count": 226,
     "metadata": {},
     "output_type": "execute_result"
    }
   ],
   "source": [
    "# compute and store the answer in the variable 'second_movie_cast_movies', then display it\n",
    "second_movie_cast_movies = movies[1]['cast']\n",
    "second_movie_cast_movies"
   ]
  },
  {
   "cell_type": "code",
   "execution_count": 227,
   "id": "f7c1a3bf-fb3a-4657-bd34-e38a09b7185c",
   "metadata": {
    "deletable": false,
    "editable": true
   },
   "outputs": [
    {
     "name": "stdout",
     "output_type": "stream",
     "text": [
      "Make sure you saved the notebook before running this cell. Running check for q10...\n",
      "Great job! You passed all test cases for this question.\n"
     ]
    },
    {
     "data": {
      "text/plain": [
       "True"
      ]
     },
     "execution_count": 227,
     "metadata": {},
     "output_type": "execute_result"
    }
   ],
   "source": [
    "student_grader.check(\"q10\", should_get_llm_feedback=False)"
   ]
  },
  {
   "cell_type": "markdown",
   "id": "0721fa0d-b866-4d18-a0f4-da9ccca24848",
   "metadata": {
    "deletable": false,
    "editable": false
   },
   "source": [
    "#### Project Question 11"
   ]
  },
  {
   "cell_type": "markdown",
   "id": "71bddca2-a723-4c1a-8b31-3db8b4eac143",
   "metadata": {
    "deletable": false,
    "editable": false
   },
   "source": [
    "Who are the `directors` of the **last** movie in `movies`?\n",
    "\n",
    "Your output **must** be a **list** of **string(s)** stored in a new variable named `last_movie_directors_movies`. You **must** use the variable `movies` defined above to answer this question."
   ]
  },
  {
   "cell_type": "markdown",
   "id": "4d093603-4255-44bb-910e-e2e486cc0cd9",
   "metadata": {
    "deletable": false,
    "editable": false
   },
   "source": [
    "Points possible: 4.0"
   ]
  },
  {
   "cell_type": "code",
   "execution_count": 228,
   "id": "70fd7f82-dee6-4bdc-89a9-ab795ac0903b",
   "metadata": {
    "deletable": false,
    "editable": true,
    "tags": [
     "q11-code"
    ]
   },
   "outputs": [
    {
     "data": {
      "text/plain": [
       "['Aman Chang']"
      ]
     },
     "execution_count": 228,
     "metadata": {},
     "output_type": "execute_result"
    }
   ],
   "source": [
    "# compute and store the answer in the variable 'last_movie_directors_movies', then display it\n",
    "last_movie_directors_movies = movies[-1]['directors']\n",
    "last_movie_directors_movies"
   ]
  },
  {
   "cell_type": "code",
   "execution_count": 229,
   "id": "f8de088f-405c-4e99-bce4-c1e285f72ed4",
   "metadata": {
    "deletable": false,
    "editable": true
   },
   "outputs": [
    {
     "name": "stdout",
     "output_type": "stream",
     "text": [
      "Make sure you saved the notebook before running this cell. Running check for q11...\n",
      "Great job! You passed all test cases for this question.\n"
     ]
    },
    {
     "data": {
      "text/plain": [
       "True"
      ]
     },
     "execution_count": 229,
     "metadata": {},
     "output_type": "execute_result"
    }
   ],
   "source": [
    "student_grader.check(\"q11\", should_get_llm_feedback=False)"
   ]
  },
  {
   "cell_type": "markdown",
   "id": "d035dde3-98cb-459f-ac24-c89b2bf2c473",
   "metadata": {
    "deletable": false,
    "editable": false
   },
   "source": [
    "#### Project Question 12"
   ]
  },
  {
   "cell_type": "markdown",
   "id": "8cdf578e-d85f-4f0a-90ea-3c874ba2fdc3",
   "metadata": {
    "deletable": false,
    "editable": false
   },
   "source": [
    "What are the movies in `movies[130:140]`?"
   ]
  },
  {
   "cell_type": "markdown",
   "id": "5e5dd31a-9a7c-445c-9c61-1d2e1c07f5b4",
   "metadata": {
    "deletable": false,
    "editable": false
   },
   "source": [
    "Points possible: 4.0"
   ]
  },
  {
   "cell_type": "code",
   "execution_count": 231,
   "id": "f6d8b75f-337f-4e80-9e8e-6ccc5cefcccb",
   "metadata": {
    "deletable": false,
    "editable": true,
    "tags": [
     "q12-code"
    ]
   },
   "outputs": [
    {
     "data": {
      "text/plain": [
       "[{'title': 'The Gore Gore Girls',\n",
       "  'year': 1972,\n",
       "  'duration': 81,\n",
       "  'genres': ['Comedy', 'Crime', 'Horror'],\n",
       "  'rating': 5.1,\n",
       "  'directors': ['Herschell Gordon Lewis'],\n",
       "  'cast': ['Frank Kress', 'Amy Farrell', 'Hedda Lubin', 'Henny Youngman']},\n",
       " {'title': 'The Suicide Squad',\n",
       "  'year': 2021,\n",
       "  'duration': 132,\n",
       "  'genres': ['Action', 'Adventure', 'Comedy'],\n",
       "  'rating': 7.2,\n",
       "  'directors': ['James Gunn'],\n",
       "  'cast': ['Margot Robbie', 'Idris Elba', 'John Cena', 'Joel Kinnaman']},\n",
       " {'title': 'Choose Connor',\n",
       "  'year': 2007,\n",
       "  'duration': 109,\n",
       "  'genres': ['Drama'],\n",
       "  'rating': 6.4,\n",
       "  'directors': ['Lucas Elliot Eberl'],\n",
       "  'cast': ['Darin Cooper',\n",
       "   'Christopher Marquette',\n",
       "   'Alex D. Linz',\n",
       "   'James Runcorn']},\n",
       " {'title': 'The Damned United',\n",
       "  'year': 2009,\n",
       "  'duration': 98,\n",
       "  'genres': ['Biography', 'Drama', 'Sport'],\n",
       "  'rating': 7.5,\n",
       "  'directors': ['Tom Hooper'],\n",
       "  'cast': ['Colm Meaney', 'Henry Goodman', 'David Roper', 'Jimmy Reddington']},\n",
       " {'title': '47 Meters Down: Uncaged',\n",
       "  'year': 2019,\n",
       "  'duration': 90,\n",
       "  'genres': ['Adventure', 'Drama', 'Horror'],\n",
       "  'rating': 5.0,\n",
       "  'directors': ['Johannes Roberts'],\n",
       "  'cast': ['Sophie Nélisse',\n",
       "   'Corinne Foxx',\n",
       "   'Brianne Tju',\n",
       "   'Sistine Rose Stallone']},\n",
       " {'title': 'Knock at the Cabin',\n",
       "  'year': 2023,\n",
       "  'duration': 100,\n",
       "  'genres': ['Horror', 'Mystery', 'Thriller'],\n",
       "  'rating': 6.1,\n",
       "  'directors': ['M. Night Shyamalan'],\n",
       "  'cast': ['Dave Bautista',\n",
       "   'Jonathan Groff',\n",
       "   'Ben Aldridge',\n",
       "   'Nikki Amuka-Bird']},\n",
       " {'title': 'The Mill on the Po',\n",
       "  'year': 1949,\n",
       "  'duration': 97,\n",
       "  'genres': ['Drama', 'History'],\n",
       "  'rating': 7.0,\n",
       "  'directors': ['Alberto Lattuada'],\n",
       "  'cast': ['Carla Del Poggio',\n",
       "   'Jacques Sernas',\n",
       "   'Mario Besesti',\n",
       "   'Giulio Calì']},\n",
       " {'title': 'Mataharis',\n",
       "  'year': 2007,\n",
       "  'duration': 100,\n",
       "  'genres': ['Comedy', 'Drama'],\n",
       "  'rating': 6.6,\n",
       "  'directors': ['Icíar Bollaín'],\n",
       "  'cast': ['Najwa Nimri', 'Tristán Ulloa', 'María Vázquez', 'Diego Martín']},\n",
       " {'title': 'Kundschafter des Friedens',\n",
       "  'year': 2017,\n",
       "  'duration': 93,\n",
       "  'genres': ['Action', 'Comedy', 'Thriller'],\n",
       "  'rating': 5.9,\n",
       "  'directors': ['Robert Thalheim'],\n",
       "  'cast': ['Henry Hübchen',\n",
       "   'Antje Traue',\n",
       "   'Michael Gwisdek',\n",
       "   'Thomas Thieme']},\n",
       " {'title': 'My Fairy Troublemaker',\n",
       "  'year': 2022,\n",
       "  'duration': 85,\n",
       "  'genres': ['Adventure', 'Animation', 'Comedy'],\n",
       "  'rating': 5.2,\n",
       "  'directors': ['Caroline Origer'],\n",
       "  'cast': ['Jella Haase', 'Lucy Carolan', 'Alex Avenell', 'Julian Mau']}]"
      ]
     },
     "execution_count": 231,
     "metadata": {},
     "output_type": "execute_result"
    }
   ],
   "source": [
    "# compute and store the answer in the variable 'movies_130_140', then display it\n",
    "movies_130_140 = movies[130:140]\n",
    "movies_130_140"
   ]
  },
  {
   "cell_type": "code",
   "execution_count": null,
   "id": "3226df24-579b-46d7-9e72-7af1e89d7852",
   "metadata": {
    "deletable": false,
    "editable": true
   },
   "outputs": [],
   "source": [
    "student_grader.check(\"q12\", should_get_llm_feedback=False)"
   ]
  },
  {
   "cell_type": "markdown",
   "id": "638065e6-4c04-4f9c-ab07-58dbcba94fe1",
   "metadata": {
    "deletable": false,
    "editable": false
   },
   "source": [
    "#### Project Question 13"
   ]
  },
  {
   "cell_type": "markdown",
   "id": "95f82500-ac31-48c4-b405-020b36a63bac",
   "metadata": {
    "deletable": false,
    "editable": false
   },
   "source": [
    "What is the **number** of movies in the dataset released in `year` *2023*?\n",
    "\n",
    "Your outuput must be an **int** stored in a new variable named `num_movies_2023`. You **must** use the variable `movies` defined above to answer this question."
   ]
  },
  {
   "cell_type": "markdown",
   "id": "e76b21a0-c577-4b21-8861-a5baff1dfa58",
   "metadata": {
    "deletable": false,
    "editable": false
   },
   "source": [
    "Points possible: 4.0"
   ]
  },
  {
   "cell_type": "code",
   "execution_count": 234,
   "id": "9477665e-bd78-4a73-9703-866eb0781ad2",
   "metadata": {
    "deletable": false,
    "editable": true,
    "tags": [
     "q13-code"
    ]
   },
   "outputs": [
    {
     "data": {
      "text/plain": [
       "33"
      ]
     },
     "execution_count": 234,
     "metadata": {},
     "output_type": "execute_result"
    }
   ],
   "source": [
    "# compute and store the answer in the variable 'num_movies_2023', then display it\n",
    "num_movies_2023 = 0\n",
    "for movie in movies:\n",
    "    if movie['year'] == 2023:\n",
    "        num_movies_2023 += 1\n",
    "        \n",
    "num_movies_2023"
   ]
  },
  {
   "cell_type": "code",
   "execution_count": 235,
   "id": "57d7db7a-03e0-450d-9ec7-ef2e8cbb248a",
   "metadata": {
    "deletable": false,
    "editable": true
   },
   "outputs": [
    {
     "name": "stdout",
     "output_type": "stream",
     "text": [
      "Make sure you saved the notebook before running this cell. Running check for q13...\n",
      "Great job! You passed all test cases for this question.\n"
     ]
    },
    {
     "data": {
      "text/plain": [
       "True"
      ]
     },
     "execution_count": 235,
     "metadata": {},
     "output_type": "execute_result"
    }
   ],
   "source": [
    "student_grader.check(\"q13\", should_get_llm_feedback=False)"
   ]
  },
  {
   "cell_type": "markdown",
   "id": "3769079e-47c4-4a0a-a219-7b9b9ee1d196",
   "metadata": {
    "deletable": false,
    "editable": false
   },
   "source": [
    "#### Function 4: `find_specific_movies(movies, keyword)`"
   ]
  },
  {
   "cell_type": "markdown",
   "id": "b3ba096b-ba82-4a32-a1b1-8a18885a1b26",
   "metadata": {
    "deletable": false,
    "editable": false
   },
   "source": [
    "Now that we have created this data structure `movies`, we can start doing some fun things with the data!\n",
    "We will continue working on this data structure for the next project (P9) as well.\n",
    "\n",
    "Let us now use this data structure `movies` to create a **search bar** like the one in Netflix!\n",
    "**Do not change the below function in any way**.\n",
    "This function takes in a keyword like a substring of a title, a genre, or the name of a person, and returns a list of relevant movies with that title, genre, or cast member/director.\n",
    "\n",
    "**Warning:** As `movies` is very large, the function `find_specific_movies` may take five to ten seconds to run. This is normal and you should not panic if it takes a while to run."
   ]
  },
  {
   "cell_type": "code",
   "execution_count": 236,
   "id": "f2515ce5-63f4-4092-b62a-82e5eced33f1",
   "metadata": {
    "deletable": false
   },
   "outputs": [],
   "source": [
    "# DO NOT EDIT THIS CELL AND DO NOT REDEFINE THIS FUNCTION ELSEWHERE\n",
    "def find_specific_movies(movies, keyword):\n",
    "    \"\"\"\n",
    "    find_specific_movies(movies, keyword) takes a list of movie dictionaries \n",
    "    and a keyword; it returns a list of movies that contain the keyword\n",
    "    in either its title, genre, cast or directors.\n",
    "    \"\"\"\n",
    "    idx = 0\n",
    "    while idx < len(movies):\n",
    "        movie = movies[idx]\n",
    "        # note: \\ enables you split a long line of code into two lines\n",
    "        if (keyword not in movie['title']) and (keyword not in movie[\"genres\"]) \\\n",
    "        and (keyword not in movie[\"directors\"]) and (keyword not in movie[\"cast\"]):\n",
    "            movies.pop(idx)\n",
    "        else:\n",
    "            idx += 1\n",
    "    return movies"
   ]
  },
  {
   "cell_type": "markdown",
   "id": "eb263d8b-8a01-4c30-a47f-b687d835db2d",
   "metadata": {
    "deletable": false,
    "editable": false
   },
   "source": [
    "**Important:** While it might look as if we are making it easy for you by providing `find_specific_movies`, there is a catch! There is a subtle flaw with the way the function is defined, that will cause you issues in the next two questions. If you can spot this flaw by just observing the definition of `find_specific_movies`, congratulations! Since you are **not** allowed to modify the function definition, you will have to be a little clever with your function arguments to sidestep the flaw with the function definition.\n",
    "\n",
    "If you don't see anything wrong with the function just yet, don't worry about it. Solve Question 14 and Question 15 as you normally would, and see if you notice anything suspicious about your answers."
   ]
  },
  {
   "cell_type": "markdown",
   "id": "5d356fd8-0730-4862-af7d-3fae3a9edefa",
   "metadata": {
    "deletable": false,
    "editable": false
   },
   "source": [
    "#### Project Question 14"
   ]
  },
  {
   "cell_type": "markdown",
   "id": "b582c3ce-ba5c-4222-bc97-71fb752940c5",
   "metadata": {
    "deletable": false,
    "editable": false
   },
   "source": [
    "Find all movies related to Nana Patekar. Your answer **must** be a **list** of **dictionaries**. You **must** answer this question by calling `find_specific_movies` with the keyword `\"Willem Dafoe\"`.\n",
    "\n",
    "Remember that you are **not** allowed to modify the definition of `find_specific_movies`. You will need to cleverly pass arguments to `find_specific_movies` (in both Question 14 and Question 15) to ensure that `movies` does not get modified by the function calls. Take a look at the lecture notebooks on **Copying** to better understand. If calling the function modifies your `movies` data when you answer Question 14 or 15 then you will have to restart and run all your cells to properly set the `movies` variable back to hold the right information."
   ]
  },
  {
   "cell_type": "markdown",
   "id": "ce14cfc9-14ff-4c8a-bcd5-a7aa58d3db6b",
   "metadata": {
    "deletable": false,
    "editable": false
   },
   "source": [
    "Points possible: 4.0"
   ]
  },
  {
   "cell_type": "code",
   "execution_count": 237,
   "id": "7c7d440d-9af5-4c91-8d1d-bdbc72989902",
   "metadata": {
    "deletable": false,
    "editable": true,
    "tags": [
     "q14-code"
    ]
   },
   "outputs": [
    {
     "data": {
      "text/plain": [
       "[{'title': 'The Dust of Time',\n",
       "  'year': 2008,\n",
       "  'duration': 125,\n",
       "  'genres': ['Drama'],\n",
       "  'rating': 6.6,\n",
       "  'directors': ['Theodoros Angelopoulos'],\n",
       "  'cast': ['Willem Dafoe', 'Bruno Ganz', 'Michel Piccoli', 'Irène Jacob']},\n",
       " {'title': 'Dead for a Dollar',\n",
       "  'year': 2022,\n",
       "  'duration': 107,\n",
       "  'genres': ['Action', 'Drama', 'Western'],\n",
       "  'rating': 5.4,\n",
       "  'directors': ['Walter Hill'],\n",
       "  'cast': ['Christoph Waltz',\n",
       "   'Willem Dafoe',\n",
       "   'Rachel Brosnahan',\n",
       "   'Warren Burke']},\n",
       " {'title': 'Tom & Viv',\n",
       "  'year': 1994,\n",
       "  'duration': 125,\n",
       "  'genres': ['Biography', 'Drama', 'Romance'],\n",
       "  'rating': 6.3,\n",
       "  'directors': ['Brian Gilbert'],\n",
       "  'cast': ['Willem Dafoe',\n",
       "   'Miranda Richardson',\n",
       "   'Rosemary Harris',\n",
       "   'Tim Dutton']}]"
      ]
     },
     "execution_count": 237,
     "metadata": {},
     "output_type": "execute_result"
    }
   ],
   "source": [
    "# compute and store the answer in the variable 'dafoe_films', then display it\n",
    "dafoe_films = find_specific_movies(copy.deepcopy(movies), \"Willem Dafoe\")\n",
    "dafoe_films"
   ]
  },
  {
   "cell_type": "code",
   "execution_count": 238,
   "id": "1678de80-85b2-42e0-8d46-dcb8ffb448f2",
   "metadata": {
    "deletable": false,
    "editable": true
   },
   "outputs": [
    {
     "name": "stdout",
     "output_type": "stream",
     "text": [
      "Make sure you saved the notebook before running this cell. Running check for q14...\n",
      "Great job! You passed all test cases for this question.\n"
     ]
    },
    {
     "data": {
      "text/plain": [
       "True"
      ]
     },
     "execution_count": 238,
     "metadata": {},
     "output_type": "execute_result"
    }
   ],
   "source": [
    "student_grader.check(\"q14\", should_get_llm_feedback=False)"
   ]
  },
  {
   "cell_type": "markdown",
   "id": "2815eff7-a338-4c87-8574-ab2c867f7f9b",
   "metadata": {
    "deletable": false,
    "editable": false
   },
   "source": [
    "#### Project Question 15"
   ]
  },
  {
   "cell_type": "markdown",
   "id": "f0132a9f-4795-4a9d-8f18-289209d0ab05",
   "metadata": {
    "deletable": false,
    "editable": false
   },
   "source": [
    "List all the movies that contain the string `\"Night\"`.\n",
    "\n",
    "Your answer **must** be a **list** of **dictionaries**.\n",
    "\n",
    "You **must** answer this question by calling `find_specific_movies` with the keyword `\"Night\"`.\n",
    "\n",
    "**Important Hint:**  If you did not notice the flaw with the definition of `find_specific_movies` before, you are likely to have run into an issue with this question. It is likely that you will see that your output for this question is an empty list. To see why this happened, find the value of `len(movies)` and see if it is equal to the value you found earlier."
   ]
  },
  {
   "cell_type": "markdown",
   "id": "f2b63fa8-7a81-4f0f-80b7-4adbad770395",
   "metadata": {
    "deletable": false,
    "editable": false
   },
   "source": [
    "Points possible: 4.0"
   ]
  },
  {
   "cell_type": "code",
   "execution_count": 239,
   "id": "11863b2f-7ed1-465d-934d-9b2a0efe5fb2",
   "metadata": {
    "deletable": false,
    "editable": true,
    "tags": [
     "q15-code"
    ]
   },
   "outputs": [
    {
     "data": {
      "text/plain": [
       "[{'title': 'One Hundred and One Nights',\n",
       "  'year': 1995,\n",
       "  'duration': 104,\n",
       "  'genres': ['Comedy', 'History', 'Romance'],\n",
       "  'rating': 6.5,\n",
       "  'directors': ['Agnès Varda'],\n",
       "  'cast': ['Anouk Aimée',\n",
       "   'Michel Piccoli',\n",
       "   'Marcello Mastroianni',\n",
       "   'Henri Garcin',\n",
       "   'Julie Gayet',\n",
       "   'Mathieu Demy',\n",
       "   'Emmanuel Salinger']},\n",
       " {'title': 'We Are the Night',\n",
       "  'year': 2010,\n",
       "  'duration': 99,\n",
       "  'genres': ['Drama', 'Fantasy', 'Horror'],\n",
       "  'rating': 6.2,\n",
       "  'directors': ['Dennis Gansel'],\n",
       "  'cast': ['Karoline Herfurth',\n",
       "   'Nina Hoss',\n",
       "   'Jennifer Ulrich',\n",
       "   'Anna Fischer']},\n",
       " {'title': 'The Unholy Night',\n",
       "  'year': 1929,\n",
       "  'duration': 94,\n",
       "  'genres': ['Horror', 'Mystery', 'Thriller'],\n",
       "  'rating': 5.7,\n",
       "  'directors': ['Lionel Barrymore'],\n",
       "  'cast': ['Ernest Torrence',\n",
       "   'Roland Young',\n",
       "   'Dorothy Sebastian',\n",
       "   'Natalie Moorhead']},\n",
       " {'title': 'Night Skies',\n",
       "  'year': 2007,\n",
       "  'duration': 85,\n",
       "  'genres': ['Horror', 'Sci-Fi', 'Thriller'],\n",
       "  'rating': 4.5,\n",
       "  'directors': ['Roy Knyrim'],\n",
       "  'cast': ['Jason Connery', 'A.J. Cook', 'George Stults', 'Ashley Peldon']},\n",
       " {'title': 'Night Drive',\n",
       "  'year': 2019,\n",
       "  'duration': 82,\n",
       "  'genres': ['Crime', 'Thriller'],\n",
       "  'rating': 5.6,\n",
       "  'directors': ['Brad Baruh', 'Meghan Leon'],\n",
       "  'cast': ['AJ Bowen', 'Sophie Dalah', 'Scott Poythress', 'Lamar Bell']},\n",
       " {'title': 'When Night Is Falling',\n",
       "  'year': 1995,\n",
       "  'duration': 94,\n",
       "  'genres': ['Drama', 'Romance'],\n",
       "  'rating': 6.5,\n",
       "  'directors': ['Patricia Rozema'],\n",
       "  'cast': ['Pascale Bussières',\n",
       "   'Rachael Crawford',\n",
       "   'Henry Czerny',\n",
       "   'David Fox']},\n",
       " {'title': 'Night at the Museum: Battle of the Smithsonian',\n",
       "  'year': 2009,\n",
       "  'duration': 105,\n",
       "  'genres': ['Adventure', 'Comedy', 'Family'],\n",
       "  'rating': 6.0,\n",
       "  'directors': ['Shawn Levy'],\n",
       "  'cast': ['Ben Stiller', 'Owen Wilson', 'Amy Adams', 'Hank Azaria']},\n",
       " {'title': 'Nightingale',\n",
       "  'year': 2014,\n",
       "  'duration': 83,\n",
       "  'genres': ['Crime', 'Drama'],\n",
       "  'rating': 6.4,\n",
       "  'directors': ['Elliott Lester'],\n",
       "  'cast': ['David Oyelowo', 'Barlow Jacobs', 'Heather Storm']},\n",
       " {'title': 'Fear the Night',\n",
       "  'year': 2023,\n",
       "  'duration': 92,\n",
       "  'genres': ['Action', 'Horror', 'Thriller'],\n",
       "  'rating': 4.8,\n",
       "  'directors': ['Neil LaBute'],\n",
       "  'cast': ['Maggie Q', 'Ito Aghayere', 'Philip Burke', 'James Carpinello']},\n",
       " {'title': 'Far into the Night',\n",
       "  'year': 1943,\n",
       "  'duration': 90,\n",
       "  'genres': ['Drama', 'War'],\n",
       "  'rating': 6.7,\n",
       "  'directors': ['Basil Dearden'],\n",
       "  'cast': ['Tommy Trinder', 'James Mason', 'Philip Friend', 'Mervyn Johns']},\n",
       " {'title': 'Summer Night with Greek Profile, Almond Eyes and Scent of Basil',\n",
       "  'year': 1986,\n",
       "  'duration': 94,\n",
       "  'genres': ['Comedy'],\n",
       "  'rating': 5.7,\n",
       "  'directors': ['Lina Wertmüller'],\n",
       "  'cast': ['Mariangela Melato',\n",
       "   'Michele Placido',\n",
       "   'Roberto Herlitzka',\n",
       "   'Massimo Wertmüller']},\n",
       " {'title': 'Huntress: Spirit of the Night',\n",
       "  'year': 1996,\n",
       "  'duration': 86,\n",
       "  'genres': ['Fantasy', 'Horror', 'Mystery'],\n",
       "  'rating': 4.0,\n",
       "  'directors': ['Mark Manos'],\n",
       "  'cast': ['Jenna Bodnar',\n",
       "   'George Alexandru',\n",
       "   'Virgil Andriescu',\n",
       "   'Constantin Cotimanis']}]"
      ]
     },
     "execution_count": 239,
     "metadata": {},
     "output_type": "execute_result"
    }
   ],
   "source": [
    "# compute and store the answer in the variable 'night_movies', then display it\n",
    "night_movies = find_specific_movies(copy.deepcopy(movies), \"Night\")\n",
    "night_movies"
   ]
  },
  {
   "cell_type": "code",
   "execution_count": 240,
   "id": "9e2273b5-7511-4fd9-b82d-32632a8625c5",
   "metadata": {
    "deletable": false,
    "editable": true
   },
   "outputs": [
    {
     "name": "stdout",
     "output_type": "stream",
     "text": [
      "Make sure you saved the notebook before running this cell. Running check for q15...\n",
      "Great job! You passed all test cases for this question.\n"
     ]
    },
    {
     "data": {
      "text/plain": [
       "True"
      ]
     },
     "execution_count": 240,
     "metadata": {},
     "output_type": "execute_result"
    }
   ],
   "source": [
    "student_grader.check(\"q15\", should_get_llm_feedback=False)"
   ]
  },
  {
   "cell_type": "markdown",
   "id": "cc8c28b3-9a16-424c-88eb-cb7ae2160d23",
   "metadata": {
    "deletable": false,
    "editable": false
   },
   "source": [
    "#### Function 5: `bucketize_by_genre(movies)`"
   ]
  },
  {
   "cell_type": "markdown",
   "id": "be74cf40-c83d-471d-8260-4935ecbdbd43",
   "metadata": {
    "deletable": false,
    "editable": false
   },
   "source": [
    "We require you to complete the below function to answer the next several questions (this is a **requirement**, and you will **lose points** if you do not implement this function)."
   ]
  },
  {
   "cell_type": "markdown",
   "id": "7fdb0205-1359-4349-b785-d254f118fb49",
   "metadata": {
    "deletable": false,
    "editable": false
   },
   "source": [
    "Points possible: 5.0"
   ]
  },
  {
   "cell_type": "code",
   "execution_count": 247,
   "id": "5ac497ab-9b84-4941-a289-de3db63f391d",
   "metadata": {
    "deletable": false,
    "editable": true,
    "tags": [
     "bucketize_by_genre-code"
    ]
   },
   "outputs": [],
   "source": [
    "def bucketize_by_genre(movies):\n",
    "    dict = {} \n",
    "    for movie in movies:\n",
    "        for genre in movie['genres']: \n",
    "            if genre not in dict:\n",
    "                dict[genre] = []  \n",
    "            dict[genre].append(movie)  \n",
    "\n",
    "    return dict"
   ]
  },
  {
   "cell_type": "code",
   "execution_count": 248,
   "id": "9593f581-0f45-4c41-8963-f5d1ed8d4a44",
   "metadata": {
    "deletable": false,
    "editable": true
   },
   "outputs": [
    {
     "name": "stdout",
     "output_type": "stream",
     "text": [
      "Make sure you saved the notebook before running this cell. Running check for bucketize_by_genre...\n",
      "Great job! You passed all test cases for this question.\n"
     ]
    },
    {
     "data": {
      "text/plain": [
       "True"
      ]
     },
     "execution_count": 248,
     "metadata": {},
     "output_type": "execute_result"
    }
   ],
   "source": [
    "student_grader.check(\"bucketize_by_genre\", should_get_llm_feedback=False)"
   ]
  },
  {
   "cell_type": "markdown",
   "id": "f6aba019-9e38-43b6-8d02-9201671b95b9",
   "metadata": {
    "deletable": false,
    "editable": false
   },
   "source": [
    "**Warning:** You are **not** allowed to call `bucketize_by_genre` more than once on the full list of movies (`movies`) in your notebook. The autograder will **deduct points** if you call `bucketize_by_genre` again on `movies`."
   ]
  },
  {
   "cell_type": "code",
   "execution_count": 250,
   "id": "b5518832-4ced-4d33-87dd-09a03ed68b54",
   "metadata": {
    "deletable": false
   },
   "outputs": [],
   "source": [
    "# call the function bucketize_by_genre on 'movies' and store it in the variable 'genre_dict'\n",
    "# do NOT display the output directly\n",
    "genre_dict =bucketize_by_genre(movies)"
   ]
  },
  {
   "cell_type": "markdown",
   "id": "3ca87135-a48e-4518-976b-b6acf6f1b256",
   "metadata": {
    "deletable": false,
    "editable": false
   },
   "source": [
    "#### Project Question 16"
   ]
  },
  {
   "cell_type": "markdown",
   "id": "6b146434-c675-4a99-8df9-d37c0928f7cc",
   "metadata": {
    "deletable": false,
    "editable": false
   },
   "source": [
    "How many **unique** movie `genres` are present in the dataset?"
   ]
  },
  {
   "cell_type": "markdown",
   "id": "7baa9482-fb2e-4502-9f70-3f5c61e70d93",
   "metadata": {
    "deletable": false,
    "editable": false
   },
   "source": [
    "Points possible: 4.0"
   ]
  },
  {
   "cell_type": "code",
   "execution_count": 251,
   "id": "7bfc31fb-3c00-445c-81b2-86e7d8d550ab",
   "metadata": {
    "deletable": false,
    "editable": true,
    "tags": [
     "q16-code"
    ]
   },
   "outputs": [
    {
     "data": {
      "text/plain": [
       "22"
      ]
     },
     "execution_count": 251,
     "metadata": {},
     "output_type": "execute_result"
    }
   ],
   "source": [
    "# compute and store the answer in the variable 'num_genres', then display it\n",
    "num_genres = len(genre_dict)\n",
    "num_genres"
   ]
  },
  {
   "cell_type": "code",
   "execution_count": 252,
   "id": "414a5076-dbd8-4917-b4a0-0572af88bb2d",
   "metadata": {
    "deletable": false,
    "editable": true
   },
   "outputs": [
    {
     "name": "stdout",
     "output_type": "stream",
     "text": [
      "Make sure you saved the notebook before running this cell. Running check for q16...\n",
      "Great job! You passed all test cases for this question.\n"
     ]
    },
    {
     "data": {
      "text/plain": [
       "True"
      ]
     },
     "execution_count": 252,
     "metadata": {},
     "output_type": "execute_result"
    }
   ],
   "source": [
    "student_grader.check(\"q16\", should_get_llm_feedback=False)"
   ]
  },
  {
   "cell_type": "markdown",
   "id": "714fe04a-41c5-4bed-9f42-12a7b8a9c951",
   "metadata": {
    "deletable": false,
    "editable": false
   },
   "source": [
    "#### Project Question 17"
   ]
  },
  {
   "cell_type": "markdown",
   "id": "24ab5304-6da5-498e-9d10-4d06ce19e389",
   "metadata": {
    "deletable": false,
    "editable": false
   },
   "source": [
    "How many *Romance* movies (i.e. movies with *Romance* as one of their `genres`) do we have in the dataset released **after** the `year` *2019*?\n",
    "\n",
    "Your output **must** be an **int** stored in a new variable named `romance_after_2019`. You **must** use the `genre_dict` data structure to answer this question."
   ]
  },
  {
   "cell_type": "markdown",
   "id": "2815548c-6d5b-4354-a586-5185224740af",
   "metadata": {
    "deletable": false,
    "editable": false
   },
   "source": [
    "Points possible: 4.0"
   ]
  },
  {
   "cell_type": "code",
   "execution_count": 253,
   "id": "339aacd2-c57e-4f52-831a-bb9964024683",
   "metadata": {
    "deletable": false,
    "editable": true,
    "tags": [
     "q17-code"
    ]
   },
   "outputs": [
    {
     "data": {
      "text/plain": [
       "24"
      ]
     },
     "execution_count": 253,
     "metadata": {},
     "output_type": "execute_result"
    }
   ],
   "source": [
    "# compute and store the answer in the variable 'romance_after_2019', then display it\n",
    "\n",
    "romance_after_2019 = 0\n",
    "for movie in genre_dict['Romance']:\n",
    "    if movie['year'] > 2019:\n",
    "        romance_after_2019 += 1\n",
    "\n",
    "romance_after_2019\n"
   ]
  },
  {
   "cell_type": "code",
   "execution_count": 254,
   "id": "dd6a84cd-2b40-464f-8085-186a9e917ca9",
   "metadata": {
    "deletable": false,
    "editable": true
   },
   "outputs": [
    {
     "name": "stdout",
     "output_type": "stream",
     "text": [
      "Make sure you saved the notebook before running this cell. Running check for q17...\n",
      "Great job! You passed all test cases for this question.\n"
     ]
    },
    {
     "data": {
      "text/plain": [
       "True"
      ]
     },
     "execution_count": 254,
     "metadata": {},
     "output_type": "execute_result"
    }
   ],
   "source": [
    "student_grader.check(\"q17\", should_get_llm_feedback=False)"
   ]
  },
  {
   "cell_type": "markdown",
   "id": "97a636b6-e0f9-4d8e-8ca6-535e0eb71a89",
   "metadata": {
    "deletable": false,
    "editable": false
   },
   "source": [
    "#### Project Question 18"
   ]
  },
  {
   "cell_type": "markdown",
   "id": "729d3438-d791-48f1-883c-a94d7b19b614",
   "metadata": {
    "deletable": false,
    "editable": false
   },
   "source": [
    "List the `title` of all *Documentary* movies (i.e. movies with *Documentary* as one of their `genres`) with `duration` **larger** than *90* in the dataset.\n",
    "\n",
    "Your output **must** be a **list** of **strings** stored in a new variable named `docs_longer_than_90_mins`. You **must** use the `genre_dict` data structure to answer this question."
   ]
  },
  {
   "cell_type": "markdown",
   "id": "b0c6a5ff-884a-4ed4-9115-a176b303dac0",
   "metadata": {
    "deletable": false,
    "editable": false
   },
   "source": [
    "Points possible: 4.0"
   ]
  },
  {
   "cell_type": "code",
   "execution_count": 257,
   "id": "a85bcef7-d1a4-4b40-ba0c-5fe8beaec171",
   "metadata": {
    "deletable": false,
    "editable": true,
    "tags": [
     "q18-code"
    ]
   },
   "outputs": [
    {
     "data": {
      "text/plain": [
       "['Private Network: Who Killed Manuel Buendía?',\n",
       " 'Earthlings',\n",
       " 'Raul: O Início, o Fim e o Meio',\n",
       " 'Moby Doc',\n",
       " \"Aurora's Sunrise\",\n",
       " 'Listen to Me Marlon',\n",
       " 'Stop The Pounding Heart',\n",
       " 'A Spell to Ward Off the Darkness']"
      ]
     },
     "execution_count": 257,
     "metadata": {},
     "output_type": "execute_result"
    }
   ],
   "source": [
    "# compute and store the answer in the variable 'docs_longer_than_90_mins', then display it\n",
    "\n",
    "docs_longer_than_90_mins = []\n",
    "for movie in genre_dict['Documentary']:\n",
    "    if movie['duration'] > 90:\n",
    "        docs_longer_than_90_mins.append(movie['title'])\n",
    "\n",
    "docs_longer_than_90_mins"
   ]
  },
  {
   "cell_type": "code",
   "execution_count": 258,
   "id": "93bac09c-340d-499f-b177-f92fe4eb0cfc",
   "metadata": {
    "deletable": false,
    "editable": true
   },
   "outputs": [
    {
     "name": "stdout",
     "output_type": "stream",
     "text": [
      "Make sure you saved the notebook before running this cell. Running check for q18...\n",
      "Great job! You passed all test cases for this question.\n"
     ]
    },
    {
     "data": {
      "text/plain": [
       "True"
      ]
     },
     "execution_count": 258,
     "metadata": {},
     "output_type": "execute_result"
    }
   ],
   "source": [
    "student_grader.check(\"q18\", should_get_llm_feedback=False)"
   ]
  },
  {
   "cell_type": "markdown",
   "id": "47dea7f5-7a37-420d-9d50-7b6775bc543b",
   "metadata": {
    "deletable": false,
    "editable": false
   },
   "source": [
    "#### Project Question 19"
   ]
  },
  {
   "cell_type": "markdown",
   "id": "815eb257-89dc-49f5-9022-537a3913bcea",
   "metadata": {
    "deletable": false,
    "editable": false
   },
   "source": [
    "Which movie `genre` is *Nana Patekar* the most involved with?\n",
    "\n",
    "We say that *Nana Patekar* is involved with a movie if they is **either** a *director* **or** a *cast member* of that movie. You need to find the movie `genre` with the **highest** number of movies that *Nana Patekar* is involved with. There is a **unique** `genre` that *Nana Patekar* is most involved with. You do **not** have to worry about breaking ties. You may **assume** that there are **no** movies in the dataset with the string `\"Nana Patekar\"` in their `title`.\n",
    "\n",
    "Your output **must** be a **list** of **strings** stored in a new variable named `patekar_genre`.\n",
    "\n",
    "**Hint:** You can combine the *two* functions above (`find_specific_movies` and `bucketize_by_genre`) to bucketize **only** the movies that *Nana Patekar* was involved with by their `genres`. Then, you can loop through each genre to find the one with the most number of movies in it."
   ]
  },
  {
   "cell_type": "markdown",
   "id": "e2a2e060-bb5f-4163-b6de-73f375323980",
   "metadata": {
    "deletable": false,
    "editable": false
   },
   "source": [
    "Points possible: 4.0"
   ]
  },
  {
   "cell_type": "code",
   "execution_count": 262,
   "id": "717fcf80-bb4e-4c0f-b570-bf6d6fa0b052",
   "metadata": {
    "deletable": false,
    "editable": true,
    "tags": [
     "q19-code"
    ]
   },
   "outputs": [
    {
     "data": {
      "text/plain": [
       "'Drama'"
      ]
     },
     "execution_count": 262,
     "metadata": {},
     "output_type": "execute_result"
    }
   ],
   "source": [
    "# compute and store the answer in the variable 'patekar_genre', then display it\n",
    "\n",
    "movies = find_specific_movies(copy.deepcopy(movies), \"Nana Patekar\")\n",
    "dic = bucketize_by_genre(movies)\n",
    "max_genre = None\n",
    "max_count = 0\n",
    "\n",
    "for genre in dic:\n",
    "    count = len(dic[genre])  \n",
    "    if count > max_count: \n",
    "        max_count = count\n",
    "        max_genre = genre \n",
    "\n",
    "\n",
    "patekar_genre = max_genre\n",
    "patekar_genre"
   ]
  },
  {
   "cell_type": "code",
   "execution_count": 263,
   "id": "8654d051-a62c-4752-aae9-c9f00b55dfba",
   "metadata": {
    "deletable": false,
    "editable": true
   },
   "outputs": [
    {
     "name": "stdout",
     "output_type": "stream",
     "text": [
      "Make sure you saved the notebook before running this cell. Running check for q19...\n",
      "Great job! You passed all test cases for this question.\n"
     ]
    },
    {
     "data": {
      "text/plain": [
       "True"
      ]
     },
     "execution_count": 263,
     "metadata": {},
     "output_type": "execute_result"
    }
   ],
   "source": [
    "student_grader.check(\"q19\", should_get_llm_feedback=False)"
   ]
  },
  {
   "cell_type": "markdown",
   "id": "e43f8b51-c301-4666-96db-c1ad17431b47",
   "metadata": {
    "deletable": false,
    "editable": false
   },
   "source": [
    "#### Project Question 20"
   ]
  },
  {
   "cell_type": "markdown",
   "id": "b727eb63-d982-4c56-8be5-0d405e201a41",
   "metadata": {
    "deletable": false,
    "editable": false
   },
   "source": [
    "Who are the `directors` of the *Horror* movies with the **highest** `rating` in the movies dataset?\n",
    "\n",
    "You **must** output a **list** of **strings** containing the **names** of **all** the `directors` of **all** these movies. The output must be stored in a new variable named `max_horror_rating_directors`. Your code should work if there are multiple horror movies with the highest rating.\n",
    "\n",
    "**Hint:** If you are unsure how to efficiently add the elements of one list to another, please review the lecture notes about lists."
   ]
  },
  {
   "cell_type": "markdown",
   "id": "8b5d4621-8f2d-4c8b-a47e-88c7f44047a4",
   "metadata": {
    "deletable": false,
    "editable": false
   },
   "source": [
    "Points possible: 4.0"
   ]
  },
  {
   "cell_type": "code",
   "execution_count": 264,
   "id": "efb1e046-c5cc-4ac2-bc89-5cedd7377267",
   "metadata": {
    "deletable": false,
    "editable": true,
    "tags": [
     "q20-code"
    ]
   },
   "outputs": [
    {
     "data": {
      "text/plain": [
       "['Andrés Baiz', 'Anurag Kashyap']"
      ]
     },
     "execution_count": 264,
     "metadata": {},
     "output_type": "execute_result"
    }
   ],
   "source": [
    "# compute and store the answer in the variable 'max_horror_rating_directors', then display it\n",
    "if 'Horror' in genre_dict:\n",
    "    horror_mov = genre_dict['Horror']\n",
    "else:\n",
    "    horror_mov = []\n",
    "\n",
    "max_rating = 0\n",
    "for movie in horror_mov:\n",
    "    if movie['rating'] > max_rating:\n",
    "        max_rating = movie['rating']\n",
    "\n",
    "top_mov = []\n",
    "for movie in horror_mov:\n",
    "    if movie['rating'] == max_rating:\n",
    "        top_mov.append(movie)\n",
    "\n",
    "top_director = []\n",
    "for movie in top_mov:\n",
    "    for director in movie['directors']:\n",
    "        if director not in top_director:\n",
    "            top_director.append(director)\n",
    "\n",
    "max_horror_rating_directors = top_director\n",
    "\n",
    "max_horror_rating_directors"
   ]
  },
  {
   "cell_type": "code",
   "execution_count": 265,
   "id": "98cb1e9c-de10-4b7b-b482-aa5f2bca995b",
   "metadata": {
    "deletable": false,
    "editable": true
   },
   "outputs": [
    {
     "name": "stdout",
     "output_type": "stream",
     "text": [
      "Make sure you saved the notebook before running this cell. Running check for q20...\n",
      "Great job! You passed all test cases for this question.\n"
     ]
    },
    {
     "data": {
      "text/plain": [
       "True"
      ]
     },
     "execution_count": 265,
     "metadata": {},
     "output_type": "execute_result"
    }
   ],
   "source": [
    "student_grader.check(\"q20\", should_get_llm_feedback=False)"
   ]
  },
  {
   "cell_type": "markdown",
   "id": "55c44e39-a75b-4ae8-b62b-51b2f0c2547f",
   "metadata": {
    "deletable": false,
    "editable": false
   },
   "source": [
    "### Submission\n",
    "\n",
    "Make sure you have run all cells in your notebook in order before submitting on Gradescope. Your notebook should not contain any uncaught Exceptions, otherwise the Gradescope autograder will not give you any points."
   ]
  }
 ],
 "metadata": {
  "kernelspec": {
   "display_name": "Python 3 (ipykernel)",
   "language": "python",
   "name": "python3"
  },
  "language_info": {
   "codemirror_mode": {
    "name": "ipython",
    "version": 3
   },
   "file_extension": ".py",
   "mimetype": "text/x-python",
   "name": "python",
   "nbconvert_exporter": "python",
   "pygments_lexer": "ipython3",
   "version": "3.10.12"
  },
  "semester": "s25"
 },
 "nbformat": 4,
 "nbformat_minor": 5
}
